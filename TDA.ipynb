{
  "nbformat": 4,
  "nbformat_minor": 0,
  "metadata": {
    "colab": {
      "name": "TDA.ipynb",
      "provenance": [],
      "collapsed_sections": [],
      "authorship_tag": "ABX9TyOjY1xIUP1UTnJ/HEpSmXj+",
      "include_colab_link": true
    },
    "kernelspec": {
      "name": "python3",
      "display_name": "Python 3"
    },
    "language_info": {
      "name": "python"
    }
  },
  "cells": [
    {
      "cell_type": "markdown",
      "metadata": {
        "id": "view-in-github",
        "colab_type": "text"
      },
      "source": [
        "<a href=\"https://colab.research.google.com/github/angayarkannipitchumani/BatAlgorithm/blob/master/TDA.ipynb\" target=\"_parent\"><img src=\"https://colab.research.google.com/assets/colab-badge.svg\" alt=\"Open In Colab\"/></a>"
      ]
    },
    {
      "cell_type": "code",
      "metadata": {
        "colab": {
          "base_uri": "https://localhost:8080/"
        },
        "id": "EGueZfy_t1Qr",
        "outputId": "5df7bd1f-e2b5-47ab-88a6-9110453ff9bf"
      },
      "source": [
        "!pip install kmapper"
      ],
      "execution_count": 1,
      "outputs": [
        {
          "output_type": "stream",
          "text": [
            "Collecting kmapper\n",
            "\u001b[?25l  Downloading https://files.pythonhosted.org/packages/16/a7/0bdc98e01a842d0d8028cd1196bb84baeb08a673193b54b19ac50daa5a5c/kmapper-2.0.1-py3-none-any.whl (125kB)\n",
            "\r\u001b[K     |██▋                             | 10kB 7.5MB/s eta 0:00:01\r\u001b[K     |█████▏                          | 20kB 11.2MB/s eta 0:00:01\r\u001b[K     |███████▉                        | 30kB 12.1MB/s eta 0:00:01\r\u001b[K     |██████████▍                     | 40kB 9.0MB/s eta 0:00:01\r\u001b[K     |█████████████                   | 51kB 5.4MB/s eta 0:00:01\r\u001b[K     |███████████████▋                | 61kB 6.2MB/s eta 0:00:01\r\u001b[K     |██████████████████▏             | 71kB 5.8MB/s eta 0:00:01\r\u001b[K     |████████████████████▉           | 81kB 6.2MB/s eta 0:00:01\r\u001b[K     |███████████████████████▍        | 92kB 6.3MB/s eta 0:00:01\r\u001b[K     |██████████████████████████      | 102kB 5.1MB/s eta 0:00:01\r\u001b[K     |████████████████████████████▋   | 112kB 5.1MB/s eta 0:00:01\r\u001b[K     |███████████████████████████████▏| 122kB 5.1MB/s eta 0:00:01\r\u001b[K     |████████████████████████████████| 133kB 5.1MB/s \n",
            "\u001b[?25hRequirement already satisfied: numpy in /usr/local/lib/python3.7/dist-packages (from kmapper) (1.19.5)\n",
            "Requirement already satisfied: Jinja2 in /usr/local/lib/python3.7/dist-packages (from kmapper) (2.11.3)\n",
            "Requirement already satisfied: scipy in /usr/local/lib/python3.7/dist-packages (from kmapper) (1.4.1)\n",
            "Requirement already satisfied: scikit-learn in /usr/local/lib/python3.7/dist-packages (from kmapper) (0.22.2.post1)\n",
            "Requirement already satisfied: MarkupSafe>=0.23 in /usr/local/lib/python3.7/dist-packages (from Jinja2->kmapper) (2.0.1)\n",
            "Requirement already satisfied: joblib>=0.11 in /usr/local/lib/python3.7/dist-packages (from scikit-learn->kmapper) (1.0.1)\n",
            "Installing collected packages: kmapper\n",
            "Successfully installed kmapper-2.0.1\n"
          ],
          "name": "stdout"
        }
      ]
    },
    {
      "cell_type": "code",
      "metadata": {
        "colab": {
          "base_uri": "https://localhost:8080/"
        },
        "id": "yrk2DTXnufdQ",
        "outputId": "adf56f81-6c9b-4aae-8e71-d883ac187d0f"
      },
      "source": [
        "!pip install Ripser"
      ],
      "execution_count": 2,
      "outputs": [
        {
          "output_type": "stream",
          "text": [
            "Collecting Ripser\n",
            "\u001b[?25l  Downloading https://files.pythonhosted.org/packages/b8/6c/d415052513439a43be06237d887066bb57016329445fabbc7a66904ec88f/ripser-0.6.0.tar.gz (71kB)\n",
            "\r\u001b[K     |████▋                           | 10kB 13.3MB/s eta 0:00:01\r\u001b[K     |█████████▏                      | 20kB 18.9MB/s eta 0:00:01\r\u001b[K     |█████████████▊                  | 30kB 10.4MB/s eta 0:00:01\r\u001b[K     |██████████████████▍             | 40kB 7.7MB/s eta 0:00:01\r\u001b[K     |███████████████████████         | 51kB 5.2MB/s eta 0:00:01\r\u001b[K     |███████████████████████████▌    | 61kB 5.4MB/s eta 0:00:01\r\u001b[K     |████████████████████████████████| 71kB 3.6MB/s \n",
            "\u001b[?25h  Installing build dependencies ... \u001b[?25l\u001b[?25hdone\n",
            "  Getting requirements to build wheel ... \u001b[?25l\u001b[?25hdone\n",
            "    Preparing wheel metadata ... \u001b[?25l\u001b[?25hdone\n",
            "Collecting persim\n",
            "\u001b[?25l  Downloading https://files.pythonhosted.org/packages/6f/10/1b530c3ce7cea826871230f4c503d622d9ab76417398d0c2b3e636fa407e/persim-0.3.1-py3-none-any.whl (47kB)\n",
            "\u001b[K     |████████████████████████████████| 51kB 4.1MB/s \n",
            "\u001b[?25hRequirement already satisfied: scikit-learn in /usr/local/lib/python3.7/dist-packages (from Ripser) (0.22.2.post1)\n",
            "Requirement already satisfied: Cython in /usr/local/lib/python3.7/dist-packages (from Ripser) (0.29.23)\n",
            "Requirement already satisfied: scipy in /usr/local/lib/python3.7/dist-packages (from Ripser) (1.4.1)\n",
            "Requirement already satisfied: numpy in /usr/local/lib/python3.7/dist-packages (from Ripser) (1.19.5)\n",
            "Collecting hopcroftkarp\n",
            "  Downloading https://files.pythonhosted.org/packages/6b/56/7b03eba3c43008c490c9d52e69ea5334b65955f66836eb4f1962f3b0d421/hopcroftkarp-1.2.5.tar.gz\n",
            "Collecting deprecated\n",
            "  Downloading https://files.pythonhosted.org/packages/fb/73/994edfcba74443146c84b91921fcc269374354118d4f452fb0c54c1cbb12/Deprecated-1.2.12-py2.py3-none-any.whl\n",
            "Requirement already satisfied: joblib in /usr/local/lib/python3.7/dist-packages (from persim->Ripser) (1.0.1)\n",
            "Requirement already satisfied: matplotlib in /usr/local/lib/python3.7/dist-packages (from persim->Ripser) (3.2.2)\n",
            "Requirement already satisfied: wrapt<2,>=1.10 in /usr/local/lib/python3.7/dist-packages (from deprecated->persim->Ripser) (1.12.1)\n",
            "Requirement already satisfied: cycler>=0.10 in /usr/local/lib/python3.7/dist-packages (from matplotlib->persim->Ripser) (0.10.0)\n",
            "Requirement already satisfied: python-dateutil>=2.1 in /usr/local/lib/python3.7/dist-packages (from matplotlib->persim->Ripser) (2.8.1)\n",
            "Requirement already satisfied: pyparsing!=2.0.4,!=2.1.2,!=2.1.6,>=2.0.1 in /usr/local/lib/python3.7/dist-packages (from matplotlib->persim->Ripser) (2.4.7)\n",
            "Requirement already satisfied: kiwisolver>=1.0.1 in /usr/local/lib/python3.7/dist-packages (from matplotlib->persim->Ripser) (1.3.1)\n",
            "Requirement already satisfied: six in /usr/local/lib/python3.7/dist-packages (from cycler>=0.10->matplotlib->persim->Ripser) (1.15.0)\n",
            "Building wheels for collected packages: Ripser\n",
            "  Building wheel for Ripser (PEP 517) ... \u001b[?25l\u001b[?25hdone\n",
            "  Created wheel for Ripser: filename=ripser-0.6.0-cp37-cp37m-linux_x86_64.whl size=454959 sha256=13b5418144e32924ae5934895553f8f3d8ccf331ce320d911e21d839193c863f\n",
            "  Stored in directory: /root/.cache/pip/wheels/95/1e/13/59da989de59903698d767dcb19414163e683a2dd31edf80417\n",
            "Successfully built Ripser\n",
            "Building wheels for collected packages: hopcroftkarp\n",
            "  Building wheel for hopcroftkarp (setup.py) ... \u001b[?25l\u001b[?25hdone\n",
            "  Created wheel for hopcroftkarp: filename=hopcroftkarp-1.2.5-py2.py3-none-any.whl size=18119 sha256=e9b05c9d79912087a4414a2f773e38036768886816d1c990963f29154ecd5030\n",
            "  Stored in directory: /root/.cache/pip/wheels/2b/e1/c9/1993c7f7f114b7d3fb2d3e895e02157a7ebf554861e9e54e01\n",
            "Successfully built hopcroftkarp\n",
            "Installing collected packages: hopcroftkarp, deprecated, persim, Ripser\n",
            "Successfully installed Ripser-0.6.0 deprecated-1.2.12 hopcroftkarp-1.2.5 persim-0.3.1\n"
          ],
          "name": "stdout"
        }
      ]
    },
    {
      "cell_type": "code",
      "metadata": {
        "colab": {
          "base_uri": "https://localhost:8080/"
        },
        "id": "9lUejxW1uoWI",
        "outputId": "7956d5c8-9f93-48ec-ffc7-52767fc61180"
      },
      "source": [
        "!pip install scikit-tda"
      ],
      "execution_count": 3,
      "outputs": [
        {
          "output_type": "stream",
          "text": [
            "Collecting scikit-tda\n",
            "  Downloading https://files.pythonhosted.org/packages/d2/79/5b809d83d85808b0e8966cee51bf3008f32c6e8a9d51c02511b973163638/scikit_tda-0.1.0-py3-none-any.whl\n",
            "Requirement already satisfied: scipy in /usr/local/lib/python3.7/dist-packages (from scikit-tda) (1.4.1)\n",
            "Requirement already satisfied: pillow in /usr/local/lib/python3.7/dist-packages (from scikit-tda) (7.1.2)\n",
            "Requirement already satisfied: matplotlib in /usr/local/lib/python3.7/dist-packages (from scikit-tda) (3.2.2)\n",
            "Requirement already satisfied: Cython in /usr/local/lib/python3.7/dist-packages (from scikit-tda) (0.29.23)\n",
            "Requirement already satisfied: ripser in /usr/local/lib/python3.7/dist-packages (from scikit-tda) (0.6.0)\n",
            "Requirement already satisfied: persim in /usr/local/lib/python3.7/dist-packages (from scikit-tda) (0.3.1)\n",
            "Collecting cechmate\n",
            "  Downloading https://files.pythonhosted.org/packages/74/fe/2dbd6c175085d9a14cadce55276485b2a818924e84ffdb0f07a447eb58bc/cechmate-0.1.0-py3-none-any.whl\n",
            "Requirement already satisfied: numpy in /usr/local/lib/python3.7/dist-packages (from scikit-tda) (1.19.5)\n",
            "Collecting pybind11\n",
            "\u001b[?25l  Downloading https://files.pythonhosted.org/packages/8d/43/7339dbabbc2793718d59703aace4166f53c29ee1c202f6ff5bf8a26c4d91/pybind11-2.6.2-py2.py3-none-any.whl (191kB)\n",
            "\u001b[K     |████████████████████████████████| 194kB 7.3MB/s \n",
            "\u001b[?25hRequirement already satisfied: kmapper in /usr/local/lib/python3.7/dist-packages (from scikit-tda) (2.0.1)\n",
            "Collecting tadasets\n",
            "  Downloading https://files.pythonhosted.org/packages/5b/06/d1b9edccfcd071b245b0d1ab4b22eb2ff7aaeaa6d015db58d701d9782122/tadasets-0.0.4-py3-none-any.whl\n",
            "Collecting phat\n",
            "\u001b[?25l  Downloading https://files.pythonhosted.org/packages/43/82/c14de81dc2953a71a060f72f2bc34c41996307956b162751f2a47e2c78f7/phat-1.5.0a.tar.gz (4.7MB)\n",
            "\u001b[K     |████████████████████████████████| 4.7MB 35.0MB/s \n",
            "\u001b[?25hRequirement already satisfied: scikit-learn in /usr/local/lib/python3.7/dist-packages (from scikit-tda) (0.22.2.post1)\n",
            "Requirement already satisfied: kiwisolver>=1.0.1 in /usr/local/lib/python3.7/dist-packages (from matplotlib->scikit-tda) (1.3.1)\n",
            "Requirement already satisfied: python-dateutil>=2.1 in /usr/local/lib/python3.7/dist-packages (from matplotlib->scikit-tda) (2.8.1)\n",
            "Requirement already satisfied: cycler>=0.10 in /usr/local/lib/python3.7/dist-packages (from matplotlib->scikit-tda) (0.10.0)\n",
            "Requirement already satisfied: pyparsing!=2.0.4,!=2.1.2,!=2.1.6,>=2.0.1 in /usr/local/lib/python3.7/dist-packages (from matplotlib->scikit-tda) (2.4.7)\n",
            "Requirement already satisfied: joblib in /usr/local/lib/python3.7/dist-packages (from persim->scikit-tda) (1.0.1)\n",
            "Requirement already satisfied: deprecated in /usr/local/lib/python3.7/dist-packages (from persim->scikit-tda) (1.2.12)\n",
            "Requirement already satisfied: hopcroftkarp in /usr/local/lib/python3.7/dist-packages (from persim->scikit-tda) (1.2.5)\n",
            "Requirement already satisfied: Jinja2 in /usr/local/lib/python3.7/dist-packages (from kmapper->scikit-tda) (2.11.3)\n",
            "Requirement already satisfied: six>=1.5 in /usr/local/lib/python3.7/dist-packages (from python-dateutil>=2.1->matplotlib->scikit-tda) (1.15.0)\n",
            "Requirement already satisfied: wrapt<2,>=1.10 in /usr/local/lib/python3.7/dist-packages (from deprecated->persim->scikit-tda) (1.12.1)\n",
            "Requirement already satisfied: MarkupSafe>=0.23 in /usr/local/lib/python3.7/dist-packages (from Jinja2->kmapper->scikit-tda) (2.0.1)\n",
            "Building wheels for collected packages: phat\n",
            "  Building wheel for phat (setup.py) ... \u001b[?25lerror\n",
            "\u001b[31m  ERROR: Failed building wheel for phat\u001b[0m\n",
            "\u001b[?25h  Running setup.py clean for phat\n",
            "Failed to build phat\n",
            "\u001b[31mERROR: cechmate 0.1.0 has requirement phat==1.5.0a0, but you'll have phat 1.5.0 which is incompatible.\u001b[0m\n",
            "Installing collected packages: pybind11, phat, cechmate, tadasets, scikit-tda\n",
            "    Running setup.py install for phat ... \u001b[?25l\u001b[?25hdone\n",
            "Successfully installed cechmate-0.1.0 phat-1.5.0 pybind11-2.6.2 scikit-tda-0.1.0 tadasets-0.0.4\n"
          ],
          "name": "stdout"
        }
      ]
    },
    {
      "cell_type": "code",
      "metadata": {
        "colab": {
          "base_uri": "https://localhost:8080/"
        },
        "id": "hUM7_KTDvLb0",
        "outputId": "9fb183b9-af5c-4e70-a7c9-3a622255af04"
      },
      "source": [
        "!pip install kmapper.plotlyviz"
      ],
      "execution_count": 8,
      "outputs": [
        {
          "output_type": "stream",
          "text": [
            "\u001b[31mERROR: Could not find a version that satisfies the requirement kmapper.plotlyviz (from versions: none)\u001b[0m\n",
            "\u001b[31mERROR: No matching distribution found for kmapper.plotlyviz\u001b[0m\n"
          ],
          "name": "stdout"
        }
      ]
    },
    {
      "cell_type": "code",
      "metadata": {
        "colab": {
          "base_uri": "https://localhost:8080/"
        },
        "id": "LiSB5VWh5R4Q",
        "outputId": "84604001-4635-4654-9fbc-deaa12c763b2"
      },
      "source": [
        "!pip install --upgrade plotly"
      ],
      "execution_count": 4,
      "outputs": [
        {
          "output_type": "stream",
          "text": [
            "Collecting plotly\n",
            "\u001b[?25l  Downloading https://files.pythonhosted.org/packages/84/ff/cc3f54a0822987a5ac277de0deb018104f12aadd933cedd97b600894ebcc/plotly-5.0.0-py2.py3-none-any.whl (19.1MB)\n",
            "\u001b[K     |████████████████████████████████| 19.1MB 1.4MB/s \n",
            "\u001b[?25hCollecting tenacity>=6.2.0\n",
            "  Downloading https://files.pythonhosted.org/packages/41/ee/d6eddff86161c6a3a1753af4a66b06cbc508d3b77ca4698cd0374cd66531/tenacity-7.0.0-py2.py3-none-any.whl\n",
            "Requirement already satisfied, skipping upgrade: six in /usr/local/lib/python3.7/dist-packages (from plotly) (1.15.0)\n",
            "Installing collected packages: tenacity, plotly\n",
            "  Found existing installation: plotly 4.4.1\n",
            "    Uninstalling plotly-4.4.1:\n",
            "      Successfully uninstalled plotly-4.4.1\n",
            "Successfully installed plotly-5.0.0 tenacity-7.0.0\n"
          ],
          "name": "stdout"
        }
      ]
    },
    {
      "cell_type": "code",
      "metadata": {
        "colab": {
          "base_uri": "https://localhost:8080/"
        },
        "id": "iYlpVZHA5wsG",
        "outputId": "d8b431ae-fca1-4a9a-a296-afaed55fd621"
      },
      "source": [
        "!pip install umap-learn"
      ],
      "execution_count": 4,
      "outputs": [
        {
          "output_type": "stream",
          "text": [
            "Requirement already satisfied: umap-learn in /usr/local/lib/python3.7/dist-packages (0.5.1)\n",
            "Requirement already satisfied: numba>=0.49 in /usr/local/lib/python3.7/dist-packages (from umap-learn) (0.51.2)\n",
            "Requirement already satisfied: pynndescent>=0.5 in /usr/local/lib/python3.7/dist-packages (from umap-learn) (0.5.2)\n",
            "Requirement already satisfied: scipy>=1.0 in /usr/local/lib/python3.7/dist-packages (from umap-learn) (1.7.0)\n",
            "Requirement already satisfied: numpy>=1.17 in /usr/local/lib/python3.7/dist-packages (from umap-learn) (1.19.5)\n",
            "Requirement already satisfied: scikit-learn>=0.22 in /usr/local/lib/python3.7/dist-packages (from umap-learn) (0.24.2)\n",
            "Requirement already satisfied: setuptools in /usr/local/lib/python3.7/dist-packages (from numba>=0.49->umap-learn) (57.0.0)\n",
            "Requirement already satisfied: llvmlite<0.35,>=0.34.0.dev0 in /usr/local/lib/python3.7/dist-packages (from numba>=0.49->umap-learn) (0.34.0)\n",
            "Requirement already satisfied: joblib>=0.11 in /usr/local/lib/python3.7/dist-packages (from pynndescent>=0.5->umap-learn) (1.0.1)\n",
            "Requirement already satisfied: threadpoolctl>=2.0.0 in /usr/local/lib/python3.7/dist-packages (from scikit-learn>=0.22->umap-learn) (2.1.0)\n"
          ],
          "name": "stdout"
        }
      ]
    },
    {
      "cell_type": "code",
      "metadata": {
        "id": "jFcZhiyK7F3h",
        "colab": {
          "base_uri": "https://localhost:8080/"
        },
        "outputId": "09f95cf2-9df9-4493-b7a6-391bd4abd6ee"
      },
      "source": [
        "%load_ext autoreload\n",
        "%autoreload 2"
      ],
      "execution_count": 10,
      "outputs": [
        {
          "output_type": "stream",
          "text": [
            "The autoreload extension is already loaded. To reload it, use:\n",
            "  %reload_ext autoreload\n"
          ],
          "name": "stdout"
        }
      ]
    },
    {
      "cell_type": "code",
      "metadata": {
        "colab": {
          "base_uri": "https://localhost:8080/",
          "height": 1000
        },
        "id": "IEOwg0hpu_GI",
        "outputId": "229a0f18-5efe-48ec-c5d3-f4e3e5b7dc76"
      },
      "source": [
        "import sys\n",
        "import sys\n",
        "from sklearn import preprocessing\n",
        "import kmapper as km\n",
        "\n",
        "\n",
        "import plotly.graph_objs as go\n",
        "import ipywidgets as ipw\n",
        "from sklearn.preprocessing import LabelEncoder\n",
        "import umap\n",
        "labelencoder = LabelEncoder()\n",
        "try:\n",
        "    import pandas as pd\n",
        "except ImportError as e:\n",
        "    print(\"pandas is required for this example. Please install with conda or pip  and then try again.\")\n",
        "    sys.exit()\n",
        "\n",
        "import numpy as np\n",
        "import sklearn\n",
        "from sklearn import ensemble\n",
        "import kmapper as km\n",
        "\n",
        "from sklearn.decomposition import PCA\n",
        "import matplotlib.pyplot as plt\n",
        "\n",
        "import warnings\n",
        "warnings.filterwarnings(\"ignore\")\n",
        "import plotly.graph_objs as go\n",
        "from ipywidgets import (HBox, VBox)\n",
        "try:\n",
        "    import umap\n",
        "except ImportError:\n",
        "    print(\"This example requires the UMAP library. You can install it with the command `!pip install umap-learn`\")\n",
        "import warnings\n",
        "warnings.filterwarnings(\"ignore\")\n",
        "df = pd.read_csv(\"/content/dummyDataForTADanalysis.csv\")\n",
        "df['Samples']=labelencoder.fit_transform(df['Samples'])\n",
        "feature_names = [c for c in df.columns ]\n",
        "\n",
        "feature_names = [c for c in df.columns if c not in [\"Samples\",\"Category\"]]\n",
        "#df[\"diagnosis\"] = df[\"diagnosis\"].apply(lambda x: 1 if x == \"M\" else 0)\n",
        "X = np.array(df[feature_names].fillna(0))  # quick and dirty imputation\n",
        "y = np.array(df[\"Category\"])\n",
        "\n",
        "\n",
        "model = ensemble.IsolationForest(random_state=2) \n",
        "model.fit(X) \n",
        "lens1 = model.decision_function(X).reshape((X.shape[0], 1))\n",
        "mapper = km.KeplerMapper(verbose=3) \n",
        "lens2 = mapper.fit_transform(X, projection=\"l2norm\")\n",
        "lens = np.c_[lens1, lens2]\n",
        "color_values = X[:, 1]-X[:, 1].min()\n",
        "graph = mapper.map( lens, X, cover=km.Cover(n_cubes=5, perc_overlap=0.4), clusterer=sklearn.cluster.KMeans(n_clusters=3, random_state=5), ) \n",
        "# Create the simplicial complex\n",
        "graph = mapper.map(\n",
        "    lens,\n",
        "    X,\n",
        "    cover=km.Cover(n_cubes=3, perc_overlap=0.4),\n",
        "    clusterer=sklearn.cluster.KMeans(n_clusters=3, random_state=3),\n",
        ")\n",
        "\n",
        "\n",
        "\n",
        "# Visualization with multiple color functions\n",
        "mapper.visualize(\n",
        "    graph,\n",
        "    path_html=\"finaloutput.html\",\n",
        "    title=\"Dummy Data\",\n",
        "    custom_tooltips=y,\n",
        "    color_values=lens,\n",
        "    color_function_name=[\"Isolation Forest\", \"L2-norm\"],\n",
        ")\n",
        "\n"
      ],
      "execution_count": 65,
      "outputs": [
        {
          "output_type": "stream",
          "text": [
            "KeplerMapper(verbose=3)\n",
            "..Composing projection pipeline of length 1:\n",
            "\tProjections: l2norm\n",
            "\tDistance matrices: False\n",
            "\tScalers: MinMaxScaler()\n",
            "..Projecting on data shaped (15, 5)\n",
            "\n",
            "..Projecting data using: l2norm\n",
            "\n",
            "..Scaling with: MinMaxScaler()\n",
            "\n",
            "Mapping on data shaped (15, 5) using lens shaped (15, 2)\n",
            "\n",
            "Minimal points in hypercube before clustering: 3\n",
            "Creating 25 hypercubes.\n",
            "Cube_0 is empty.\n",
            "\n",
            "Cube_1 is empty.\n",
            "\n",
            "Cube_2 is empty.\n",
            "\n",
            "Cube_3 is empty.\n",
            "\n",
            "Cube_4 is empty.\n",
            "\n",
            "Cube_5 is empty.\n",
            "\n",
            "Cube_6 is empty.\n",
            "\n",
            "Cube_7 is empty.\n",
            "\n",
            "   > Found 3 clusters in hypercube 8.\n",
            "Cube_9 is empty.\n",
            "\n",
            "Cube_10 is empty.\n",
            "\n",
            "Cube_11 is empty.\n",
            "\n",
            "Cube_12 is empty.\n",
            "\n",
            "Cube_13 is empty.\n",
            "\n",
            "   > Found 2 clusters in hypercube 14.\n",
            "\n",
            "Created 0 edges and 5 nodes in 0:00:00.045094.\n",
            "Mapping on data shaped (15, 5) using lens shaped (15, 2)\n",
            "\n",
            "Minimal points in hypercube before clustering: 3\n",
            "Creating 9 hypercubes.\n",
            "Cube_0 is empty.\n",
            "\n",
            "Cube_1 is empty.\n",
            "\n",
            "Cube_2 is empty.\n",
            "\n",
            "   > Found 3 clusters in hypercube 3.\n",
            "   > Found 3 clusters in hypercube 4.\n",
            "Cube_5 is empty.\n",
            "\n",
            "   > Found 3 clusters in hypercube 6.\n",
            "   > Found 3 clusters in hypercube 7.\n",
            "   > Found 3 clusters in hypercube 8.\n",
            "\n",
            "Created 14 edges and 15 nodes in 0:00:00.077839.\n",
            "Wrote visualization to: finaloutput.html\n"
          ],
          "name": "stdout"
        },
        {
          "output_type": "execute_result",
          "data": {
            "application/vnd.google.colaboratory.intrinsic+json": {
              "type": "string"
            },
            "text/plain": [
              "'<!DOCTYPE html>\\n<html>\\n\\n<head>\\n  <meta charset=\"utf-8\">\\n  <meta name=\"generator\" content=\"KeplerMapper\">\\n  <title>Dummy Data | KeplerMapper</title>\\n\\n  <link rel=\"icon\" type=\"image/png\" href=\"http://i.imgur.com/axOG6GJ.jpg\" />\\n\\n  <link href=\\'https://fonts.googleapis.com/css?family=Roboto+Mono:700,300\\' rel=\\'stylesheet\\' type=\\'text/css\\'>\\n  <style>* {\\n  margin: 0;\\n  padding: 0;\\n}\\n\\nhtml, body {\\n  height: 100%;\\n}\\n\\nbody {\\n  font-family: \"Roboto Mono\", \"Helvetica\", sans-serif;\\n  font-size: 14px;\\n}\\n\\n#logo {\\n  width:  85px;\\n  height: 85px;\\n}\\n\\n#display {\\n  color: #95A5A6;\\n  background: #212121;\\n}\\n\\n#header {\\n  background: #111111;\\n}\\n\\n#print {\\n  color: #000;\\n  background: #FFF;\\n}\\n\\nh1 {\\n  font-size: 21px;\\n  font-weight: 300;\\n  font-weight: 300;\\n}\\n\\nh2 {\\n  font-size: 18px;\\n  padding-bottom: 20px;\\n  font-weight: 300;\\n}\\n\\nh3 {\\n  font-size: 14px;\\n  font-weight: 700;\\n  text-transform: uppercase;\\n}\\n\\nh4 {\\n  font-size: 13px;\\n  font-weight: 700;\\n  text-transform: uppercase;\\n  padding-bottom:0px;\\n}\\n\\n\\n#meta_content h3 {\\n  float: left;\\n  padding-right: 8px;\\n}\\n\\np, #tooltip_content h3, ol, ul, table {\\n  padding-bottom: 10px;\\n}\\n\\nol, ul {\\n  padding-left: 20px;\\n}\\n\\nol b {\\n  display: block;\\n}\\n\\na {\\n  color: #16a085;\\n  text-decoration: none;\\n}\\n\\n.pane {\\n  position: relative;\\n}\\n\\n.pane-left {\\n  float: left;\\n}\\n\\n.pane-right {\\n  float: right;\\n}\\n\\na:hover {\\n  color: #2ecc71;\\n}\\n\\n.banner {\\n  /* height: 35px; */\\n  padding: 10px 0px;\\n}\\n\\n\\n#print #header {\\n  background: #FFF;\\n}\\n\\n\\n#canvas {\\n  width: 100%;\\n}\\n\\n#svg {\\n  position: absolute;\\n}\\n\\n#toolbar {\\n  padding-top: 5px;\\n  margin-bottom: 5px;\\n  width: 100%;\\n}\\n\\n#display #toolbar {\\n}\\n\\n#display .banner {\\n  border-top: 1px solid #000;\\n}\\n\\n.inline-block {\\n  display: inline-block;\\n}\\n\\n.tool_item {\\n  padding-left: 10px;\\n  padding-right: 10px;\\n}\\n\\n.pane_content {\\n  width: 300px;\\n  height:100%;\\n  padding: 20px;\\n  overflow: auto;\\n  display: none;\\n}\\n\\n.pane {\\n  z-index: 1;\\n}\\n\\n#display .pane_content {\\n  background: #191919;\\n}\\n\\n#print .pane_content{\\n  background: #FFF;\\n}\\n\\n#meta_content::-webkit-scrollbar, #tooltip_content::-webkit-scrollbar {\\n  width: 1em;\\n}\\n\\n#meta_content::-webkit-scrollbar-track, #tooltip_content::-webkit-scrollbar-track {\\n  -webkit-box-shadow: inset 0 0 6px rgba(0, 0, 0, 0.3);\\n}\\n\\n#meta_content::-webkit-scrollbar-thumb, #tooltip_content::-webkit-scrollbar-thumb {\\n  background-color: darkgrey;\\n  outline: 1px solid slategrey;\\n}\\n\\n.histogram {\\n  display: block;\\n  height: 100px;\\n  padding-top: 50px;\\n  clear: both;\\n}\\n\\n#display .histogram {\\n  opacity: 0.68;\\n}\\n\\n.bin {\\n  width: 10%;\\n  float: left;\\n}\\n\\n.bin div {\\n  font-size: 10px;\\n  display: block;\\n  width: 35px;\\n  margin-top: -30px;\\n  text-align: right;\\n  margin-left: -3px;\\n  -webkit-transform: rotate(-90deg);\\n  -moz-transform: rotate(-90deg);\\n  -ms-transform: rotate(-90deg);\\n  -o-transform: rotate(-90deg);\\n}\\n\\n.histogram:hover {\\n  opacity: 1.;\\n}\\n\\n#display .circle {\\n  stroke-opacity: 0.18;\\n  stroke-width: 7px;\\n  stroke: #000;\\n}\\n\\n#print .circle {\\n  stroke-opacity: 1;\\n  stroke-width: 2px;\\n  stroke: #000;\\n  stroke-linecap: round;\\n}\\n\\n#print .link {\\n  stroke: #000;\\n}\\n\\n#display .link {\\n  stroke: rgba(160, 160, 160, 0.5);\\n}\\n\\ntable {\\n  border-collapse: collapse;\\n  display: table;\\n  width: 100%;\\n  margin-bottom: 20px;\\n}\\n\\ntd, th {\\n  padding: 5px;\\n  text-align: left;\\n}\\n\\n#display th {\\n  background: #212121\\n}\\n\\ntd {\\n  border-bottom: 1px solid #111;\\n}\\n\\n.highlight {\\n  filter: url(#drop-shadow-pulse);\\n}\\n\\n.control-row {\\n  padding: 5px 0px;\\n}\\n\\n.btn {\\n  display: inline-block;\\n  padding: 0.35em 1.2em;\\n  border: 0.1em solid #FFFFFF;\\n  margin: 0 0.3em 0.3em 0;\\n  border-radius: 0.12em;\\n  box-sizing: border-box;\\n  text-decoration: none;\\n  background-color: transparent;\\n  font-weight: 300;\\n  color: #FFFFFF;\\n  text-align: center;\\n  transition: all 0.2s;\\n}\\n\\n.btn:hover {\\n  color: #000000;\\n  background-color: #FFFFFF;\\n}\\n\\n.btn:disabled {\\n  color: #FFFFFF;\\n  opacity: .35;\\n}\\n\\n#print .btn {\\n  color: #000;\\n  border-color: #000\\n}\\n\\n#print .btn:hover {\\n  color: #FFFFFF;\\n  background-color: #000000\\n}\\n\\n#print .btn:disabled {}\\n\\n#toolbar .btn {\\n  padding: 0 1.2em;\\n}\\n\\nlabel {\\n  display: inline-block;\\n  margin-bottom: .5rem;\\n}\\n\\n#config-file-loader {\\n  margin-bottom: .5em;\\n}\\n\\n.btn:not(:disabled):not(.disabled) {\\n    cursor: pointer;\\n}\\n\\n.wrap {\\n  display: flex;\\n}\\n\\n.wrap-header div:last-child {\\n  margin-left: auto;\\n}\\n\\n.wrap-end {\\n  justify-content: flex-end;\\n}\\n\\n.wrap-logo {\\n  display: flex;\\n  justify-content: center;\\n  align-items: center;\\n}\\n\\n.wrap-logo .logo {\\n  margin: auto;\\n}\\n\\n.wrap-header {\\n  /* padding: 5px 10px; */\\n  padding: 5px 5px 5px 10px;\\n  justify-content: space-between;\\n}\\n\\n#display .wrap-header {\\n  box-shadow: 0px 0px 4px #000;\\n}\\n\\n.toolbar-container {\\n  margin-left: -10px;\\n}\\n</style>\\n\\n</head>\\n\\n<body id=\"display\">\\n\\n  <!-- Variables used later -->\\n  <script>\\n    const graph = {\"links\": [{\"source\": 1, \"target\": 4, \"width\": 1}, {\"source\": 2, \"target\": 3, \"width\": 1}, {\"source\": 2, \"target\": 7, \"width\": 1}, {\"source\": 2, \"target\": 11, \"width\": 1}, {\"source\": 3, \"target\": 7, \"width\": 1}, {\"source\": 3, \"target\": 11, \"width\": 1}, {\"source\": 5, \"target\": 9, \"width\": 1}, {\"source\": 5, \"target\": 14, \"width\": 1}, {\"source\": 6, \"target\": 9, \"width\": 1}, {\"source\": 7, \"target\": 11, \"width\": 1}, {\"source\": 8, \"target\": 10, \"width\": 1}, {\"source\": 9, \"target\": 14, \"width\": 1}, {\"source\": 10, \"target\": 12, \"width\": 1}, {\"source\": 11, \"target\": 13, \"width\": 1}], \"nodes\": [{\"color\": [[0.4547035966813441, 0.0]], \"id\": \"\", \"name\": \"cube3_cluster0\", \"size\": 1, \"tooltip\": {\"cluster_stats\": {\"above\": [], \"below\": [], \"size\": 1}, \"custom_tooltips\": [2], \"dist_label\": \"Member\", \"histogram\": [[{\"color\": \"rgb(70, 18, 100)\", \"height\": 0.0, \"perc\": 0.0}, {\"color\": \"rgb(68, 51, 125)\", \"height\": 0.0, \"perc\": 0.0}, {\"color\": \"rgb(58, 80, 138)\", \"height\": 0.0, \"perc\": 0.0}, {\"color\": \"rgb(46, 107, 141)\", \"height\": 0.0, \"perc\": 0.0}, {\"color\": \"rgb(36, 131, 141)\", \"height\": 100.0, \"perc\": 100.0}, {\"color\": \"rgb(33, 155, 136)\", \"height\": 0.0, \"perc\": 0.0}, {\"color\": \"rgb(51, 178, 121)\", \"height\": 0.0, \"perc\": 0.0}, {\"color\": \"rgb(94, 199, 96)\", \"height\": 0.0, \"perc\": 0.0}, {\"color\": \"rgb(155, 215, 59)\", \"height\": 0.0, \"perc\": 0.0}, {\"color\": \"rgb(220, 226, 37)\", \"height\": 0.0, \"perc\": 0.0}], [{\"color\": \"rgb(70, 18, 100)\", \"height\": 100.0, \"perc\": 100.0}, {\"color\": \"rgb(68, 51, 125)\", \"height\": 0.0, \"perc\": 0.0}, {\"color\": \"rgb(58, 80, 138)\", \"height\": 0.0, \"perc\": 0.0}, {\"color\": \"rgb(46, 107, 141)\", \"height\": 0.0, \"perc\": 0.0}, {\"color\": \"rgb(36, 131, 141)\", \"height\": 0.0, \"perc\": 0.0}, {\"color\": \"rgb(33, 155, 136)\", \"height\": 0.0, \"perc\": 0.0}, {\"color\": \"rgb(51, 178, 121)\", \"height\": 0.0, \"perc\": 0.0}, {\"color\": \"rgb(94, 199, 96)\", \"height\": 0.0, \"perc\": 0.0}, {\"color\": \"rgb(155, 215, 59)\", \"height\": 0.0, \"perc\": 0.0}, {\"color\": \"rgb(220, 226, 37)\", \"height\": 0.0, \"perc\": 0.0}]], \"node_id\": \"cube3_cluster0\", \"projection_stats\": []}, \"type\": \"circle\"}, {\"color\": [[0.49793733146470825, 0.41421356237309515]], \"id\": \"\", \"name\": \"cube3_cluster1\", \"size\": 1, \"tooltip\": {\"cluster_stats\": {\"above\": [], \"below\": [], \"size\": 1}, \"custom_tooltips\": [1], \"dist_label\": \"Member\", \"histogram\": [[{\"color\": \"rgb(70, 18, 100)\", \"height\": 0.0, \"perc\": 0.0}, {\"color\": \"rgb(68, 51, 125)\", \"height\": 0.0, \"perc\": 0.0}, {\"color\": \"rgb(58, 80, 138)\", \"height\": 0.0, \"perc\": 0.0}, {\"color\": \"rgb(46, 107, 141)\", \"height\": 0.0, \"perc\": 0.0}, {\"color\": \"rgb(36, 131, 141)\", \"height\": 100.0, \"perc\": 100.0}, {\"color\": \"rgb(33, 155, 136)\", \"height\": 0.0, \"perc\": 0.0}, {\"color\": \"rgb(51, 178, 121)\", \"height\": 0.0, \"perc\": 0.0}, {\"color\": \"rgb(94, 199, 96)\", \"height\": 0.0, \"perc\": 0.0}, {\"color\": \"rgb(155, 215, 59)\", \"height\": 0.0, \"perc\": 0.0}, {\"color\": \"rgb(220, 226, 37)\", \"height\": 0.0, \"perc\": 0.0}], [{\"color\": \"rgb(70, 18, 100)\", \"height\": 0.0, \"perc\": 0.0}, {\"color\": \"rgb(68, 51, 125)\", \"height\": 0.0, \"perc\": 0.0}, {\"color\": \"rgb(58, 80, 138)\", \"height\": 0.0, \"perc\": 0.0}, {\"color\": \"rgb(46, 107, 141)\", \"height\": 0.0, \"perc\": 0.0}, {\"color\": \"rgb(36, 131, 141)\", \"height\": 100.0, \"perc\": 100.0}, {\"color\": \"rgb(33, 155, 136)\", \"height\": 0.0, \"perc\": 0.0}, {\"color\": \"rgb(51, 178, 121)\", \"height\": 0.0, \"perc\": 0.0}, {\"color\": \"rgb(94, 199, 96)\", \"height\": 0.0, \"perc\": 0.0}, {\"color\": \"rgb(155, 215, 59)\", \"height\": 0.0, \"perc\": 0.0}, {\"color\": \"rgb(220, 226, 37)\", \"height\": 0.0, \"perc\": 0.0}]], \"node_id\": \"cube3_cluster1\", \"projection_stats\": []}, \"type\": \"circle\"}, {\"color\": [[0.708296442971388, 0.41421356237309515]], \"id\": \"\", \"name\": \"cube3_cluster2\", \"size\": 1, \"tooltip\": {\"cluster_stats\": {\"above\": [], \"below\": [], \"size\": 1}, \"custom_tooltips\": [2], \"dist_label\": \"Member\", \"histogram\": [[{\"color\": \"rgb(70, 18, 100)\", \"height\": 0.0, \"perc\": 0.0}, {\"color\": \"rgb(68, 51, 125)\", \"height\": 0.0, \"perc\": 0.0}, {\"color\": \"rgb(58, 80, 138)\", \"height\": 0.0, \"perc\": 0.0}, {\"color\": \"rgb(46, 107, 141)\", \"height\": 0.0, \"perc\": 0.0}, {\"color\": \"rgb(36, 131, 141)\", \"height\": 0.0, \"perc\": 0.0}, {\"color\": \"rgb(33, 155, 136)\", \"height\": 0.0, \"perc\": 0.0}, {\"color\": \"rgb(51, 178, 121)\", \"height\": 0.0, \"perc\": 0.0}, {\"color\": \"rgb(94, 199, 96)\", \"height\": 100.0, \"perc\": 100.0}, {\"color\": \"rgb(155, 215, 59)\", \"height\": 0.0, \"perc\": 0.0}, {\"color\": \"rgb(220, 226, 37)\", \"height\": 0.0, \"perc\": 0.0}], [{\"color\": \"rgb(70, 18, 100)\", \"height\": 0.0, \"perc\": 0.0}, {\"color\": \"rgb(68, 51, 125)\", \"height\": 0.0, \"perc\": 0.0}, {\"color\": \"rgb(58, 80, 138)\", \"height\": 0.0, \"perc\": 0.0}, {\"color\": \"rgb(46, 107, 141)\", \"height\": 0.0, \"perc\": 0.0}, {\"color\": \"rgb(36, 131, 141)\", \"height\": 100.0, \"perc\": 100.0}, {\"color\": \"rgb(33, 155, 136)\", \"height\": 0.0, \"perc\": 0.0}, {\"color\": \"rgb(51, 178, 121)\", \"height\": 0.0, \"perc\": 0.0}, {\"color\": \"rgb(94, 199, 96)\", \"height\": 0.0, \"perc\": 0.0}, {\"color\": \"rgb(155, 215, 59)\", \"height\": 0.0, \"perc\": 0.0}, {\"color\": \"rgb(220, 226, 37)\", \"height\": 0.0, \"perc\": 0.0}]], \"node_id\": \"cube3_cluster2\", \"projection_stats\": []}, \"type\": \"circle\"}, {\"color\": [[0.708296442971388, 0.41421356237309515]], \"id\": \"\", \"name\": \"cube4_cluster0\", \"size\": 1, \"tooltip\": {\"cluster_stats\": {\"above\": [], \"below\": [], \"size\": 1}, \"custom_tooltips\": [2], \"dist_label\": \"Member\", \"histogram\": [[{\"color\": \"rgb(70, 18, 100)\", \"height\": 0.0, \"perc\": 0.0}, {\"color\": \"rgb(68, 51, 125)\", \"height\": 0.0, \"perc\": 0.0}, {\"color\": \"rgb(58, 80, 138)\", \"height\": 0.0, \"perc\": 0.0}, {\"color\": \"rgb(46, 107, 141)\", \"height\": 0.0, \"perc\": 0.0}, {\"color\": \"rgb(36, 131, 141)\", \"height\": 0.0, \"perc\": 0.0}, {\"color\": \"rgb(33, 155, 136)\", \"height\": 0.0, \"perc\": 0.0}, {\"color\": \"rgb(51, 178, 121)\", \"height\": 0.0, \"perc\": 0.0}, {\"color\": \"rgb(94, 199, 96)\", \"height\": 100.0, \"perc\": 100.0}, {\"color\": \"rgb(155, 215, 59)\", \"height\": 0.0, \"perc\": 0.0}, {\"color\": \"rgb(220, 226, 37)\", \"height\": 0.0, \"perc\": 0.0}], [{\"color\": \"rgb(70, 18, 100)\", \"height\": 0.0, \"perc\": 0.0}, {\"color\": \"rgb(68, 51, 125)\", \"height\": 0.0, \"perc\": 0.0}, {\"color\": \"rgb(58, 80, 138)\", \"height\": 0.0, \"perc\": 0.0}, {\"color\": \"rgb(46, 107, 141)\", \"height\": 0.0, \"perc\": 0.0}, {\"color\": \"rgb(36, 131, 141)\", \"height\": 100.0, \"perc\": 100.0}, {\"color\": \"rgb(33, 155, 136)\", \"height\": 0.0, \"perc\": 0.0}, {\"color\": \"rgb(51, 178, 121)\", \"height\": 0.0, \"perc\": 0.0}, {\"color\": \"rgb(94, 199, 96)\", \"height\": 0.0, \"perc\": 0.0}, {\"color\": \"rgb(155, 215, 59)\", \"height\": 0.0, \"perc\": 0.0}, {\"color\": \"rgb(220, 226, 37)\", \"height\": 0.0, \"perc\": 0.0}]], \"node_id\": \"cube4_cluster0\", \"projection_stats\": []}, \"type\": \"circle\"}, {\"color\": [[0.49793733146470825, 0.41421356237309515]], \"id\": \"\", \"name\": \"cube4_cluster1\", \"size\": 1, \"tooltip\": {\"cluster_stats\": {\"above\": [], \"below\": [], \"size\": 1}, \"custom_tooltips\": [1], \"dist_label\": \"Member\", \"histogram\": [[{\"color\": \"rgb(70, 18, 100)\", \"height\": 0.0, \"perc\": 0.0}, {\"color\": \"rgb(68, 51, 125)\", \"height\": 0.0, \"perc\": 0.0}, {\"color\": \"rgb(58, 80, 138)\", \"height\": 0.0, \"perc\": 0.0}, {\"color\": \"rgb(46, 107, 141)\", \"height\": 0.0, \"perc\": 0.0}, {\"color\": \"rgb(36, 131, 141)\", \"height\": 100.0, \"perc\": 100.0}, {\"color\": \"rgb(33, 155, 136)\", \"height\": 0.0, \"perc\": 0.0}, {\"color\": \"rgb(51, 178, 121)\", \"height\": 0.0, \"perc\": 0.0}, {\"color\": \"rgb(94, 199, 96)\", \"height\": 0.0, \"perc\": 0.0}, {\"color\": \"rgb(155, 215, 59)\", \"height\": 0.0, \"perc\": 0.0}, {\"color\": \"rgb(220, 226, 37)\", \"height\": 0.0, \"perc\": 0.0}], [{\"color\": \"rgb(70, 18, 100)\", \"height\": 0.0, \"perc\": 0.0}, {\"color\": \"rgb(68, 51, 125)\", \"height\": 0.0, \"perc\": 0.0}, {\"color\": \"rgb(58, 80, 138)\", \"height\": 0.0, \"perc\": 0.0}, {\"color\": \"rgb(46, 107, 141)\", \"height\": 0.0, \"perc\": 0.0}, {\"color\": \"rgb(36, 131, 141)\", \"height\": 100.0, \"perc\": 100.0}, {\"color\": \"rgb(33, 155, 136)\", \"height\": 0.0, \"perc\": 0.0}, {\"color\": \"rgb(51, 178, 121)\", \"height\": 0.0, \"perc\": 0.0}, {\"color\": \"rgb(94, 199, 96)\", \"height\": 0.0, \"perc\": 0.0}, {\"color\": \"rgb(155, 215, 59)\", \"height\": 0.0, \"perc\": 0.0}, {\"color\": \"rgb(220, 226, 37)\", \"height\": 0.0, \"perc\": 0.0}]], \"node_id\": \"cube4_cluster1\", \"projection_stats\": []}, \"type\": \"circle\"}, {\"color\": [[0.6738985140885173, 0.7320508075688772]], \"id\": \"\", \"name\": \"cube4_cluster2\", \"size\": 1, \"tooltip\": {\"cluster_stats\": {\"above\": [], \"below\": [], \"size\": 1}, \"custom_tooltips\": [1], \"dist_label\": \"Member\", \"histogram\": [[{\"color\": \"rgb(70, 18, 100)\", \"height\": 0.0, \"perc\": 0.0}, {\"color\": \"rgb(68, 51, 125)\", \"height\": 0.0, \"perc\": 0.0}, {\"color\": \"rgb(58, 80, 138)\", \"height\": 0.0, \"perc\": 0.0}, {\"color\": \"rgb(46, 107, 141)\", \"height\": 0.0, \"perc\": 0.0}, {\"color\": \"rgb(36, 131, 141)\", \"height\": 0.0, \"perc\": 0.0}, {\"color\": \"rgb(33, 155, 136)\", \"height\": 0.0, \"perc\": 0.0}, {\"color\": \"rgb(51, 178, 121)\", \"height\": 100.0, \"perc\": 100.0}, {\"color\": \"rgb(94, 199, 96)\", \"height\": 0.0, \"perc\": 0.0}, {\"color\": \"rgb(155, 215, 59)\", \"height\": 0.0, \"perc\": 0.0}, {\"color\": \"rgb(220, 226, 37)\", \"height\": 0.0, \"perc\": 0.0}], [{\"color\": \"rgb(70, 18, 100)\", \"height\": 0.0, \"perc\": 0.0}, {\"color\": \"rgb(68, 51, 125)\", \"height\": 0.0, \"perc\": 0.0}, {\"color\": \"rgb(58, 80, 138)\", \"height\": 0.0, \"perc\": 0.0}, {\"color\": \"rgb(46, 107, 141)\", \"height\": 0.0, \"perc\": 0.0}, {\"color\": \"rgb(36, 131, 141)\", \"height\": 0.0, \"perc\": 0.0}, {\"color\": \"rgb(33, 155, 136)\", \"height\": 0.0, \"perc\": 0.0}, {\"color\": \"rgb(51, 178, 121)\", \"height\": 0.0, \"perc\": 0.0}, {\"color\": \"rgb(94, 199, 96)\", \"height\": 100.0, \"perc\": 100.0}, {\"color\": \"rgb(155, 215, 59)\", \"height\": 0.0, \"perc\": 0.0}, {\"color\": \"rgb(220, 226, 37)\", \"height\": 0.0, \"perc\": 0.0}]], \"node_id\": \"cube4_cluster2\", \"projection_stats\": []}, \"type\": \"circle\"}, {\"color\": [[0.974200962048771, 0.20710678118654757]], \"id\": \"\", \"name\": \"cube6_cluster0\", \"size\": 2, \"tooltip\": {\"cluster_stats\": {\"above\": [], \"below\": [], \"size\": 2}, \"custom_tooltips\": [2, 3], \"dist_label\": \"Member\", \"histogram\": [[{\"color\": \"rgb(70, 18, 100)\", \"height\": 0.0, \"perc\": 0.0}, {\"color\": \"rgb(68, 51, 125)\", \"height\": 0.0, \"perc\": 0.0}, {\"color\": \"rgb(58, 80, 138)\", \"height\": 0.0, \"perc\": 0.0}, {\"color\": \"rgb(46, 107, 141)\", \"height\": 0.0, \"perc\": 0.0}, {\"color\": \"rgb(36, 131, 141)\", \"height\": 0.0, \"perc\": 0.0}, {\"color\": \"rgb(33, 155, 136)\", \"height\": 0.0, \"perc\": 0.0}, {\"color\": \"rgb(51, 178, 121)\", \"height\": 0.0, \"perc\": 0.0}, {\"color\": \"rgb(94, 199, 96)\", \"height\": 0.0, \"perc\": 0.0}, {\"color\": \"rgb(155, 215, 59)\", \"height\": 0.0, \"perc\": 0.0}, {\"color\": \"rgb(220, 226, 37)\", \"height\": 100.0, \"perc\": 100.0}], [{\"color\": \"rgb(70, 18, 100)\", \"height\": 100.0, \"perc\": 50.0}, {\"color\": \"rgb(68, 51, 125)\", \"height\": 0.0, \"perc\": 0.0}, {\"color\": \"rgb(58, 80, 138)\", \"height\": 0.0, \"perc\": 0.0}, {\"color\": \"rgb(46, 107, 141)\", \"height\": 0.0, \"perc\": 0.0}, {\"color\": \"rgb(36, 131, 141)\", \"height\": 100.0, \"perc\": 50.0}, {\"color\": \"rgb(33, 155, 136)\", \"height\": 0.0, \"perc\": 0.0}, {\"color\": \"rgb(51, 178, 121)\", \"height\": 0.0, \"perc\": 0.0}, {\"color\": \"rgb(94, 199, 96)\", \"height\": 0.0, \"perc\": 0.0}, {\"color\": \"rgb(155, 215, 59)\", \"height\": 0.0, \"perc\": 0.0}, {\"color\": \"rgb(220, 226, 37)\", \"height\": 0.0, \"perc\": 0.0}]], \"node_id\": \"cube6_cluster0\", \"projection_stats\": []}, \"type\": \"circle\"}, {\"color\": [[0.708296442971388, 0.41421356237309515]], \"id\": \"\", \"name\": \"cube6_cluster1\", \"size\": 1, \"tooltip\": {\"cluster_stats\": {\"above\": [], \"below\": [], \"size\": 1}, \"custom_tooltips\": [2], \"dist_label\": \"Member\", \"histogram\": [[{\"color\": \"rgb(70, 18, 100)\", \"height\": 0.0, \"perc\": 0.0}, {\"color\": \"rgb(68, 51, 125)\", \"height\": 0.0, \"perc\": 0.0}, {\"color\": \"rgb(58, 80, 138)\", \"height\": 0.0, \"perc\": 0.0}, {\"color\": \"rgb(46, 107, 141)\", \"height\": 0.0, \"perc\": 0.0}, {\"color\": \"rgb(36, 131, 141)\", \"height\": 0.0, \"perc\": 0.0}, {\"color\": \"rgb(33, 155, 136)\", \"height\": 0.0, \"perc\": 0.0}, {\"color\": \"rgb(51, 178, 121)\", \"height\": 0.0, \"perc\": 0.0}, {\"color\": \"rgb(94, 199, 96)\", \"height\": 100.0, \"perc\": 100.0}, {\"color\": \"rgb(155, 215, 59)\", \"height\": 0.0, \"perc\": 0.0}, {\"color\": \"rgb(220, 226, 37)\", \"height\": 0.0, \"perc\": 0.0}], [{\"color\": \"rgb(70, 18, 100)\", \"height\": 0.0, \"perc\": 0.0}, {\"color\": \"rgb(68, 51, 125)\", \"height\": 0.0, \"perc\": 0.0}, {\"color\": \"rgb(58, 80, 138)\", \"height\": 0.0, \"perc\": 0.0}, {\"color\": \"rgb(46, 107, 141)\", \"height\": 0.0, \"perc\": 0.0}, {\"color\": \"rgb(36, 131, 141)\", \"height\": 100.0, \"perc\": 100.0}, {\"color\": \"rgb(33, 155, 136)\", \"height\": 0.0, \"perc\": 0.0}, {\"color\": \"rgb(51, 178, 121)\", \"height\": 0.0, \"perc\": 0.0}, {\"color\": \"rgb(94, 199, 96)\", \"height\": 0.0, \"perc\": 0.0}, {\"color\": \"rgb(155, 215, 59)\", \"height\": 0.0, \"perc\": 0.0}, {\"color\": \"rgb(220, 226, 37)\", \"height\": 0.0, \"perc\": 0.0}]], \"node_id\": \"cube6_cluster1\", \"projection_stats\": []}, \"type\": \"circle\"}, {\"color\": [[0.7897939678961075, 0.41421356237309515]], \"id\": \"\", \"name\": \"cube6_cluster2\", \"size\": 1, \"tooltip\": {\"cluster_stats\": {\"above\": [], \"below\": [], \"size\": 1}, \"custom_tooltips\": [3], \"dist_label\": \"Member\", \"histogram\": [[{\"color\": \"rgb(70, 18, 100)\", \"height\": 0.0, \"perc\": 0.0}, {\"color\": \"rgb(68, 51, 125)\", \"height\": 0.0, \"perc\": 0.0}, {\"color\": \"rgb(58, 80, 138)\", \"height\": 0.0, \"perc\": 0.0}, {\"color\": \"rgb(46, 107, 141)\", \"height\": 0.0, \"perc\": 0.0}, {\"color\": \"rgb(36, 131, 141)\", \"height\": 0.0, \"perc\": 0.0}, {\"color\": \"rgb(33, 155, 136)\", \"height\": 0.0, \"perc\": 0.0}, {\"color\": \"rgb(51, 178, 121)\", \"height\": 0.0, \"perc\": 0.0}, {\"color\": \"rgb(94, 199, 96)\", \"height\": 100.0, \"perc\": 100.0}, {\"color\": \"rgb(155, 215, 59)\", \"height\": 0.0, \"perc\": 0.0}, {\"color\": \"rgb(220, 226, 37)\", \"height\": 0.0, \"perc\": 0.0}], [{\"color\": \"rgb(70, 18, 100)\", \"height\": 0.0, \"perc\": 0.0}, {\"color\": \"rgb(68, 51, 125)\", \"height\": 0.0, \"perc\": 0.0}, {\"color\": \"rgb(58, 80, 138)\", \"height\": 0.0, \"perc\": 0.0}, {\"color\": \"rgb(46, 107, 141)\", \"height\": 0.0, \"perc\": 0.0}, {\"color\": \"rgb(36, 131, 141)\", \"height\": 100.0, \"perc\": 100.0}, {\"color\": \"rgb(33, 155, 136)\", \"height\": 0.0, \"perc\": 0.0}, {\"color\": \"rgb(51, 178, 121)\", \"height\": 0.0, \"perc\": 0.0}, {\"color\": \"rgb(94, 199, 96)\", \"height\": 0.0, \"perc\": 0.0}, {\"color\": \"rgb(155, 215, 59)\", \"height\": 0.0, \"perc\": 0.0}, {\"color\": \"rgb(220, 226, 37)\", \"height\": 0.0, \"perc\": 0.0}]], \"node_id\": \"cube6_cluster2\", \"projection_stats\": []}, \"type\": \"circle\"}, {\"color\": [[0.8111502190930296, 0.5731321849709862]], \"id\": \"\", \"name\": \"cube7_cluster0\", \"size\": 2, \"tooltip\": {\"cluster_stats\": {\"above\": [], \"below\": [], \"size\": 2}, \"custom_tooltips\": [1, 3], \"dist_label\": \"Member\", \"histogram\": [[{\"color\": \"rgb(70, 18, 100)\", \"height\": 0.0, \"perc\": 0.0}, {\"color\": \"rgb(68, 51, 125)\", \"height\": 0.0, \"perc\": 0.0}, {\"color\": \"rgb(58, 80, 138)\", \"height\": 0.0, \"perc\": 0.0}, {\"color\": \"rgb(46, 107, 141)\", \"height\": 0.0, \"perc\": 0.0}, {\"color\": \"rgb(36, 131, 141)\", \"height\": 0.0, \"perc\": 0.0}, {\"color\": \"rgb(33, 155, 136)\", \"height\": 0.0, \"perc\": 0.0}, {\"color\": \"rgb(51, 178, 121)\", \"height\": 100.0, \"perc\": 50.0}, {\"color\": \"rgb(94, 199, 96)\", \"height\": 0.0, \"perc\": 0.0}, {\"color\": \"rgb(155, 215, 59)\", \"height\": 0.0, \"perc\": 0.0}, {\"color\": \"rgb(220, 226, 37)\", \"height\": 100.0, \"perc\": 50.0}], [{\"color\": \"rgb(70, 18, 100)\", \"height\": 0.0, \"perc\": 0.0}, {\"color\": \"rgb(68, 51, 125)\", \"height\": 0.0, \"perc\": 0.0}, {\"color\": \"rgb(58, 80, 138)\", \"height\": 0.0, \"perc\": 0.0}, {\"color\": \"rgb(46, 107, 141)\", \"height\": 0.0, \"perc\": 0.0}, {\"color\": \"rgb(36, 131, 141)\", \"height\": 100.0, \"perc\": 50.0}, {\"color\": \"rgb(33, 155, 136)\", \"height\": 0.0, \"perc\": 0.0}, {\"color\": \"rgb(51, 178, 121)\", \"height\": 0.0, \"perc\": 0.0}, {\"color\": \"rgb(94, 199, 96)\", \"height\": 100.0, \"perc\": 50.0}, {\"color\": \"rgb(155, 215, 59)\", \"height\": 0.0, \"perc\": 0.0}, {\"color\": \"rgb(220, 226, 37)\", \"height\": 0.0, \"perc\": 0.0}]], \"node_id\": \"cube7_cluster0\", \"projection_stats\": []}, \"type\": \"circle\"}, {\"color\": [[0.8098916602118558, 0.5731321849709862]], \"id\": \"\", \"name\": \"cube7_cluster1\", \"size\": 2, \"tooltip\": {\"cluster_stats\": {\"above\": [], \"below\": [], \"size\": 2}, \"custom_tooltips\": [1, 3], \"dist_label\": \"Member\", \"histogram\": [[{\"color\": \"rgb(70, 18, 100)\", \"height\": 0.0, \"perc\": 0.0}, {\"color\": \"rgb(68, 51, 125)\", \"height\": 0.0, \"perc\": 0.0}, {\"color\": \"rgb(58, 80, 138)\", \"height\": 0.0, \"perc\": 0.0}, {\"color\": \"rgb(46, 107, 141)\", \"height\": 0.0, \"perc\": 0.0}, {\"color\": \"rgb(36, 131, 141)\", \"height\": 0.0, \"perc\": 0.0}, {\"color\": \"rgb(33, 155, 136)\", \"height\": 0.0, \"perc\": 0.0}, {\"color\": \"rgb(51, 178, 121)\", \"height\": 0.0, \"perc\": 0.0}, {\"color\": \"rgb(94, 199, 96)\", \"height\": 100.0, \"perc\": 50.0}, {\"color\": \"rgb(155, 215, 59)\", \"height\": 100.0, \"perc\": 50.0}, {\"color\": \"rgb(220, 226, 37)\", \"height\": 0.0, \"perc\": 0.0}], [{\"color\": \"rgb(70, 18, 100)\", \"height\": 0.0, \"perc\": 0.0}, {\"color\": \"rgb(68, 51, 125)\", \"height\": 0.0, \"perc\": 0.0}, {\"color\": \"rgb(58, 80, 138)\", \"height\": 0.0, \"perc\": 0.0}, {\"color\": \"rgb(46, 107, 141)\", \"height\": 0.0, \"perc\": 0.0}, {\"color\": \"rgb(36, 131, 141)\", \"height\": 100.0, \"perc\": 50.0}, {\"color\": \"rgb(33, 155, 136)\", \"height\": 0.0, \"perc\": 0.0}, {\"color\": \"rgb(51, 178, 121)\", \"height\": 0.0, \"perc\": 0.0}, {\"color\": \"rgb(94, 199, 96)\", \"height\": 100.0, \"perc\": 50.0}, {\"color\": \"rgb(155, 215, 59)\", \"height\": 0.0, \"perc\": 0.0}, {\"color\": \"rgb(220, 226, 37)\", \"height\": 0.0, \"perc\": 0.0}]], \"node_id\": \"cube7_cluster1\", \"projection_stats\": []}, \"type\": \"circle\"}, {\"color\": [[0.7512620283414683, 0.5731321849709862]], \"id\": \"\", \"name\": \"cube7_cluster2\", \"size\": 2, \"tooltip\": {\"cluster_stats\": {\"above\": [], \"below\": [], \"size\": 2}, \"custom_tooltips\": [2, 3], \"dist_label\": \"Member\", \"histogram\": [[{\"color\": \"rgb(70, 18, 100)\", \"height\": 0.0, \"perc\": 0.0}, {\"color\": \"rgb(68, 51, 125)\", \"height\": 0.0, \"perc\": 0.0}, {\"color\": \"rgb(58, 80, 138)\", \"height\": 0.0, \"perc\": 0.0}, {\"color\": \"rgb(46, 107, 141)\", \"height\": 0.0, \"perc\": 0.0}, {\"color\": \"rgb(36, 131, 141)\", \"height\": 0.0, \"perc\": 0.0}, {\"color\": \"rgb(33, 155, 136)\", \"height\": 0.0, \"perc\": 0.0}, {\"color\": \"rgb(51, 178, 121)\", \"height\": 0.0, \"perc\": 0.0}, {\"color\": \"rgb(94, 199, 96)\", \"height\": 100.0, \"perc\": 100.0}, {\"color\": \"rgb(155, 215, 59)\", \"height\": 0.0, \"perc\": 0.0}, {\"color\": \"rgb(220, 226, 37)\", \"height\": 0.0, \"perc\": 0.0}], [{\"color\": \"rgb(70, 18, 100)\", \"height\": 0.0, \"perc\": 0.0}, {\"color\": \"rgb(68, 51, 125)\", \"height\": 0.0, \"perc\": 0.0}, {\"color\": \"rgb(58, 80, 138)\", \"height\": 0.0, \"perc\": 0.0}, {\"color\": \"rgb(46, 107, 141)\", \"height\": 0.0, \"perc\": 0.0}, {\"color\": \"rgb(36, 131, 141)\", \"height\": 100.0, \"perc\": 50.0}, {\"color\": \"rgb(33, 155, 136)\", \"height\": 0.0, \"perc\": 0.0}, {\"color\": \"rgb(51, 178, 121)\", \"height\": 0.0, \"perc\": 0.0}, {\"color\": \"rgb(94, 199, 96)\", \"height\": 100.0, \"perc\": 50.0}, {\"color\": \"rgb(155, 215, 59)\", \"height\": 0.0, \"perc\": 0.0}, {\"color\": \"rgb(220, 226, 37)\", \"height\": 0.0, \"perc\": 0.0}]], \"node_id\": \"cube7_cluster2\", \"projection_stats\": []}, \"type\": \"circle\"}, {\"color\": [[0.7930031765795964, 0.8660254037844386]], \"id\": \"\", \"name\": \"cube8_cluster0\", \"size\": 2, \"tooltip\": {\"cluster_stats\": {\"above\": [], \"below\": [], \"size\": 2}, \"custom_tooltips\": [1, 1], \"dist_label\": \"Member\", \"histogram\": [[{\"color\": \"rgb(70, 18, 100)\", \"height\": 0.0, \"perc\": 0.0}, {\"color\": \"rgb(68, 51, 125)\", \"height\": 0.0, \"perc\": 0.0}, {\"color\": \"rgb(58, 80, 138)\", \"height\": 0.0, \"perc\": 0.0}, {\"color\": \"rgb(46, 107, 141)\", \"height\": 0.0, \"perc\": 0.0}, {\"color\": \"rgb(36, 131, 141)\", \"height\": 0.0, \"perc\": 0.0}, {\"color\": \"rgb(33, 155, 136)\", \"height\": 0.0, \"perc\": 0.0}, {\"color\": \"rgb(51, 178, 121)\", \"height\": 0.0, \"perc\": 0.0}, {\"color\": \"rgb(94, 199, 96)\", \"height\": 100.0, \"perc\": 50.0}, {\"color\": \"rgb(155, 215, 59)\", \"height\": 100.0, \"perc\": 50.0}, {\"color\": \"rgb(220, 226, 37)\", \"height\": 0.0, \"perc\": 0.0}], [{\"color\": \"rgb(70, 18, 100)\", \"height\": 0.0, \"perc\": 0.0}, {\"color\": \"rgb(68, 51, 125)\", \"height\": 0.0, \"perc\": 0.0}, {\"color\": \"rgb(58, 80, 138)\", \"height\": 0.0, \"perc\": 0.0}, {\"color\": \"rgb(46, 107, 141)\", \"height\": 0.0, \"perc\": 0.0}, {\"color\": \"rgb(36, 131, 141)\", \"height\": 0.0, \"perc\": 0.0}, {\"color\": \"rgb(33, 155, 136)\", \"height\": 0.0, \"perc\": 0.0}, {\"color\": \"rgb(51, 178, 121)\", \"height\": 0.0, \"perc\": 0.0}, {\"color\": \"rgb(94, 199, 96)\", \"height\": 100.0, \"perc\": 50.0}, {\"color\": \"rgb(155, 215, 59)\", \"height\": 0.0, \"perc\": 0.0}, {\"color\": \"rgb(220, 226, 37)\", \"height\": 100.0, \"perc\": 50.0}]], \"node_id\": \"cube8_cluster0\", \"projection_stats\": []}, \"type\": \"circle\"}, {\"color\": [[0.843120657896295, 0.9106836025229591]], \"id\": \"\", \"name\": \"cube8_cluster1\", \"size\": 2, \"tooltip\": {\"cluster_stats\": {\"above\": [], \"below\": [], \"size\": 3}, \"custom_tooltips\": [2, 3, 3], \"dist_label\": \"Member\", \"histogram\": [[{\"color\": \"rgb(70, 18, 100)\", \"height\": 0.0, \"perc\": 0.0}, {\"color\": \"rgb(68, 51, 125)\", \"height\": 0.0, \"perc\": 0.0}, {\"color\": \"rgb(58, 80, 138)\", \"height\": 0.0, \"perc\": 0.0}, {\"color\": \"rgb(46, 107, 141)\", \"height\": 0.0, \"perc\": 0.0}, {\"color\": \"rgb(36, 131, 141)\", \"height\": 0.0, \"perc\": 0.0}, {\"color\": \"rgb(33, 155, 136)\", \"height\": 0.0, \"perc\": 0.0}, {\"color\": \"rgb(51, 178, 121)\", \"height\": 0.0, \"perc\": 0.0}, {\"color\": \"rgb(94, 199, 96)\", \"height\": 50.0, \"perc\": 33.3}, {\"color\": \"rgb(155, 215, 59)\", \"height\": 100.0, \"perc\": 66.7}, {\"color\": \"rgb(220, 226, 37)\", \"height\": 0.0, \"perc\": 0.0}], [{\"color\": \"rgb(70, 18, 100)\", \"height\": 0.0, \"perc\": 0.0}, {\"color\": \"rgb(68, 51, 125)\", \"height\": 0.0, \"perc\": 0.0}, {\"color\": \"rgb(58, 80, 138)\", \"height\": 0.0, \"perc\": 0.0}, {\"color\": \"rgb(46, 107, 141)\", \"height\": 0.0, \"perc\": 0.0}, {\"color\": \"rgb(36, 131, 141)\", \"height\": 0.0, \"perc\": 0.0}, {\"color\": \"rgb(33, 155, 136)\", \"height\": 0.0, \"perc\": 0.0}, {\"color\": \"rgb(51, 178, 121)\", \"height\": 0.0, \"perc\": 0.0}, {\"color\": \"rgb(94, 199, 96)\", \"height\": 50.0, \"perc\": 33.3}, {\"color\": \"rgb(155, 215, 59)\", \"height\": 0.0, \"perc\": 0.0}, {\"color\": \"rgb(220, 226, 37)\", \"height\": 100.0, \"perc\": 66.7}]], \"node_id\": \"cube8_cluster1\", \"projection_stats\": []}, \"type\": \"circle\"}, {\"color\": [[0.6738985140885173, 0.7320508075688772]], \"id\": \"\", \"name\": \"cube8_cluster2\", \"size\": 1, \"tooltip\": {\"cluster_stats\": {\"above\": [], \"below\": [], \"size\": 1}, \"custom_tooltips\": [1], \"dist_label\": \"Member\", \"histogram\": [[{\"color\": \"rgb(70, 18, 100)\", \"height\": 0.0, \"perc\": 0.0}, {\"color\": \"rgb(68, 51, 125)\", \"height\": 0.0, \"perc\": 0.0}, {\"color\": \"rgb(58, 80, 138)\", \"height\": 0.0, \"perc\": 0.0}, {\"color\": \"rgb(46, 107, 141)\", \"height\": 0.0, \"perc\": 0.0}, {\"color\": \"rgb(36, 131, 141)\", \"height\": 0.0, \"perc\": 0.0}, {\"color\": \"rgb(33, 155, 136)\", \"height\": 0.0, \"perc\": 0.0}, {\"color\": \"rgb(51, 178, 121)\", \"height\": 100.0, \"perc\": 100.0}, {\"color\": \"rgb(94, 199, 96)\", \"height\": 0.0, \"perc\": 0.0}, {\"color\": \"rgb(155, 215, 59)\", \"height\": 0.0, \"perc\": 0.0}, {\"color\": \"rgb(220, 226, 37)\", \"height\": 0.0, \"perc\": 0.0}], [{\"color\": \"rgb(70, 18, 100)\", \"height\": 0.0, \"perc\": 0.0}, {\"color\": \"rgb(68, 51, 125)\", \"height\": 0.0, \"perc\": 0.0}, {\"color\": \"rgb(58, 80, 138)\", \"height\": 0.0, \"perc\": 0.0}, {\"color\": \"rgb(46, 107, 141)\", \"height\": 0.0, \"perc\": 0.0}, {\"color\": \"rgb(36, 131, 141)\", \"height\": 0.0, \"perc\": 0.0}, {\"color\": \"rgb(33, 155, 136)\", \"height\": 0.0, \"perc\": 0.0}, {\"color\": \"rgb(51, 178, 121)\", \"height\": 0.0, \"perc\": 0.0}, {\"color\": \"rgb(94, 199, 96)\", \"height\": 100.0, \"perc\": 100.0}, {\"color\": \"rgb(155, 215, 59)\", \"height\": 0.0, \"perc\": 0.0}, {\"color\": \"rgb(220, 226, 37)\", \"height\": 0.0, \"perc\": 0.0}]], \"node_id\": \"cube8_cluster2\", \"projection_stats\": []}, \"type\": \"circle\"}]};\\n    const colorscale = [[0.0, \"rgb(68, 1, 84)\"], [0.1, \"rgb(72, 35, 116)\"], [0.2, \"rgb(64, 67, 135)\"], [0.3, \"rgb(52, 94, 141)\"], [0.4, \"rgb(41, 120, 142)\"], [0.5, \"rgb(32, 144, 140)\"], [0.6, \"rgb(34, 167, 132)\"], [0.7, \"rgb(68, 190, 112)\"], [0.8, \"rgb(121, 209, 81)\"], [0.9, \"rgb(189, 222, 38)\"], [1.0, \"rgb(253, 231, 36)\"]];\\n    const summary = {\"color_function_name\": [\"Isolation Forest\", \"L2-norm\"], \"custom_meta\": {\"clusterer\": \"KMeans(n_clusters=3, random_state=3)\", \"n_cubes\": 3, \"perc_overlap\": 0.4, \"projection\": \"l2norm\", \"scaler\": \"MinMaxScaler()\"}, \"n_edges\": 14, \"n_nodes\": 15, \"n_total\": 22, \"n_unique\": 12, \"node_color_function\": [\"mean\"]};\\n    const summary_histogram = [[[{\"color\": \"rgb(70, 18, 100)\", \"height\": 0.0, \"perc\": 0.0}, {\"color\": \"rgb(68, 51, 125)\", \"height\": 0.0, \"perc\": 0.0}, {\"color\": \"rgb(58, 80, 138)\", \"height\": 0.0, \"perc\": 0.0}, {\"color\": \"rgb(46, 107, 141)\", \"height\": 0.0, \"perc\": 0.0}, {\"color\": \"rgb(36, 131, 141)\", \"height\": 50.0, \"perc\": 20.0}, {\"color\": \"rgb(33, 155, 136)\", \"height\": 0.0, \"perc\": 0.0}, {\"color\": \"rgb(51, 178, 121)\", \"height\": 33.0, \"perc\": 13.3}, {\"color\": \"rgb(94, 199, 96)\", \"height\": 100.0, \"perc\": 40.0}, {\"color\": \"rgb(155, 215, 59)\", \"height\": 50.0, \"perc\": 20.0}, {\"color\": \"rgb(220, 226, 37)\", \"height\": 17.0, \"perc\": 6.7}], [{\"color\": \"rgb(70, 18, 100)\", \"height\": 17.0, \"perc\": 6.7}, {\"color\": \"rgb(68, 51, 125)\", \"height\": 0.0, \"perc\": 0.0}, {\"color\": \"rgb(58, 80, 138)\", \"height\": 17.0, \"perc\": 6.7}, {\"color\": \"rgb(46, 107, 141)\", \"height\": 0.0, \"perc\": 0.0}, {\"color\": \"rgb(36, 131, 141)\", \"height\": 100.0, \"perc\": 40.0}, {\"color\": \"rgb(33, 155, 136)\", \"height\": 50.0, \"perc\": 20.0}, {\"color\": \"rgb(51, 178, 121)\", \"height\": 0.0, \"perc\": 0.0}, {\"color\": \"rgb(94, 199, 96)\", \"height\": 33.0, \"perc\": 13.3}, {\"color\": \"rgb(155, 215, 59)\", \"height\": 17.0, \"perc\": 6.7}, {\"color\": \"rgb(220, 226, 37)\", \"height\": 17.0, \"perc\": 6.7}]]];\\n  </script>\\n\\n  <div id=\"header\">\\n    <div class=\"wrap wrap-header\">\\n\\n      <div class=\"\">\\n\\n        <!-- toolbar -->\\n        <div class=\"toolbar-container\">\\n        \\n<div id=\"toolbar\" class=\\'wrap\\'>\\n    <div id=\"tooltip_control\" class=\"tool_item\">\\n        <h3>\\n        <a href=\"#\"><small id=\"tooltip_tag\">[+]</small></a>\\n        Cluster Details\\n        </h3>\\n    </div>\\n\\n    <div id=\"meta_control\" class=\"tool_item\">\\n        <h3>\\n        <a href=\"#\"><small id=\"meta_tag\">[+]</small></a>\\n        Mapper Summary\\n        </h3>\\n    </div>\\n\\n    <div id=\"help_control\" class=\"tool_item\">\\n        <h3>\\n        <a href=\"#\"><small id=\"helptip_tag\">[+]</small></a>\\n        Help\\n        </h3>\\n    </div>\\n\\n    \\n    <div id=\"color_function_control\" class=\"tool_item\">\\n      <h3>Color Function\\n        <select class=\"btn\" id=\\'select-color-function\\' name=\"color_function\">\\n        \\n          <option value=\"0\">Isolation Forest</option>\\n        \\n          <option value=\"1\">L2-norm</option>\\n        \\n        </select>\\n      </h3>\\n    </div>\\n    \\n\\n    \\n\\n    \\n\\n</div>\\n        </div>\\n        <!-- /toolbar -->\\n\\n        <div class=\\'banner\\'>\\n          <noscript><b>Requires JavaScript (d3.js) for visualizations</b></noscript>\\n          <h1> Dummy Data </h1>\\n        </div>\\n\\n      </div>\\n\\n      <div class=\"wrap-logo\">\\n        <img id=\"logo\" class=\\'logo\\' src=\"data:image/png;base64, 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\">\\n      </div>\\n    </div>\\n\\n  </div>\\n\\n    <div id=\"canvas\" class=\\'canvas\\'>\\n      <!-- Graph will go in here -->\\n      <svg id=\\'svg\\'>\\n        <defs>\\n          <filter id=\"drop-shadow-glow\" filterUnits=\"userSpaceOnUse\" width=\"250%\" height=\"250%\">\\n            <feGaussianBlur in=\"SourceGraphic\" stdDeviation=\"12\" result=\"blur-out\"/>\\n            <feColorMatrix in=\"blur-out\" type=\"hueRotate\" values=\"0\" result=\"color-out\"/>\\n            <feOffset in=\"color-out\" dx=\"0\" dy=\"0\" result=\"the-shadow\"/>\\n            <feComponentTransfer type=\"linear\" slope=\"0.2\" result=\"shadow-opacity\"/>\\n            <feBlend in=\"SourceGraphic\" in2=\"the-shadow\" mode=\"normal\"/>\\n          </filter>\\n          <filter id=\"drop-shadow-pulse\" filterUnits=\"userSpaceOnUse\" width=\"250%\" height=\"250%\">\\n            <feGaussianBlur in=\"SourceGraphic\" stdDeviation=\"12\" result=\"blur-out\">\\n              <animate attributeName=\"stdDeviation\" from=\"0\" to=\"100\" dur=\"1.5s\" repeatCount=\"indefinite\" />\\n            </feGaussianBlur>\\n            <feColorMatrix in=\"blur-out\" type=\"hueRotate\" values=\"0\" result=\"color-out\"/>\\n            <feOffset in=\"color-out\" dx=\"0\" dy=\"0\" result=\"the-shadow\"/>\\n            <feComponentTransfer type=\"linear\" slope=\"0.2\" result=\"shadow-opacity\"/>\\n            <feBlend in=\"SourceGraphic\" in2=\"the-shadow\" mode=\"normal\"/>\\n          </filter>\\n        </defs>\\n      </svg>\\n\\n    <!-- Panes for each of the tips -->\\n    <div id=\"tooltip\" class=\\'pane pane-left\\'>\\n      <div id=\"tooltip_content\" class=\"pane_content\">\\n        <div id=\\'tooltip_content_no_focus_node\\'>\\n          Hover over a node to see attributes about it.\\n        </div>\\n        <div id=\\'tooltip_content_focus_node\\' style=\\'display:none\\'>\\n        <div>\\n  <div class=\\'actions\\'>\\n    <h3>Actions</h3>\\n    <p>\\n      <button class=\\'btn center-on-node\\'>Center viewport on node</button>\\n    </p>\\n  </div>\\n\\n  <div class=\\'details\\'>\\n    <h2>Cluster Details <span style=\"font-size:0.7em\">(node id: <span class=\\'node_id\\'></span>)</span></h2>\\n\\n    <!-- histogram -->\\n    <div class=\\'histogram-wrapper\\'>\\n      <hr><br/>\\n\\n      <h3><span class=\\'distribution_label\\'></span> Distribution</h3>\\n\\n      <div class=\"histogram\"></div>\\n\\n      <br><br>\\n    </div>\\n    <!-- /histogram -->\\n\\n    <!-- Projection Statistics -->\\n    <div class=\\'projection_stats\\' style=\\'display:none\\'>\\n\\n      <hr><br/>\\n\\n      <h3>Projection Statistics</h3>\\n      <table>\\n        <thead>\\n          <tr>\\n            <th>Lens</th>\\n            <th style=\"width:50px;\"><small>Mean</small></th>\\n            <th style=\"width:50px;\"><small>Max</small></th>\\n            <th style=\"width:50px;\"><small>Min</small></th>\\n          </tr>\\n        </thead>\\n        <tbody></tbody>\\n      </table>\\n    </div>\\n\\n    <!-- Cluster Statistics -->\\n    <div class=\\'cluster_stats\\'>\\n        <hr><br/>\\n\\n        <h3>Cluster Statistics</h3>\\n        <div class=\\'above-wrapper\\'>\\n            <h3>Above Average</h3>\\n            <table>\\n              <thead>\\n                <tr>\\n                  <th>Feature</th>\\n                  <th style=\"width:50px;\"><small>Mean</small></th>\\n                  <th style=\"width:50px;\"><small>STD</small></th>\\n                </tr>\\n              </thead>\\n              <tbody></tbody>\\n            </table>\\n        </div>\\n\\n        <div class=\\'below-wrapper\\'>\\n            <h3>Below Average</h3>\\n            <table>\\n              <thead>\\n                <tr>\\n                  <th>Feature</th>\\n                  <th style=\"width:50px;\"><small>Mean</small></th>\\n                  <th style=\"width:50px;\"><small>STD</small></th>\\n                </tr>\\n              </thead>\\n              <tbody></tbody>\\n            </table>\\n        </div>\\n\\n        <h3>Size</h3>\\n        <p class=\\'cluster-size\\'></p>\\n    </div>\\n\\n    <!-- Membership information -->\\n    <div class=\\'membership-information\\'>\\n      <hr> <br/>\\n\\n      <h3>Members</h3>\\n      <div class=\\'list-of-members\\'></div>\\n\\n      <br><br>\\n      <hr><br>\\n    </div>\\n    <!-- /membership information -->\\n  </div>\\n</div>\\n        </div>\\n      </div>\\n    </div>\\n\\n    <div id=\"helptip\" class=\\'pane pane-right\\'>\\n      <div id=\"helptip_content\" class=\"pane_content\">\\n        <!-- Help pane.\\n    TODO: Add more information here.  -->\\n\\n<ul>\\n<li>Click on a node to lock focus on that node. The node with the current focus will pulse. Click off of a node to release the lock.</li>\\n<li>Dragging a node will fix its position on the screen. Double-click a fixed-position node to unfreeze it.</li>\\n</ul>\\n\\n<table>\\n    <tr>\\n        <th>Key</th>\\n        <th><small>Action</small></th>\\n    </tr>\\n\\n    <tr>\\n        <td>s</td>\\n        <td><small>Nodes glow :D</small></td>\\n    </tr>\\n\\n    <tr>\\n        <td>c</td>\\n        <td><small>remove glow</small></td>\\n    </tr>\\n\\n    <tr>\\n        <td>p</td>\\n        <td><small>Print mode - white backgrounds</small></td>\\n    </tr>\\n\\n    <tr>\\n        <td>d</td>\\n        <td><small>Display mode - black backgrounds</small></td>\\n    </tr>\\n\\n    <tr>\\n        <td>z</td>\\n        <td><small>Turn off gravity</small></td>\\n    </tr>\\n\\n    <tr>\\n        <td>m</td>\\n        <td><small>Spacious layout</small></td>\\n    </tr>\\n\\n    <tr>\\n        <td>e</td>\\n        <td><small>Tight layout</small></td>\\n    </tr>\\n\\n    <tr>\\n        <td>f</td>\\n        <td><small>Freeze layout</small></td>\\n    </tr>\\n\\n    <tr>\\n        <td>x</td>\\n        <td><small>Unfreeze all nodes</small></td>\\n    </tr>\\n\\n</table>\\n\\n<div class=\"control-wrapper\">\\n  <div class=\"control-row\">\\n    <button class=\\'btn\\' type=\"button\" id=\"download-config\" name=\"download-config\">Save config</button>\\n  </div>\\n\\n  <div class=\"control-row\">\\n    <label for=\"config-file-loader\">Load config file</label>\\n    <input type=\"file\" id=\"config-file-loader\" name=\"config-file-loader\" accept=\"application/json\">\\n    <button class=\\'btn\\' id=\\'load-config\\' disabled>Load</button>\\n  </div>\\n</div>\\n      </div>\\n    </div>\\n\\n    <div id=\"meta\" class=\\'pane pane-right\\'>\\n      <div id=\"meta_content\" class=\"pane_content\">\\n        <h2>Mapper Summary</h2>\\n\\n<hr><br>\\n\\n\\n    \\n        <h3>projection </h3> <p> l2norm</p>\\n    \\n        <h3>n_cubes </h3> <p> 3</p>\\n    \\n        <h3>perc_overlap </h3> <p> 0.4</p>\\n    \\n        <h3>clusterer </h3> <p> KMeans(n_clusters=3, random_state=3)</p>\\n    \\n        <h3>scaler </h3> <p> MinMaxScaler()</p>\\n    \\n\\n\\n<h3>Nodes</h3><p> 15 </p>\\n\\n<h3>Edges</h3><p> 14 </p>\\n\\n<h3>Total Samples</h3><p> 22</p>\\n\\n<h3>Unique Samples</h3><p> 12</p>\\n\\n<h3>Color functions</h3><p>\\n  Isolation Forest, L2-norm\\n</p>\\n\\n<h3>Node Color Function</h3><p> mean</p>\\n\\n\\n<!-- histogram -->\\n<hr><br/>\\n\\n<h3>Node Distribution</h3>\\n\\n<div class=\"histogram\"></div>\\n\\n<br><br>\\n<!-- /histogram -->\\n\\n<hr><br>\\n      </div>\\n    </div>\\n\\n  </div>\\n\\n  <script src=\"https://cdnjs.cloudflare.com/ajax/libs/d3/6.1.1/d3.js\"></script>\\n  <script src=\"https://cdn.jsdelivr.net/npm/file-saver@2.0.2/dist/FileSaver.min.js\"></script>\\n\\n  <script>// Height and width settings\\nvar page_height = window.innerHeight - 5;\\nvar header_height = document.getElementById(\\'header\\').offsetHeight;\\nvar canvas_height = page_height - header_height;\\ndocument.getElementById(\"canvas\").style.height = canvas_height + \"px\";\\nvar width = document.getElementById(\"canvas\").offsetWidth;\\nvar height = document.getElementById(\"canvas\").offsetHeight;\\nvar w = width;\\nvar h = height;\\nvar padding = 40;\\n\\nvar focus_node_id = null;\\nvar focus_node = null;\\nvar text_center = false;\\nvar outline = false;\\n\\n// Size for zooming\\nvar size = d3.scalePow().exponent(1)\\n           .domain([1,100])\\n           .range([8,24]);\\n\\n// Variety of variable inits\\nvar default_node_color = \"#ccc\";\\nvar default_node_color = \"rgba(160,160,160, 0.5)\";\\nvar default_link_color = \"rgba(160,160,160, 0.5)\";\\nvar nominal_base_node_size = 8;\\nvar nominal_text_size = 15;\\nvar max_text_size = 24;\\nvar nominal_stroke = 1.0;\\nvar max_stroke = 4.5;\\nvar max_base_node_size = 36;\\nvar min_zoom = 0.1;\\nvar max_zoom = 7;\\nvar zoom;\\nvar svg, g;\\nvar simulation;\\nvar link, node;\\nvar drag;\\nvar dragging = false;\\nvar circle;\\nvar text;\\nvar focus_via_click = false;\\nvar nodes = [];\\nvar links = [];\\n\\nvar tocolor = \"fill\";\\nvar towhite = \"stroke\";\\nif (outline) {\\n  tocolor = \"stroke\";\\n  towhite = \"fill\";\\n}\\n\\n/**\\n * Side panes\\n */\\n\\n// Show/Hide Functionality\\nfunction toggle_pane(content, content_id, tag) {\\n  var active = content.active ? false : true;\\n\\n  if (active) {\\n    content_id.style(\"display\", \"block\");\\n    tag.node().textContent = \"[-]\";\\n  } else {\\n    content_id.style(\"display\", \"none\");\\n    tag.node().textContent = \"[+]\";\\n  }\\n\\n  // TODO: This is probably not the best way to find the correct height.\\n  var h = canvas_height - content.offsetTop - padding;\\n  content_id.style(\"height\", h + \"px\")\\n\\n  content.active = active;\\n}\\n\\nd3.select(\"#tooltip_control\").on(\"click\", function(e) {\\n  toggle_pane(tooltip_content,\\n              d3.select(\"#tooltip_content\"),\\n              d3.select(\"#tooltip_tag\"))\\n\\n});\\n\\nd3.select(\"#meta_control\").on(\"click\", function(e) {\\n  toggle_pane(meta_content,\\n              d3.select(\"#meta_content\"),\\n              d3.select(\"#meta_tag\"))\\n\\n});\\n\\nd3.select(\"#help_control\").on(\"click\", function(e) {\\n  toggle_pane(helptip_content,\\n              d3.select(\"#helptip_content\"),\\n              d3.select(\"#helptip_tag\"))\\n});\\n\\nd3.select(\\'#select-color-function\\').on(\\'input\\', function(e){\\n  color_function_index = parseInt(e.target.value);\\n  update_color_functions()\\n})\\nd3.select(\\'#select-node-color-function\\').on(\\'input\\', function(e){\\n  node_color_function_index = parseInt(e.target.value);\\n  update_color_functions()\\n})\\n\\n/**\\n *\\n * Set up color scale\\n *\\n *\\n */\\n// var colorscale defined in base.html\\nvar domain = colorscale.map((x)=>x[0])\\nvar palette = colorscale.map((x)=>x[1])\\n\\nvar color = d3.scaleLinear()\\n  .domain(domain)\\n  .range(palette);\\n\\n/*\\n* one-time setups, like SVG and force init\\n*/\\nfunction init() {\\n\\n  zoom = d3.zoom()\\n    .scaleExtent([min_zoom, max_zoom])\\n    .on(\\'zoom\\', zoomed)\\n\\n  // We draw the graph in SVG\\n  svg = d3.select(\"#canvas svg\")\\n          .attr(\"width\", width)\\n          .attr(\"height\", height)\\n          .style(\"cursor\",\"move\")\\n          .call(zoom)\\n          .on(\\'dblclick.zoom\\', null); // prevent default zoom-in on dblclick\\n\\n  svg.on(\\'click.focus\\', function(e){\\n    set_focus_via_click(null);\\n  });\\n\\n  g = svg.append(\"g\")\\n\\n  link = g.selectAll(\".link\")\\n  node = g.selectAll(\".node\")\\n  text = g.selectAll(\".text\")\\n\\n  simulation = d3.forceSimulation()\\n    .force(\\'charge\\', d3.forceManyBody().strength(-1200))\\n    .force(\\'center\\', d3.forceCenter(width / 2, height / 2))\\n    .force(\\'link\\', d3.forceLink().distance(5))\\n    .force(\\'x\\', d3.forceX()) // not sure what this does...\\n    .force(\\'y\\', d3.forceY())\\n    .on(\\'tick\\', ticked)\\n\\n  drag = d3.drag()\\n    .on(\"start\", function(e, d){\\n      svg.style(\\'cursor\\',\\'grabbing\\');\\n      if (!e.active) {\\n        simulation.alphaTarget(0.3).restart()\\n      }\\n      d.fx = d.x\\n      d.fy = d.y\\n      dragging = true;\\n    })\\n    .on(\\'drag\\', function(e, d){\\n      d.fx = e.x\\n      d.fy = e.y\\n    })\\n    .on(\\'end\\', function(e, d){\\n      if (!e.active) {\\n        simulation.alphaTarget(0)\\n      }\\n      dragging = false;\\n    });\\n\\n  resize();\\n  d3.select(window).on(\"resize\", resize);\\n\\n  d3.select(window).on(\"mouseup.focus\", function(e){\\n    if (focus_node == null) {\\n      set_cursor(\\'move\\');\\n    } else {\\n      set_cursor(\\'pointer\\');\\n    }\\n  });\\n}\\n\\nfunction set_histogram(selection, data){\\n  selection.selectAll(\\'.bin\\')\\n    .data(data)\\n    .join(\\n      enter => enter.append(\\'div\\')\\n        .attr(\\'class\\', \\'bin\\')\\n        .call(enter => enter.append(\\'div\\')\\n          .text(d => d.perc + \\'%\\'))\\n      ,\\n      update => update\\n        .call(update => update.select(\\'div\\')\\n          .text(d => d.perc + \\'%\\'))\\n    )\\n    .style(\\'height\\', (d) => (d.height || 1) + \\'px\\')\\n    .style(\\'background\\', (d) => d.color);\\n}\\n\\n\\n\\nvar color_function_index = 0;\\nvar node_color_function_index = 0;\\n\\nfunction reset_color_functions(){\\n  color_function_index = 0;\\n  node_color_function_index = 0;\\n  update_color_functions()\\n}\\n\\nfunction update_color_functions(){\\n  // update_meta_content_histogram\\n  set_histogram(d3.select(\\'#meta_content .histogram\\'), summary_histogram[node_color_function_index][color_function_index])\\n\\n  // update node colors\\n  node.style(tocolor, function(d) {\\n    return color(d.color[node_color_function_index][color_function_index]);\\n  })\\n\\n  // update focus node display, if focus_node\\n  if (focus_node != null){\\n    set_focus_node_histogram(focus_node)\\n  }\\n}\\n\\nfunction update_meta_content_histogram(){\\n\\n}\\n\\nfunction draw_circle_size(d) {\\n  return (d3.symbol()\\n    .size(function(d) {\\n      if (!d.size_modifier) {\\n          d.size_modifier = 1;\\n      }\\n      return d.size * 50 * d.size_modifier;\\n    })\\n    .type(d3.symbolCircle))(d)\\n}\\n\\nfunction start() {\\n\\n  /*\\n  * Force-related things\\n  *\\n  */\\n  // shallow copy to enable restarting,\\n  // because otherwise, starting the force simulation mutates the links (replaces indeces with refs)\\n  nodes = graph.nodes.map(n => Object.assign({}, n));\\n  links = graph.links.map(l => Object.assign({}, l));\\n\\n  // draw links first so that they appear behind nodes\\n  link = link\\n    .data(links)\\n    .join(\"line\")\\n      .attr(\"class\", \"link\")\\n      .style(\"stroke-width\", function(d) { return d.w * nominal_stroke; })\\n      .style(\"stroke-width\", function(d) { return d.w * nominal_stroke; });\\n\\n  node = node\\n    .data(nodes, d => d.name)\\n    .join(enter => enter.append(\"g\")\\n      .attr(\"class\", \"node\")\\n      .attr(\"id\", function(d){ return \"node-\" + d.name })\\n      // append circles...\\n      .append(\"path\")\\n        .attr(\"d\", draw_circle_size )\\n        .attr(\"class\", \"circle\")\\n        .on(\"mouseover.focus\", node_mouseover)\\n        .on(\"mouseout.focus\", node_mouseout)\\n        .on(\\'mousedown.focus\\', node_mousedown)\\n        .on(\"dblclick.freeze\", (e, d) => unfreeze_node(d) )\\n        .on(\\'click.zoom\\', node_click)\\n        .on(\\'center_viewport\\', center_on_node)\\n        .call(drag));\\n\\n  simulation.nodes(nodes);\\n  simulation.force(\\'link\\').links(links);\\n  simulation.alpha(1).restart()\\n\\n  reset_color_functions()\\n}\\n\\ninit();\\nstart();\\n\\nfunction restart() {\\n  // nodes = []\\n  // links = []\\n  // node.remove()\\n  // link.remove()\\n  focus_via_click = false;\\n  start()\\n}\\n\\nfunction zoomed({transform}){\\n  g.attr(\\'transform\\', transform)\\n}\\n\\nfunction ticked() {\\n  node.attr(\"transform\", function(d) { return \"translate(\" + d.x + \",\" + d.y + \")\"; })\\n      .attr(\"cx\", function(d) { return d.x; })\\n      .attr(\"cy\", function(d) { return d.y; })\\n\\n  link.attr(\"x1\", function(d) { return d.source.x; })\\n      .attr(\"y1\", function(d) { return d.source.y; })\\n      .attr(\"x2\", function(d) { return d.target.x; })\\n      .attr(\"y2\", function(d) { return d.target.y; });\\n}\\n\\n/*\\n* Resizing window and redraws\\n*/\\nfunction resize() {\\n  var width = document.getElementById(\"canvas\").offsetWidth;\\n  var height = document.getElementById(\"canvas\").offsetHeight;\\n\\n  svg.attr(\"width\", width)\\n     .attr(\"height\", height);\\n\\n  simulation.force(\\'center\\', d3.forceCenter(width / 2, height / 2));\\n  simulation.alpha(.3).restart();\\n\\n  w = width;\\n  h = height;\\n}\\n\\nfunction set_focus_via_click(d) {\\n  focus_via_click = (d != null ? true : false);\\n  set_focus_node(d);\\n}\\n\\nfunction do_above_below_stats(wrapper, data) {\\n  let column_order = [\\'feature\\', \\'mean\\', \\'std\\'];\\n  wrapper.select(\\'tbody\\')\\n    .selectAll(\\'tr\\')\\n    .data(data, d => d)\\n    .join(enter => {\\n        let tr = enter.append(\\'tr\\')\\n        tr.append(\\'td\\')\\n        tr.append(\\'td\\').style(\\'font-size\\', \\'smaller\\')\\n        tr.append(\\'td\\').style(\\'font-size\\', \\'smaller\\').attr(\\'class\\', \\'std\\')\\n        return tr\\n        })\\n    .selectAll(\\'td\\')\\n    .text( (d, i) => d[column_order[i]] )\\n  if (data.length > 0) {\\n    wrapper.style(\\'display\\', \\'block\\')\\n  } else {\\n    wrapper.style(\\'display\\', \\'none\\')\\n  }\\n}\\n\\nfunction do_projection_stats(wrapper, data) {\\n  let column_order = [\\'name\\', \\'mean\\', \\'min\\', \\'max\\'];\\n  wrapper.select(\\'tbody\\').selectAll(\\'tr\\')\\n    .data(data, d => d)\\n    .join(enter => {\\n      let tr = enter.append(\\'tr\\')\\n      tr.append(\\'td\\')\\n      tr.append(\\'td\\').style(\\'font-size\\', \\'smaller\\')\\n      tr.append(\\'td\\').style(\\'font-size\\', \\'smaller\\')\\n      tr.append(\\'td\\').style(\\'font-size\\', \\'smaller\\')\\n      return tr;\\n    })\\n    .selectAll(\\'td\\')\\n    .text( (d, i) => d[column_order[i]] );\\n  if (data.length > 0) {\\n    wrapper.style(\\'display\\', \\'block\\')\\n  } else {\\n    wrapper.style(\\'display\\', \\'none\\')\\n  }\\n}\\n\\nlet focus_node_tooltip_select = d3.select(\\'#tooltip_content_focus_node\\');\\nlet tooltip_content_no_focus_node = d3.select(\\'#tooltip_content_no_focus_node\\')\\nlet projection_stats_select = focus_node_tooltip_select.select(\\'.projection_stats\\');\\nlet cluster_stats_select = focus_node_tooltip_select.select(\\'.cluster_stats\\');\\nlet above_wrapper = cluster_stats_select.select(\\'.above-wrapper\\');\\nlet below_wrapper = cluster_stats_select.select(\\'.below-wrapper\\');\\nlet list_of_members = focus_node_tooltip_select.select(\\'.membership-information .list-of-members\\');\\n\\nfunction set_focus_node(d){\\n  if (d == null) {\\n    focus_node = null;\\n    set_cursor(\\'move\\');\\n    tooltip_content_no_focus_node.style(\\'display\\', \\'block\\');\\n    focus_node_tooltip_select.style(\\'display\\', \\'none\\')\\n    exit_highlight();\\n  } else if (focus_node == null || d.name != focus_node.name) {\\n    exit_highlight(focus_node);\\n    focus_node = d;\\n    set_highlight(focus_node);\\n    set_cursor(\\'pointer\\');\\n\\n    tooltip_content_no_focus_node.style(\\'display\\', \\'none\\');\\n\\n    focus_node_tooltip_select.select(\\'button.center-on-node\\').node().dataset.nodeId = d.tooltip.node_id;\\n    focus_node_tooltip_select.select(\\'.node_id\\').text(d.tooltip.node_id)\\n    focus_node_tooltip_select.select(\\'.distribution_label\\').text(d.tooltip.dist_label)\\n\\n    // histogram\\n    set_focus_node_histogram(d)\\n\\n    // projection statistics\\n    let projection_stats = d.tooltip.projection_stats;\\n    do_projection_stats(projection_stats_select, projection_stats)\\n\\n    // cluster statistics\\n    let cluster_stats = d.tooltip.cluster_stats;\\n    if (cluster_stats) {\\n\\n      do_above_below_stats(above_wrapper, cluster_stats.above);\\n\\n      do_above_below_stats(below_wrapper, cluster_stats.below);\\n\\n      cluster_stats_select.select(\\'.cluster-size\\').text(cluster_stats.size)\\n\\n      cluster_stats_select.style(\\'display\\', \\'block\\')\\n    } else {\\n      cluster_stats_select.style(\\'display\\', \\'none\\')\\n    }\\n\\n    // membership information\\n    list_of_members.selectAll(\\'span\\')\\n      .data(d.tooltip.custom_tooltips, d => d)\\n      .join(\\'span\\')\\n        .html(d => d)\\n        .style(\\'display\\', \\'inline-block\\')\\n        .style(\\'padding\\', \\'0 3px\\')\\n\\n    focus_node_tooltip_select.style(\\'display\\', \\'block\\');\\n\\n    set_focus_node_histogram(d)\\n  }\\n  // else, it\\'s already the focus node, so do nothing...\\n}\\n\\nd3.select(\\'#tooltip .center-on-node\\').on(\\'click\\', function(e){\\n  // d3.select(\\'#node-\\' + focus_node.name + \\' .circle\\').dispatch(\\'center_viewport\\')\\n  d3.select(\\'#node-\\' + e.target.dataset.nodeId + \\' .circle\\').dispatch(\\'center_viewport\\')\\n})\\n\\nfunction set_focus_node_histogram(d){\\n  set_histogram(d3.select(\\'#tooltip_content .histogram\\'), d.tooltip.histogram[color_function_index])\\n}\\n\\nfunction set_highlight(node) {\\n  let node_id = node.name;\\n  d3.select(\\'#node-\\' + node_id + \\' .circle\\').classed(\\'highlight\\', true);\\n  d3.select(\\'#node-\\' + node_id).classed(\\'highlight\\', true);\\n}\\n\\nfunction exit_highlight(node) {\\n  let node_id = false;\\n  if (node) {\\n    node_id = node.name\\n  }\\n  if (!node_id) {\\n     d3.selectAll(\\'.node .circle\\').classed(\\'highlight\\', false);\\n     d3.selectAll(\\'.node\\').classed(\\'highlight\\', false);\\n  } else {\\n     d3.select(\\'#node-\\' + node_id + \\' .circle\\').classed(\\'highlight\\', false);\\n     d3.select(\\'#node-\\' + node_id).classed(\\'highlight\\', false);\\n  }\\n\\n  do_projection_stats(projection_stats_select, [])\\n  do_above_below_stats(above_wrapper, [])\\n  do_above_below_stats(below_wrapper, [])\\n}\\n\\nfunction set_cursor(state) {\\n  if (!dragging) {\\n    svg.style(\\'cursor\\', state);\\n  }\\n}\\n\\nfunction node_is_fixed(d){\\n  return d.hasOwnProperty(\\'fx\\') || d.hasOwnProperty(\\'fy\\')\\n}\\n\\nfunction node_click(e, d) {\\n  e.stopPropagation()\\n  // to prevent the svg click.focus listener from unsetting the focus node...\\n}\\n\\nfunction center_on_node(e, d) {\\n  svg.transition().duration(250).call(zoom.translateTo, d.x, d.y);\\n}\\n\\nfunction node_mouseover(e, d) {\\n  d.was_fixed = d.hasOwnProperty(\\'fx\\') || d.hasOwnProperty(\\'fy\\')\\n  if (!d.was_fixed){\\n    d.fx = d.x;\\n    d.fy = d.y;\\n  }\\n\\n  if (e.buttons == 0){\\n    set_cursor(\\'pointer\\');\\n    if (!focus_via_click) {\\n      set_focus_node(d);\\n    }\\n  }\\n}\\n\\nfunction node_mouseout(e, d) {\\n  if (!d.was_fixed){\\n      delete d.fx\\n      delete d.fy\\n  }\\n  if (e.buttons == 0){\\n    set_cursor(\\'move\\');\\n    if (!focus_via_click) {\\n        set_focus_node(null);\\n    }\\n  }\\n}\\n\\nfunction node_mousedown(e, d) {\\n  e.stopPropagation();\\n  if (focus_node.name != d.name) {\\n      //switch click focus\\n      set_focus_via_click(d);\\n  } else if (!focus_via_click) {\\n      //d already selected but not via click; set click true\\n      focus_via_click = true;\\n  }\\n}\\n\\n\\n\\nfunction isNumber(n) {\\n  return !isNaN(parseFloat(n)) && isFinite(n);\\n}\\n\\nfunction unfreeze_node(d){\\n  delete d.fy\\n  delete d.fx\\n  return d\\n}\\n\\nfunction freeze_node(d){\\n  d.fx = d.x;\\n  d.fy = d.y;\\n  return d\\n}\\n\\n// search functionality\\nd3.select(\\'#searchbar\\')\\n  .on(\\'submit\\', function(event){\\n      /*\\n      * Searchbar functionality\\n      *\\n      * Permits AND, OR, and EXACT functionality\\n      *\\n      */\\n      event.preventDefault();\\n      // always running this will clear search results on a submit with an empty query\\n      node.datum(d => { d.size_modifier = 1; return d });\\n      node.style(\\'filter\\', null)\\n\\n      node.datum(d => {\\n        let to_lower = tooltip => String(tooltip).toLowerCase();\\n        d.tooltip.custom_tooltips_lowercase = d.tooltip.custom_tooltips.map(to_lower)\\n        return d\\n      });\\n\\n      let search_query = d3.select(this).select(\\'input\\').property(\\'value\\').toLowerCase();\\n      if (search_query) {\\n          let search_mode = d3.select(this).select(\\'input[name=\"search_mode\"]:checked\\').property(\\'value\\');\\n\\n          let node_ratio_fn = (d, i) => {\\n            matches = d.tooltip.custom_tooltips_lowercase.map(map_fn)\\n            let how_many = matches.filter(x=>x).length;\\n\\n            // Future optional feature -- size relative to ratio _within-node_\\n            let out_of = d.tooltip.cluster_stats.size;\\n            let ratio = how_many / out_of;\\n\\n            // Node sizes will be overall number of items in the node\\n            // number of matching\\n            d.size_modifier = how_many;\\n          }\\n\\n          let map_fn;\\n          let node_each_fn;\\n          switch (search_mode) {\\n            case \\'and\\':\\n              search_query = search_query.split(\\' \\');\\n              map_fn = tooltip => {\\n                return search_query.every(query_word => { return tooltip.includes( query_word ) })\\n              }\\n              node.each(node_ratio_fn)\\n              break;\\n            case \\'or\\':\\n              search_query = search_query.split(\\' \\');\\n              map_fn = tooltip => {\\n                return search_query.some(query_word => { return tooltip.includes( query_word ) })\\n              }\\n              node.each(node_ratio_fn)\\n              break;\\n            case \\'exact\\':\\n              node.filter((d,i) => {\\n                  matches = d.tooltip.custom_tooltips_lowercase.map(tooltip => tooltip == search_query)\\n                  return matches.some(e => e);\\n              })\\n              .style(\"filter\", \"url(#drop-shadow-glow)\");\\n              break;\\n            default:\\n              console.error(`search mode ${search_mode} unknown`);\\n              return;\\n          }\\n\\n      }\\n      node.attr(\"d\", draw_circle_size )\\n\\n  })\\n\\n// Key press events\\nlet searchbar = d3.select(\\'#searchbar input\\');\\n\\nd3.select(window).on(\"keydown\", function (event) {\\n  if (event.defaultPrevented) {\\n    return; // Do nothing if the event was already processed\\n  }\\n\\n  if (searchbar.size() && searchbar.node().matches(\\':focus\\')){\\n      return; // let them use the search bar.\\n  }\\n\\n  if (!event.ctrlKey && !event.altKey && !event.metaKey) {\\n    switch (event.key) {\\n      case \"f\": // freeze all\\n        node.datum(freeze_node);\\n        break;\\n      case \"x\": // unfreeze all\\n        node.datum(unfreeze_node);\\n        simulation.alphaTarget(.3).restart()\\n        break\\n      case \"s\":\\n        // Glow\\n        node.style(\"filter\", \"url(#drop-shadow-glow)\");\\n        break;\\n      case \"c\":\\n        // Remove glow\\n        node.style(\"filter\", null);\\n        break;\\n      case \"p\":\\n        // Turn to print mode, white backgrounds\\n        d3.select(\"body\").attr(\\'id\\', null).attr(\\'id\\', \"print\")\\n        break;\\n      case \"d\":\\n        // \"Display\" mode (dark background)\\n        d3.select(\"body\").attr(\\'id\\', null).attr(\\'id\\', \"display\")\\n        break;\\n      case \"z\":\\n        // turn off gravity (??)\\n        simulation\\n          .force(\\'charge\\', d3.forceManyBody().strength(0))\\n          .alphaTarget(.3)\\n          .restart()\\n        break\\n      case \"m\":\\n        // spacious layout\\n        simulation\\n          .force(\\'charge\\', d3.forceManyBody().strength(-1200))\\n          .alphaTarget(.3)\\n          .restart()\\n        break\\n      case \"e\":\\n        // tight layout\\n        simulation\\n          .force(\\'charge\\', d3.forceManyBody().strength(-60))\\n          .alphaTarget(.3)\\n          .restart()\\n        break\\n      default:\\n        return; // Quit when this doesn\\'t handle the key event.\\n    }\\n  event.preventDefault();\\n  }\\n  // Cancel the default action to avoid it being handled twice\\n}, true);\\n\\n\\n\\n/*\\n* Save and load config\\n*\\n*/\\n\\n// save config\\ndocument.getElementById(\\'download-config\\').addEventListener(\\'click\\', function(e){\\n  let config = {}\\n  node.data().forEach(node => {\\n      let config_node = {}\\n\\n      if ( node.hasOwnProperty(\\'fx\\') && node.hasOwnProperty(\\'fy\\') ) {\\n        config_node[\\'fx\\'] = config_node[\\'x\\'] = node[\\'fx\\']\\n        config_node[\\'fy\\'] = config_node[\\'y\\'] = node[\\'fy\\']\\n      } else {\\n        config_node[\\'x\\'] = node[\\'x\\']\\n        config_node[\\'y\\'] = node[\\'y\\']\\n      }\\n      config[node[\\'name\\']] = config_node\\n    })\\n\\n  //JSON.stringify(config,undefined,2)\\n\\n  // https://stackoverflow.com/a/45594892\\n  var fileName = \\'kmapper-config.json\\';\\n\\n  // Create a blob of the data. Blob is native JS api\\n  var fileToSave = new Blob([JSON.stringify(config)], {\\n      type: \\'application/json\\',\\n      name: fileName\\n  });\\n\\n  // function from FileSaver.js\\n  saveAs(fileToSave, fileName);\\n})\\n\\n// load config\\nvar config_file_loader = document.getElementById(\\'config-file-loader\\');\\n\\nconfig_file_loader.addEventListener(\\'change\\', function(){\\n  document.getElementById(\\'load-config\\').disabled = ( config_file_loader.files.length === 0 )\\n})\\n\\ndocument.getElementById(\\'load-config\\').addEventListener(\\'click\\', function(){\\n  const config_file = config_file_loader.files[0];\\n  const fr = new FileReader();\\n  fr.onload = function(e) {\\n    var config = JSON.parse(e.target.result);\\n    load_config(config);\\n  }\\n  fr.readAsText(config_file)\\n})\\nfunction load_config(config){\\n  node = node.datum(function(d, i){\\n    let load_node_config = config[d[\\'name\\']]\\n    d = Object.assign(d, load_node_config);\\n    if ( d.hasOwnProperty(\\'fx\\') && !load_node_config.hasOwnProperty(\\'fx\\') ) {\\n      delete d[\\'fx\\']\\n    }\\n    if ( d.hasOwnProperty(\\'fy\\') && !load_node_config.hasOwnProperty(\\'fy\\') ) {\\n      delete d[\\'fy\\']\\n    }\\n    return d;\\n  })\\n  simulation.restart()\\n}\\n</script>\\n</body>\\n\\n</html>'"
            ]
          },
          "metadata": {
            "tags": []
          },
          "execution_count": 65
        }
      ]
    },
    {
      "cell_type": "code",
      "metadata": {
        "colab": {
          "base_uri": "https://localhost:8080/"
        },
        "id": "UGU-o_suiApG",
        "outputId": "69846623-5c7a-47d5-9e0c-4682ff56ddf7"
      },
      "source": [
        "!pip install Mapper"
      ],
      "execution_count": 3,
      "outputs": [
        {
          "output_type": "stream",
          "text": [
            "Requirement already satisfied: Mapper in /usr/local/lib/python3.7/dist-packages (0.1.17)\n"
          ],
          "name": "stdout"
        }
      ]
    },
    {
      "cell_type": "code",
      "metadata": {
        "colab": {
          "base_uri": "https://localhost:8080/",
          "height": 1000
        },
        "id": "2m1KY-QCi0s2",
        "outputId": "20126ef9-1014-4ecb-eb6a-6b780b6759f6"
      },
      "source": [
        "!pip install giotto-tda"
      ],
      "execution_count": 25,
      "outputs": [
        {
          "output_type": "stream",
          "text": [
            "Collecting giotto-tda\n",
            "\u001b[?25l  Downloading https://files.pythonhosted.org/packages/c3/ec/764e7fbd5ac8cdb2110d4a108c8acc6e2094eef43db0f9f8cc88d5323d72/giotto_tda-0.4.0-cp37-cp37m-manylinux2010_x86_64.whl (1.5MB)\n",
            "\u001b[K     |████████████████████████████████| 1.5MB 5.2MB/s \n",
            "\u001b[?25hRequirement already satisfied: ipywidgets>=7.5.1 in /usr/local/lib/python3.7/dist-packages (from giotto-tda) (7.6.3)\n",
            "Collecting scipy>=1.5.0\n",
            "\u001b[?25l  Downloading https://files.pythonhosted.org/packages/b2/85/b00f13b52d079b5625e1a12330fc6453c947a482ff667a907c7bc60ed220/scipy-1.7.0-cp37-cp37m-manylinux_2_5_x86_64.manylinux1_x86_64.whl (28.5MB)\n",
            "\u001b[K     |████████████████████████████████| 28.5MB 119kB/s \n",
            "\u001b[?25hCollecting python-igraph>=0.8.2\n",
            "\u001b[?25l  Downloading https://files.pythonhosted.org/packages/67/aa/2c1056725193acda9608f8a9e036aa7bfbc705f881764457cf463648f4a5/python_igraph-0.9.6-cp37-cp37m-manylinux2010_x86_64.whl (3.2MB)\n",
            "\u001b[K     |████████████████████████████████| 3.2MB 37.9MB/s \n",
            "\u001b[?25hRequirement already satisfied: joblib>=0.16.0 in /usr/local/lib/python3.7/dist-packages (from giotto-tda) (1.0.1)\n",
            "Requirement already satisfied: plotly>=4.8.2 in /usr/local/lib/python3.7/dist-packages (from giotto-tda) (5.0.0)\n",
            "Requirement already satisfied: numpy>=1.19.1 in /usr/local/lib/python3.7/dist-packages (from giotto-tda) (1.19.5)\n",
            "Collecting scikit-learn>=0.23.1\n",
            "\u001b[?25l  Downloading https://files.pythonhosted.org/packages/a8/eb/a48f25c967526b66d5f1fa7a984594f0bf0a5afafa94a8c4dbc317744620/scikit_learn-0.24.2-cp37-cp37m-manylinux2010_x86_64.whl (22.3MB)\n",
            "\u001b[K     |████████████████████████████████| 22.3MB 1.7MB/s \n",
            "\u001b[?25hCollecting pyflagser>=0.4.3\n",
            "\u001b[?25l  Downloading https://files.pythonhosted.org/packages/63/42/b602369733d9ed5722ca5273abc457c85ac666127220c0f3af3b7a12badf/pyflagser-0.4.4-cp37-cp37m-manylinux2010_x86_64.whl (404kB)\n",
            "\u001b[K     |████████████████████████████████| 409kB 38.2MB/s \n",
            "\u001b[?25hRequirement already satisfied: ipykernel>=4.5.1 in /usr/local/lib/python3.7/dist-packages (from ipywidgets>=7.5.1->giotto-tda) (4.10.1)\n",
            "Requirement already satisfied: nbformat>=4.2.0 in /usr/local/lib/python3.7/dist-packages (from ipywidgets>=7.5.1->giotto-tda) (5.1.3)\n",
            "Requirement already satisfied: jupyterlab-widgets>=1.0.0; python_version >= \"3.6\" in /usr/local/lib/python3.7/dist-packages (from ipywidgets>=7.5.1->giotto-tda) (1.0.0)\n",
            "Requirement already satisfied: traitlets>=4.3.1 in /usr/local/lib/python3.7/dist-packages (from ipywidgets>=7.5.1->giotto-tda) (5.0.5)\n",
            "Requirement already satisfied: ipython>=4.0.0; python_version >= \"3.3\" in /usr/local/lib/python3.7/dist-packages (from ipywidgets>=7.5.1->giotto-tda) (5.5.0)\n",
            "Requirement already satisfied: widgetsnbextension~=3.5.0 in /usr/local/lib/python3.7/dist-packages (from ipywidgets>=7.5.1->giotto-tda) (3.5.1)\n",
            "Collecting texttable>=1.6.2\n",
            "  Downloading https://files.pythonhosted.org/packages/06/f5/46201c428aebe0eecfa83df66bf3e6caa29659dbac5a56ddfd83cae0d4a4/texttable-1.6.3-py2.py3-none-any.whl\n",
            "Requirement already satisfied: tenacity>=6.2.0 in /usr/local/lib/python3.7/dist-packages (from plotly>=4.8.2->giotto-tda) (7.0.0)\n",
            "Requirement already satisfied: six in /usr/local/lib/python3.7/dist-packages (from plotly>=4.8.2->giotto-tda) (1.15.0)\n",
            "Collecting threadpoolctl>=2.0.0\n",
            "  Downloading https://files.pythonhosted.org/packages/f7/12/ec3f2e203afa394a149911729357aa48affc59c20e2c1c8297a60f33f133/threadpoolctl-2.1.0-py3-none-any.whl\n",
            "Requirement already satisfied: jupyter-client in /usr/local/lib/python3.7/dist-packages (from ipykernel>=4.5.1->ipywidgets>=7.5.1->giotto-tda) (5.3.5)\n",
            "Requirement already satisfied: tornado>=4.0 in /usr/local/lib/python3.7/dist-packages (from ipykernel>=4.5.1->ipywidgets>=7.5.1->giotto-tda) (5.1.1)\n",
            "Requirement already satisfied: ipython-genutils in /usr/local/lib/python3.7/dist-packages (from nbformat>=4.2.0->ipywidgets>=7.5.1->giotto-tda) (0.2.0)\n",
            "Requirement already satisfied: jsonschema!=2.5.0,>=2.4 in /usr/local/lib/python3.7/dist-packages (from nbformat>=4.2.0->ipywidgets>=7.5.1->giotto-tda) (2.6.0)\n",
            "Requirement already satisfied: jupyter-core in /usr/local/lib/python3.7/dist-packages (from nbformat>=4.2.0->ipywidgets>=7.5.1->giotto-tda) (4.7.1)\n",
            "Requirement already satisfied: pygments in /usr/local/lib/python3.7/dist-packages (from ipython>=4.0.0; python_version >= \"3.3\"->ipywidgets>=7.5.1->giotto-tda) (2.6.1)\n",
            "Requirement already satisfied: decorator in /usr/local/lib/python3.7/dist-packages (from ipython>=4.0.0; python_version >= \"3.3\"->ipywidgets>=7.5.1->giotto-tda) (4.4.2)\n",
            "Requirement already satisfied: pexpect; sys_platform != \"win32\" in /usr/local/lib/python3.7/dist-packages (from ipython>=4.0.0; python_version >= \"3.3\"->ipywidgets>=7.5.1->giotto-tda) (4.8.0)\n",
            "Requirement already satisfied: pickleshare in /usr/local/lib/python3.7/dist-packages (from ipython>=4.0.0; python_version >= \"3.3\"->ipywidgets>=7.5.1->giotto-tda) (0.7.5)\n",
            "Requirement already satisfied: simplegeneric>0.8 in /usr/local/lib/python3.7/dist-packages (from ipython>=4.0.0; python_version >= \"3.3\"->ipywidgets>=7.5.1->giotto-tda) (0.8.1)\n",
            "Requirement already satisfied: setuptools>=18.5 in /usr/local/lib/python3.7/dist-packages (from ipython>=4.0.0; python_version >= \"3.3\"->ipywidgets>=7.5.1->giotto-tda) (57.0.0)\n",
            "Requirement already satisfied: prompt-toolkit<2.0.0,>=1.0.4 in /usr/local/lib/python3.7/dist-packages (from ipython>=4.0.0; python_version >= \"3.3\"->ipywidgets>=7.5.1->giotto-tda) (1.0.18)\n",
            "Requirement already satisfied: notebook>=4.4.1 in /usr/local/lib/python3.7/dist-packages (from widgetsnbextension~=3.5.0->ipywidgets>=7.5.1->giotto-tda) (5.3.1)\n",
            "Requirement already satisfied: pyzmq>=13 in /usr/local/lib/python3.7/dist-packages (from jupyter-client->ipykernel>=4.5.1->ipywidgets>=7.5.1->giotto-tda) (22.1.0)\n",
            "Requirement already satisfied: python-dateutil>=2.1 in /usr/local/lib/python3.7/dist-packages (from jupyter-client->ipykernel>=4.5.1->ipywidgets>=7.5.1->giotto-tda) (2.8.1)\n",
            "Requirement already satisfied: ptyprocess>=0.5 in /usr/local/lib/python3.7/dist-packages (from pexpect; sys_platform != \"win32\"->ipython>=4.0.0; python_version >= \"3.3\"->ipywidgets>=7.5.1->giotto-tda) (0.7.0)\n",
            "Requirement already satisfied: wcwidth in /usr/local/lib/python3.7/dist-packages (from prompt-toolkit<2.0.0,>=1.0.4->ipython>=4.0.0; python_version >= \"3.3\"->ipywidgets>=7.5.1->giotto-tda) (0.2.5)\n",
            "Requirement already satisfied: nbconvert in /usr/local/lib/python3.7/dist-packages (from notebook>=4.4.1->widgetsnbextension~=3.5.0->ipywidgets>=7.5.1->giotto-tda) (5.6.1)\n",
            "Requirement already satisfied: Send2Trash in /usr/local/lib/python3.7/dist-packages (from notebook>=4.4.1->widgetsnbextension~=3.5.0->ipywidgets>=7.5.1->giotto-tda) (1.5.0)\n",
            "Requirement already satisfied: jinja2 in /usr/local/lib/python3.7/dist-packages (from notebook>=4.4.1->widgetsnbextension~=3.5.0->ipywidgets>=7.5.1->giotto-tda) (2.11.3)\n",
            "Requirement already satisfied: terminado>=0.8.1 in /usr/local/lib/python3.7/dist-packages (from notebook>=4.4.1->widgetsnbextension~=3.5.0->ipywidgets>=7.5.1->giotto-tda) (0.10.1)\n",
            "Requirement already satisfied: pandocfilters>=1.4.1 in /usr/local/lib/python3.7/dist-packages (from nbconvert->notebook>=4.4.1->widgetsnbextension~=3.5.0->ipywidgets>=7.5.1->giotto-tda) (1.4.3)\n",
            "Requirement already satisfied: defusedxml in /usr/local/lib/python3.7/dist-packages (from nbconvert->notebook>=4.4.1->widgetsnbextension~=3.5.0->ipywidgets>=7.5.1->giotto-tda) (0.7.1)\n",
            "Requirement already satisfied: mistune<2,>=0.8.1 in /usr/local/lib/python3.7/dist-packages (from nbconvert->notebook>=4.4.1->widgetsnbextension~=3.5.0->ipywidgets>=7.5.1->giotto-tda) (0.8.4)\n",
            "Requirement already satisfied: testpath in /usr/local/lib/python3.7/dist-packages (from nbconvert->notebook>=4.4.1->widgetsnbextension~=3.5.0->ipywidgets>=7.5.1->giotto-tda) (0.5.0)\n",
            "Requirement already satisfied: bleach in /usr/local/lib/python3.7/dist-packages (from nbconvert->notebook>=4.4.1->widgetsnbextension~=3.5.0->ipywidgets>=7.5.1->giotto-tda) (3.3.0)\n",
            "Requirement already satisfied: entrypoints>=0.2.2 in /usr/local/lib/python3.7/dist-packages (from nbconvert->notebook>=4.4.1->widgetsnbextension~=3.5.0->ipywidgets>=7.5.1->giotto-tda) (0.3)\n",
            "Requirement already satisfied: MarkupSafe>=0.23 in /usr/local/lib/python3.7/dist-packages (from jinja2->notebook>=4.4.1->widgetsnbextension~=3.5.0->ipywidgets>=7.5.1->giotto-tda) (2.0.1)\n",
            "Requirement already satisfied: webencodings in /usr/local/lib/python3.7/dist-packages (from bleach->nbconvert->notebook>=4.4.1->widgetsnbextension~=3.5.0->ipywidgets>=7.5.1->giotto-tda) (0.5.1)\n",
            "Requirement already satisfied: packaging in /usr/local/lib/python3.7/dist-packages (from bleach->nbconvert->notebook>=4.4.1->widgetsnbextension~=3.5.0->ipywidgets>=7.5.1->giotto-tda) (20.9)\n",
            "Requirement already satisfied: pyparsing>=2.0.2 in /usr/local/lib/python3.7/dist-packages (from packaging->bleach->nbconvert->notebook>=4.4.1->widgetsnbextension~=3.5.0->ipywidgets>=7.5.1->giotto-tda) (2.4.7)\n",
            "\u001b[31mERROR: cechmate 0.1.0 has requirement phat==1.5.0a0, but you'll have phat 1.5.0 which is incompatible.\u001b[0m\n",
            "\u001b[31mERROR: albumentations 0.1.12 has requirement imgaug<0.2.7,>=0.2.5, but you'll have imgaug 0.2.9 which is incompatible.\u001b[0m\n",
            "Installing collected packages: scipy, texttable, python-igraph, threadpoolctl, scikit-learn, pyflagser, giotto-tda\n",
            "  Found existing installation: scipy 1.4.1\n",
            "    Uninstalling scipy-1.4.1:\n",
            "      Successfully uninstalled scipy-1.4.1\n",
            "  Found existing installation: scikit-learn 0.22.2.post1\n",
            "    Uninstalling scikit-learn-0.22.2.post1:\n",
            "      Successfully uninstalled scikit-learn-0.22.2.post1\n",
            "Successfully installed giotto-tda-0.4.0 pyflagser-0.4.4 python-igraph-0.9.6 scikit-learn-0.24.2 scipy-1.7.0 texttable-1.6.3 threadpoolctl-2.1.0\n"
          ],
          "name": "stdout"
        },
        {
          "output_type": "display_data",
          "data": {
            "application/vnd.colab-display-data+json": {
              "pip_warning": {
                "packages": [
                  "scipy",
                  "sklearn"
                ]
              }
            }
          },
          "metadata": {
            "tags": []
          }
        }
      ]
    },
    {
      "cell_type": "code",
      "metadata": {
        "id": "qqTA5bcshS2s"
      },
      "source": [
        "# Data wrangling\n",
        "import numpy as np\n",
        "import pandas as pd  # Not a requirement of giotto-tda, but is compatible with the gtda.mapper module\n",
        "\n",
        "# Data viz\n",
        "from gtda.plotting import plot_point_cloud\n",
        "\n",
        "# TDA magic\n",
        "from gtda.mapper import (\n",
        "    CubicalCover,\n",
        "    make_mapper_pipeline,\n",
        "    Projection,\n",
        "    plot_static_mapper_graph,\n",
        "    plot_interactive_mapper_graph\n",
        ")\n",
        "\n",
        "# ML tools\n",
        "from sklearn import datasets\n",
        "from sklearn.cluster import DBSCAN\n",
        "from sklearn.decomposition import PCA\n"
      ],
      "execution_count": 11,
      "outputs": []
    },
    {
      "cell_type": "code",
      "metadata": {
        "colab": {
          "base_uri": "https://localhost:8080/",
          "height": 542
        },
        "id": "i7z5TrdFjmVq",
        "outputId": "5d058679-dd16-4b37-d302-c9325eacc8e9"
      },
      "source": [
        "plot_point_cloud(X)"
      ],
      "execution_count": 12,
      "outputs": [
        {
          "output_type": "display_data",
          "data": {
            "text/html": [
              "<html>\n",
              "<head><meta charset=\"utf-8\" /></head>\n",
              "<body>\n",
              "    <div>            <script src=\"https://cdnjs.cloudflare.com/ajax/libs/mathjax/2.7.5/MathJax.js?config=TeX-AMS-MML_SVG\"></script><script type=\"text/javascript\">if (window.MathJax) {MathJax.Hub.Config({SVG: {font: \"STIX-Web\"}});}</script>                <script type=\"text/javascript\">window.PlotlyConfig = {MathJaxConfig: 'local'};</script>\n",
              "        <script src=\"https://cdn.plot.ly/plotly-2.1.0.min.js\"></script>                <div id=\"16424cfc-0a68-40c8-a1e1-701fa97a6381\" class=\"plotly-graph-div\" style=\"height:525px; width:100%;\"></div>            <script type=\"text/javascript\">                                    window.PLOTLYENV=window.PLOTLYENV || {};                                    if (document.getElementById(\"16424cfc-0a68-40c8-a1e1-701fa97a6381\")) {                    Plotly.newPlot(                        \"16424cfc-0a68-40c8-a1e1-701fa97a6381\",                        [{\"marker\":{\"color\":[0,1,2,3,4,5,6,7,8,9,10,11,12,13,14],\"colorscale\":[[0.0,\"#440154\"],[0.1111111111111111,\"#482878\"],[0.2222222222222222,\"#3e4989\"],[0.3333333333333333,\"#31688e\"],[0.4444444444444444,\"#26828e\"],[0.5555555555555556,\"#1f9e89\"],[0.6666666666666666,\"#35b779\"],[0.7777777777777778,\"#6ece58\"],[0.8888888888888888,\"#b5de2b\"],[1.0,\"#fde725\"]],\"opacity\":0.8,\"size\":4},\"mode\":\"markers\",\"type\":\"scatter3d\",\"x\":[0,1,1,1,1,0,0,0,1,0,0,1,0,0,0],\"y\":[1,0,0,1,1,1,0,0,1,0,1,1,0,0,1],\"z\":[1,0,1,1,1,1,0,1,0,0,0,0,1,0,0]}],                        {\"scene\":{\"xaxis\":{\"exponentformat\":\"e\",\"showexponent\":\"all\",\"title\":{\"text\":\"0th\"},\"type\":\"linear\"},\"yaxis\":{\"exponentformat\":\"e\",\"showexponent\":\"all\",\"title\":{\"text\":\"1st\"},\"type\":\"linear\"},\"zaxis\":{\"exponentformat\":\"e\",\"showexponent\":\"all\",\"title\":{\"text\":\"2nd\"},\"type\":\"linear\"}},\"template\":{\"data\":{\"bar\":[{\"error_x\":{\"color\":\"#2a3f5f\"},\"error_y\":{\"color\":\"#2a3f5f\"},\"marker\":{\"line\":{\"color\":\"#E5ECF6\",\"width\":0.5},\"pattern\":{\"fillmode\":\"overlay\",\"size\":10,\"solidity\":0.2}},\"type\":\"bar\"}],\"barpolar\":[{\"marker\":{\"line\":{\"color\":\"#E5ECF6\",\"width\":0.5},\"pattern\":{\"fillmode\":\"overlay\",\"size\":10,\"solidity\":0.2}},\"type\":\"barpolar\"}],\"carpet\":[{\"aaxis\":{\"endlinecolor\":\"#2a3f5f\",\"gridcolor\":\"white\",\"linecolor\":\"white\",\"minorgridcolor\":\"white\",\"startlinecolor\":\"#2a3f5f\"},\"baxis\":{\"endlinecolor\":\"#2a3f5f\",\"gridcolor\":\"white\",\"linecolor\":\"white\",\"minorgridcolor\":\"white\",\"startlinecolor\":\"#2a3f5f\"},\"type\":\"carpet\"}],\"choropleth\":[{\"colorbar\":{\"outlinewidth\":0,\"ticks\":\"\"},\"type\":\"choropleth\"}],\"contour\":[{\"colorbar\":{\"outlinewidth\":0,\"ticks\":\"\"},\"colorscale\":[[0.0,\"#0d0887\"],[0.1111111111111111,\"#46039f\"],[0.2222222222222222,\"#7201a8\"],[0.3333333333333333,\"#9c179e\"],[0.4444444444444444,\"#bd3786\"],[0.5555555555555556,\"#d8576b\"],[0.6666666666666666,\"#ed7953\"],[0.7777777777777778,\"#fb9f3a\"],[0.8888888888888888,\"#fdca26\"],[1.0,\"#f0f921\"]],\"type\":\"contour\"}],\"contourcarpet\":[{\"colorbar\":{\"outlinewidth\":0,\"ticks\":\"\"},\"type\":\"contourcarpet\"}],\"heatmap\":[{\"colorbar\":{\"outlinewidth\":0,\"ticks\":\"\"},\"colorscale\":[[0.0,\"#0d0887\"],[0.1111111111111111,\"#46039f\"],[0.2222222222222222,\"#7201a8\"],[0.3333333333333333,\"#9c179e\"],[0.4444444444444444,\"#bd3786\"],[0.5555555555555556,\"#d8576b\"],[0.6666666666666666,\"#ed7953\"],[0.7777777777777778,\"#fb9f3a\"],[0.8888888888888888,\"#fdca26\"],[1.0,\"#f0f921\"]],\"type\":\"heatmap\"}],\"heatmapgl\":[{\"colorbar\":{\"outlinewidth\":0,\"ticks\":\"\"},\"colorscale\":[[0.0,\"#0d0887\"],[0.1111111111111111,\"#46039f\"],[0.2222222222222222,\"#7201a8\"],[0.3333333333333333,\"#9c179e\"],[0.4444444444444444,\"#bd3786\"],[0.5555555555555556,\"#d8576b\"],[0.6666666666666666,\"#ed7953\"],[0.7777777777777778,\"#fb9f3a\"],[0.8888888888888888,\"#fdca26\"],[1.0,\"#f0f921\"]],\"type\":\"heatmapgl\"}],\"histogram\":[{\"marker\":{\"pattern\":{\"fillmode\":\"overlay\",\"size\":10,\"solidity\":0.2}},\"type\":\"histogram\"}],\"histogram2d\":[{\"colorbar\":{\"outlinewidth\":0,\"ticks\":\"\"},\"colorscale\":[[0.0,\"#0d0887\"],[0.1111111111111111,\"#46039f\"],[0.2222222222222222,\"#7201a8\"],[0.3333333333333333,\"#9c179e\"],[0.4444444444444444,\"#bd3786\"],[0.5555555555555556,\"#d8576b\"],[0.6666666666666666,\"#ed7953\"],[0.7777777777777778,\"#fb9f3a\"],[0.8888888888888888,\"#fdca26\"],[1.0,\"#f0f921\"]],\"type\":\"histogram2d\"}],\"histogram2dcontour\":[{\"colorbar\":{\"outlinewidth\":0,\"ticks\":\"\"},\"colorscale\":[[0.0,\"#0d0887\"],[0.1111111111111111,\"#46039f\"],[0.2222222222222222,\"#7201a8\"],[0.3333333333333333,\"#9c179e\"],[0.4444444444444444,\"#bd3786\"],[0.5555555555555556,\"#d8576b\"],[0.6666666666666666,\"#ed7953\"],[0.7777777777777778,\"#fb9f3a\"],[0.8888888888888888,\"#fdca26\"],[1.0,\"#f0f921\"]],\"type\":\"histogram2dcontour\"}],\"mesh3d\":[{\"colorbar\":{\"outlinewidth\":0,\"ticks\":\"\"},\"type\":\"mesh3d\"}],\"parcoords\":[{\"line\":{\"colorbar\":{\"outlinewidth\":0,\"ticks\":\"\"}},\"type\":\"parcoords\"}],\"pie\":[{\"automargin\":true,\"type\":\"pie\"}],\"scatter\":[{\"marker\":{\"colorbar\":{\"outlinewidth\":0,\"ticks\":\"\"}},\"type\":\"scatter\"}],\"scatter3d\":[{\"line\":{\"colorbar\":{\"outlinewidth\":0,\"ticks\":\"\"}},\"marker\":{\"colorbar\":{\"outlinewidth\":0,\"ticks\":\"\"}},\"type\":\"scatter3d\"}],\"scattercarpet\":[{\"marker\":{\"colorbar\":{\"outlinewidth\":0,\"ticks\":\"\"}},\"type\":\"scattercarpet\"}],\"scattergeo\":[{\"marker\":{\"colorbar\":{\"outlinewidth\":0,\"ticks\":\"\"}},\"type\":\"scattergeo\"}],\"scattergl\":[{\"marker\":{\"colorbar\":{\"outlinewidth\":0,\"ticks\":\"\"}},\"type\":\"scattergl\"}],\"scattermapbox\":[{\"marker\":{\"colorbar\":{\"outlinewidth\":0,\"ticks\":\"\"}},\"type\":\"scattermapbox\"}],\"scatterpolar\":[{\"marker\":{\"colorbar\":{\"outlinewidth\":0,\"ticks\":\"\"}},\"type\":\"scatterpolar\"}],\"scatterpolargl\":[{\"marker\":{\"colorbar\":{\"outlinewidth\":0,\"ticks\":\"\"}},\"type\":\"scatterpolargl\"}],\"scatterternary\":[{\"marker\":{\"colorbar\":{\"outlinewidth\":0,\"ticks\":\"\"}},\"type\":\"scatterternary\"}],\"surface\":[{\"colorbar\":{\"outlinewidth\":0,\"ticks\":\"\"},\"colorscale\":[[0.0,\"#0d0887\"],[0.1111111111111111,\"#46039f\"],[0.2222222222222222,\"#7201a8\"],[0.3333333333333333,\"#9c179e\"],[0.4444444444444444,\"#bd3786\"],[0.5555555555555556,\"#d8576b\"],[0.6666666666666666,\"#ed7953\"],[0.7777777777777778,\"#fb9f3a\"],[0.8888888888888888,\"#fdca26\"],[1.0,\"#f0f921\"]],\"type\":\"surface\"}],\"table\":[{\"cells\":{\"fill\":{\"color\":\"#EBF0F8\"},\"line\":{\"color\":\"white\"}},\"header\":{\"fill\":{\"color\":\"#C8D4E3\"},\"line\":{\"color\":\"white\"}},\"type\":\"table\"}]},\"layout\":{\"annotationdefaults\":{\"arrowcolor\":\"#2a3f5f\",\"arrowhead\":0,\"arrowwidth\":1},\"autotypenumbers\":\"strict\",\"coloraxis\":{\"colorbar\":{\"outlinewidth\":0,\"ticks\":\"\"}},\"colorscale\":{\"diverging\":[[0,\"#8e0152\"],[0.1,\"#c51b7d\"],[0.2,\"#de77ae\"],[0.3,\"#f1b6da\"],[0.4,\"#fde0ef\"],[0.5,\"#f7f7f7\"],[0.6,\"#e6f5d0\"],[0.7,\"#b8e186\"],[0.8,\"#7fbc41\"],[0.9,\"#4d9221\"],[1,\"#276419\"]],\"sequential\":[[0.0,\"#0d0887\"],[0.1111111111111111,\"#46039f\"],[0.2222222222222222,\"#7201a8\"],[0.3333333333333333,\"#9c179e\"],[0.4444444444444444,\"#bd3786\"],[0.5555555555555556,\"#d8576b\"],[0.6666666666666666,\"#ed7953\"],[0.7777777777777778,\"#fb9f3a\"],[0.8888888888888888,\"#fdca26\"],[1.0,\"#f0f921\"]],\"sequentialminus\":[[0.0,\"#0d0887\"],[0.1111111111111111,\"#46039f\"],[0.2222222222222222,\"#7201a8\"],[0.3333333333333333,\"#9c179e\"],[0.4444444444444444,\"#bd3786\"],[0.5555555555555556,\"#d8576b\"],[0.6666666666666666,\"#ed7953\"],[0.7777777777777778,\"#fb9f3a\"],[0.8888888888888888,\"#fdca26\"],[1.0,\"#f0f921\"]]},\"colorway\":[\"#636efa\",\"#EF553B\",\"#00cc96\",\"#ab63fa\",\"#FFA15A\",\"#19d3f3\",\"#FF6692\",\"#B6E880\",\"#FF97FF\",\"#FECB52\"],\"font\":{\"color\":\"#2a3f5f\"},\"geo\":{\"bgcolor\":\"white\",\"lakecolor\":\"white\",\"landcolor\":\"#E5ECF6\",\"showlakes\":true,\"showland\":true,\"subunitcolor\":\"white\"},\"hoverlabel\":{\"align\":\"left\"},\"hovermode\":\"closest\",\"mapbox\":{\"style\":\"light\"},\"paper_bgcolor\":\"white\",\"plot_bgcolor\":\"#E5ECF6\",\"polar\":{\"angularaxis\":{\"gridcolor\":\"white\",\"linecolor\":\"white\",\"ticks\":\"\"},\"bgcolor\":\"#E5ECF6\",\"radialaxis\":{\"gridcolor\":\"white\",\"linecolor\":\"white\",\"ticks\":\"\"}},\"scene\":{\"xaxis\":{\"backgroundcolor\":\"#E5ECF6\",\"gridcolor\":\"white\",\"gridwidth\":2,\"linecolor\":\"white\",\"showbackground\":true,\"ticks\":\"\",\"zerolinecolor\":\"white\"},\"yaxis\":{\"backgroundcolor\":\"#E5ECF6\",\"gridcolor\":\"white\",\"gridwidth\":2,\"linecolor\":\"white\",\"showbackground\":true,\"ticks\":\"\",\"zerolinecolor\":\"white\"},\"zaxis\":{\"backgroundcolor\":\"#E5ECF6\",\"gridcolor\":\"white\",\"gridwidth\":2,\"linecolor\":\"white\",\"showbackground\":true,\"ticks\":\"\",\"zerolinecolor\":\"white\"}},\"shapedefaults\":{\"line\":{\"color\":\"#2a3f5f\"}},\"ternary\":{\"aaxis\":{\"gridcolor\":\"white\",\"linecolor\":\"white\",\"ticks\":\"\"},\"baxis\":{\"gridcolor\":\"white\",\"linecolor\":\"white\",\"ticks\":\"\"},\"bgcolor\":\"#E5ECF6\",\"caxis\":{\"gridcolor\":\"white\",\"linecolor\":\"white\",\"ticks\":\"\"}},\"title\":{\"x\":0.05},\"xaxis\":{\"automargin\":true,\"gridcolor\":\"white\",\"linecolor\":\"white\",\"ticks\":\"\",\"title\":{\"standoff\":15},\"zerolinecolor\":\"white\",\"zerolinewidth\":2},\"yaxis\":{\"automargin\":true,\"gridcolor\":\"white\",\"linecolor\":\"white\",\"ticks\":\"\",\"title\":{\"standoff\":15},\"zerolinecolor\":\"white\",\"zerolinewidth\":2}}}},                        {\"responsive\": true}                    ).then(function(){\n",
              "                            \n",
              "var gd = document.getElementById('16424cfc-0a68-40c8-a1e1-701fa97a6381');\n",
              "var x = new MutationObserver(function (mutations, observer) {{\n",
              "        var display = window.getComputedStyle(gd).display;\n",
              "        if (!display || display === 'none') {{\n",
              "            console.log([gd, 'removed!']);\n",
              "            Plotly.purge(gd);\n",
              "            observer.disconnect();\n",
              "        }}\n",
              "}});\n",
              "\n",
              "// Listen for the removal of the full notebook cells\n",
              "var notebookContainer = gd.closest('#notebook-container');\n",
              "if (notebookContainer) {{\n",
              "    x.observe(notebookContainer, {childList: true});\n",
              "}}\n",
              "\n",
              "// Listen for the clearing of the current output cell\n",
              "var outputEl = gd.closest('.output');\n",
              "if (outputEl) {{\n",
              "    x.observe(outputEl, {childList: true});\n",
              "}}\n",
              "\n",
              "                        })                };                            </script>        </div>\n",
              "</body>\n",
              "</html>"
            ]
          },
          "metadata": {
            "tags": []
          }
        }
      ]
    },
    {
      "cell_type": "code",
      "metadata": {
        "colab": {
          "base_uri": "https://localhost:8080/"
        },
        "id": "AYm8Zfl4kJIT",
        "outputId": "e3cab545-0678-4d6c-9727-905449652423"
      },
      "source": [
        "!pip install scikit-learn"
      ],
      "execution_count": 17,
      "outputs": [
        {
          "output_type": "stream",
          "text": [
            "Requirement already satisfied: scikit-learn in /usr/local/lib/python3.7/dist-packages (0.24.2)\n",
            "Requirement already satisfied: joblib>=0.11 in /usr/local/lib/python3.7/dist-packages (from scikit-learn) (1.0.1)\n",
            "Requirement already satisfied: scipy>=0.19.1 in /usr/local/lib/python3.7/dist-packages (from scikit-learn) (1.7.0)\n",
            "Requirement already satisfied: threadpoolctl>=2.0.0 in /usr/local/lib/python3.7/dist-packages (from scikit-learn) (2.1.0)\n",
            "Requirement already satisfied: numpy>=1.13.3 in /usr/local/lib/python3.7/dist-packages (from scikit-learn) (1.19.5)\n"
          ],
          "name": "stdout"
        }
      ]
    },
    {
      "cell_type": "code",
      "metadata": {
        "colab": {
          "base_uri": "https://localhost:8080/",
          "height": 283
        },
        "id": "LyoD4dbOj0b7",
        "outputId": "1d85d70f-c339-4c15-8c39-cf6469749959"
      },
      "source": [
        "import matplotlib.pyplot as plt\n",
        "from sklearn import datasets\n",
        "from sklearn.decomposition import PCA\n",
        "import pandas as pd\n",
        "from sklearn.preprocessing import StandardScaler\n",
        "\n",
        "\n",
        "#In general a good idea is to scale the data\n",
        "scaler = StandardScaler()\n",
        "scaler.fit(X)\n",
        "X=scaler.transform(X)    \n",
        "\n",
        "pca = PCA()\n",
        "x_new = pca.fit_transform(X)\n",
        "\n",
        "def myplot(score,coeff,labels=None):\n",
        "    xs = score[:,0]\n",
        "    ys = score[:,1]\n",
        "    n = coeff.shape[0]\n",
        "    scalex = 1.0/(xs.max() - xs.min())\n",
        "    scaley = 1.0/(ys.max() - ys.min())\n",
        "    plt.scatter(xs * scalex,ys * scaley, c = y)\n",
        "    for i in range(n):\n",
        "        plt.arrow(0, 0, coeff[i,0], coeff[i,1],color = 'r',alpha = 0.5)\n",
        "        if labels is None:\n",
        "            plt.text(coeff[i,0]* 1.15, coeff[i,1] * 1.15, \"Var\"+str(i+1), color = 'g', ha = 'center', va = 'center')\n",
        "        else:\n",
        "            plt.text(coeff[i,0]* 1.15, coeff[i,1] * 1.15, labels[i], color = 'g', ha = 'center', va = 'center')\n",
        "plt.xlim(-1,1)\n",
        "plt.ylim(-1,1)\n",
        "plt.xlabel(\"PC{}\".format(1))\n",
        "plt.ylabel(\"PC{}\".format(2))\n",
        "plt.grid()\n",
        "\n",
        "#Call the function. Use only the 2 PCs.\n",
        "myplot(x_new[:,0:2],np.transpose(pca.components_[0:2, :]))\n",
        "plt.show()\n"
      ],
      "execution_count": 19,
      "outputs": [
        {
          "output_type": "display_data",
          "data": {
            "image/png": "[encoded data removed]",
            "text/plain": [
              "<Figure size 432x288 with 1 Axes>"
            ]
          },
          "metadata": {
            "tags": [],
            "needs_background": "light"
          }
        }
      ]
    },
    {
      "cell_type": "code",
      "metadata": {
        "id": "LY-T0vkTk9Wj"
      },
      "source": [
        "cover = CubicalCover(n_intervals=10, overlap_frac=0.3)\n",
        "# Choose clustering algorithm – default is DBSCAN\n",
        "clusterer = DBSCAN()\n",
        "\n",
        "# Configure parallelism of clustering step\n",
        "n_jobs = 1\n",
        "filter_func = Projection(columns=[0, 1])\n",
        "# Initialise pipeline\n",
        "pipe = make_mapper_pipeline(\n",
        "    filter_func=filter_func,\n",
        "    cover=cover,\n",
        "    clusterer=clusterer,\n",
        "    verbose=False,\n",
        "    n_jobs=n_jobs,\n",
        ")"
      ],
      "execution_count": 22,
      "outputs": []
    },
    {
      "cell_type": "code",
      "metadata": {
        "colab": {
          "base_uri": "https://localhost:8080/",
          "height": 542
        },
        "id": "6fqhKnCelNtj",
        "outputId": "d1fe4c25-dc9b-49d0-efd0-f22dffe2fd85"
      },
      "source": [
        "fig = plot_static_mapper_graph(pipe, X)\n",
        "fig.show(config={'scrollZoom': True})"
      ],
      "execution_count": 24,
      "outputs": [
        {
          "output_type": "display_data",
          "data": {
            "text/html": [
              "<html>\n",
              "<head><meta charset=\"utf-8\" /></head>\n",
              "<body>\n",
              "    <div>            <script src=\"https://cdnjs.cloudflare.com/ajax/libs/mathjax/2.7.5/MathJax.js?config=TeX-AMS-MML_SVG\"></script><script type=\"text/javascript\">if (window.MathJax) {MathJax.Hub.Config({SVG: {font: \"STIX-Web\"}});}</script>                <script type=\"text/javascript\">window.PlotlyConfig = {MathJaxConfig: 'local'};</script>\n",
              "        <script src=\"https://cdn.plot.ly/plotly-2.1.0.min.js\"></script>                <div id=\"f1ec7de8-e337-48e3-8a1b-1d8ca0a6f15a\" class=\"plotly-graph-div\" style=\"height:525px; width:100%;\"></div>            <script type=\"text/javascript\">                                    window.PLOTLYENV=window.PLOTLYENV || {};                                    if (document.getElementById(\"f1ec7de8-e337-48e3-8a1b-1d8ca0a6f15a\")) {                    Plotly.newPlot(                        \"f1ec7de8-e337-48e3-8a1b-1d8ca0a6f15a\",                        [{\"hoverinfo\":\"none\",\"line\":{\"color\":\"#888\",\"width\":1},\"mode\":\"lines\",\"name\":\"edge_trace\",\"type\":\"scatter\",\"uid\":\"96aaac63-4a46-481c-bebd-76e82068bb27\",\"x\":[],\"y\":[]},{\"hoverinfo\":\"text\",\"hovertext\":[\"Node ID: 0<br>Pullback set label: 1<br>Partial cluster label: -1<br>Node size: 4<br>Summary statistic: 0.0855\",\"Node ID: 1<br>Pullback set label: 2<br>Partial cluster label: -1<br>Node size: 2<br>Summary statistic: 0.00181\",\"Node ID: 2<br>Pullback set label: 3<br>Partial cluster label: -1<br>Node size: 4<br>Summary statistic: 0.494\",\"Node ID: 3<br>Pullback set label: 0<br>Partial cluster label: -1<br>Node size: 5<br>Summary statistic: -0.464\"],\"marker\":{\"color\":[0.0855092279096035,0.0018082644895597634,0.4937575183734665,-0.4641367028222798],\"colorbar\":{\"thickness\":15,\"title\":{\"side\":\"right\",\"text\":\"\"},\"xanchor\":\"left\"},\"colorscale\":[[0.0,\"#440154\"],[0.1111111111111111,\"#482878\"],[0.2222222222222222,\"#3e4989\"],[0.3333333333333333,\"#31688e\"],[0.4444444444444444,\"#26828e\"],[0.5555555555555556,\"#1f9e89\"],[0.6666666666666666,\"#35b779\"],[0.7777777777777778,\"#6ece58\"],[0.8888888888888888,\"#b5de2b\"],[1.0,\"#fde725\"]],\"line\":{\"color\":\"#888\",\"width\":1},\"opacity\":1.0,\"reversescale\":false,\"showscale\":true,\"size\":[4,2,4,5],\"sizemin\":4,\"sizemode\":\"area\",\"sizeref\":0.06944444444444445},\"mode\":\"markers\",\"name\":\"node_trace\",\"type\":\"scatter\",\"uid\":\"d70a96db-1fe3-4930-ab03-9a564707edda\",\"x\":[1.0,6.123233995736766e-17,-1.0,-1.8369701987210297e-16],\"y\":[0.0,1.0,1.2246467991473532e-16,-1.0]}],                        {\"autosize\":false,\"hovermode\":\"closest\",\"margin\":{\"b\":20,\"l\":5,\"r\":5,\"t\":40},\"showlegend\":false,\"template\":{\"data\":{\"bar\":[{\"error_x\":{\"color\":\"rgb(36,36,36)\"},\"error_y\":{\"color\":\"rgb(36,36,36)\"},\"marker\":{\"line\":{\"color\":\"white\",\"width\":0.5},\"pattern\":{\"fillmode\":\"overlay\",\"size\":10,\"solidity\":0.2}},\"type\":\"bar\"}],\"barpolar\":[{\"marker\":{\"line\":{\"color\":\"white\",\"width\":0.5},\"pattern\":{\"fillmode\":\"overlay\",\"size\":10,\"solidity\":0.2}},\"type\":\"barpolar\"}],\"carpet\":[{\"aaxis\":{\"endlinecolor\":\"rgb(36,36,36)\",\"gridcolor\":\"white\",\"linecolor\":\"white\",\"minorgridcolor\":\"white\",\"startlinecolor\":\"rgb(36,36,36)\"},\"baxis\":{\"endlinecolor\":\"rgb(36,36,36)\",\"gridcolor\":\"white\",\"linecolor\":\"white\",\"minorgridcolor\":\"white\",\"startlinecolor\":\"rgb(36,36,36)\"},\"type\":\"carpet\"}],\"choropleth\":[{\"colorbar\":{\"outlinewidth\":1,\"tickcolor\":\"rgb(36,36,36)\",\"ticks\":\"outside\"},\"type\":\"choropleth\"}],\"contour\":[{\"colorbar\":{\"outlinewidth\":1,\"tickcolor\":\"rgb(36,36,36)\",\"ticks\":\"outside\"},\"colorscale\":[[0.0,\"#440154\"],[0.1111111111111111,\"#482878\"],[0.2222222222222222,\"#3e4989\"],[0.3333333333333333,\"#31688e\"],[0.4444444444444444,\"#26828e\"],[0.5555555555555556,\"#1f9e89\"],[0.6666666666666666,\"#35b779\"],[0.7777777777777778,\"#6ece58\"],[0.8888888888888888,\"#b5de2b\"],[1.0,\"#fde725\"]],\"type\":\"contour\"}],\"contourcarpet\":[{\"colorbar\":{\"outlinewidth\":1,\"tickcolor\":\"rgb(36,36,36)\",\"ticks\":\"outside\"},\"type\":\"contourcarpet\"}],\"heatmap\":[{\"colorbar\":{\"outlinewidth\":1,\"tickcolor\":\"rgb(36,36,36)\",\"ticks\":\"outside\"},\"colorscale\":[[0.0,\"#440154\"],[0.1111111111111111,\"#482878\"],[0.2222222222222222,\"#3e4989\"],[0.3333333333333333,\"#31688e\"],[0.4444444444444444,\"#26828e\"],[0.5555555555555556,\"#1f9e89\"],[0.6666666666666666,\"#35b779\"],[0.7777777777777778,\"#6ece58\"],[0.8888888888888888,\"#b5de2b\"],[1.0,\"#fde725\"]],\"type\":\"heatmap\"}],\"heatmapgl\":[{\"colorbar\":{\"outlinewidth\":1,\"tickcolor\":\"rgb(36,36,36)\",\"ticks\":\"outside\"},\"colorscale\":[[0.0,\"#440154\"],[0.1111111111111111,\"#482878\"],[0.2222222222222222,\"#3e4989\"],[0.3333333333333333,\"#31688e\"],[0.4444444444444444,\"#26828e\"],[0.5555555555555556,\"#1f9e89\"],[0.6666666666666666,\"#35b779\"],[0.7777777777777778,\"#6ece58\"],[0.8888888888888888,\"#b5de2b\"],[1.0,\"#fde725\"]],\"type\":\"heatmapgl\"}],\"histogram\":[{\"marker\":{\"line\":{\"color\":\"white\",\"width\":0.6}},\"type\":\"histogram\"}],\"histogram2d\":[{\"colorbar\":{\"outlinewidth\":1,\"tickcolor\":\"rgb(36,36,36)\",\"ticks\":\"outside\"},\"colorscale\":[[0.0,\"#440154\"],[0.1111111111111111,\"#482878\"],[0.2222222222222222,\"#3e4989\"],[0.3333333333333333,\"#31688e\"],[0.4444444444444444,\"#26828e\"],[0.5555555555555556,\"#1f9e89\"],[0.6666666666666666,\"#35b779\"],[0.7777777777777778,\"#6ece58\"],[0.8888888888888888,\"#b5de2b\"],[1.0,\"#fde725\"]],\"type\":\"histogram2d\"}],\"histogram2dcontour\":[{\"colorbar\":{\"outlinewidth\":1,\"tickcolor\":\"rgb(36,36,36)\",\"ticks\":\"outside\"},\"colorscale\":[[0.0,\"#440154\"],[0.1111111111111111,\"#482878\"],[0.2222222222222222,\"#3e4989\"],[0.3333333333333333,\"#31688e\"],[0.4444444444444444,\"#26828e\"],[0.5555555555555556,\"#1f9e89\"],[0.6666666666666666,\"#35b779\"],[0.7777777777777778,\"#6ece58\"],[0.8888888888888888,\"#b5de2b\"],[1.0,\"#fde725\"]],\"type\":\"histogram2dcontour\"}],\"mesh3d\":[{\"colorbar\":{\"outlinewidth\":1,\"tickcolor\":\"rgb(36,36,36)\",\"ticks\":\"outside\"},\"type\":\"mesh3d\"}],\"parcoords\":[{\"line\":{\"colorbar\":{\"outlinewidth\":1,\"tickcolor\":\"rgb(36,36,36)\",\"ticks\":\"outside\"}},\"type\":\"parcoords\"}],\"pie\":[{\"automargin\":true,\"type\":\"pie\"}],\"scatter\":[{\"marker\":{\"colorbar\":{\"outlinewidth\":1,\"tickcolor\":\"rgb(36,36,36)\",\"ticks\":\"outside\"}},\"type\":\"scatter\"}],\"scatter3d\":[{\"line\":{\"colorbar\":{\"outlinewidth\":1,\"tickcolor\":\"rgb(36,36,36)\",\"ticks\":\"outside\"}},\"marker\":{\"colorbar\":{\"outlinewidth\":1,\"tickcolor\":\"rgb(36,36,36)\",\"ticks\":\"outside\"}},\"type\":\"scatter3d\"}],\"scattercarpet\":[{\"marker\":{\"colorbar\":{\"outlinewidth\":1,\"tickcolor\":\"rgb(36,36,36)\",\"ticks\":\"outside\"}},\"type\":\"scattercarpet\"}],\"scattergeo\":[{\"marker\":{\"colorbar\":{\"outlinewidth\":1,\"tickcolor\":\"rgb(36,36,36)\",\"ticks\":\"outside\"}},\"type\":\"scattergeo\"}],\"scattergl\":[{\"marker\":{\"colorbar\":{\"outlinewidth\":1,\"tickcolor\":\"rgb(36,36,36)\",\"ticks\":\"outside\"}},\"type\":\"scattergl\"}],\"scattermapbox\":[{\"marker\":{\"colorbar\":{\"outlinewidth\":1,\"tickcolor\":\"rgb(36,36,36)\",\"ticks\":\"outside\"}},\"type\":\"scattermapbox\"}],\"scatterpolar\":[{\"marker\":{\"colorbar\":{\"outlinewidth\":1,\"tickcolor\":\"rgb(36,36,36)\",\"ticks\":\"outside\"}},\"type\":\"scatterpolar\"}],\"scatterpolargl\":[{\"marker\":{\"colorbar\":{\"outlinewidth\":1,\"tickcolor\":\"rgb(36,36,36)\",\"ticks\":\"outside\"}},\"type\":\"scatterpolargl\"}],\"scatterternary\":[{\"marker\":{\"colorbar\":{\"outlinewidth\":1,\"tickcolor\":\"rgb(36,36,36)\",\"ticks\":\"outside\"}},\"type\":\"scatterternary\"}],\"surface\":[{\"colorbar\":{\"outlinewidth\":1,\"tickcolor\":\"rgb(36,36,36)\",\"ticks\":\"outside\"},\"colorscale\":[[0.0,\"#440154\"],[0.1111111111111111,\"#482878\"],[0.2222222222222222,\"#3e4989\"],[0.3333333333333333,\"#31688e\"],[0.4444444444444444,\"#26828e\"],[0.5555555555555556,\"#1f9e89\"],[0.6666666666666666,\"#35b779\"],[0.7777777777777778,\"#6ece58\"],[0.8888888888888888,\"#b5de2b\"],[1.0,\"#fde725\"]],\"type\":\"surface\"}],\"table\":[{\"cells\":{\"fill\":{\"color\":\"rgb(237,237,237)\"},\"line\":{\"color\":\"white\"}},\"header\":{\"fill\":{\"color\":\"rgb(217,217,217)\"},\"line\":{\"color\":\"white\"}},\"type\":\"table\"}]},\"layout\":{\"annotationdefaults\":{\"arrowhead\":0,\"arrowwidth\":1},\"autotypenumbers\":\"strict\",\"coloraxis\":{\"colorbar\":{\"outlinewidth\":1,\"tickcolor\":\"rgb(36,36,36)\",\"ticks\":\"outside\"}},\"colorscale\":{\"diverging\":[[0.0,\"rgb(103,0,31)\"],[0.1,\"rgb(178,24,43)\"],[0.2,\"rgb(214,96,77)\"],[0.3,\"rgb(244,165,130)\"],[0.4,\"rgb(253,219,199)\"],[0.5,\"rgb(247,247,247)\"],[0.6,\"rgb(209,229,240)\"],[0.7,\"rgb(146,197,222)\"],[0.8,\"rgb(67,147,195)\"],[0.9,\"rgb(33,102,172)\"],[1.0,\"rgb(5,48,97)\"]],\"sequential\":[[0.0,\"#440154\"],[0.1111111111111111,\"#482878\"],[0.2222222222222222,\"#3e4989\"],[0.3333333333333333,\"#31688e\"],[0.4444444444444444,\"#26828e\"],[0.5555555555555556,\"#1f9e89\"],[0.6666666666666666,\"#35b779\"],[0.7777777777777778,\"#6ece58\"],[0.8888888888888888,\"#b5de2b\"],[1.0,\"#fde725\"]],\"sequentialminus\":[[0.0,\"#440154\"],[0.1111111111111111,\"#482878\"],[0.2222222222222222,\"#3e4989\"],[0.3333333333333333,\"#31688e\"],[0.4444444444444444,\"#26828e\"],[0.5555555555555556,\"#1f9e89\"],[0.6666666666666666,\"#35b779\"],[0.7777777777777778,\"#6ece58\"],[0.8888888888888888,\"#b5de2b\"],[1.0,\"#fde725\"]]},\"colorway\":[\"#1F77B4\",\"#FF7F0E\",\"#2CA02C\",\"#D62728\",\"#9467BD\",\"#8C564B\",\"#E377C2\",\"#7F7F7F\",\"#BCBD22\",\"#17BECF\"],\"font\":{\"color\":\"rgb(36,36,36)\"},\"geo\":{\"bgcolor\":\"white\",\"lakecolor\":\"white\",\"landcolor\":\"white\",\"showlakes\":true,\"showland\":true,\"subunitcolor\":\"white\"},\"hoverlabel\":{\"align\":\"left\"},\"hovermode\":\"closest\",\"mapbox\":{\"style\":\"light\"},\"paper_bgcolor\":\"white\",\"plot_bgcolor\":\"white\",\"polar\":{\"angularaxis\":{\"gridcolor\":\"rgb(232,232,232)\",\"linecolor\":\"rgb(36,36,36)\",\"showgrid\":false,\"showline\":true,\"ticks\":\"outside\"},\"bgcolor\":\"white\",\"radialaxis\":{\"gridcolor\":\"rgb(232,232,232)\",\"linecolor\":\"rgb(36,36,36)\",\"showgrid\":false,\"showline\":true,\"ticks\":\"outside\"}},\"scene\":{\"xaxis\":{\"backgroundcolor\":\"white\",\"gridcolor\":\"rgb(232,232,232)\",\"gridwidth\":2,\"linecolor\":\"rgb(36,36,36)\",\"showbackground\":true,\"showgrid\":false,\"showline\":true,\"ticks\":\"outside\",\"zeroline\":false,\"zerolinecolor\":\"rgb(36,36,36)\"},\"yaxis\":{\"backgroundcolor\":\"white\",\"gridcolor\":\"rgb(232,232,232)\",\"gridwidth\":2,\"linecolor\":\"rgb(36,36,36)\",\"showbackground\":true,\"showgrid\":false,\"showline\":true,\"ticks\":\"outside\",\"zeroline\":false,\"zerolinecolor\":\"rgb(36,36,36)\"},\"zaxis\":{\"backgroundcolor\":\"white\",\"gridcolor\":\"rgb(232,232,232)\",\"gridwidth\":2,\"linecolor\":\"rgb(36,36,36)\",\"showbackground\":true,\"showgrid\":false,\"showline\":true,\"ticks\":\"outside\",\"zeroline\":false,\"zerolinecolor\":\"rgb(36,36,36)\"}},\"shapedefaults\":{\"fillcolor\":\"black\",\"line\":{\"width\":0},\"opacity\":0.3},\"ternary\":{\"aaxis\":{\"gridcolor\":\"rgb(232,232,232)\",\"linecolor\":\"rgb(36,36,36)\",\"showgrid\":false,\"showline\":true,\"ticks\":\"outside\"},\"baxis\":{\"gridcolor\":\"rgb(232,232,232)\",\"linecolor\":\"rgb(36,36,36)\",\"showgrid\":false,\"showline\":true,\"ticks\":\"outside\"},\"bgcolor\":\"white\",\"caxis\":{\"gridcolor\":\"rgb(232,232,232)\",\"linecolor\":\"rgb(36,36,36)\",\"showgrid\":false,\"showline\":true,\"ticks\":\"outside\"}},\"title\":{\"x\":0.05},\"xaxis\":{\"automargin\":true,\"gridcolor\":\"rgb(232,232,232)\",\"linecolor\":\"rgb(36,36,36)\",\"showgrid\":false,\"showline\":true,\"ticks\":\"outside\",\"title\":{\"standoff\":15},\"zeroline\":false,\"zerolinecolor\":\"rgb(36,36,36)\"},\"yaxis\":{\"automargin\":true,\"gridcolor\":\"rgb(232,232,232)\",\"linecolor\":\"rgb(36,36,36)\",\"showgrid\":false,\"showline\":true,\"ticks\":\"outside\",\"title\":{\"standoff\":15},\"zeroline\":false,\"zerolinecolor\":\"rgb(36,36,36)\"}}},\"title\":{\"text\":\"\"},\"updatemenus\":[{\"direction\":\"down\",\"pad\":{\"r\":10,\"t\":10},\"showactive\":true,\"x\":0.11,\"xanchor\":\"left\",\"y\":1.1,\"yanchor\":\"top\"}],\"xaxis\":{\"showgrid\":false,\"showline\":false,\"showticklabels\":false,\"ticks\":\"\",\"title\":{\"text\":\"\"},\"zeroline\":false},\"yaxis\":{\"showgrid\":false,\"showline\":false,\"showticklabels\":false,\"ticks\":\"\",\"title\":{\"text\":\"\"},\"zeroline\":false}},                        {\"scrollZoom\": true, \"responsive\": true}                    ).then(function(){\n",
              "                            \n",
              "var gd = document.getElementById('f1ec7de8-e337-48e3-8a1b-1d8ca0a6f15a');\n",
              "var x = new MutationObserver(function (mutations, observer) {{\n",
              "        var display = window.getComputedStyle(gd).display;\n",
              "        if (!display || display === 'none') {{\n",
              "            console.log([gd, 'removed!']);\n",
              "            Plotly.purge(gd);\n",
              "            observer.disconnect();\n",
              "        }}\n",
              "}});\n",
              "\n",
              "// Listen for the removal of the full notebook cells\n",
              "var notebookContainer = gd.closest('#notebook-container');\n",
              "if (notebookContainer) {{\n",
              "    x.observe(notebookContainer, {childList: true});\n",
              "}}\n",
              "\n",
              "// Listen for the clearing of the current output cell\n",
              "var outputEl = gd.closest('.output');\n",
              "if (outputEl) {{\n",
              "    x.observe(outputEl, {childList: true});\n",
              "}}\n",
              "\n",
              "                        })                };                            </script>        </div>\n",
              "</body>\n",
              "</html>"
            ]
          },
          "metadata": {
            "tags": []
          }
        }
      ]
    },
    {
      "cell_type": "code",
      "metadata": {
        "colab": {
          "base_uri": "https://localhost:8080/",
          "height": 542
        },
        "id": "s594j9MBlT6i",
        "outputId": "d45b2f45-0afb-4eab-a626-bd5ed2c22122"
      },
      "source": [
        "plotly_params = {\"node_trace\": {\"marker_colorscale\": \"Blues\"}}\n",
        "fig = plot_static_mapper_graph(\n",
        "    pipe, X, color_by_columns_dropdown=True, plotly_params=plotly_params\n",
        ")\n",
        "fig.show(config={'scrollZoom': True})"
      ],
      "execution_count": 26,
      "outputs": [
        {
          "output_type": "display_data",
          "data": {
            "text/html": [
              "<html>\n",
              "<head><meta charset=\"utf-8\" /></head>\n",
              "<body>\n",
              "    <div>            <script src=\"https://cdnjs.cloudflare.com/ajax/libs/mathjax/2.7.5/MathJax.js?config=TeX-AMS-MML_SVG\"></script><script type=\"text/javascript\">if (window.MathJax) {MathJax.Hub.Config({SVG: {font: \"STIX-Web\"}});}</script>                <script type=\"text/javascript\">window.PlotlyConfig = {MathJaxConfig: 'local'};</script>\n",
              "        <script src=\"https://cdn.plot.ly/plotly-2.1.0.min.js\"></script>                <div id=\"c3efd0a0-fcc3-441e-9955-179d36f146a5\" class=\"plotly-graph-div\" style=\"height:525px; width:100%;\"></div>            <script type=\"text/javascript\">                                    window.PLOTLYENV=window.PLOTLYENV || {};                                    if (document.getElementById(\"c3efd0a0-fcc3-441e-9955-179d36f146a5\")) {                    Plotly.newPlot(                        \"c3efd0a0-fcc3-441e-9955-179d36f146a5\",                        [{\"hoverinfo\":\"none\",\"line\":{\"color\":\"#888\",\"width\":1},\"mode\":\"lines\",\"name\":\"edge_trace\",\"type\":\"scatter\",\"uid\":\"4e92a599-8dae-422d-bb1a-6dd5731fb9b8\",\"x\":[],\"y\":[]},{\"hoverinfo\":\"text\",\"hovertext\":[\"Node ID: 0<br>Pullback set label: 1<br>Partial cluster label: -1<br>Node size: 4<br>Summary statistic: 0.0855\",\"Node ID: 1<br>Pullback set label: 2<br>Partial cluster label: -1<br>Node size: 2<br>Summary statistic: 0.00181\",\"Node ID: 2<br>Pullback set label: 3<br>Partial cluster label: -1<br>Node size: 4<br>Summary statistic: 0.494\",\"Node ID: 3<br>Pullback set label: 0<br>Partial cluster label: -1<br>Node size: 5<br>Summary statistic: -0.464\"],\"marker\":{\"color\":[0.0855092279096035,0.0018082644895597634,0.4937575183734665,-0.4641367028222798],\"colorbar\":{\"thickness\":15,\"title\":{\"side\":\"right\",\"text\":\"\"},\"xanchor\":\"left\"},\"colorscale\":[[0.0,\"rgb(247,251,255)\"],[0.125,\"rgb(222,235,247)\"],[0.25,\"rgb(198,219,239)\"],[0.375,\"rgb(158,202,225)\"],[0.5,\"rgb(107,174,214)\"],[0.625,\"rgb(66,146,198)\"],[0.75,\"rgb(33,113,181)\"],[0.875,\"rgb(8,81,156)\"],[1.0,\"rgb(8,48,107)\"]],\"line\":{\"color\":\"#888\",\"width\":1},\"opacity\":1.0,\"reversescale\":false,\"showscale\":true,\"size\":[4,2,4,5],\"sizemin\":4,\"sizemode\":\"area\",\"sizeref\":0.06944444444444445},\"mode\":\"markers\",\"name\":\"node_trace\",\"type\":\"scatter\",\"uid\":\"e7b6e0ea-e050-4cc1-ba27-e217fd613bf4\",\"x\":[1.0,6.123233995736766e-17,-1.0,-1.8369701987210297e-16],\"y\":[0.0,1.0,1.2246467991473532e-16,-1.0]}],                        {\"annotations\":[{\"align\":\"left\",\"showarrow\":false,\"text\":\"Color by:\",\"x\":0,\"xref\":\"paper\",\"y\":1.0550000000000002,\"yref\":\"paper\"}],\"autosize\":false,\"hovermode\":\"closest\",\"margin\":{\"b\":20,\"l\":5,\"r\":5,\"t\":40},\"showlegend\":false,\"template\":{\"data\":{\"bar\":[{\"error_x\":{\"color\":\"rgb(36,36,36)\"},\"error_y\":{\"color\":\"rgb(36,36,36)\"},\"marker\":{\"line\":{\"color\":\"white\",\"width\":0.5},\"pattern\":{\"fillmode\":\"overlay\",\"size\":10,\"solidity\":0.2}},\"type\":\"bar\"}],\"barpolar\":[{\"marker\":{\"line\":{\"color\":\"white\",\"width\":0.5},\"pattern\":{\"fillmode\":\"overlay\",\"size\":10,\"solidity\":0.2}},\"type\":\"barpolar\"}],\"carpet\":[{\"aaxis\":{\"endlinecolor\":\"rgb(36,36,36)\",\"gridcolor\":\"white\",\"linecolor\":\"white\",\"minorgridcolor\":\"white\",\"startlinecolor\":\"rgb(36,36,36)\"},\"baxis\":{\"endlinecolor\":\"rgb(36,36,36)\",\"gridcolor\":\"white\",\"linecolor\":\"white\",\"minorgridcolor\":\"white\",\"startlinecolor\":\"rgb(36,36,36)\"},\"type\":\"carpet\"}],\"choropleth\":[{\"colorbar\":{\"outlinewidth\":1,\"tickcolor\":\"rgb(36,36,36)\",\"ticks\":\"outside\"},\"type\":\"choropleth\"}],\"contour\":[{\"colorbar\":{\"outlinewidth\":1,\"tickcolor\":\"rgb(36,36,36)\",\"ticks\":\"outside\"},\"colorscale\":[[0.0,\"#440154\"],[0.1111111111111111,\"#482878\"],[0.2222222222222222,\"#3e4989\"],[0.3333333333333333,\"#31688e\"],[0.4444444444444444,\"#26828e\"],[0.5555555555555556,\"#1f9e89\"],[0.6666666666666666,\"#35b779\"],[0.7777777777777778,\"#6ece58\"],[0.8888888888888888,\"#b5de2b\"],[1.0,\"#fde725\"]],\"type\":\"contour\"}],\"contourcarpet\":[{\"colorbar\":{\"outlinewidth\":1,\"tickcolor\":\"rgb(36,36,36)\",\"ticks\":\"outside\"},\"type\":\"contourcarpet\"}],\"heatmap\":[{\"colorbar\":{\"outlinewidth\":1,\"tickcolor\":\"rgb(36,36,36)\",\"ticks\":\"outside\"},\"colorscale\":[[0.0,\"#440154\"],[0.1111111111111111,\"#482878\"],[0.2222222222222222,\"#3e4989\"],[0.3333333333333333,\"#31688e\"],[0.4444444444444444,\"#26828e\"],[0.5555555555555556,\"#1f9e89\"],[0.6666666666666666,\"#35b779\"],[0.7777777777777778,\"#6ece58\"],[0.8888888888888888,\"#b5de2b\"],[1.0,\"#fde725\"]],\"type\":\"heatmap\"}],\"heatmapgl\":[{\"colorbar\":{\"outlinewidth\":1,\"tickcolor\":\"rgb(36,36,36)\",\"ticks\":\"outside\"},\"colorscale\":[[0.0,\"#440154\"],[0.1111111111111111,\"#482878\"],[0.2222222222222222,\"#3e4989\"],[0.3333333333333333,\"#31688e\"],[0.4444444444444444,\"#26828e\"],[0.5555555555555556,\"#1f9e89\"],[0.6666666666666666,\"#35b779\"],[0.7777777777777778,\"#6ece58\"],[0.8888888888888888,\"#b5de2b\"],[1.0,\"#fde725\"]],\"type\":\"heatmapgl\"}],\"histogram\":[{\"marker\":{\"line\":{\"color\":\"white\",\"width\":0.6}},\"type\":\"histogram\"}],\"histogram2d\":[{\"colorbar\":{\"outlinewidth\":1,\"tickcolor\":\"rgb(36,36,36)\",\"ticks\":\"outside\"},\"colorscale\":[[0.0,\"#440154\"],[0.1111111111111111,\"#482878\"],[0.2222222222222222,\"#3e4989\"],[0.3333333333333333,\"#31688e\"],[0.4444444444444444,\"#26828e\"],[0.5555555555555556,\"#1f9e89\"],[0.6666666666666666,\"#35b779\"],[0.7777777777777778,\"#6ece58\"],[0.8888888888888888,\"#b5de2b\"],[1.0,\"#fde725\"]],\"type\":\"histogram2d\"}],\"histogram2dcontour\":[{\"colorbar\":{\"outlinewidth\":1,\"tickcolor\":\"rgb(36,36,36)\",\"ticks\":\"outside\"},\"colorscale\":[[0.0,\"#440154\"],[0.1111111111111111,\"#482878\"],[0.2222222222222222,\"#3e4989\"],[0.3333333333333333,\"#31688e\"],[0.4444444444444444,\"#26828e\"],[0.5555555555555556,\"#1f9e89\"],[0.6666666666666666,\"#35b779\"],[0.7777777777777778,\"#6ece58\"],[0.8888888888888888,\"#b5de2b\"],[1.0,\"#fde725\"]],\"type\":\"histogram2dcontour\"}],\"mesh3d\":[{\"colorbar\":{\"outlinewidth\":1,\"tickcolor\":\"rgb(36,36,36)\",\"ticks\":\"outside\"},\"type\":\"mesh3d\"}],\"parcoords\":[{\"line\":{\"colorbar\":{\"outlinewidth\":1,\"tickcolor\":\"rgb(36,36,36)\",\"ticks\":\"outside\"}},\"type\":\"parcoords\"}],\"pie\":[{\"automargin\":true,\"type\":\"pie\"}],\"scatter\":[{\"marker\":{\"colorbar\":{\"outlinewidth\":1,\"tickcolor\":\"rgb(36,36,36)\",\"ticks\":\"outside\"}},\"type\":\"scatter\"}],\"scatter3d\":[{\"line\":{\"colorbar\":{\"outlinewidth\":1,\"tickcolor\":\"rgb(36,36,36)\",\"ticks\":\"outside\"}},\"marker\":{\"colorbar\":{\"outlinewidth\":1,\"tickcolor\":\"rgb(36,36,36)\",\"ticks\":\"outside\"}},\"type\":\"scatter3d\"}],\"scattercarpet\":[{\"marker\":{\"colorbar\":{\"outlinewidth\":1,\"tickcolor\":\"rgb(36,36,36)\",\"ticks\":\"outside\"}},\"type\":\"scattercarpet\"}],\"scattergeo\":[{\"marker\":{\"colorbar\":{\"outlinewidth\":1,\"tickcolor\":\"rgb(36,36,36)\",\"ticks\":\"outside\"}},\"type\":\"scattergeo\"}],\"scattergl\":[{\"marker\":{\"colorbar\":{\"outlinewidth\":1,\"tickcolor\":\"rgb(36,36,36)\",\"ticks\":\"outside\"}},\"type\":\"scattergl\"}],\"scattermapbox\":[{\"marker\":{\"colorbar\":{\"outlinewidth\":1,\"tickcolor\":\"rgb(36,36,36)\",\"ticks\":\"outside\"}},\"type\":\"scattermapbox\"}],\"scatterpolar\":[{\"marker\":{\"colorbar\":{\"outlinewidth\":1,\"tickcolor\":\"rgb(36,36,36)\",\"ticks\":\"outside\"}},\"type\":\"scatterpolar\"}],\"scatterpolargl\":[{\"marker\":{\"colorbar\":{\"outlinewidth\":1,\"tickcolor\":\"rgb(36,36,36)\",\"ticks\":\"outside\"}},\"type\":\"scatterpolargl\"}],\"scatterternary\":[{\"marker\":{\"colorbar\":{\"outlinewidth\":1,\"tickcolor\":\"rgb(36,36,36)\",\"ticks\":\"outside\"}},\"type\":\"scatterternary\"}],\"surface\":[{\"colorbar\":{\"outlinewidth\":1,\"tickcolor\":\"rgb(36,36,36)\",\"ticks\":\"outside\"},\"colorscale\":[[0.0,\"#440154\"],[0.1111111111111111,\"#482878\"],[0.2222222222222222,\"#3e4989\"],[0.3333333333333333,\"#31688e\"],[0.4444444444444444,\"#26828e\"],[0.5555555555555556,\"#1f9e89\"],[0.6666666666666666,\"#35b779\"],[0.7777777777777778,\"#6ece58\"],[0.8888888888888888,\"#b5de2b\"],[1.0,\"#fde725\"]],\"type\":\"surface\"}],\"table\":[{\"cells\":{\"fill\":{\"color\":\"rgb(237,237,237)\"},\"line\":{\"color\":\"white\"}},\"header\":{\"fill\":{\"color\":\"rgb(217,217,217)\"},\"line\":{\"color\":\"white\"}},\"type\":\"table\"}]},\"layout\":{\"annotationdefaults\":{\"arrowhead\":0,\"arrowwidth\":1},\"autotypenumbers\":\"strict\",\"coloraxis\":{\"colorbar\":{\"outlinewidth\":1,\"tickcolor\":\"rgb(36,36,36)\",\"ticks\":\"outside\"}},\"colorscale\":{\"diverging\":[[0.0,\"rgb(103,0,31)\"],[0.1,\"rgb(178,24,43)\"],[0.2,\"rgb(214,96,77)\"],[0.3,\"rgb(244,165,130)\"],[0.4,\"rgb(253,219,199)\"],[0.5,\"rgb(247,247,247)\"],[0.6,\"rgb(209,229,240)\"],[0.7,\"rgb(146,197,222)\"],[0.8,\"rgb(67,147,195)\"],[0.9,\"rgb(33,102,172)\"],[1.0,\"rgb(5,48,97)\"]],\"sequential\":[[0.0,\"#440154\"],[0.1111111111111111,\"#482878\"],[0.2222222222222222,\"#3e4989\"],[0.3333333333333333,\"#31688e\"],[0.4444444444444444,\"#26828e\"],[0.5555555555555556,\"#1f9e89\"],[0.6666666666666666,\"#35b779\"],[0.7777777777777778,\"#6ece58\"],[0.8888888888888888,\"#b5de2b\"],[1.0,\"#fde725\"]],\"sequentialminus\":[[0.0,\"#440154\"],[0.1111111111111111,\"#482878\"],[0.2222222222222222,\"#3e4989\"],[0.3333333333333333,\"#31688e\"],[0.4444444444444444,\"#26828e\"],[0.5555555555555556,\"#1f9e89\"],[0.6666666666666666,\"#35b779\"],[0.7777777777777778,\"#6ece58\"],[0.8888888888888888,\"#b5de2b\"],[1.0,\"#fde725\"]]},\"colorway\":[\"#1F77B4\",\"#FF7F0E\",\"#2CA02C\",\"#D62728\",\"#9467BD\",\"#8C564B\",\"#E377C2\",\"#7F7F7F\",\"#BCBD22\",\"#17BECF\"],\"font\":{\"color\":\"rgb(36,36,36)\"},\"geo\":{\"bgcolor\":\"white\",\"lakecolor\":\"white\",\"landcolor\":\"white\",\"showlakes\":true,\"showland\":true,\"subunitcolor\":\"white\"},\"hoverlabel\":{\"align\":\"left\"},\"hovermode\":\"closest\",\"mapbox\":{\"style\":\"light\"},\"paper_bgcolor\":\"white\",\"plot_bgcolor\":\"white\",\"polar\":{\"angularaxis\":{\"gridcolor\":\"rgb(232,232,232)\",\"linecolor\":\"rgb(36,36,36)\",\"showgrid\":false,\"showline\":true,\"ticks\":\"outside\"},\"bgcolor\":\"white\",\"radialaxis\":{\"gridcolor\":\"rgb(232,232,232)\",\"linecolor\":\"rgb(36,36,36)\",\"showgrid\":false,\"showline\":true,\"ticks\":\"outside\"}},\"scene\":{\"xaxis\":{\"backgroundcolor\":\"white\",\"gridcolor\":\"rgb(232,232,232)\",\"gridwidth\":2,\"linecolor\":\"rgb(36,36,36)\",\"showbackground\":true,\"showgrid\":false,\"showline\":true,\"ticks\":\"outside\",\"zeroline\":false,\"zerolinecolor\":\"rgb(36,36,36)\"},\"yaxis\":{\"backgroundcolor\":\"white\",\"gridcolor\":\"rgb(232,232,232)\",\"gridwidth\":2,\"linecolor\":\"rgb(36,36,36)\",\"showbackground\":true,\"showgrid\":false,\"showline\":true,\"ticks\":\"outside\",\"zeroline\":false,\"zerolinecolor\":\"rgb(36,36,36)\"},\"zaxis\":{\"backgroundcolor\":\"white\",\"gridcolor\":\"rgb(232,232,232)\",\"gridwidth\":2,\"linecolor\":\"rgb(36,36,36)\",\"showbackground\":true,\"showgrid\":false,\"showline\":true,\"ticks\":\"outside\",\"zeroline\":false,\"zerolinecolor\":\"rgb(36,36,36)\"}},\"shapedefaults\":{\"fillcolor\":\"black\",\"line\":{\"width\":0},\"opacity\":0.3},\"ternary\":{\"aaxis\":{\"gridcolor\":\"rgb(232,232,232)\",\"linecolor\":\"rgb(36,36,36)\",\"showgrid\":false,\"showline\":true,\"ticks\":\"outside\"},\"baxis\":{\"gridcolor\":\"rgb(232,232,232)\",\"linecolor\":\"rgb(36,36,36)\",\"showgrid\":false,\"showline\":true,\"ticks\":\"outside\"},\"bgcolor\":\"white\",\"caxis\":{\"gridcolor\":\"rgb(232,232,232)\",\"linecolor\":\"rgb(36,36,36)\",\"showgrid\":false,\"showline\":true,\"ticks\":\"outside\"}},\"title\":{\"x\":0.05},\"xaxis\":{\"automargin\":true,\"gridcolor\":\"rgb(232,232,232)\",\"linecolor\":\"rgb(36,36,36)\",\"showgrid\":false,\"showline\":true,\"ticks\":\"outside\",\"title\":{\"standoff\":15},\"zeroline\":false,\"zerolinecolor\":\"rgb(36,36,36)\"},\"yaxis\":{\"automargin\":true,\"gridcolor\":\"rgb(232,232,232)\",\"linecolor\":\"rgb(36,36,36)\",\"showgrid\":false,\"showline\":true,\"ticks\":\"outside\",\"title\":{\"standoff\":15},\"zeroline\":false,\"zerolinecolor\":\"rgb(36,36,36)\"}}},\"title\":{\"text\":\"\"},\"updatemenus\":[{\"buttons\":[{\"args\":[{\"hoverlabel.bgcolor\":[null,null],\"hovertext\":[null,[\"Node ID: 0<br>Pullback set label: 1<br>Partial cluster label: -1<br>Node size: 4<br>Summary statistic: 0.0855\",\"Node ID: 1<br>Pullback set label: 2<br>Partial cluster label: -1<br>Node size: 2<br>Summary statistic: 0.00181\",\"Node ID: 2<br>Pullback set label: 3<br>Partial cluster label: -1<br>Node size: 4<br>Summary statistic: 0.494\",\"Node ID: 3<br>Pullback set label: 0<br>Partial cluster label: -1<br>Node size: 5<br>Summary statistic: -0.464\"]],\"marker.color\":[null,[0.0855092279096035,0.0018082644895597634,0.4937575183734665,-0.4641367028222798]]}],\"label\":\"color_variable\",\"method\":\"restyle\"},{\"args\":[{\"hovertext\":[null,[\"Node ID: 0<br>Pullback set label: 1<br>Partial cluster label: -1<br>Node size: 4<br>Summary statistic: -0.816\",\"Node ID: 1<br>Pullback set label: 2<br>Partial cluster label: -1<br>Node size: 2<br>Summary statistic: 1.22\",\"Node ID: 2<br>Pullback set label: 3<br>Partial cluster label: -1<br>Node size: 4<br>Summary statistic: 1.22\",\"Node ID: 3<br>Pullback set label: 0<br>Partial cluster label: -1<br>Node size: 5<br>Summary statistic: -0.816\"]],\"marker.color\":[null,[-0.816496580927726,1.224744871391589,1.224744871391589,-0.816496580927726]]}],\"label\":\"Column 0\",\"method\":\"restyle\"},{\"args\":[{\"hovertext\":[null,[\"Node ID: 0<br>Pullback set label: 1<br>Partial cluster label: -1<br>Node size: 4<br>Summary statistic: 0.935\",\"Node ID: 1<br>Pullback set label: 2<br>Partial cluster label: -1<br>Node size: 2<br>Summary statistic: -1.07\",\"Node ID: 2<br>Pullback set label: 3<br>Partial cluster label: -1<br>Node size: 4<br>Summary statistic: 0.935\",\"Node ID: 3<br>Pullback set label: 0<br>Partial cluster label: -1<br>Node size: 5<br>Summary statistic: -1.07\"]],\"marker.color\":[null,[0.9354143466934854,-1.0690449676496976,0.9354143466934854,-1.0690449676496976]]}],\"label\":\"Column 1\",\"method\":\"restyle\"},{\"args\":[{\"hovertext\":[null,[\"Node ID: 0<br>Pullback set label: 1<br>Partial cluster label: -1<br>Node size: 4<br>Summary statistic: 0.0668\",\"Node ID: 1<br>Pullback set label: 2<br>Partial cluster label: -1<br>Node size: 2<br>Summary statistic: 0.0668\",\"Node ID: 2<br>Pullback set label: 3<br>Partial cluster label: -1<br>Node size: 4<br>Summary statistic: 0.0668\",\"Node ID: 3<br>Pullback set label: 0<br>Partial cluster label: -1<br>Node size: 5<br>Summary statistic: -0.134\"]],\"marker.color\":[null,[0.06681531047810607,0.06681531047810607,0.06681531047810607,-0.13363062095621223]]}],\"label\":\"Column 2\",\"method\":\"restyle\"},{\"args\":[{\"hovertext\":[null,[\"Node ID: 0<br>Pullback set label: 1<br>Partial cluster label: -1<br>Node size: 4<br>Summary statistic: 0.204\",\"Node ID: 1<br>Pullback set label: 2<br>Partial cluster label: -1<br>Node size: 2<br>Summary statistic: -0.816\",\"Node ID: 2<br>Pullback set label: 3<br>Partial cluster label: -1<br>Node size: 4<br>Summary statistic: 0.204\",\"Node ID: 3<br>Pullback set label: 0<br>Partial cluster label: -1<br>Node size: 5<br>Summary statistic: -4.44e-17\"]],\"marker.color\":[null,[0.20412414523193145,-0.816496580927726,0.20412414523193145,-4.4408920985006264e-17]]}],\"label\":\"Column 3\",\"method\":\"restyle\"},{\"args\":[{\"hovertext\":[null,[\"Node ID: 0<br>Pullback set label: 1<br>Partial cluster label: -1<br>Node size: 4<br>Summary statistic: 0.0377\",\"Node ID: 1<br>Pullback set label: 2<br>Partial cluster label: -1<br>Node size: 2<br>Summary statistic: 0.603\",\"Node ID: 2<br>Pullback set label: 3<br>Partial cluster label: -1<br>Node size: 4<br>Summary statistic: 0.0377\",\"Node ID: 3<br>Pullback set label: 0<br>Partial cluster label: -1<br>Node size: 5<br>Summary statistic: -0.302\"]],\"marker.color\":[null,[0.03768891807222058,0.6030226891555274,0.03768891807222058,-0.3015113445777635]]}],\"label\":\"Column 4\",\"method\":\"restyle\"}],\"direction\":\"down\",\"pad\":{\"r\":10,\"t\":10},\"showactive\":true,\"x\":0.11,\"xanchor\":\"left\",\"y\":1.1,\"yanchor\":\"top\"}],\"xaxis\":{\"showgrid\":false,\"showline\":false,\"showticklabels\":false,\"ticks\":\"\",\"title\":{\"text\":\"\"},\"zeroline\":false},\"yaxis\":{\"showgrid\":false,\"showline\":false,\"showticklabels\":false,\"ticks\":\"\",\"title\":{\"text\":\"\"},\"zeroline\":false}},                        {\"scrollZoom\": true, \"responsive\": true}                    ).then(function(){\n",
              "                            \n",
              "var gd = document.getElementById('c3efd0a0-fcc3-441e-9955-179d36f146a5');\n",
              "var x = new MutationObserver(function (mutations, observer) {{\n",
              "        var display = window.getComputedStyle(gd).display;\n",
              "        if (!display || display === 'none') {{\n",
              "            console.log([gd, 'removed!']);\n",
              "            Plotly.purge(gd);\n",
              "            observer.disconnect();\n",
              "        }}\n",
              "}});\n",
              "\n",
              "// Listen for the removal of the full notebook cells\n",
              "var notebookContainer = gd.closest('#notebook-container');\n",
              "if (notebookContainer) {{\n",
              "    x.observe(notebookContainer, {childList: true});\n",
              "}}\n",
              "\n",
              "// Listen for the clearing of the current output cell\n",
              "var outputEl = gd.closest('.output');\n",
              "if (outputEl) {{\n",
              "    x.observe(outputEl, {childList: true});\n",
              "}}\n",
              "\n",
              "                        })                };                            </script>        </div>\n",
              "</body>\n",
              "</html>"
            ]
          },
          "metadata": {
            "tags": []
          }
        }
      ]
    },
    {
      "cell_type": "code",
      "metadata": {
        "colab": {
          "base_uri": "https://localhost:8080/",
          "height": 542
        },
        "id": "cqroTQ8HllNJ",
        "outputId": "1ae5bd2e-d7a5-49e4-bb03-c74d90a52d67"
      },
      "source": [
        "# Initialise estimator to color graph by\n",
        "pca = PCA(n_components=1).fit(X)\n",
        "\n",
        "fig = plot_static_mapper_graph(\n",
        "    pipe, X, color_by_columns_dropdown=True, color_variable=pca\n",
        ")\n",
        "fig.show(config={'scrollZoom': True})"
      ],
      "execution_count": 29,
      "outputs": [
        {
          "output_type": "display_data",
          "data": {
            "text/html": [
              "<html>\n",
              "<head><meta charset=\"utf-8\" /></head>\n",
              "<body>\n",
              "    <div>            <script src=\"https://cdnjs.cloudflare.com/ajax/libs/mathjax/2.7.5/MathJax.js?config=TeX-AMS-MML_SVG\"></script><script type=\"text/javascript\">if (window.MathJax) {MathJax.Hub.Config({SVG: {font: \"STIX-Web\"}});}</script>                <script type=\"text/javascript\">window.PlotlyConfig = {MathJaxConfig: 'local'};</script>\n",
              "        <script src=\"https://cdn.plot.ly/plotly-2.1.0.min.js\"></script>                <div id=\"28ac260a-3c10-4882-a5d6-842d4160f3be\" class=\"plotly-graph-div\" style=\"height:525px; width:100%;\"></div>            <script type=\"text/javascript\">                                    window.PLOTLYENV=window.PLOTLYENV || {};                                    if (document.getElementById(\"28ac260a-3c10-4882-a5d6-842d4160f3be\")) {                    Plotly.newPlot(                        \"28ac260a-3c10-4882-a5d6-842d4160f3be\",                        [{\"hoverinfo\":\"none\",\"line\":{\"color\":\"#888\",\"width\":1},\"mode\":\"lines\",\"name\":\"edge_trace\",\"type\":\"scatter\",\"uid\":\"770f4291-646a-4b9a-9a59-c8838542d2ac\",\"x\":[],\"y\":[]},{\"hoverinfo\":\"text\",\"hovertext\":[\"Node ID: 0<br>Pullback set label: 1<br>Partial cluster label: -1<br>Node size: 4<br>Summary statistic: -0.267\",\"Node ID: 1<br>Pullback set label: 2<br>Partial cluster label: -1<br>Node size: 2<br>Summary statistic: 0.587\",\"Node ID: 2<br>Pullback set label: 3<br>Partial cluster label: -1<br>Node size: 4<br>Summary statistic: -0.202\",\"Node ID: 3<br>Pullback set label: 0<br>Partial cluster label: -1<br>Node size: 5<br>Summary statistic: 0.14\"],\"marker\":{\"color\":[-0.2671529467985896,0.5874586359238788,-0.20159606042187606,0.14001575140682088],\"colorbar\":{\"thickness\":15,\"title\":{\"side\":\"right\",\"text\":\"\"},\"xanchor\":\"left\"},\"colorscale\":[[0.0,\"#440154\"],[0.1111111111111111,\"#482878\"],[0.2222222222222222,\"#3e4989\"],[0.3333333333333333,\"#31688e\"],[0.4444444444444444,\"#26828e\"],[0.5555555555555556,\"#1f9e89\"],[0.6666666666666666,\"#35b779\"],[0.7777777777777778,\"#6ece58\"],[0.8888888888888888,\"#b5de2b\"],[1.0,\"#fde725\"]],\"line\":{\"color\":\"#888\",\"width\":1},\"opacity\":1.0,\"reversescale\":false,\"showscale\":true,\"size\":[4,2,4,5],\"sizemin\":4,\"sizemode\":\"area\",\"sizeref\":0.06944444444444445},\"mode\":\"markers\",\"name\":\"node_trace\",\"type\":\"scatter\",\"uid\":\"b513b468-b71b-4fbd-bd85-e77fd447f0d4\",\"x\":[1.0,6.123233995736766e-17,-1.0,-1.8369701987210297e-16],\"y\":[0.0,1.0,1.2246467991473532e-16,-1.0]}],                        {\"annotations\":[{\"align\":\"left\",\"showarrow\":false,\"text\":\"Color by:\",\"x\":0,\"xref\":\"paper\",\"y\":1.0550000000000002,\"yref\":\"paper\"}],\"autosize\":false,\"hovermode\":\"closest\",\"margin\":{\"b\":20,\"l\":5,\"r\":5,\"t\":40},\"showlegend\":false,\"template\":{\"data\":{\"bar\":[{\"error_x\":{\"color\":\"rgb(36,36,36)\"},\"error_y\":{\"color\":\"rgb(36,36,36)\"},\"marker\":{\"line\":{\"color\":\"white\",\"width\":0.5},\"pattern\":{\"fillmode\":\"overlay\",\"size\":10,\"solidity\":0.2}},\"type\":\"bar\"}],\"barpolar\":[{\"marker\":{\"line\":{\"color\":\"white\",\"width\":0.5},\"pattern\":{\"fillmode\":\"overlay\",\"size\":10,\"solidity\":0.2}},\"type\":\"barpolar\"}],\"carpet\":[{\"aaxis\":{\"endlinecolor\":\"rgb(36,36,36)\",\"gridcolor\":\"white\",\"linecolor\":\"white\",\"minorgridcolor\":\"white\",\"startlinecolor\":\"rgb(36,36,36)\"},\"baxis\":{\"endlinecolor\":\"rgb(36,36,36)\",\"gridcolor\":\"white\",\"linecolor\":\"white\",\"minorgridcolor\":\"white\",\"startlinecolor\":\"rgb(36,36,36)\"},\"type\":\"carpet\"}],\"choropleth\":[{\"colorbar\":{\"outlinewidth\":1,\"tickcolor\":\"rgb(36,36,36)\",\"ticks\":\"outside\"},\"type\":\"choropleth\"}],\"contour\":[{\"colorbar\":{\"outlinewidth\":1,\"tickcolor\":\"rgb(36,36,36)\",\"ticks\":\"outside\"},\"colorscale\":[[0.0,\"#440154\"],[0.1111111111111111,\"#482878\"],[0.2222222222222222,\"#3e4989\"],[0.3333333333333333,\"#31688e\"],[0.4444444444444444,\"#26828e\"],[0.5555555555555556,\"#1f9e89\"],[0.6666666666666666,\"#35b779\"],[0.7777777777777778,\"#6ece58\"],[0.8888888888888888,\"#b5de2b\"],[1.0,\"#fde725\"]],\"type\":\"contour\"}],\"contourcarpet\":[{\"colorbar\":{\"outlinewidth\":1,\"tickcolor\":\"rgb(36,36,36)\",\"ticks\":\"outside\"},\"type\":\"contourcarpet\"}],\"heatmap\":[{\"colorbar\":{\"outlinewidth\":1,\"tickcolor\":\"rgb(36,36,36)\",\"ticks\":\"outside\"},\"colorscale\":[[0.0,\"#440154\"],[0.1111111111111111,\"#482878\"],[0.2222222222222222,\"#3e4989\"],[0.3333333333333333,\"#31688e\"],[0.4444444444444444,\"#26828e\"],[0.5555555555555556,\"#1f9e89\"],[0.6666666666666666,\"#35b779\"],[0.7777777777777778,\"#6ece58\"],[0.8888888888888888,\"#b5de2b\"],[1.0,\"#fde725\"]],\"type\":\"heatmap\"}],\"heatmapgl\":[{\"colorbar\":{\"outlinewidth\":1,\"tickcolor\":\"rgb(36,36,36)\",\"ticks\":\"outside\"},\"colorscale\":[[0.0,\"#440154\"],[0.1111111111111111,\"#482878\"],[0.2222222222222222,\"#3e4989\"],[0.3333333333333333,\"#31688e\"],[0.4444444444444444,\"#26828e\"],[0.5555555555555556,\"#1f9e89\"],[0.6666666666666666,\"#35b779\"],[0.7777777777777778,\"#6ece58\"],[0.8888888888888888,\"#b5de2b\"],[1.0,\"#fde725\"]],\"type\":\"heatmapgl\"}],\"histogram\":[{\"marker\":{\"line\":{\"color\":\"white\",\"width\":0.6}},\"type\":\"histogram\"}],\"histogram2d\":[{\"colorbar\":{\"outlinewidth\":1,\"tickcolor\":\"rgb(36,36,36)\",\"ticks\":\"outside\"},\"colorscale\":[[0.0,\"#440154\"],[0.1111111111111111,\"#482878\"],[0.2222222222222222,\"#3e4989\"],[0.3333333333333333,\"#31688e\"],[0.4444444444444444,\"#26828e\"],[0.5555555555555556,\"#1f9e89\"],[0.6666666666666666,\"#35b779\"],[0.7777777777777778,\"#6ece58\"],[0.8888888888888888,\"#b5de2b\"],[1.0,\"#fde725\"]],\"type\":\"histogram2d\"}],\"histogram2dcontour\":[{\"colorbar\":{\"outlinewidth\":1,\"tickcolor\":\"rgb(36,36,36)\",\"ticks\":\"outside\"},\"colorscale\":[[0.0,\"#440154\"],[0.1111111111111111,\"#482878\"],[0.2222222222222222,\"#3e4989\"],[0.3333333333333333,\"#31688e\"],[0.4444444444444444,\"#26828e\"],[0.5555555555555556,\"#1f9e89\"],[0.6666666666666666,\"#35b779\"],[0.7777777777777778,\"#6ece58\"],[0.8888888888888888,\"#b5de2b\"],[1.0,\"#fde725\"]],\"type\":\"histogram2dcontour\"}],\"mesh3d\":[{\"colorbar\":{\"outlinewidth\":1,\"tickcolor\":\"rgb(36,36,36)\",\"ticks\":\"outside\"},\"type\":\"mesh3d\"}],\"parcoords\":[{\"line\":{\"colorbar\":{\"outlinewidth\":1,\"tickcolor\":\"rgb(36,36,36)\",\"ticks\":\"outside\"}},\"type\":\"parcoords\"}],\"pie\":[{\"automargin\":true,\"type\":\"pie\"}],\"scatter\":[{\"marker\":{\"colorbar\":{\"outlinewidth\":1,\"tickcolor\":\"rgb(36,36,36)\",\"ticks\":\"outside\"}},\"type\":\"scatter\"}],\"scatter3d\":[{\"line\":{\"colorbar\":{\"outlinewidth\":1,\"tickcolor\":\"rgb(36,36,36)\",\"ticks\":\"outside\"}},\"marker\":{\"colorbar\":{\"outlinewidth\":1,\"tickcolor\":\"rgb(36,36,36)\",\"ticks\":\"outside\"}},\"type\":\"scatter3d\"}],\"scattercarpet\":[{\"marker\":{\"colorbar\":{\"outlinewidth\":1,\"tickcolor\":\"rgb(36,36,36)\",\"ticks\":\"outside\"}},\"type\":\"scattercarpet\"}],\"scattergeo\":[{\"marker\":{\"colorbar\":{\"outlinewidth\":1,\"tickcolor\":\"rgb(36,36,36)\",\"ticks\":\"outside\"}},\"type\":\"scattergeo\"}],\"scattergl\":[{\"marker\":{\"colorbar\":{\"outlinewidth\":1,\"tickcolor\":\"rgb(36,36,36)\",\"ticks\":\"outside\"}},\"type\":\"scattergl\"}],\"scattermapbox\":[{\"marker\":{\"colorbar\":{\"outlinewidth\":1,\"tickcolor\":\"rgb(36,36,36)\",\"ticks\":\"outside\"}},\"type\":\"scattermapbox\"}],\"scatterpolar\":[{\"marker\":{\"colorbar\":{\"outlinewidth\":1,\"tickcolor\":\"rgb(36,36,36)\",\"ticks\":\"outside\"}},\"type\":\"scatterpolar\"}],\"scatterpolargl\":[{\"marker\":{\"colorbar\":{\"outlinewidth\":1,\"tickcolor\":\"rgb(36,36,36)\",\"ticks\":\"outside\"}},\"type\":\"scatterpolargl\"}],\"scatterternary\":[{\"marker\":{\"colorbar\":{\"outlinewidth\":1,\"tickcolor\":\"rgb(36,36,36)\",\"ticks\":\"outside\"}},\"type\":\"scatterternary\"}],\"surface\":[{\"colorbar\":{\"outlinewidth\":1,\"tickcolor\":\"rgb(36,36,36)\",\"ticks\":\"outside\"},\"colorscale\":[[0.0,\"#440154\"],[0.1111111111111111,\"#482878\"],[0.2222222222222222,\"#3e4989\"],[0.3333333333333333,\"#31688e\"],[0.4444444444444444,\"#26828e\"],[0.5555555555555556,\"#1f9e89\"],[0.6666666666666666,\"#35b779\"],[0.7777777777777778,\"#6ece58\"],[0.8888888888888888,\"#b5de2b\"],[1.0,\"#fde725\"]],\"type\":\"surface\"}],\"table\":[{\"cells\":{\"fill\":{\"color\":\"rgb(237,237,237)\"},\"line\":{\"color\":\"white\"}},\"header\":{\"fill\":{\"color\":\"rgb(217,217,217)\"},\"line\":{\"color\":\"white\"}},\"type\":\"table\"}]},\"layout\":{\"annotationdefaults\":{\"arrowhead\":0,\"arrowwidth\":1},\"autotypenumbers\":\"strict\",\"coloraxis\":{\"colorbar\":{\"outlinewidth\":1,\"tickcolor\":\"rgb(36,36,36)\",\"ticks\":\"outside\"}},\"colorscale\":{\"diverging\":[[0.0,\"rgb(103,0,31)\"],[0.1,\"rgb(178,24,43)\"],[0.2,\"rgb(214,96,77)\"],[0.3,\"rgb(244,165,130)\"],[0.4,\"rgb(253,219,199)\"],[0.5,\"rgb(247,247,247)\"],[0.6,\"rgb(209,229,240)\"],[0.7,\"rgb(146,197,222)\"],[0.8,\"rgb(67,147,195)\"],[0.9,\"rgb(33,102,172)\"],[1.0,\"rgb(5,48,97)\"]],\"sequential\":[[0.0,\"#440154\"],[0.1111111111111111,\"#482878\"],[0.2222222222222222,\"#3e4989\"],[0.3333333333333333,\"#31688e\"],[0.4444444444444444,\"#26828e\"],[0.5555555555555556,\"#1f9e89\"],[0.6666666666666666,\"#35b779\"],[0.7777777777777778,\"#6ece58\"],[0.8888888888888888,\"#b5de2b\"],[1.0,\"#fde725\"]],\"sequentialminus\":[[0.0,\"#440154\"],[0.1111111111111111,\"#482878\"],[0.2222222222222222,\"#3e4989\"],[0.3333333333333333,\"#31688e\"],[0.4444444444444444,\"#26828e\"],[0.5555555555555556,\"#1f9e89\"],[0.6666666666666666,\"#35b779\"],[0.7777777777777778,\"#6ece58\"],[0.8888888888888888,\"#b5de2b\"],[1.0,\"#fde725\"]]},\"colorway\":[\"#1F77B4\",\"#FF7F0E\",\"#2CA02C\",\"#D62728\",\"#9467BD\",\"#8C564B\",\"#E377C2\",\"#7F7F7F\",\"#BCBD22\",\"#17BECF\"],\"font\":{\"color\":\"rgb(36,36,36)\"},\"geo\":{\"bgcolor\":\"white\",\"lakecolor\":\"white\",\"landcolor\":\"white\",\"showlakes\":true,\"showland\":true,\"subunitcolor\":\"white\"},\"hoverlabel\":{\"align\":\"left\"},\"hovermode\":\"closest\",\"mapbox\":{\"style\":\"light\"},\"paper_bgcolor\":\"white\",\"plot_bgcolor\":\"white\",\"polar\":{\"angularaxis\":{\"gridcolor\":\"rgb(232,232,232)\",\"linecolor\":\"rgb(36,36,36)\",\"showgrid\":false,\"showline\":true,\"ticks\":\"outside\"},\"bgcolor\":\"white\",\"radialaxis\":{\"gridcolor\":\"rgb(232,232,232)\",\"linecolor\":\"rgb(36,36,36)\",\"showgrid\":false,\"showline\":true,\"ticks\":\"outside\"}},\"scene\":{\"xaxis\":{\"backgroundcolor\":\"white\",\"gridcolor\":\"rgb(232,232,232)\",\"gridwidth\":2,\"linecolor\":\"rgb(36,36,36)\",\"showbackground\":true,\"showgrid\":false,\"showline\":true,\"ticks\":\"outside\",\"zeroline\":false,\"zerolinecolor\":\"rgb(36,36,36)\"},\"yaxis\":{\"backgroundcolor\":\"white\",\"gridcolor\":\"rgb(232,232,232)\",\"gridwidth\":2,\"linecolor\":\"rgb(36,36,36)\",\"showbackground\":true,\"showgrid\":false,\"showline\":true,\"ticks\":\"outside\",\"zeroline\":false,\"zerolinecolor\":\"rgb(36,36,36)\"},\"zaxis\":{\"backgroundcolor\":\"white\",\"gridcolor\":\"rgb(232,232,232)\",\"gridwidth\":2,\"linecolor\":\"rgb(36,36,36)\",\"showbackground\":true,\"showgrid\":false,\"showline\":true,\"ticks\":\"outside\",\"zeroline\":false,\"zerolinecolor\":\"rgb(36,36,36)\"}},\"shapedefaults\":{\"fillcolor\":\"black\",\"line\":{\"width\":0},\"opacity\":0.3},\"ternary\":{\"aaxis\":{\"gridcolor\":\"rgb(232,232,232)\",\"linecolor\":\"rgb(36,36,36)\",\"showgrid\":false,\"showline\":true,\"ticks\":\"outside\"},\"baxis\":{\"gridcolor\":\"rgb(232,232,232)\",\"linecolor\":\"rgb(36,36,36)\",\"showgrid\":false,\"showline\":true,\"ticks\":\"outside\"},\"bgcolor\":\"white\",\"caxis\":{\"gridcolor\":\"rgb(232,232,232)\",\"linecolor\":\"rgb(36,36,36)\",\"showgrid\":false,\"showline\":true,\"ticks\":\"outside\"}},\"title\":{\"x\":0.05},\"xaxis\":{\"automargin\":true,\"gridcolor\":\"rgb(232,232,232)\",\"linecolor\":\"rgb(36,36,36)\",\"showgrid\":false,\"showline\":true,\"ticks\":\"outside\",\"title\":{\"standoff\":15},\"zeroline\":false,\"zerolinecolor\":\"rgb(36,36,36)\"},\"yaxis\":{\"automargin\":true,\"gridcolor\":\"rgb(232,232,232)\",\"linecolor\":\"rgb(36,36,36)\",\"showgrid\":false,\"showline\":true,\"ticks\":\"outside\",\"title\":{\"standoff\":15},\"zeroline\":false,\"zerolinecolor\":\"rgb(36,36,36)\"}}},\"title\":{\"text\":\"\"},\"updatemenus\":[{\"buttons\":[{\"args\":[{\"hoverlabel.bgcolor\":[null,null],\"hovertext\":[null,[\"Node ID: 0<br>Pullback set label: 1<br>Partial cluster label: -1<br>Node size: 4<br>Summary statistic: -0.267\",\"Node ID: 1<br>Pullback set label: 2<br>Partial cluster label: -1<br>Node size: 2<br>Summary statistic: 0.587\",\"Node ID: 2<br>Pullback set label: 3<br>Partial cluster label: -1<br>Node size: 4<br>Summary statistic: -0.202\",\"Node ID: 3<br>Pullback set label: 0<br>Partial cluster label: -1<br>Node size: 5<br>Summary statistic: 0.14\"]],\"marker.color\":[null,[-0.2671529467985896,0.5874586359238788,-0.20159606042187606,0.14001575140682088]]}],\"label\":\"color_variable\",\"method\":\"restyle\"},{\"args\":[{\"hovertext\":[null,[\"Node ID: 0<br>Pullback set label: 1<br>Partial cluster label: -1<br>Node size: 4<br>Summary statistic: -0.816\",\"Node ID: 1<br>Pullback set label: 2<br>Partial cluster label: -1<br>Node size: 2<br>Summary statistic: 1.22\",\"Node ID: 2<br>Pullback set label: 3<br>Partial cluster label: -1<br>Node size: 4<br>Summary statistic: 1.22\",\"Node ID: 3<br>Pullback set label: 0<br>Partial cluster label: -1<br>Node size: 5<br>Summary statistic: -0.816\"]],\"marker.color\":[null,[-0.816496580927726,1.224744871391589,1.224744871391589,-0.816496580927726]]}],\"label\":\"Column 0\",\"method\":\"restyle\"},{\"args\":[{\"hovertext\":[null,[\"Node ID: 0<br>Pullback set label: 1<br>Partial cluster label: -1<br>Node size: 4<br>Summary statistic: 0.935\",\"Node ID: 1<br>Pullback set label: 2<br>Partial cluster label: -1<br>Node size: 2<br>Summary statistic: -1.07\",\"Node ID: 2<br>Pullback set label: 3<br>Partial cluster label: -1<br>Node size: 4<br>Summary statistic: 0.935\",\"Node ID: 3<br>Pullback set label: 0<br>Partial cluster label: -1<br>Node size: 5<br>Summary statistic: -1.07\"]],\"marker.color\":[null,[0.9354143466934854,-1.0690449676496976,0.9354143466934854,-1.0690449676496976]]}],\"label\":\"Column 1\",\"method\":\"restyle\"},{\"args\":[{\"hovertext\":[null,[\"Node ID: 0<br>Pullback set label: 1<br>Partial cluster label: -1<br>Node size: 4<br>Summary statistic: 0.0668\",\"Node ID: 1<br>Pullback set label: 2<br>Partial cluster label: -1<br>Node size: 2<br>Summary statistic: 0.0668\",\"Node ID: 2<br>Pullback set label: 3<br>Partial cluster label: -1<br>Node size: 4<br>Summary statistic: 0.0668\",\"Node ID: 3<br>Pullback set label: 0<br>Partial cluster label: -1<br>Node size: 5<br>Summary statistic: -0.134\"]],\"marker.color\":[null,[0.06681531047810607,0.06681531047810607,0.06681531047810607,-0.13363062095621223]]}],\"label\":\"Column 2\",\"method\":\"restyle\"},{\"args\":[{\"hovertext\":[null,[\"Node ID: 0<br>Pullback set label: 1<br>Partial cluster label: -1<br>Node size: 4<br>Summary statistic: 0.204\",\"Node ID: 1<br>Pullback set label: 2<br>Partial cluster label: -1<br>Node size: 2<br>Summary statistic: -0.816\",\"Node ID: 2<br>Pullback set label: 3<br>Partial cluster label: -1<br>Node size: 4<br>Summary statistic: 0.204\",\"Node ID: 3<br>Pullback set label: 0<br>Partial cluster label: -1<br>Node size: 5<br>Summary statistic: -4.44e-17\"]],\"marker.color\":[null,[0.20412414523193145,-0.816496580927726,0.20412414523193145,-4.4408920985006264e-17]]}],\"label\":\"Column 3\",\"method\":\"restyle\"},{\"args\":[{\"hovertext\":[null,[\"Node ID: 0<br>Pullback set label: 1<br>Partial cluster label: -1<br>Node size: 4<br>Summary statistic: 0.0377\",\"Node ID: 1<br>Pullback set label: 2<br>Partial cluster label: -1<br>Node size: 2<br>Summary statistic: 0.603\",\"Node ID: 2<br>Pullback set label: 3<br>Partial cluster label: -1<br>Node size: 4<br>Summary statistic: 0.0377\",\"Node ID: 3<br>Pullback set label: 0<br>Partial cluster label: -1<br>Node size: 5<br>Summary statistic: -0.302\"]],\"marker.color\":[null,[0.03768891807222058,0.6030226891555274,0.03768891807222058,-0.3015113445777635]]}],\"label\":\"Column 4\",\"method\":\"restyle\"}],\"direction\":\"down\",\"pad\":{\"r\":10,\"t\":10},\"showactive\":true,\"x\":0.11,\"xanchor\":\"left\",\"y\":1.1,\"yanchor\":\"top\"}],\"xaxis\":{\"showgrid\":false,\"showline\":false,\"showticklabels\":false,\"ticks\":\"\",\"title\":{\"text\":\"\"},\"zeroline\":false},\"yaxis\":{\"showgrid\":false,\"showline\":false,\"showticklabels\":false,\"ticks\":\"\",\"title\":{\"text\":\"\"},\"zeroline\":false}},                        {\"scrollZoom\": true, \"responsive\": true}                    ).then(function(){\n",
              "                            \n",
              "var gd = document.getElementById('28ac260a-3c10-4882-a5d6-842d4160f3be');\n",
              "var x = new MutationObserver(function (mutations, observer) {{\n",
              "        var display = window.getComputedStyle(gd).display;\n",
              "        if (!display || display === 'none') {{\n",
              "            console.log([gd, 'removed!']);\n",
              "            Plotly.purge(gd);\n",
              "            observer.disconnect();\n",
              "        }}\n",
              "}});\n",
              "\n",
              "// Listen for the removal of the full notebook cells\n",
              "var notebookContainer = gd.closest('#notebook-container');\n",
              "if (notebookContainer) {{\n",
              "    x.observe(notebookContainer, {childList: true});\n",
              "}}\n",
              "\n",
              "// Listen for the clearing of the current output cell\n",
              "var outputEl = gd.closest('.output');\n",
              "if (outputEl) {{\n",
              "    x.observe(outputEl, {childList: true});\n",
              "}}\n",
              "\n",
              "                        })                };                            </script>        </div>\n",
              "</body>\n",
              "</html>"
            ]
          },
          "metadata": {
            "tags": []
          }
        }
      ]
    },
    {
      "cell_type": "code",
      "metadata": {
        "colab": {
          "base_uri": "https://localhost:8080/"
        },
        "id": "WX9JFsYwmPwK",
        "outputId": "5607fce2-f270-43e3-e0df-46da2147e307"
      },
      "source": [
        "df.columns"
      ],
      "execution_count": 34,
      "outputs": [
        {
          "output_type": "execute_result",
          "data": {
            "text/plain": [
              "Index(['Category', 'Samples', 'pos1', 'pos2', 'pos3', 'pos4', 'pos5'], dtype='object')"
            ]
          },
          "metadata": {
            "tags": []
          },
          "execution_count": 34
        }
      ]
    },
    {
      "cell_type": "code",
      "metadata": {
        "id": "H4Zf2E5El1pq"
      },
      "source": [
        "pipe.set_params(filter_func=Projection(columns=['Category', 'Samples', 'pos1', 'pos2', 'pos3', 'pos4', 'pos5']));"
      ],
      "execution_count": 35,
      "outputs": []
    },
    {
      "cell_type": "code",
      "metadata": {
        "colab": {
          "base_uri": "https://localhost:8080/",
          "height": 229
        },
        "id": "TjMqmtf5l3n9",
        "outputId": "e3fee08a-f4d9-4986-9cf3-e7fed1149f82"
      },
      "source": [
        "MapperPipeline(steps=[('pullback_cover',\n",
        "                       ListFeatureUnion(transformer_list=[('clustering_preprocessing',\n",
        "                                                           FunctionTransformer(validate=True)),\n",
        "                                                          ('map_and_cover',\n",
        "                                                           Pipeline(steps=[('scaler',\n",
        "                                                                            FunctionTransformer()),\n",
        "                                                                           ('filter_func',\n",
        "                                                                            Projection(columns=['Category', 'Samples', 'pos1', 'pos2', 'pos3', 'pos4', 'pos5'])),\n",
        "                                                                           ('cover',\n",
        "                                                                            CubicalCover(overlap_frac=0.3))]))])),\n",
        "                      ('clustering',\n",
        "                       ParallelClustering(clusterer=DBSCAN(), n_jobs=1)),\n",
        "                      ('nerve', Nerve())])"
      ],
      "execution_count": 36,
      "outputs": [
        {
          "output_type": "error",
          "ename": "NameError",
          "evalue": "ignored",
          "traceback": [
            "\u001b[0;31m---------------------------------------------------------------------------\u001b[0m",
            "\u001b[0;31mNameError\u001b[0m                                 Traceback (most recent call last)",
            "\u001b[0;32m<ipython-input-36-94e032ce2047>\u001b[0m in \u001b[0;36m<module>\u001b[0;34m()\u001b[0m\n\u001b[0;32m----> 1\u001b[0;31m MapperPipeline(steps=[('pullback_cover',\n\u001b[0m\u001b[1;32m      2\u001b[0m                        ListFeatureUnion(transformer_list=[('clustering_preprocessing',\n\u001b[1;32m      3\u001b[0m                                                            FunctionTransformer(validate=True)),\n\u001b[1;32m      4\u001b[0m                                                           ('map_and_cover',\n\u001b[1;32m      5\u001b[0m                                                            Pipeline(steps=[('scaler',\n",
            "\u001b[0;31mNameError\u001b[0m: name 'MapperPipeline' is not defined"
          ]
        }
      ]
    },
    {
      "cell_type": "code",
      "metadata": {
        "colab": {
          "base_uri": "https://localhost:8080/",
          "height": 542
        },
        "id": "WomEtRhLmBm8",
        "outputId": "30504454-520c-4f3c-84d3-07eedf6ead7e"
      },
      "source": [
        "fig = plot_static_mapper_graph(pipe, df, color_by_columns_dropdown=True)\n",
        "fig.show(config={'scrollZoom': True})"
      ],
      "execution_count": 37,
      "outputs": [
        {
          "output_type": "display_data",
          "data": {
            "text/html": [
              "<html>\n",
              "<head><meta charset=\"utf-8\" /></head>\n",
              "<body>\n",
              "    <div>            <script src=\"https://cdnjs.cloudflare.com/ajax/libs/mathjax/2.7.5/MathJax.js?config=TeX-AMS-MML_SVG\"></script><script type=\"text/javascript\">if (window.MathJax) {MathJax.Hub.Config({SVG: {font: \"STIX-Web\"}});}</script>                <script type=\"text/javascript\">window.PlotlyConfig = {MathJaxConfig: 'local'};</script>\n",
              "        <script src=\"https://cdn.plot.ly/plotly-2.1.0.min.js\"></script>                <div id=\"56d9cfb8-a376-4587-8120-93423213910f\" class=\"plotly-graph-div\" style=\"height:525px; width:100%;\"></div>            <script type=\"text/javascript\">                                    window.PLOTLYENV=window.PLOTLYENV || {};                                    if (document.getElementById(\"56d9cfb8-a376-4587-8120-93423213910f\")) {                    Plotly.newPlot(                        \"56d9cfb8-a376-4587-8120-93423213910f\",                        [{\"hoverinfo\":\"none\",\"line\":{\"color\":\"#888\",\"width\":1},\"mode\":\"lines\",\"name\":\"edge_trace\",\"type\":\"scatter\",\"uid\":\"0ab9ce59-413e-4727-9927-9e1cb7c37457\",\"x\":[],\"y\":[]},{\"hoverinfo\":\"text\",\"hovertext\":[\"Node ID: 0<br>Pullback set label: 0<br>Partial cluster label: -1<br>Node size: 1<br>Summary statistic: 0.571\",\"Node ID: 1<br>Pullback set label: 1<br>Partial cluster label: -1<br>Node size: 1<br>Summary statistic: 0.571\",\"Node ID: 2<br>Pullback set label: 2<br>Partial cluster label: -1<br>Node size: 1<br>Summary statistic: 0.857\",\"Node ID: 3<br>Pullback set label: 3<br>Partial cluster label: -1<br>Node size: 1<br>Summary statistic: 1.14\",\"Node ID: 4<br>Pullback set label: 4<br>Partial cluster label: -1<br>Node size: 1<br>Summary statistic: 1.14\",\"Node ID: 5<br>Pullback set label: 5<br>Partial cluster label: -1<br>Node size: 1<br>Summary statistic: 1.43\",\"Node ID: 6<br>Pullback set label: 6<br>Partial cluster label: -1<br>Node size: 1<br>Summary statistic: 1.43\",\"Node ID: 7<br>Pullback set label: 7<br>Partial cluster label: -1<br>Node size: 1<br>Summary statistic: 1.43\",\"Node ID: 8<br>Pullback set label: 8<br>Partial cluster label: -1<br>Node size: 1<br>Summary statistic: 2.0\",\"Node ID: 9<br>Pullback set label: 9<br>Partial cluster label: -1<br>Node size: 1<br>Summary statistic: 1.71\",\"Node ID: 10<br>Pullback set label: 10<br>Partial cluster label: -1<br>Node size: 1<br>Summary statistic: 2.29\",\"Node ID: 11<br>Pullback set label: 11<br>Partial cluster label: -1<br>Node size: 1<br>Summary statistic: 2.57\",\"Node ID: 12<br>Pullback set label: 12<br>Partial cluster label: -1<br>Node size: 1<br>Summary statistic: 2.43\",\"Node ID: 13<br>Pullback set label: 13<br>Partial cluster label: -1<br>Node size: 1<br>Summary statistic: 2.43\",\"Node ID: 14<br>Pullback set label: 14<br>Partial cluster label: -1<br>Node size: 1<br>Summary statistic: 2.71\"],\"marker\":{\"color\":[0.5714285714285714,0.5714285714285714,0.8571428571428571,1.1428571428571428,1.1428571428571428,1.4285714285714286,1.4285714285714286,1.4285714285714286,2.0,1.7142857142857142,2.2857142857142856,2.5714285714285716,2.4285714285714284,2.4285714285714284,2.7142857142857144],\"colorbar\":{\"thickness\":15,\"title\":{\"side\":\"right\",\"text\":\"\"},\"xanchor\":\"left\"},\"colorscale\":[[0.0,\"#440154\"],[0.1111111111111111,\"#482878\"],[0.2222222222222222,\"#3e4989\"],[0.3333333333333333,\"#31688e\"],[0.4444444444444444,\"#26828e\"],[0.5555555555555556,\"#1f9e89\"],[0.6666666666666666,\"#35b779\"],[0.7777777777777778,\"#6ece58\"],[0.8888888888888888,\"#b5de2b\"],[1.0,\"#fde725\"]],\"line\":{\"color\":\"#888\",\"width\":1},\"opacity\":1.0,\"reversescale\":false,\"showscale\":true,\"size\":[1,1,1,1,1,1,1,1,1,1,1,1,1,1,1],\"sizemin\":4,\"sizemode\":\"area\",\"sizeref\":0.013888888888888888},\"mode\":\"markers\",\"name\":\"node_trace\",\"type\":\"scatter\",\"uid\":\"c0cf7334-50f4-4349-9fa1-4a24216647fc\",\"x\":[1.0,0.9135454576426009,0.6691306063588582,0.30901699437494745,-0.10452846326765333,-0.4999999999999998,-0.8090169943749473,-0.9781476007338056,-0.9781476007338057,-0.8090169943749476,-0.5000000000000004,-0.10452846326765423,0.30901699437494723,0.6691306063588578,0.9135454576426005],\"y\":[0.0,0.40673664307580015,0.7431448254773941,0.9510565162951535,0.9945218953682734,0.8660254037844387,0.5877852522924732,0.20791169081775973,-0.20791169081775907,-0.587785252292473,-0.8660254037844384,-0.9945218953682733,-0.9510565162951536,-0.7431448254773946,-0.40673664307580093]}],                        {\"annotations\":[{\"align\":\"left\",\"showarrow\":false,\"text\":\"Color by:\",\"x\":0,\"xref\":\"paper\",\"y\":1.0550000000000002,\"yref\":\"paper\"}],\"autosize\":false,\"hovermode\":\"closest\",\"margin\":{\"b\":20,\"l\":5,\"r\":5,\"t\":40},\"showlegend\":false,\"template\":{\"data\":{\"bar\":[{\"error_x\":{\"color\":\"rgb(36,36,36)\"},\"error_y\":{\"color\":\"rgb(36,36,36)\"},\"marker\":{\"line\":{\"color\":\"white\",\"width\":0.5},\"pattern\":{\"fillmode\":\"overlay\",\"size\":10,\"solidity\":0.2}},\"type\":\"bar\"}],\"barpolar\":[{\"marker\":{\"line\":{\"color\":\"white\",\"width\":0.5},\"pattern\":{\"fillmode\":\"overlay\",\"size\":10,\"solidity\":0.2}},\"type\":\"barpolar\"}],\"carpet\":[{\"aaxis\":{\"endlinecolor\":\"rgb(36,36,36)\",\"gridcolor\":\"white\",\"linecolor\":\"white\",\"minorgridcolor\":\"white\",\"startlinecolor\":\"rgb(36,36,36)\"},\"baxis\":{\"endlinecolor\":\"rgb(36,36,36)\",\"gridcolor\":\"white\",\"linecolor\":\"white\",\"minorgridcolor\":\"white\",\"startlinecolor\":\"rgb(36,36,36)\"},\"type\":\"carpet\"}],\"choropleth\":[{\"colorbar\":{\"outlinewidth\":1,\"tickcolor\":\"rgb(36,36,36)\",\"ticks\":\"outside\"},\"type\":\"choropleth\"}],\"contour\":[{\"colorbar\":{\"outlinewidth\":1,\"tickcolor\":\"rgb(36,36,36)\",\"ticks\":\"outside\"},\"colorscale\":[[0.0,\"#440154\"],[0.1111111111111111,\"#482878\"],[0.2222222222222222,\"#3e4989\"],[0.3333333333333333,\"#31688e\"],[0.4444444444444444,\"#26828e\"],[0.5555555555555556,\"#1f9e89\"],[0.6666666666666666,\"#35b779\"],[0.7777777777777778,\"#6ece58\"],[0.8888888888888888,\"#b5de2b\"],[1.0,\"#fde725\"]],\"type\":\"contour\"}],\"contourcarpet\":[{\"colorbar\":{\"outlinewidth\":1,\"tickcolor\":\"rgb(36,36,36)\",\"ticks\":\"outside\"},\"type\":\"contourcarpet\"}],\"heatmap\":[{\"colorbar\":{\"outlinewidth\":1,\"tickcolor\":\"rgb(36,36,36)\",\"ticks\":\"outside\"},\"colorscale\":[[0.0,\"#440154\"],[0.1111111111111111,\"#482878\"],[0.2222222222222222,\"#3e4989\"],[0.3333333333333333,\"#31688e\"],[0.4444444444444444,\"#26828e\"],[0.5555555555555556,\"#1f9e89\"],[0.6666666666666666,\"#35b779\"],[0.7777777777777778,\"#6ece58\"],[0.8888888888888888,\"#b5de2b\"],[1.0,\"#fde725\"]],\"type\":\"heatmap\"}],\"heatmapgl\":[{\"colorbar\":{\"outlinewidth\":1,\"tickcolor\":\"rgb(36,36,36)\",\"ticks\":\"outside\"},\"colorscale\":[[0.0,\"#440154\"],[0.1111111111111111,\"#482878\"],[0.2222222222222222,\"#3e4989\"],[0.3333333333333333,\"#31688e\"],[0.4444444444444444,\"#26828e\"],[0.5555555555555556,\"#1f9e89\"],[0.6666666666666666,\"#35b779\"],[0.7777777777777778,\"#6ece58\"],[0.8888888888888888,\"#b5de2b\"],[1.0,\"#fde725\"]],\"type\":\"heatmapgl\"}],\"histogram\":[{\"marker\":{\"line\":{\"color\":\"white\",\"width\":0.6}},\"type\":\"histogram\"}],\"histogram2d\":[{\"colorbar\":{\"outlinewidth\":1,\"tickcolor\":\"rgb(36,36,36)\",\"ticks\":\"outside\"},\"colorscale\":[[0.0,\"#440154\"],[0.1111111111111111,\"#482878\"],[0.2222222222222222,\"#3e4989\"],[0.3333333333333333,\"#31688e\"],[0.4444444444444444,\"#26828e\"],[0.5555555555555556,\"#1f9e89\"],[0.6666666666666666,\"#35b779\"],[0.7777777777777778,\"#6ece58\"],[0.8888888888888888,\"#b5de2b\"],[1.0,\"#fde725\"]],\"type\":\"histogram2d\"}],\"histogram2dcontour\":[{\"colorbar\":{\"outlinewidth\":1,\"tickcolor\":\"rgb(36,36,36)\",\"ticks\":\"outside\"},\"colorscale\":[[0.0,\"#440154\"],[0.1111111111111111,\"#482878\"],[0.2222222222222222,\"#3e4989\"],[0.3333333333333333,\"#31688e\"],[0.4444444444444444,\"#26828e\"],[0.5555555555555556,\"#1f9e89\"],[0.6666666666666666,\"#35b779\"],[0.7777777777777778,\"#6ece58\"],[0.8888888888888888,\"#b5de2b\"],[1.0,\"#fde725\"]],\"type\":\"histogram2dcontour\"}],\"mesh3d\":[{\"colorbar\":{\"outlinewidth\":1,\"tickcolor\":\"rgb(36,36,36)\",\"ticks\":\"outside\"},\"type\":\"mesh3d\"}],\"parcoords\":[{\"line\":{\"colorbar\":{\"outlinewidth\":1,\"tickcolor\":\"rgb(36,36,36)\",\"ticks\":\"outside\"}},\"type\":\"parcoords\"}],\"pie\":[{\"automargin\":true,\"type\":\"pie\"}],\"scatter\":[{\"marker\":{\"colorbar\":{\"outlinewidth\":1,\"tickcolor\":\"rgb(36,36,36)\",\"ticks\":\"outside\"}},\"type\":\"scatter\"}],\"scatter3d\":[{\"line\":{\"colorbar\":{\"outlinewidth\":1,\"tickcolor\":\"rgb(36,36,36)\",\"ticks\":\"outside\"}},\"marker\":{\"colorbar\":{\"outlinewidth\":1,\"tickcolor\":\"rgb(36,36,36)\",\"ticks\":\"outside\"}},\"type\":\"scatter3d\"}],\"scattercarpet\":[{\"marker\":{\"colorbar\":{\"outlinewidth\":1,\"tickcolor\":\"rgb(36,36,36)\",\"ticks\":\"outside\"}},\"type\":\"scattercarpet\"}],\"scattergeo\":[{\"marker\":{\"colorbar\":{\"outlinewidth\":1,\"tickcolor\":\"rgb(36,36,36)\",\"ticks\":\"outside\"}},\"type\":\"scattergeo\"}],\"scattergl\":[{\"marker\":{\"colorbar\":{\"outlinewidth\":1,\"tickcolor\":\"rgb(36,36,36)\",\"ticks\":\"outside\"}},\"type\":\"scattergl\"}],\"scattermapbox\":[{\"marker\":{\"colorbar\":{\"outlinewidth\":1,\"tickcolor\":\"rgb(36,36,36)\",\"ticks\":\"outside\"}},\"type\":\"scattermapbox\"}],\"scatterpolar\":[{\"marker\":{\"colorbar\":{\"outlinewidth\":1,\"tickcolor\":\"rgb(36,36,36)\",\"ticks\":\"outside\"}},\"type\":\"scatterpolar\"}],\"scatterpolargl\":[{\"marker\":{\"colorbar\":{\"outlinewidth\":1,\"tickcolor\":\"rgb(36,36,36)\",\"ticks\":\"outside\"}},\"type\":\"scatterpolargl\"}],\"scatterternary\":[{\"marker\":{\"colorbar\":{\"outlinewidth\":1,\"tickcolor\":\"rgb(36,36,36)\",\"ticks\":\"outside\"}},\"type\":\"scatterternary\"}],\"surface\":[{\"colorbar\":{\"outlinewidth\":1,\"tickcolor\":\"rgb(36,36,36)\",\"ticks\":\"outside\"},\"colorscale\":[[0.0,\"#440154\"],[0.1111111111111111,\"#482878\"],[0.2222222222222222,\"#3e4989\"],[0.3333333333333333,\"#31688e\"],[0.4444444444444444,\"#26828e\"],[0.5555555555555556,\"#1f9e89\"],[0.6666666666666666,\"#35b779\"],[0.7777777777777778,\"#6ece58\"],[0.8888888888888888,\"#b5de2b\"],[1.0,\"#fde725\"]],\"type\":\"surface\"}],\"table\":[{\"cells\":{\"fill\":{\"color\":\"rgb(237,237,237)\"},\"line\":{\"color\":\"white\"}},\"header\":{\"fill\":{\"color\":\"rgb(217,217,217)\"},\"line\":{\"color\":\"white\"}},\"type\":\"table\"}]},\"layout\":{\"annotationdefaults\":{\"arrowhead\":0,\"arrowwidth\":1},\"autotypenumbers\":\"strict\",\"coloraxis\":{\"colorbar\":{\"outlinewidth\":1,\"tickcolor\":\"rgb(36,36,36)\",\"ticks\":\"outside\"}},\"colorscale\":{\"diverging\":[[0.0,\"rgb(103,0,31)\"],[0.1,\"rgb(178,24,43)\"],[0.2,\"rgb(214,96,77)\"],[0.3,\"rgb(244,165,130)\"],[0.4,\"rgb(253,219,199)\"],[0.5,\"rgb(247,247,247)\"],[0.6,\"rgb(209,229,240)\"],[0.7,\"rgb(146,197,222)\"],[0.8,\"rgb(67,147,195)\"],[0.9,\"rgb(33,102,172)\"],[1.0,\"rgb(5,48,97)\"]],\"sequential\":[[0.0,\"#440154\"],[0.1111111111111111,\"#482878\"],[0.2222222222222222,\"#3e4989\"],[0.3333333333333333,\"#31688e\"],[0.4444444444444444,\"#26828e\"],[0.5555555555555556,\"#1f9e89\"],[0.6666666666666666,\"#35b779\"],[0.7777777777777778,\"#6ece58\"],[0.8888888888888888,\"#b5de2b\"],[1.0,\"#fde725\"]],\"sequentialminus\":[[0.0,\"#440154\"],[0.1111111111111111,\"#482878\"],[0.2222222222222222,\"#3e4989\"],[0.3333333333333333,\"#31688e\"],[0.4444444444444444,\"#26828e\"],[0.5555555555555556,\"#1f9e89\"],[0.6666666666666666,\"#35b779\"],[0.7777777777777778,\"#6ece58\"],[0.8888888888888888,\"#b5de2b\"],[1.0,\"#fde725\"]]},\"colorway\":[\"#1F77B4\",\"#FF7F0E\",\"#2CA02C\",\"#D62728\",\"#9467BD\",\"#8C564B\",\"#E377C2\",\"#7F7F7F\",\"#BCBD22\",\"#17BECF\"],\"font\":{\"color\":\"rgb(36,36,36)\"},\"geo\":{\"bgcolor\":\"white\",\"lakecolor\":\"white\",\"landcolor\":\"white\",\"showlakes\":true,\"showland\":true,\"subunitcolor\":\"white\"},\"hoverlabel\":{\"align\":\"left\"},\"hovermode\":\"closest\",\"mapbox\":{\"style\":\"light\"},\"paper_bgcolor\":\"white\",\"plot_bgcolor\":\"white\",\"polar\":{\"angularaxis\":{\"gridcolor\":\"rgb(232,232,232)\",\"linecolor\":\"rgb(36,36,36)\",\"showgrid\":false,\"showline\":true,\"ticks\":\"outside\"},\"bgcolor\":\"white\",\"radialaxis\":{\"gridcolor\":\"rgb(232,232,232)\",\"linecolor\":\"rgb(36,36,36)\",\"showgrid\":false,\"showline\":true,\"ticks\":\"outside\"}},\"scene\":{\"xaxis\":{\"backgroundcolor\":\"white\",\"gridcolor\":\"rgb(232,232,232)\",\"gridwidth\":2,\"linecolor\":\"rgb(36,36,36)\",\"showbackground\":true,\"showgrid\":false,\"showline\":true,\"ticks\":\"outside\",\"zeroline\":false,\"zerolinecolor\":\"rgb(36,36,36)\"},\"yaxis\":{\"backgroundcolor\":\"white\",\"gridcolor\":\"rgb(232,232,232)\",\"gridwidth\":2,\"linecolor\":\"rgb(36,36,36)\",\"showbackground\":true,\"showgrid\":false,\"showline\":true,\"ticks\":\"outside\",\"zeroline\":false,\"zerolinecolor\":\"rgb(36,36,36)\"},\"zaxis\":{\"backgroundcolor\":\"white\",\"gridcolor\":\"rgb(232,232,232)\",\"gridwidth\":2,\"linecolor\":\"rgb(36,36,36)\",\"showbackground\":true,\"showgrid\":false,\"showline\":true,\"ticks\":\"outside\",\"zeroline\":false,\"zerolinecolor\":\"rgb(36,36,36)\"}},\"shapedefaults\":{\"fillcolor\":\"black\",\"line\":{\"width\":0},\"opacity\":0.3},\"ternary\":{\"aaxis\":{\"gridcolor\":\"rgb(232,232,232)\",\"linecolor\":\"rgb(36,36,36)\",\"showgrid\":false,\"showline\":true,\"ticks\":\"outside\"},\"baxis\":{\"gridcolor\":\"rgb(232,232,232)\",\"linecolor\":\"rgb(36,36,36)\",\"showgrid\":false,\"showline\":true,\"ticks\":\"outside\"},\"bgcolor\":\"white\",\"caxis\":{\"gridcolor\":\"rgb(232,232,232)\",\"linecolor\":\"rgb(36,36,36)\",\"showgrid\":false,\"showline\":true,\"ticks\":\"outside\"}},\"title\":{\"x\":0.05},\"xaxis\":{\"automargin\":true,\"gridcolor\":\"rgb(232,232,232)\",\"linecolor\":\"rgb(36,36,36)\",\"showgrid\":false,\"showline\":true,\"ticks\":\"outside\",\"title\":{\"standoff\":15},\"zeroline\":false,\"zerolinecolor\":\"rgb(36,36,36)\"},\"yaxis\":{\"automargin\":true,\"gridcolor\":\"rgb(232,232,232)\",\"linecolor\":\"rgb(36,36,36)\",\"showgrid\":false,\"showline\":true,\"ticks\":\"outside\",\"title\":{\"standoff\":15},\"zeroline\":false,\"zerolinecolor\":\"rgb(36,36,36)\"}}},\"title\":{\"text\":\"\"},\"updatemenus\":[{\"buttons\":[{\"args\":[{\"hoverlabel.bgcolor\":[null,null],\"hovertext\":[null,[\"Node ID: 0<br>Pullback set label: 0<br>Partial cluster label: -1<br>Node size: 1<br>Summary statistic: 0.571\",\"Node ID: 1<br>Pullback set label: 1<br>Partial cluster label: -1<br>Node size: 1<br>Summary statistic: 0.571\",\"Node ID: 2<br>Pullback set label: 2<br>Partial cluster label: -1<br>Node size: 1<br>Summary statistic: 0.857\",\"Node ID: 3<br>Pullback set label: 3<br>Partial cluster label: -1<br>Node size: 1<br>Summary statistic: 1.14\",\"Node ID: 4<br>Pullback set label: 4<br>Partial cluster label: -1<br>Node size: 1<br>Summary statistic: 1.14\",\"Node ID: 5<br>Pullback set label: 5<br>Partial cluster label: -1<br>Node size: 1<br>Summary statistic: 1.43\",\"Node ID: 6<br>Pullback set label: 6<br>Partial cluster label: -1<br>Node size: 1<br>Summary statistic: 1.43\",\"Node ID: 7<br>Pullback set label: 7<br>Partial cluster label: -1<br>Node size: 1<br>Summary statistic: 1.43\",\"Node ID: 8<br>Pullback set label: 8<br>Partial cluster label: -1<br>Node size: 1<br>Summary statistic: 2.0\",\"Node ID: 9<br>Pullback set label: 9<br>Partial cluster label: -1<br>Node size: 1<br>Summary statistic: 1.71\",\"Node ID: 10<br>Pullback set label: 10<br>Partial cluster label: -1<br>Node size: 1<br>Summary statistic: 2.29\",\"Node ID: 11<br>Pullback set label: 11<br>Partial cluster label: -1<br>Node size: 1<br>Summary statistic: 2.57\",\"Node ID: 12<br>Pullback set label: 12<br>Partial cluster label: -1<br>Node size: 1<br>Summary statistic: 2.43\",\"Node ID: 13<br>Pullback set label: 13<br>Partial cluster label: -1<br>Node size: 1<br>Summary statistic: 2.43\",\"Node ID: 14<br>Pullback set label: 14<br>Partial cluster label: -1<br>Node size: 1<br>Summary statistic: 2.71\"]],\"marker.color\":[null,[0.5714285714285714,0.5714285714285714,0.8571428571428571,1.1428571428571428,1.1428571428571428,1.4285714285714286,1.4285714285714286,1.4285714285714286,2.0,1.7142857142857142,2.2857142857142856,2.5714285714285716,2.4285714285714284,2.4285714285714284,2.7142857142857144]]}],\"label\":\"color_variable\",\"method\":\"restyle\"},{\"args\":[{\"hovertext\":[null,[\"Node ID: 0<br>Pullback set label: 0<br>Partial cluster label: -1<br>Node size: 1<br>Summary statistic: 1.0\",\"Node ID: 1<br>Pullback set label: 1<br>Partial cluster label: -1<br>Node size: 1<br>Summary statistic: 1.0\",\"Node ID: 2<br>Pullback set label: 2<br>Partial cluster label: -1<br>Node size: 1<br>Summary statistic: 1.0\",\"Node ID: 3<br>Pullback set label: 3<br>Partial cluster label: -1<br>Node size: 1<br>Summary statistic: 1.0\",\"Node ID: 4<br>Pullback set label: 4<br>Partial cluster label: -1<br>Node size: 1<br>Summary statistic: 1.0\",\"Node ID: 5<br>Pullback set label: 5<br>Partial cluster label: -1<br>Node size: 1<br>Summary statistic: 2.0\",\"Node ID: 6<br>Pullback set label: 6<br>Partial cluster label: -1<br>Node size: 1<br>Summary statistic: 2.0\",\"Node ID: 7<br>Pullback set label: 7<br>Partial cluster label: -1<br>Node size: 1<br>Summary statistic: 2.0\",\"Node ID: 8<br>Pullback set label: 8<br>Partial cluster label: -1<br>Node size: 1<br>Summary statistic: 2.0\",\"Node ID: 9<br>Pullback set label: 9<br>Partial cluster label: -1<br>Node size: 1<br>Summary statistic: 2.0\",\"Node ID: 10<br>Pullback set label: 10<br>Partial cluster label: -1<br>Node size: 1<br>Summary statistic: 3.0\",\"Node ID: 11<br>Pullback set label: 11<br>Partial cluster label: -1<br>Node size: 1<br>Summary statistic: 3.0\",\"Node ID: 12<br>Pullback set label: 12<br>Partial cluster label: -1<br>Node size: 1<br>Summary statistic: 3.0\",\"Node ID: 13<br>Pullback set label: 13<br>Partial cluster label: -1<br>Node size: 1<br>Summary statistic: 3.0\",\"Node ID: 14<br>Pullback set label: 14<br>Partial cluster label: -1<br>Node size: 1<br>Summary statistic: 3.0\"]],\"marker.color\":[null,[1.0,1.0,1.0,1.0,1.0,2.0,2.0,2.0,2.0,2.0,3.0,3.0,3.0,3.0,3.0]]}],\"label\":\"Column Category\",\"method\":\"restyle\"},{\"args\":[{\"hovertext\":[null,[\"Node ID: 0<br>Pullback set label: 0<br>Partial cluster label: -1<br>Node size: 1<br>Summary statistic: 0\",\"Node ID: 1<br>Pullback set label: 1<br>Partial cluster label: -1<br>Node size: 1<br>Summary statistic: 1.0\",\"Node ID: 2<br>Pullback set label: 2<br>Partial cluster label: -1<br>Node size: 1<br>Summary statistic: 2.0\",\"Node ID: 3<br>Pullback set label: 3<br>Partial cluster label: -1<br>Node size: 1<br>Summary statistic: 3.0\",\"Node ID: 4<br>Pullback set label: 4<br>Partial cluster label: -1<br>Node size: 1<br>Summary statistic: 4.0\",\"Node ID: 5<br>Pullback set label: 5<br>Partial cluster label: -1<br>Node size: 1<br>Summary statistic: 5.0\",\"Node ID: 6<br>Pullback set label: 6<br>Partial cluster label: -1<br>Node size: 1<br>Summary statistic: 6.0\",\"Node ID: 7<br>Pullback set label: 7<br>Partial cluster label: -1<br>Node size: 1<br>Summary statistic: 7.0\",\"Node ID: 8<br>Pullback set label: 8<br>Partial cluster label: -1<br>Node size: 1<br>Summary statistic: 8.0\",\"Node ID: 9<br>Pullback set label: 9<br>Partial cluster label: -1<br>Node size: 1<br>Summary statistic: 9.0\",\"Node ID: 10<br>Pullback set label: 10<br>Partial cluster label: -1<br>Node size: 1<br>Summary statistic: 10.0\",\"Node ID: 11<br>Pullback set label: 11<br>Partial cluster label: -1<br>Node size: 1<br>Summary statistic: 11.0\",\"Node ID: 12<br>Pullback set label: 12<br>Partial cluster label: -1<br>Node size: 1<br>Summary statistic: 12.0\",\"Node ID: 13<br>Pullback set label: 13<br>Partial cluster label: -1<br>Node size: 1<br>Summary statistic: 13.0\",\"Node ID: 14<br>Pullback set label: 14<br>Partial cluster label: -1<br>Node size: 1<br>Summary statistic: 14.0\"]],\"marker.color\":[null,[0.0,1.0,2.0,3.0,4.0,5.0,6.0,7.0,8.0,9.0,10.0,11.0,12.0,13.0,14.0]]}],\"label\":\"Column Samples\",\"method\":\"restyle\"},{\"args\":[{\"hovertext\":[null,[\"Node ID: 0<br>Pullback set label: 0<br>Partial cluster label: -1<br>Node size: 1<br>Summary statistic: 0\",\"Node ID: 1<br>Pullback set label: 1<br>Partial cluster label: -1<br>Node size: 1<br>Summary statistic: 1.0\",\"Node ID: 2<br>Pullback set label: 2<br>Partial cluster label: -1<br>Node size: 1<br>Summary statistic: 1.0\",\"Node ID: 3<br>Pullback set label: 3<br>Partial cluster label: -1<br>Node size: 1<br>Summary statistic: 1.0\",\"Node ID: 4<br>Pullback set label: 4<br>Partial cluster label: -1<br>Node size: 1<br>Summary statistic: 1.0\",\"Node ID: 5<br>Pullback set label: 5<br>Partial cluster label: -1<br>Node size: 1<br>Summary statistic: 0\",\"Node ID: 6<br>Pullback set label: 6<br>Partial cluster label: -1<br>Node size: 1<br>Summary statistic: 0\",\"Node ID: 7<br>Pullback set label: 7<br>Partial cluster label: -1<br>Node size: 1<br>Summary statistic: 0\",\"Node ID: 8<br>Pullback set label: 8<br>Partial cluster label: -1<br>Node size: 1<br>Summary statistic: 1.0\",\"Node ID: 9<br>Pullback set label: 9<br>Partial cluster label: -1<br>Node size: 1<br>Summary statistic: 0\",\"Node ID: 10<br>Pullback set label: 10<br>Partial cluster label: -1<br>Node size: 1<br>Summary statistic: 0\",\"Node ID: 11<br>Pullback set label: 11<br>Partial cluster label: -1<br>Node size: 1<br>Summary statistic: 1.0\",\"Node ID: 12<br>Pullback set label: 12<br>Partial cluster label: -1<br>Node size: 1<br>Summary statistic: 0\",\"Node ID: 13<br>Pullback set label: 13<br>Partial cluster label: -1<br>Node size: 1<br>Summary statistic: 0\",\"Node ID: 14<br>Pullback set label: 14<br>Partial cluster label: -1<br>Node size: 1<br>Summary statistic: 0\"]],\"marker.color\":[null,[0.0,1.0,1.0,1.0,1.0,0.0,0.0,0.0,1.0,0.0,0.0,1.0,0.0,0.0,0.0]]}],\"label\":\"Column pos1\",\"method\":\"restyle\"},{\"args\":[{\"hovertext\":[null,[\"Node ID: 0<br>Pullback set label: 0<br>Partial cluster label: -1<br>Node size: 1<br>Summary statistic: 1.0\",\"Node ID: 1<br>Pullback set label: 1<br>Partial cluster label: -1<br>Node size: 1<br>Summary statistic: 0\",\"Node ID: 2<br>Pullback set label: 2<br>Partial cluster label: -1<br>Node size: 1<br>Summary statistic: 0\",\"Node ID: 3<br>Pullback set label: 3<br>Partial cluster label: -1<br>Node size: 1<br>Summary statistic: 1.0\",\"Node ID: 4<br>Pullback set label: 4<br>Partial cluster label: -1<br>Node size: 1<br>Summary statistic: 1.0\",\"Node ID: 5<br>Pullback set label: 5<br>Partial cluster label: -1<br>Node size: 1<br>Summary statistic: 1.0\",\"Node ID: 6<br>Pullback set label: 6<br>Partial cluster label: -1<br>Node size: 1<br>Summary statistic: 0\",\"Node ID: 7<br>Pullback set label: 7<br>Partial cluster label: -1<br>Node size: 1<br>Summary statistic: 0\",\"Node ID: 8<br>Pullback set label: 8<br>Partial cluster label: -1<br>Node size: 1<br>Summary statistic: 1.0\",\"Node ID: 9<br>Pullback set label: 9<br>Partial cluster label: -1<br>Node size: 1<br>Summary statistic: 0\",\"Node ID: 10<br>Pullback set label: 10<br>Partial cluster label: -1<br>Node size: 1<br>Summary statistic: 1.0\",\"Node ID: 11<br>Pullback set label: 11<br>Partial cluster label: -1<br>Node size: 1<br>Summary statistic: 1.0\",\"Node ID: 12<br>Pullback set label: 12<br>Partial cluster label: -1<br>Node size: 1<br>Summary statistic: 0\",\"Node ID: 13<br>Pullback set label: 13<br>Partial cluster label: -1<br>Node size: 1<br>Summary statistic: 0\",\"Node ID: 14<br>Pullback set label: 14<br>Partial cluster label: -1<br>Node size: 1<br>Summary statistic: 1.0\"]],\"marker.color\":[null,[1.0,0.0,0.0,1.0,1.0,1.0,0.0,0.0,1.0,0.0,1.0,1.0,0.0,0.0,1.0]]}],\"label\":\"Column pos2\",\"method\":\"restyle\"},{\"args\":[{\"hovertext\":[null,[\"Node ID: 0<br>Pullback set label: 0<br>Partial cluster label: -1<br>Node size: 1<br>Summary statistic: 1.0\",\"Node ID: 1<br>Pullback set label: 1<br>Partial cluster label: -1<br>Node size: 1<br>Summary statistic: 0\",\"Node ID: 2<br>Pullback set label: 2<br>Partial cluster label: -1<br>Node size: 1<br>Summary statistic: 1.0\",\"Node ID: 3<br>Pullback set label: 3<br>Partial cluster label: -1<br>Node size: 1<br>Summary statistic: 1.0\",\"Node ID: 4<br>Pullback set label: 4<br>Partial cluster label: -1<br>Node size: 1<br>Summary statistic: 1.0\",\"Node ID: 5<br>Pullback set label: 5<br>Partial cluster label: -1<br>Node size: 1<br>Summary statistic: 1.0\",\"Node ID: 6<br>Pullback set label: 6<br>Partial cluster label: -1<br>Node size: 1<br>Summary statistic: 0\",\"Node ID: 7<br>Pullback set label: 7<br>Partial cluster label: -1<br>Node size: 1<br>Summary statistic: 1.0\",\"Node ID: 8<br>Pullback set label: 8<br>Partial cluster label: -1<br>Node size: 1<br>Summary statistic: 0\",\"Node ID: 9<br>Pullback set label: 9<br>Partial cluster label: -1<br>Node size: 1<br>Summary statistic: 0\",\"Node ID: 10<br>Pullback set label: 10<br>Partial cluster label: -1<br>Node size: 1<br>Summary statistic: 0\",\"Node ID: 11<br>Pullback set label: 11<br>Partial cluster label: -1<br>Node size: 1<br>Summary statistic: 0\",\"Node ID: 12<br>Pullback set label: 12<br>Partial cluster label: -1<br>Node size: 1<br>Summary statistic: 1.0\",\"Node ID: 13<br>Pullback set label: 13<br>Partial cluster label: -1<br>Node size: 1<br>Summary statistic: 0\",\"Node ID: 14<br>Pullback set label: 14<br>Partial cluster label: -1<br>Node size: 1<br>Summary statistic: 0\"]],\"marker.color\":[null,[1.0,0.0,1.0,1.0,1.0,1.0,0.0,1.0,0.0,0.0,0.0,0.0,1.0,0.0,0.0]]}],\"label\":\"Column pos3\",\"method\":\"restyle\"},{\"args\":[{\"hovertext\":[null,[\"Node ID: 0<br>Pullback set label: 0<br>Partial cluster label: -1<br>Node size: 1<br>Summary statistic: 0\",\"Node ID: 1<br>Pullback set label: 1<br>Partial cluster label: -1<br>Node size: 1<br>Summary statistic: 0\",\"Node ID: 2<br>Pullback set label: 2<br>Partial cluster label: -1<br>Node size: 1<br>Summary statistic: 0\",\"Node ID: 3<br>Pullback set label: 3<br>Partial cluster label: -1<br>Node size: 1<br>Summary statistic: 0\",\"Node ID: 4<br>Pullback set label: 4<br>Partial cluster label: -1<br>Node size: 1<br>Summary statistic: 0\",\"Node ID: 5<br>Pullback set label: 5<br>Partial cluster label: -1<br>Node size: 1<br>Summary statistic: 1.0\",\"Node ID: 6<br>Pullback set label: 6<br>Partial cluster label: -1<br>Node size: 1<br>Summary statistic: 1.0\",\"Node ID: 7<br>Pullback set label: 7<br>Partial cluster label: -1<br>Node size: 1<br>Summary statistic: 0\",\"Node ID: 8<br>Pullback set label: 8<br>Partial cluster label: -1<br>Node size: 1<br>Summary statistic: 1.0\",\"Node ID: 9<br>Pullback set label: 9<br>Partial cluster label: -1<br>Node size: 1<br>Summary statistic: 0\",\"Node ID: 10<br>Pullback set label: 10<br>Partial cluster label: -1<br>Node size: 1<br>Summary statistic: 1.0\",\"Node ID: 11<br>Pullback set label: 11<br>Partial cluster label: -1<br>Node size: 1<br>Summary statistic: 1.0\",\"Node ID: 12<br>Pullback set label: 12<br>Partial cluster label: -1<br>Node size: 1<br>Summary statistic: 0\",\"Node ID: 13<br>Pullback set label: 13<br>Partial cluster label: -1<br>Node size: 1<br>Summary statistic: 1.0\",\"Node ID: 14<br>Pullback set label: 14<br>Partial cluster label: -1<br>Node size: 1<br>Summary statistic: 0\"]],\"marker.color\":[null,[0.0,0.0,0.0,0.0,0.0,1.0,1.0,0.0,1.0,0.0,1.0,1.0,0.0,1.0,0.0]]}],\"label\":\"Column pos4\",\"method\":\"restyle\"},{\"args\":[{\"hovertext\":[null,[\"Node ID: 0<br>Pullback set label: 0<br>Partial cluster label: -1<br>Node size: 1<br>Summary statistic: 1.0\",\"Node ID: 1<br>Pullback set label: 1<br>Partial cluster label: -1<br>Node size: 1<br>Summary statistic: 1.0\",\"Node ID: 2<br>Pullback set label: 2<br>Partial cluster label: -1<br>Node size: 1<br>Summary statistic: 1.0\",\"Node ID: 3<br>Pullback set label: 3<br>Partial cluster label: -1<br>Node size: 1<br>Summary statistic: 1.0\",\"Node ID: 4<br>Pullback set label: 4<br>Partial cluster label: -1<br>Node size: 1<br>Summary statistic: 0\",\"Node ID: 5<br>Pullback set label: 5<br>Partial cluster label: -1<br>Node size: 1<br>Summary statistic: 0\",\"Node ID: 6<br>Pullback set label: 6<br>Partial cluster label: -1<br>Node size: 1<br>Summary statistic: 1.0\",\"Node ID: 7<br>Pullback set label: 7<br>Partial cluster label: -1<br>Node size: 1<br>Summary statistic: 0\",\"Node ID: 8<br>Pullback set label: 8<br>Partial cluster label: -1<br>Node size: 1<br>Summary statistic: 1.0\",\"Node ID: 9<br>Pullback set label: 9<br>Partial cluster label: -1<br>Node size: 1<br>Summary statistic: 1.0\",\"Node ID: 10<br>Pullback set label: 10<br>Partial cluster label: -1<br>Node size: 1<br>Summary statistic: 1.0\",\"Node ID: 11<br>Pullback set label: 11<br>Partial cluster label: -1<br>Node size: 1<br>Summary statistic: 1.0\",\"Node ID: 12<br>Pullback set label: 12<br>Partial cluster label: -1<br>Node size: 1<br>Summary statistic: 1.0\",\"Node ID: 13<br>Pullback set label: 13<br>Partial cluster label: -1<br>Node size: 1<br>Summary statistic: 0\",\"Node ID: 14<br>Pullback set label: 14<br>Partial cluster label: -1<br>Node size: 1<br>Summary statistic: 1.0\"]],\"marker.color\":[null,[1.0,1.0,1.0,1.0,0.0,0.0,1.0,0.0,1.0,1.0,1.0,1.0,1.0,0.0,1.0]]}],\"label\":\"Column pos5\",\"method\":\"restyle\"}],\"direction\":\"down\",\"pad\":{\"r\":10,\"t\":10},\"showactive\":true,\"x\":0.11,\"xanchor\":\"left\",\"y\":1.1,\"yanchor\":\"top\"}],\"xaxis\":{\"showgrid\":false,\"showline\":false,\"showticklabels\":false,\"ticks\":\"\",\"title\":{\"text\":\"\"},\"zeroline\":false},\"yaxis\":{\"showgrid\":false,\"showline\":false,\"showticklabels\":false,\"ticks\":\"\",\"title\":{\"text\":\"\"},\"zeroline\":false}},                        {\"scrollZoom\": true, \"responsive\": true}                    ).then(function(){\n",
              "                            \n",
              "var gd = document.getElementById('56d9cfb8-a376-4587-8120-93423213910f');\n",
              "var x = new MutationObserver(function (mutations, observer) {{\n",
              "        var display = window.getComputedStyle(gd).display;\n",
              "        if (!display || display === 'none') {{\n",
              "            console.log([gd, 'removed!']);\n",
              "            Plotly.purge(gd);\n",
              "            observer.disconnect();\n",
              "        }}\n",
              "}});\n",
              "\n",
              "// Listen for the removal of the full notebook cells\n",
              "var notebookContainer = gd.closest('#notebook-container');\n",
              "if (notebookContainer) {{\n",
              "    x.observe(notebookContainer, {childList: true});\n",
              "}}\n",
              "\n",
              "// Listen for the clearing of the current output cell\n",
              "var outputEl = gd.closest('.output');\n",
              "if (outputEl) {{\n",
              "    x.observe(outputEl, {childList: true});\n",
              "}}\n",
              "\n",
              "                        })                };                            </script>        </div>\n",
              "</body>\n",
              "</html>"
            ]
          },
          "metadata": {
            "tags": []
          }
        }
      ]
    },
    {
      "cell_type": "code",
      "metadata": {
        "id": "PN5thOEEmyOW"
      },
      "source": [
        "graph = pipe.fit_transform(df)"
      ],
      "execution_count": 38,
      "outputs": []
    },
    {
      "cell_type": "code",
      "metadata": {
        "colab": {
          "base_uri": "https://localhost:8080/"
        },
        "id": "_QMlnaBZl3wt",
        "outputId": "02bc60aa-99c9-4566-b734-b918b06a1157"
      },
      "source": [
        "graph.vs.attributes()"
      ],
      "execution_count": 39,
      "outputs": [
        {
          "output_type": "execute_result",
          "data": {
            "text/plain": [
              "['pullback_set_label', 'partial_cluster_label', 'node_elements']"
            ]
          },
          "metadata": {
            "tags": []
          },
          "execution_count": 39
        }
      ]
    },
    {
      "cell_type": "code",
      "metadata": {
        "id": "nFeNRydZnkz9"
      },
      "source": [
        "node_id = 0\n",
        "node_elements = graph.vs[\"node_elements\"]\n",
        "\n",
        "filter_func = np.sum\n",
        "\n",
        "pipe = make_mapper_pipeline(\n",
        "    filter_func=filter_func,\n",
        "    cover=cover,\n",
        "    clusterer=clusterer,\n",
        "    verbose=True,\n",
        "    n_jobs=n_jobs,\n",
        ")\n"
      ],
      "execution_count": 51,
      "outputs": []
    },
    {
      "cell_type": "code",
      "metadata": {
        "colab": {
          "base_uri": "https://localhost:8080/",
          "height": 643
        },
        "id": "laSw3Hmsod7P",
        "outputId": "564cc5d2-1a4d-4780-f2eb-ba418a6b125c"
      },
      "source": [
        "fig = plot_static_mapper_graph(pipe, df)\n",
        "fig.show(config={'scrollZoom': True})"
      ],
      "execution_count": 52,
      "outputs": [
        {
          "output_type": "stream",
          "text": [
            "[Pipeline] ............ (step 1 of 3) Processing scaler, total=   0.0s\n",
            "[Pipeline] ....... (step 2 of 3) Processing filter_func, total=   0.0s\n",
            "[Pipeline] ............. (step 3 of 3) Processing cover, total=   0.0s\n",
            "[Pipeline] .... (step 1 of 3) Processing pullback_cover, total=   0.0s\n",
            "[Pipeline] ........ (step 2 of 3) Processing clustering, total=   0.0s\n",
            "[Pipeline] ............. (step 3 of 3) Processing nerve, total=   0.0s\n"
          ],
          "name": "stdout"
        },
        {
          "output_type": "display_data",
          "data": {
            "text/html": [
              "<html>\n",
              "<head><meta charset=\"utf-8\" /></head>\n",
              "<body>\n",
              "    <div>            <script src=\"https://cdnjs.cloudflare.com/ajax/libs/mathjax/2.7.5/MathJax.js?config=TeX-AMS-MML_SVG\"></script><script type=\"text/javascript\">if (window.MathJax) {MathJax.Hub.Config({SVG: {font: \"STIX-Web\"}});}</script>                <script type=\"text/javascript\">window.PlotlyConfig = {MathJaxConfig: 'local'};</script>\n",
              "        <script src=\"https://cdn.plot.ly/plotly-2.1.0.min.js\"></script>                <div id=\"fac133a5-8526-44d2-a848-cf32cf3fb412\" class=\"plotly-graph-div\" style=\"height:525px; width:100%;\"></div>            <script type=\"text/javascript\">                                    window.PLOTLYENV=window.PLOTLYENV || {};                                    if (document.getElementById(\"fac133a5-8526-44d2-a848-cf32cf3fb412\")) {                    Plotly.newPlot(                        \"fac133a5-8526-44d2-a848-cf32cf3fb412\",                        [{\"hoverinfo\":\"none\",\"line\":{\"color\":\"#888\",\"width\":1},\"mode\":\"lines\",\"name\":\"edge_trace\",\"type\":\"scatter\",\"uid\":\"1461eb26-3a0c-4311-a556-d4e488ece5de\",\"x\":[0.4795724377356356,-0.703939217065637,null,1.5483863967231335,1.3012006961981,null,1.3012006961981,0.5746120922448182,null],\"y\":[1.9686460919705195,2.120923407030785,null,0.6729929051083763,-0.5256550216889465,null,-0.5256550216889465,-1.51537213018234,null]},{\"hoverinfo\":\"text\",\"hovertext\":[\"Node ID: 0<br>Pullback set label: 0<br>Partial cluster label: -1<br>Node size: 3<br>Summary statistic: 0.667\",\"Node ID: 1<br>Pullback set label: 1<br>Partial cluster label: -1<br>Node size: 1<br>Summary statistic: 0.857\",\"Node ID: 2<br>Pullback set label: 2<br>Partial cluster label: -1<br>Node size: 2<br>Summary statistic: 1.14\",\"Node ID: 3<br>Pullback set label: 3<br>Partial cluster label: -1<br>Node size: 3<br>Summary statistic: 1.43\",\"Node ID: 4<br>Pullback set label: 5<br>Partial cluster label: -1<br>Node size: 1<br>Summary statistic: 2.0\",\"Node ID: 5<br>Pullback set label: 4<br>Partial cluster label: -1<br>Node size: 1<br>Summary statistic: 1.71\",\"Node ID: 6<br>Pullback set label: 6<br>Partial cluster label: -1<br>Node size: 1<br>Summary statistic: 2.29\",\"Node ID: 7<br>Pullback set label: 7<br>Partial cluster label: -1<br>Node size: 3<br>Summary statistic: 2.38\",\"Node ID: 8<br>Pullback set label: 8<br>Partial cluster label: -1<br>Node size: 4<br>Summary statistic: 2.54\"],\"marker\":{\"color\":[0.6666666666666666,0.8571428571428571,1.1428571428571428,1.4285714285714286,2.0,1.7142857142857142,2.2857142857142856,2.380952380952381,2.5357142857142856],\"colorbar\":{\"thickness\":15,\"title\":{\"side\":\"right\",\"text\":\"\"},\"xanchor\":\"left\"},\"colorscale\":[[0.0,\"#440154\"],[0.1111111111111111,\"#482878\"],[0.2222222222222222,\"#3e4989\"],[0.3333333333333333,\"#31688e\"],[0.4444444444444444,\"#26828e\"],[0.5555555555555556,\"#1f9e89\"],[0.6666666666666666,\"#35b779\"],[0.7777777777777778,\"#6ece58\"],[0.8888888888888888,\"#b5de2b\"],[1.0,\"#fde725\"]],\"line\":{\"color\":\"#888\",\"width\":1},\"opacity\":1.0,\"reversescale\":false,\"showscale\":true,\"size\":[3,1,2,3,1,1,1,3,4],\"sizemin\":4,\"sizemode\":\"area\",\"sizeref\":0.05555555555555555},\"mode\":\"markers\",\"name\":\"node_trace\",\"type\":\"scatter\",\"uid\":\"897648de-bc6b-4eba-8513-3e3d80d8ccd8\",\"x\":[0.4795724377356356,-0.703939217065637,-1.0974105119008533,-2.3127285456109297,-0.7890317882240344,-2.163207912683517,1.5483863967231335,1.3012006961981,0.5746120922448182],\"y\":[1.9686460919705195,2.120923407030785,-1.7273168421100853,-0.5168850553078252,0.12313311532382877,1.2330674958150891,0.6729929051083763,-0.5256550216889465,-1.51537213018234]}],                        {\"autosize\":false,\"hovermode\":\"closest\",\"margin\":{\"b\":20,\"l\":5,\"r\":5,\"t\":40},\"showlegend\":false,\"template\":{\"data\":{\"bar\":[{\"error_x\":{\"color\":\"rgb(36,36,36)\"},\"error_y\":{\"color\":\"rgb(36,36,36)\"},\"marker\":{\"line\":{\"color\":\"white\",\"width\":0.5},\"pattern\":{\"fillmode\":\"overlay\",\"size\":10,\"solidity\":0.2}},\"type\":\"bar\"}],\"barpolar\":[{\"marker\":{\"line\":{\"color\":\"white\",\"width\":0.5},\"pattern\":{\"fillmode\":\"overlay\",\"size\":10,\"solidity\":0.2}},\"type\":\"barpolar\"}],\"carpet\":[{\"aaxis\":{\"endlinecolor\":\"rgb(36,36,36)\",\"gridcolor\":\"white\",\"linecolor\":\"white\",\"minorgridcolor\":\"white\",\"startlinecolor\":\"rgb(36,36,36)\"},\"baxis\":{\"endlinecolor\":\"rgb(36,36,36)\",\"gridcolor\":\"white\",\"linecolor\":\"white\",\"minorgridcolor\":\"white\",\"startlinecolor\":\"rgb(36,36,36)\"},\"type\":\"carpet\"}],\"choropleth\":[{\"colorbar\":{\"outlinewidth\":1,\"tickcolor\":\"rgb(36,36,36)\",\"ticks\":\"outside\"},\"type\":\"choropleth\"}],\"contour\":[{\"colorbar\":{\"outlinewidth\":1,\"tickcolor\":\"rgb(36,36,36)\",\"ticks\":\"outside\"},\"colorscale\":[[0.0,\"#440154\"],[0.1111111111111111,\"#482878\"],[0.2222222222222222,\"#3e4989\"],[0.3333333333333333,\"#31688e\"],[0.4444444444444444,\"#26828e\"],[0.5555555555555556,\"#1f9e89\"],[0.6666666666666666,\"#35b779\"],[0.7777777777777778,\"#6ece58\"],[0.8888888888888888,\"#b5de2b\"],[1.0,\"#fde725\"]],\"type\":\"contour\"}],\"contourcarpet\":[{\"colorbar\":{\"outlinewidth\":1,\"tickcolor\":\"rgb(36,36,36)\",\"ticks\":\"outside\"},\"type\":\"contourcarpet\"}],\"heatmap\":[{\"colorbar\":{\"outlinewidth\":1,\"tickcolor\":\"rgb(36,36,36)\",\"ticks\":\"outside\"},\"colorscale\":[[0.0,\"#440154\"],[0.1111111111111111,\"#482878\"],[0.2222222222222222,\"#3e4989\"],[0.3333333333333333,\"#31688e\"],[0.4444444444444444,\"#26828e\"],[0.5555555555555556,\"#1f9e89\"],[0.6666666666666666,\"#35b779\"],[0.7777777777777778,\"#6ece58\"],[0.8888888888888888,\"#b5de2b\"],[1.0,\"#fde725\"]],\"type\":\"heatmap\"}],\"heatmapgl\":[{\"colorbar\":{\"outlinewidth\":1,\"tickcolor\":\"rgb(36,36,36)\",\"ticks\":\"outside\"},\"colorscale\":[[0.0,\"#440154\"],[0.1111111111111111,\"#482878\"],[0.2222222222222222,\"#3e4989\"],[0.3333333333333333,\"#31688e\"],[0.4444444444444444,\"#26828e\"],[0.5555555555555556,\"#1f9e89\"],[0.6666666666666666,\"#35b779\"],[0.7777777777777778,\"#6ece58\"],[0.8888888888888888,\"#b5de2b\"],[1.0,\"#fde725\"]],\"type\":\"heatmapgl\"}],\"histogram\":[{\"marker\":{\"line\":{\"color\":\"white\",\"width\":0.6}},\"type\":\"histogram\"}],\"histogram2d\":[{\"colorbar\":{\"outlinewidth\":1,\"tickcolor\":\"rgb(36,36,36)\",\"ticks\":\"outside\"},\"colorscale\":[[0.0,\"#440154\"],[0.1111111111111111,\"#482878\"],[0.2222222222222222,\"#3e4989\"],[0.3333333333333333,\"#31688e\"],[0.4444444444444444,\"#26828e\"],[0.5555555555555556,\"#1f9e89\"],[0.6666666666666666,\"#35b779\"],[0.7777777777777778,\"#6ece58\"],[0.8888888888888888,\"#b5de2b\"],[1.0,\"#fde725\"]],\"type\":\"histogram2d\"}],\"histogram2dcontour\":[{\"colorbar\":{\"outlinewidth\":1,\"tickcolor\":\"rgb(36,36,36)\",\"ticks\":\"outside\"},\"colorscale\":[[0.0,\"#440154\"],[0.1111111111111111,\"#482878\"],[0.2222222222222222,\"#3e4989\"],[0.3333333333333333,\"#31688e\"],[0.4444444444444444,\"#26828e\"],[0.5555555555555556,\"#1f9e89\"],[0.6666666666666666,\"#35b779\"],[0.7777777777777778,\"#6ece58\"],[0.8888888888888888,\"#b5de2b\"],[1.0,\"#fde725\"]],\"type\":\"histogram2dcontour\"}],\"mesh3d\":[{\"colorbar\":{\"outlinewidth\":1,\"tickcolor\":\"rgb(36,36,36)\",\"ticks\":\"outside\"},\"type\":\"mesh3d\"}],\"parcoords\":[{\"line\":{\"colorbar\":{\"outlinewidth\":1,\"tickcolor\":\"rgb(36,36,36)\",\"ticks\":\"outside\"}},\"type\":\"parcoords\"}],\"pie\":[{\"automargin\":true,\"type\":\"pie\"}],\"scatter\":[{\"marker\":{\"colorbar\":{\"outlinewidth\":1,\"tickcolor\":\"rgb(36,36,36)\",\"ticks\":\"outside\"}},\"type\":\"scatter\"}],\"scatter3d\":[{\"line\":{\"colorbar\":{\"outlinewidth\":1,\"tickcolor\":\"rgb(36,36,36)\",\"ticks\":\"outside\"}},\"marker\":{\"colorbar\":{\"outlinewidth\":1,\"tickcolor\":\"rgb(36,36,36)\",\"ticks\":\"outside\"}},\"type\":\"scatter3d\"}],\"scattercarpet\":[{\"marker\":{\"colorbar\":{\"outlinewidth\":1,\"tickcolor\":\"rgb(36,36,36)\",\"ticks\":\"outside\"}},\"type\":\"scattercarpet\"}],\"scattergeo\":[{\"marker\":{\"colorbar\":{\"outlinewidth\":1,\"tickcolor\":\"rgb(36,36,36)\",\"ticks\":\"outside\"}},\"type\":\"scattergeo\"}],\"scattergl\":[{\"marker\":{\"colorbar\":{\"outlinewidth\":1,\"tickcolor\":\"rgb(36,36,36)\",\"ticks\":\"outside\"}},\"type\":\"scattergl\"}],\"scattermapbox\":[{\"marker\":{\"colorbar\":{\"outlinewidth\":1,\"tickcolor\":\"rgb(36,36,36)\",\"ticks\":\"outside\"}},\"type\":\"scattermapbox\"}],\"scatterpolar\":[{\"marker\":{\"colorbar\":{\"outlinewidth\":1,\"tickcolor\":\"rgb(36,36,36)\",\"ticks\":\"outside\"}},\"type\":\"scatterpolar\"}],\"scatterpolargl\":[{\"marker\":{\"colorbar\":{\"outlinewidth\":1,\"tickcolor\":\"rgb(36,36,36)\",\"ticks\":\"outside\"}},\"type\":\"scatterpolargl\"}],\"scatterternary\":[{\"marker\":{\"colorbar\":{\"outlinewidth\":1,\"tickcolor\":\"rgb(36,36,36)\",\"ticks\":\"outside\"}},\"type\":\"scatterternary\"}],\"surface\":[{\"colorbar\":{\"outlinewidth\":1,\"tickcolor\":\"rgb(36,36,36)\",\"ticks\":\"outside\"},\"colorscale\":[[0.0,\"#440154\"],[0.1111111111111111,\"#482878\"],[0.2222222222222222,\"#3e4989\"],[0.3333333333333333,\"#31688e\"],[0.4444444444444444,\"#26828e\"],[0.5555555555555556,\"#1f9e89\"],[0.6666666666666666,\"#35b779\"],[0.7777777777777778,\"#6ece58\"],[0.8888888888888888,\"#b5de2b\"],[1.0,\"#fde725\"]],\"type\":\"surface\"}],\"table\":[{\"cells\":{\"fill\":{\"color\":\"rgb(237,237,237)\"},\"line\":{\"color\":\"white\"}},\"header\":{\"fill\":{\"color\":\"rgb(217,217,217)\"},\"line\":{\"color\":\"white\"}},\"type\":\"table\"}]},\"layout\":{\"annotationdefaults\":{\"arrowhead\":0,\"arrowwidth\":1},\"autotypenumbers\":\"strict\",\"coloraxis\":{\"colorbar\":{\"outlinewidth\":1,\"tickcolor\":\"rgb(36,36,36)\",\"ticks\":\"outside\"}},\"colorscale\":{\"diverging\":[[0.0,\"rgb(103,0,31)\"],[0.1,\"rgb(178,24,43)\"],[0.2,\"rgb(214,96,77)\"],[0.3,\"rgb(244,165,130)\"],[0.4,\"rgb(253,219,199)\"],[0.5,\"rgb(247,247,247)\"],[0.6,\"rgb(209,229,240)\"],[0.7,\"rgb(146,197,222)\"],[0.8,\"rgb(67,147,195)\"],[0.9,\"rgb(33,102,172)\"],[1.0,\"rgb(5,48,97)\"]],\"sequential\":[[0.0,\"#440154\"],[0.1111111111111111,\"#482878\"],[0.2222222222222222,\"#3e4989\"],[0.3333333333333333,\"#31688e\"],[0.4444444444444444,\"#26828e\"],[0.5555555555555556,\"#1f9e89\"],[0.6666666666666666,\"#35b779\"],[0.7777777777777778,\"#6ece58\"],[0.8888888888888888,\"#b5de2b\"],[1.0,\"#fde725\"]],\"sequentialminus\":[[0.0,\"#440154\"],[0.1111111111111111,\"#482878\"],[0.2222222222222222,\"#3e4989\"],[0.3333333333333333,\"#31688e\"],[0.4444444444444444,\"#26828e\"],[0.5555555555555556,\"#1f9e89\"],[0.6666666666666666,\"#35b779\"],[0.7777777777777778,\"#6ece58\"],[0.8888888888888888,\"#b5de2b\"],[1.0,\"#fde725\"]]},\"colorway\":[\"#1F77B4\",\"#FF7F0E\",\"#2CA02C\",\"#D62728\",\"#9467BD\",\"#8C564B\",\"#E377C2\",\"#7F7F7F\",\"#BCBD22\",\"#17BECF\"],\"font\":{\"color\":\"rgb(36,36,36)\"},\"geo\":{\"bgcolor\":\"white\",\"lakecolor\":\"white\",\"landcolor\":\"white\",\"showlakes\":true,\"showland\":true,\"subunitcolor\":\"white\"},\"hoverlabel\":{\"align\":\"left\"},\"hovermode\":\"closest\",\"mapbox\":{\"style\":\"light\"},\"paper_bgcolor\":\"white\",\"plot_bgcolor\":\"white\",\"polar\":{\"angularaxis\":{\"gridcolor\":\"rgb(232,232,232)\",\"linecolor\":\"rgb(36,36,36)\",\"showgrid\":false,\"showline\":true,\"ticks\":\"outside\"},\"bgcolor\":\"white\",\"radialaxis\":{\"gridcolor\":\"rgb(232,232,232)\",\"linecolor\":\"rgb(36,36,36)\",\"showgrid\":false,\"showline\":true,\"ticks\":\"outside\"}},\"scene\":{\"xaxis\":{\"backgroundcolor\":\"white\",\"gridcolor\":\"rgb(232,232,232)\",\"gridwidth\":2,\"linecolor\":\"rgb(36,36,36)\",\"showbackground\":true,\"showgrid\":false,\"showline\":true,\"ticks\":\"outside\",\"zeroline\":false,\"zerolinecolor\":\"rgb(36,36,36)\"},\"yaxis\":{\"backgroundcolor\":\"white\",\"gridcolor\":\"rgb(232,232,232)\",\"gridwidth\":2,\"linecolor\":\"rgb(36,36,36)\",\"showbackground\":true,\"showgrid\":false,\"showline\":true,\"ticks\":\"outside\",\"zeroline\":false,\"zerolinecolor\":\"rgb(36,36,36)\"},\"zaxis\":{\"backgroundcolor\":\"white\",\"gridcolor\":\"rgb(232,232,232)\",\"gridwidth\":2,\"linecolor\":\"rgb(36,36,36)\",\"showbackground\":true,\"showgrid\":false,\"showline\":true,\"ticks\":\"outside\",\"zeroline\":false,\"zerolinecolor\":\"rgb(36,36,36)\"}},\"shapedefaults\":{\"fillcolor\":\"black\",\"line\":{\"width\":0},\"opacity\":0.3},\"ternary\":{\"aaxis\":{\"gridcolor\":\"rgb(232,232,232)\",\"linecolor\":\"rgb(36,36,36)\",\"showgrid\":false,\"showline\":true,\"ticks\":\"outside\"},\"baxis\":{\"gridcolor\":\"rgb(232,232,232)\",\"linecolor\":\"rgb(36,36,36)\",\"showgrid\":false,\"showline\":true,\"ticks\":\"outside\"},\"bgcolor\":\"white\",\"caxis\":{\"gridcolor\":\"rgb(232,232,232)\",\"linecolor\":\"rgb(36,36,36)\",\"showgrid\":false,\"showline\":true,\"ticks\":\"outside\"}},\"title\":{\"x\":0.05},\"xaxis\":{\"automargin\":true,\"gridcolor\":\"rgb(232,232,232)\",\"linecolor\":\"rgb(36,36,36)\",\"showgrid\":false,\"showline\":true,\"ticks\":\"outside\",\"title\":{\"standoff\":15},\"zeroline\":false,\"zerolinecolor\":\"rgb(36,36,36)\"},\"yaxis\":{\"automargin\":true,\"gridcolor\":\"rgb(232,232,232)\",\"linecolor\":\"rgb(36,36,36)\",\"showgrid\":false,\"showline\":true,\"ticks\":\"outside\",\"title\":{\"standoff\":15},\"zeroline\":false,\"zerolinecolor\":\"rgb(36,36,36)\"}}},\"title\":{\"text\":\"\"},\"updatemenus\":[{\"direction\":\"down\",\"pad\":{\"r\":10,\"t\":10},\"showactive\":true,\"x\":0.11,\"xanchor\":\"left\",\"y\":1.1,\"yanchor\":\"top\"}],\"xaxis\":{\"showgrid\":false,\"showline\":false,\"showticklabels\":false,\"ticks\":\"\",\"title\":{\"text\":\"\"},\"zeroline\":false},\"yaxis\":{\"showgrid\":false,\"showline\":false,\"showticklabels\":false,\"ticks\":\"\",\"title\":{\"text\":\"\"},\"zeroline\":false}},                        {\"scrollZoom\": true, \"responsive\": true}                    ).then(function(){\n",
              "                            \n",
              "var gd = document.getElementById('fac133a5-8526-44d2-a848-cf32cf3fb412');\n",
              "var x = new MutationObserver(function (mutations, observer) {{\n",
              "        var display = window.getComputedStyle(gd).display;\n",
              "        if (!display || display === 'none') {{\n",
              "            console.log([gd, 'removed!']);\n",
              "            Plotly.purge(gd);\n",
              "            observer.disconnect();\n",
              "        }}\n",
              "}});\n",
              "\n",
              "// Listen for the removal of the full notebook cells\n",
              "var notebookContainer = gd.closest('#notebook-container');\n",
              "if (notebookContainer) {{\n",
              "    x.observe(notebookContainer, {childList: true});\n",
              "}}\n",
              "\n",
              "// Listen for the clearing of the current output cell\n",
              "var outputEl = gd.closest('.output');\n",
              "if (outputEl) {{\n",
              "    x.observe(outputEl, {childList: true});\n",
              "}}\n",
              "\n",
              "                        })                };                            </script>        </div>\n",
              "</body>\n",
              "</html>"
            ]
          },
          "metadata": {
            "tags": []
          }
        }
      ]
    },
    {
      "cell_type": "code",
      "metadata": {
        "id": "sO9dJEYYoln1"
      },
      "source": [
        "pipe = make_mapper_pipeline()\n",
        "\n",
        "# Generate interactive widget\n",
        "fig=plot_interactive_mapper_graph(pipe, df, color_by_columns_dropdown=True)"
      ],
      "execution_count": 57,
      "outputs": []
    },
    {
      "cell_type": "code",
      "metadata": {
        "id": "8z79C9ZyooM1"
      },
      "source": [
        "import numpy as np\n",
        "from numpy.random import default_rng\n",
        "rng = default_rng(42)  # Create a random number generator\n",
        "\n",
        "from scipy.spatial.distance import pdist, squareform\n",
        "from scipy.sparse import coo_matrix\n",
        "\n",
        "from gtda.graphs import GraphGeodesicDistance\n",
        "from gtda.homology import VietorisRipsPersistence, SparseRipsPersistence, FlagserPersistence\n",
        "\n",
        "from igraph import Graph\n",
        "\n",
        "from IPython.display import SVG, display"
      ],
      "execution_count": 58,
      "outputs": []
    },
    {
      "cell_type": "code",
      "metadata": {
        "colab": {
          "base_uri": "https://localhost:8080/",
          "height": 517
        },
        "id": "APRj7ZuPpKtG",
        "outputId": "6faa8543-6117-40a1-e899-97c88add633a"
      },
      "source": [
        "from gtda.homology import CubicalPersistence\n",
        "\n",
        "cubical_persistence = CubicalPersistence(n_jobs=-1)\n",
        "im8_cubical = cubical_persistence.fit_transform(X)\n",
        "\n",
        "cubical_persistence.plot(im8_cubical)"
      ],
      "execution_count": 66,
      "outputs": [
        {
          "output_type": "display_data",
          "data": {
            "text/html": [
              "<html>\n",
              "<head><meta charset=\"utf-8\" /></head>\n",
              "<body>\n",
              "    <div>            <script src=\"https://cdnjs.cloudflare.com/ajax/libs/mathjax/2.7.5/MathJax.js?config=TeX-AMS-MML_SVG\"></script><script type=\"text/javascript\">if (window.MathJax) {MathJax.Hub.Config({SVG: {font: \"STIX-Web\"}});}</script>                <script type=\"text/javascript\">window.PlotlyConfig = {MathJaxConfig: 'local'};</script>\n",
              "        <script src=\"https://cdn.plot.ly/plotly-2.1.0.min.js\"></script>                <div id=\"88710320-d281-4eeb-b5fa-fa658a16b1c9\" class=\"plotly-graph-div\" style=\"height:500px; width:500px;\"></div>            <script type=\"text/javascript\">                                    window.PLOTLYENV=window.PLOTLYENV || {};                                    if (document.getElementById(\"88710320-d281-4eeb-b5fa-fa658a16b1c9\")) {                    Plotly.newPlot(                        \"88710320-d281-4eeb-b5fa-fa658a16b1c9\",                        [{\"hoverinfo\":\"none\",\"line\":{\"color\":\"black\",\"dash\":\"dash\",\"width\":1},\"mode\":\"lines\",\"showlegend\":false,\"type\":\"scatter\",\"x\":[-0.02,1.02],\"y\":[-0.02,1.02]},{\"hoverinfo\":\"text\",\"hovertext\":[\"(0.0, 1.0)\"],\"mode\":\"markers\",\"name\":\"H0\",\"type\":\"scatter\",\"x\":[0.0],\"y\":[1.0]},{\"hoverinfo\":\"text\",\"hovertext\":[],\"mode\":\"markers\",\"name\":\"H1\",\"type\":\"scatter\",\"x\":[],\"y\":[]}],                        {\"height\":500,\"plot_bgcolor\":\"white\",\"template\":{\"data\":{\"bar\":[{\"error_x\":{\"color\":\"#2a3f5f\"},\"error_y\":{\"color\":\"#2a3f5f\"},\"marker\":{\"line\":{\"color\":\"#E5ECF6\",\"width\":0.5},\"pattern\":{\"fillmode\":\"overlay\",\"size\":10,\"solidity\":0.2}},\"type\":\"bar\"}],\"barpolar\":[{\"marker\":{\"line\":{\"color\":\"#E5ECF6\",\"width\":0.5},\"pattern\":{\"fillmode\":\"overlay\",\"size\":10,\"solidity\":0.2}},\"type\":\"barpolar\"}],\"carpet\":[{\"aaxis\":{\"endlinecolor\":\"#2a3f5f\",\"gridcolor\":\"white\",\"linecolor\":\"white\",\"minorgridcolor\":\"white\",\"startlinecolor\":\"#2a3f5f\"},\"baxis\":{\"endlinecolor\":\"#2a3f5f\",\"gridcolor\":\"white\",\"linecolor\":\"white\",\"minorgridcolor\":\"white\",\"startlinecolor\":\"#2a3f5f\"},\"type\":\"carpet\"}],\"choropleth\":[{\"colorbar\":{\"outlinewidth\":0,\"ticks\":\"\"},\"type\":\"choropleth\"}],\"contour\":[{\"colorbar\":{\"outlinewidth\":0,\"ticks\":\"\"},\"colorscale\":[[0.0,\"#0d0887\"],[0.1111111111111111,\"#46039f\"],[0.2222222222222222,\"#7201a8\"],[0.3333333333333333,\"#9c179e\"],[0.4444444444444444,\"#bd3786\"],[0.5555555555555556,\"#d8576b\"],[0.6666666666666666,\"#ed7953\"],[0.7777777777777778,\"#fb9f3a\"],[0.8888888888888888,\"#fdca26\"],[1.0,\"#f0f921\"]],\"type\":\"contour\"}],\"contourcarpet\":[{\"colorbar\":{\"outlinewidth\":0,\"ticks\":\"\"},\"type\":\"contourcarpet\"}],\"heatmap\":[{\"colorbar\":{\"outlinewidth\":0,\"ticks\":\"\"},\"colorscale\":[[0.0,\"#0d0887\"],[0.1111111111111111,\"#46039f\"],[0.2222222222222222,\"#7201a8\"],[0.3333333333333333,\"#9c179e\"],[0.4444444444444444,\"#bd3786\"],[0.5555555555555556,\"#d8576b\"],[0.6666666666666666,\"#ed7953\"],[0.7777777777777778,\"#fb9f3a\"],[0.8888888888888888,\"#fdca26\"],[1.0,\"#f0f921\"]],\"type\":\"heatmap\"}],\"heatmapgl\":[{\"colorbar\":{\"outlinewidth\":0,\"ticks\":\"\"},\"colorscale\":[[0.0,\"#0d0887\"],[0.1111111111111111,\"#46039f\"],[0.2222222222222222,\"#7201a8\"],[0.3333333333333333,\"#9c179e\"],[0.4444444444444444,\"#bd3786\"],[0.5555555555555556,\"#d8576b\"],[0.6666666666666666,\"#ed7953\"],[0.7777777777777778,\"#fb9f3a\"],[0.8888888888888888,\"#fdca26\"],[1.0,\"#f0f921\"]],\"type\":\"heatmapgl\"}],\"histogram\":[{\"marker\":{\"pattern\":{\"fillmode\":\"overlay\",\"size\":10,\"solidity\":0.2}},\"type\":\"histogram\"}],\"histogram2d\":[{\"colorbar\":{\"outlinewidth\":0,\"ticks\":\"\"},\"colorscale\":[[0.0,\"#0d0887\"],[0.1111111111111111,\"#46039f\"],[0.2222222222222222,\"#7201a8\"],[0.3333333333333333,\"#9c179e\"],[0.4444444444444444,\"#bd3786\"],[0.5555555555555556,\"#d8576b\"],[0.6666666666666666,\"#ed7953\"],[0.7777777777777778,\"#fb9f3a\"],[0.8888888888888888,\"#fdca26\"],[1.0,\"#f0f921\"]],\"type\":\"histogram2d\"}],\"histogram2dcontour\":[{\"colorbar\":{\"outlinewidth\":0,\"ticks\":\"\"},\"colorscale\":[[0.0,\"#0d0887\"],[0.1111111111111111,\"#46039f\"],[0.2222222222222222,\"#7201a8\"],[0.3333333333333333,\"#9c179e\"],[0.4444444444444444,\"#bd3786\"],[0.5555555555555556,\"#d8576b\"],[0.6666666666666666,\"#ed7953\"],[0.7777777777777778,\"#fb9f3a\"],[0.8888888888888888,\"#fdca26\"],[1.0,\"#f0f921\"]],\"type\":\"histogram2dcontour\"}],\"mesh3d\":[{\"colorbar\":{\"outlinewidth\":0,\"ticks\":\"\"},\"type\":\"mesh3d\"}],\"parcoords\":[{\"line\":{\"colorbar\":{\"outlinewidth\":0,\"ticks\":\"\"}},\"type\":\"parcoords\"}],\"pie\":[{\"automargin\":true,\"type\":\"pie\"}],\"scatter\":[{\"marker\":{\"colorbar\":{\"outlinewidth\":0,\"ticks\":\"\"}},\"type\":\"scatter\"}],\"scatter3d\":[{\"line\":{\"colorbar\":{\"outlinewidth\":0,\"ticks\":\"\"}},\"marker\":{\"colorbar\":{\"outlinewidth\":0,\"ticks\":\"\"}},\"type\":\"scatter3d\"}],\"scattercarpet\":[{\"marker\":{\"colorbar\":{\"outlinewidth\":0,\"ticks\":\"\"}},\"type\":\"scattercarpet\"}],\"scattergeo\":[{\"marker\":{\"colorbar\":{\"outlinewidth\":0,\"ticks\":\"\"}},\"type\":\"scattergeo\"}],\"scattergl\":[{\"marker\":{\"colorbar\":{\"outlinewidth\":0,\"ticks\":\"\"}},\"type\":\"scattergl\"}],\"scattermapbox\":[{\"marker\":{\"colorbar\":{\"outlinewidth\":0,\"ticks\":\"\"}},\"type\":\"scattermapbox\"}],\"scatterpolar\":[{\"marker\":{\"colorbar\":{\"outlinewidth\":0,\"ticks\":\"\"}},\"type\":\"scatterpolar\"}],\"scatterpolargl\":[{\"marker\":{\"colorbar\":{\"outlinewidth\":0,\"ticks\":\"\"}},\"type\":\"scatterpolargl\"}],\"scatterternary\":[{\"marker\":{\"colorbar\":{\"outlinewidth\":0,\"ticks\":\"\"}},\"type\":\"scatterternary\"}],\"surface\":[{\"colorbar\":{\"outlinewidth\":0,\"ticks\":\"\"},\"colorscale\":[[0.0,\"#0d0887\"],[0.1111111111111111,\"#46039f\"],[0.2222222222222222,\"#7201a8\"],[0.3333333333333333,\"#9c179e\"],[0.4444444444444444,\"#bd3786\"],[0.5555555555555556,\"#d8576b\"],[0.6666666666666666,\"#ed7953\"],[0.7777777777777778,\"#fb9f3a\"],[0.8888888888888888,\"#fdca26\"],[1.0,\"#f0f921\"]],\"type\":\"surface\"}],\"table\":[{\"cells\":{\"fill\":{\"color\":\"#EBF0F8\"},\"line\":{\"color\":\"white\"}},\"header\":{\"fill\":{\"color\":\"#C8D4E3\"},\"line\":{\"color\":\"white\"}},\"type\":\"table\"}]},\"layout\":{\"annotationdefaults\":{\"arrowcolor\":\"#2a3f5f\",\"arrowhead\":0,\"arrowwidth\":1},\"autotypenumbers\":\"strict\",\"coloraxis\":{\"colorbar\":{\"outlinewidth\":0,\"ticks\":\"\"}},\"colorscale\":{\"diverging\":[[0,\"#8e0152\"],[0.1,\"#c51b7d\"],[0.2,\"#de77ae\"],[0.3,\"#f1b6da\"],[0.4,\"#fde0ef\"],[0.5,\"#f7f7f7\"],[0.6,\"#e6f5d0\"],[0.7,\"#b8e186\"],[0.8,\"#7fbc41\"],[0.9,\"#4d9221\"],[1,\"#276419\"]],\"sequential\":[[0.0,\"#0d0887\"],[0.1111111111111111,\"#46039f\"],[0.2222222222222222,\"#7201a8\"],[0.3333333333333333,\"#9c179e\"],[0.4444444444444444,\"#bd3786\"],[0.5555555555555556,\"#d8576b\"],[0.6666666666666666,\"#ed7953\"],[0.7777777777777778,\"#fb9f3a\"],[0.8888888888888888,\"#fdca26\"],[1.0,\"#f0f921\"]],\"sequentialminus\":[[0.0,\"#0d0887\"],[0.1111111111111111,\"#46039f\"],[0.2222222222222222,\"#7201a8\"],[0.3333333333333333,\"#9c179e\"],[0.4444444444444444,\"#bd3786\"],[0.5555555555555556,\"#d8576b\"],[0.6666666666666666,\"#ed7953\"],[0.7777777777777778,\"#fb9f3a\"],[0.8888888888888888,\"#fdca26\"],[1.0,\"#f0f921\"]]},\"colorway\":[\"#636efa\",\"#EF553B\",\"#00cc96\",\"#ab63fa\",\"#FFA15A\",\"#19d3f3\",\"#FF6692\",\"#B6E880\",\"#FF97FF\",\"#FECB52\"],\"font\":{\"color\":\"#2a3f5f\"},\"geo\":{\"bgcolor\":\"white\",\"lakecolor\":\"white\",\"landcolor\":\"#E5ECF6\",\"showlakes\":true,\"showland\":true,\"subunitcolor\":\"white\"},\"hoverlabel\":{\"align\":\"left\"},\"hovermode\":\"closest\",\"mapbox\":{\"style\":\"light\"},\"paper_bgcolor\":\"white\",\"plot_bgcolor\":\"#E5ECF6\",\"polar\":{\"angularaxis\":{\"gridcolor\":\"white\",\"linecolor\":\"white\",\"ticks\":\"\"},\"bgcolor\":\"#E5ECF6\",\"radialaxis\":{\"gridcolor\":\"white\",\"linecolor\":\"white\",\"ticks\":\"\"}},\"scene\":{\"xaxis\":{\"backgroundcolor\":\"#E5ECF6\",\"gridcolor\":\"white\",\"gridwidth\":2,\"linecolor\":\"white\",\"showbackground\":true,\"ticks\":\"\",\"zerolinecolor\":\"white\"},\"yaxis\":{\"backgroundcolor\":\"#E5ECF6\",\"gridcolor\":\"white\",\"gridwidth\":2,\"linecolor\":\"white\",\"showbackground\":true,\"ticks\":\"\",\"zerolinecolor\":\"white\"},\"zaxis\":{\"backgroundcolor\":\"#E5ECF6\",\"gridcolor\":\"white\",\"gridwidth\":2,\"linecolor\":\"white\",\"showbackground\":true,\"ticks\":\"\",\"zerolinecolor\":\"white\"}},\"shapedefaults\":{\"line\":{\"color\":\"#2a3f5f\"}},\"ternary\":{\"aaxis\":{\"gridcolor\":\"white\",\"linecolor\":\"white\",\"ticks\":\"\"},\"baxis\":{\"gridcolor\":\"white\",\"linecolor\":\"white\",\"ticks\":\"\"},\"bgcolor\":\"#E5ECF6\",\"caxis\":{\"gridcolor\":\"white\",\"linecolor\":\"white\",\"ticks\":\"\"}},\"title\":{\"x\":0.05},\"xaxis\":{\"automargin\":true,\"gridcolor\":\"white\",\"linecolor\":\"white\",\"ticks\":\"\",\"title\":{\"standoff\":15},\"zerolinecolor\":\"white\",\"zerolinewidth\":2},\"yaxis\":{\"automargin\":true,\"gridcolor\":\"white\",\"linecolor\":\"white\",\"ticks\":\"\",\"title\":{\"standoff\":15},\"zerolinecolor\":\"white\",\"zerolinewidth\":2}}},\"width\":500,\"xaxis\":{\"autorange\":false,\"exponentformat\":\"e\",\"linecolor\":\"black\",\"linewidth\":1,\"mirror\":false,\"range\":[-0.02,1.02],\"showexponent\":\"all\",\"showline\":true,\"side\":\"bottom\",\"ticks\":\"outside\",\"title\":{\"text\":\"Birth\"},\"type\":\"linear\",\"zeroline\":true},\"yaxis\":{\"autorange\":false,\"exponentformat\":\"e\",\"linecolor\":\"black\",\"linewidth\":1,\"mirror\":false,\"range\":[-0.02,1.02],\"scaleanchor\":\"x\",\"scaleratio\":1,\"showexponent\":\"all\",\"showline\":true,\"side\":\"left\",\"ticks\":\"outside\",\"title\":{\"text\":\"Death\"},\"type\":\"linear\",\"zeroline\":true}},                        {\"responsive\": true}                    ).then(function(){\n",
              "                            \n",
              "var gd = document.getElementById('88710320-d281-4eeb-b5fa-fa658a16b1c9');\n",
              "var x = new MutationObserver(function (mutations, observer) {{\n",
              "        var display = window.getComputedStyle(gd).display;\n",
              "        if (!display || display === 'none') {{\n",
              "            console.log([gd, 'removed!']);\n",
              "            Plotly.purge(gd);\n",
              "            observer.disconnect();\n",
              "        }}\n",
              "}});\n",
              "\n",
              "// Listen for the removal of the full notebook cells\n",
              "var notebookContainer = gd.closest('#notebook-container');\n",
              "if (notebookContainer) {{\n",
              "    x.observe(notebookContainer, {childList: true});\n",
              "}}\n",
              "\n",
              "// Listen for the clearing of the current output cell\n",
              "var outputEl = gd.closest('.output');\n",
              "if (outputEl) {{\n",
              "    x.observe(outputEl, {childList: true});\n",
              "}}\n",
              "\n",
              "                        })                };                            </script>        </div>\n",
              "</body>\n",
              "</html>"
            ]
          },
          "metadata": {
            "tags": []
          }
        }
      ]
    },
    {
      "cell_type": "code",
      "metadata": {
        "colab": {
          "base_uri": "https://localhost:8080/",
          "height": 517
        },
        "id": "26-r-7mVqcYk",
        "outputId": "aaff73c5-6f6b-4df9-f257-1177ce45471f"
      },
      "source": [
        "from gtda.diagrams import Scaler\n",
        "\n",
        "scaler = Scaler()\n",
        "im8_scaled = scaler.fit_transform(im8_cubical)\n",
        "\n",
        "scaler.plot(im8_scaled)"
      ],
      "execution_count": 67,
      "outputs": [
        {
          "output_type": "display_data",
          "data": {
            "text/html": [
              "<html>\n",
              "<head><meta charset=\"utf-8\" /></head>\n",
              "<body>\n",
              "    <div>            <script src=\"https://cdnjs.cloudflare.com/ajax/libs/mathjax/2.7.5/MathJax.js?config=TeX-AMS-MML_SVG\"></script><script type=\"text/javascript\">if (window.MathJax) {MathJax.Hub.Config({SVG: {font: \"STIX-Web\"}});}</script>                <script type=\"text/javascript\">window.PlotlyConfig = {MathJaxConfig: 'local'};</script>\n",
              "        <script src=\"https://cdn.plot.ly/plotly-2.1.0.min.js\"></script>                <div id=\"f0c4b86f-92a8-450d-9fac-a63c2cd25784\" class=\"plotly-graph-div\" style=\"height:500px; width:500px;\"></div>            <script type=\"text/javascript\">                                    window.PLOTLYENV=window.PLOTLYENV || {};                                    if (document.getElementById(\"f0c4b86f-92a8-450d-9fac-a63c2cd25784\")) {                    Plotly.newPlot(                        \"f0c4b86f-92a8-450d-9fac-a63c2cd25784\",                        [{\"hoverinfo\":\"none\",\"line\":{\"color\":\"black\",\"dash\":\"dash\",\"width\":1},\"mode\":\"lines\",\"showlegend\":false,\"type\":\"scatter\",\"x\":[-0.04,2.04],\"y\":[-0.04,2.04]},{\"hoverinfo\":\"text\",\"hovertext\":[\"(0.0, 2.0)\"],\"mode\":\"markers\",\"name\":\"H0\",\"type\":\"scatter\",\"x\":[0.0],\"y\":[2.0]},{\"hoverinfo\":\"text\",\"hovertext\":[],\"mode\":\"markers\",\"name\":\"H1\",\"type\":\"scatter\",\"x\":[],\"y\":[]}],                        {\"height\":500,\"plot_bgcolor\":\"white\",\"template\":{\"data\":{\"bar\":[{\"error_x\":{\"color\":\"#2a3f5f\"},\"error_y\":{\"color\":\"#2a3f5f\"},\"marker\":{\"line\":{\"color\":\"#E5ECF6\",\"width\":0.5},\"pattern\":{\"fillmode\":\"overlay\",\"size\":10,\"solidity\":0.2}},\"type\":\"bar\"}],\"barpolar\":[{\"marker\":{\"line\":{\"color\":\"#E5ECF6\",\"width\":0.5},\"pattern\":{\"fillmode\":\"overlay\",\"size\":10,\"solidity\":0.2}},\"type\":\"barpolar\"}],\"carpet\":[{\"aaxis\":{\"endlinecolor\":\"#2a3f5f\",\"gridcolor\":\"white\",\"linecolor\":\"white\",\"minorgridcolor\":\"white\",\"startlinecolor\":\"#2a3f5f\"},\"baxis\":{\"endlinecolor\":\"#2a3f5f\",\"gridcolor\":\"white\",\"linecolor\":\"white\",\"minorgridcolor\":\"white\",\"startlinecolor\":\"#2a3f5f\"},\"type\":\"carpet\"}],\"choropleth\":[{\"colorbar\":{\"outlinewidth\":0,\"ticks\":\"\"},\"type\":\"choropleth\"}],\"contour\":[{\"colorbar\":{\"outlinewidth\":0,\"ticks\":\"\"},\"colorscale\":[[0.0,\"#0d0887\"],[0.1111111111111111,\"#46039f\"],[0.2222222222222222,\"#7201a8\"],[0.3333333333333333,\"#9c179e\"],[0.4444444444444444,\"#bd3786\"],[0.5555555555555556,\"#d8576b\"],[0.6666666666666666,\"#ed7953\"],[0.7777777777777778,\"#fb9f3a\"],[0.8888888888888888,\"#fdca26\"],[1.0,\"#f0f921\"]],\"type\":\"contour\"}],\"contourcarpet\":[{\"colorbar\":{\"outlinewidth\":0,\"ticks\":\"\"},\"type\":\"contourcarpet\"}],\"heatmap\":[{\"colorbar\":{\"outlinewidth\":0,\"ticks\":\"\"},\"colorscale\":[[0.0,\"#0d0887\"],[0.1111111111111111,\"#46039f\"],[0.2222222222222222,\"#7201a8\"],[0.3333333333333333,\"#9c179e\"],[0.4444444444444444,\"#bd3786\"],[0.5555555555555556,\"#d8576b\"],[0.6666666666666666,\"#ed7953\"],[0.7777777777777778,\"#fb9f3a\"],[0.8888888888888888,\"#fdca26\"],[1.0,\"#f0f921\"]],\"type\":\"heatmap\"}],\"heatmapgl\":[{\"colorbar\":{\"outlinewidth\":0,\"ticks\":\"\"},\"colorscale\":[[0.0,\"#0d0887\"],[0.1111111111111111,\"#46039f\"],[0.2222222222222222,\"#7201a8\"],[0.3333333333333333,\"#9c179e\"],[0.4444444444444444,\"#bd3786\"],[0.5555555555555556,\"#d8576b\"],[0.6666666666666666,\"#ed7953\"],[0.7777777777777778,\"#fb9f3a\"],[0.8888888888888888,\"#fdca26\"],[1.0,\"#f0f921\"]],\"type\":\"heatmapgl\"}],\"histogram\":[{\"marker\":{\"pattern\":{\"fillmode\":\"overlay\",\"size\":10,\"solidity\":0.2}},\"type\":\"histogram\"}],\"histogram2d\":[{\"colorbar\":{\"outlinewidth\":0,\"ticks\":\"\"},\"colorscale\":[[0.0,\"#0d0887\"],[0.1111111111111111,\"#46039f\"],[0.2222222222222222,\"#7201a8\"],[0.3333333333333333,\"#9c179e\"],[0.4444444444444444,\"#bd3786\"],[0.5555555555555556,\"#d8576b\"],[0.6666666666666666,\"#ed7953\"],[0.7777777777777778,\"#fb9f3a\"],[0.8888888888888888,\"#fdca26\"],[1.0,\"#f0f921\"]],\"type\":\"histogram2d\"}],\"histogram2dcontour\":[{\"colorbar\":{\"outlinewidth\":0,\"ticks\":\"\"},\"colorscale\":[[0.0,\"#0d0887\"],[0.1111111111111111,\"#46039f\"],[0.2222222222222222,\"#7201a8\"],[0.3333333333333333,\"#9c179e\"],[0.4444444444444444,\"#bd3786\"],[0.5555555555555556,\"#d8576b\"],[0.6666666666666666,\"#ed7953\"],[0.7777777777777778,\"#fb9f3a\"],[0.8888888888888888,\"#fdca26\"],[1.0,\"#f0f921\"]],\"type\":\"histogram2dcontour\"}],\"mesh3d\":[{\"colorbar\":{\"outlinewidth\":0,\"ticks\":\"\"},\"type\":\"mesh3d\"}],\"parcoords\":[{\"line\":{\"colorbar\":{\"outlinewidth\":0,\"ticks\":\"\"}},\"type\":\"parcoords\"}],\"pie\":[{\"automargin\":true,\"type\":\"pie\"}],\"scatter\":[{\"marker\":{\"colorbar\":{\"outlinewidth\":0,\"ticks\":\"\"}},\"type\":\"scatter\"}],\"scatter3d\":[{\"line\":{\"colorbar\":{\"outlinewidth\":0,\"ticks\":\"\"}},\"marker\":{\"colorbar\":{\"outlinewidth\":0,\"ticks\":\"\"}},\"type\":\"scatter3d\"}],\"scattercarpet\":[{\"marker\":{\"colorbar\":{\"outlinewidth\":0,\"ticks\":\"\"}},\"type\":\"scattercarpet\"}],\"scattergeo\":[{\"marker\":{\"colorbar\":{\"outlinewidth\":0,\"ticks\":\"\"}},\"type\":\"scattergeo\"}],\"scattergl\":[{\"marker\":{\"colorbar\":{\"outlinewidth\":0,\"ticks\":\"\"}},\"type\":\"scattergl\"}],\"scattermapbox\":[{\"marker\":{\"colorbar\":{\"outlinewidth\":0,\"ticks\":\"\"}},\"type\":\"scattermapbox\"}],\"scatterpolar\":[{\"marker\":{\"colorbar\":{\"outlinewidth\":0,\"ticks\":\"\"}},\"type\":\"scatterpolar\"}],\"scatterpolargl\":[{\"marker\":{\"colorbar\":{\"outlinewidth\":0,\"ticks\":\"\"}},\"type\":\"scatterpolargl\"}],\"scatterternary\":[{\"marker\":{\"colorbar\":{\"outlinewidth\":0,\"ticks\":\"\"}},\"type\":\"scatterternary\"}],\"surface\":[{\"colorbar\":{\"outlinewidth\":0,\"ticks\":\"\"},\"colorscale\":[[0.0,\"#0d0887\"],[0.1111111111111111,\"#46039f\"],[0.2222222222222222,\"#7201a8\"],[0.3333333333333333,\"#9c179e\"],[0.4444444444444444,\"#bd3786\"],[0.5555555555555556,\"#d8576b\"],[0.6666666666666666,\"#ed7953\"],[0.7777777777777778,\"#fb9f3a\"],[0.8888888888888888,\"#fdca26\"],[1.0,\"#f0f921\"]],\"type\":\"surface\"}],\"table\":[{\"cells\":{\"fill\":{\"color\":\"#EBF0F8\"},\"line\":{\"color\":\"white\"}},\"header\":{\"fill\":{\"color\":\"#C8D4E3\"},\"line\":{\"color\":\"white\"}},\"type\":\"table\"}]},\"layout\":{\"annotationdefaults\":{\"arrowcolor\":\"#2a3f5f\",\"arrowhead\":0,\"arrowwidth\":1},\"autotypenumbers\":\"strict\",\"coloraxis\":{\"colorbar\":{\"outlinewidth\":0,\"ticks\":\"\"}},\"colorscale\":{\"diverging\":[[0,\"#8e0152\"],[0.1,\"#c51b7d\"],[0.2,\"#de77ae\"],[0.3,\"#f1b6da\"],[0.4,\"#fde0ef\"],[0.5,\"#f7f7f7\"],[0.6,\"#e6f5d0\"],[0.7,\"#b8e186\"],[0.8,\"#7fbc41\"],[0.9,\"#4d9221\"],[1,\"#276419\"]],\"sequential\":[[0.0,\"#0d0887\"],[0.1111111111111111,\"#46039f\"],[0.2222222222222222,\"#7201a8\"],[0.3333333333333333,\"#9c179e\"],[0.4444444444444444,\"#bd3786\"],[0.5555555555555556,\"#d8576b\"],[0.6666666666666666,\"#ed7953\"],[0.7777777777777778,\"#fb9f3a\"],[0.8888888888888888,\"#fdca26\"],[1.0,\"#f0f921\"]],\"sequentialminus\":[[0.0,\"#0d0887\"],[0.1111111111111111,\"#46039f\"],[0.2222222222222222,\"#7201a8\"],[0.3333333333333333,\"#9c179e\"],[0.4444444444444444,\"#bd3786\"],[0.5555555555555556,\"#d8576b\"],[0.6666666666666666,\"#ed7953\"],[0.7777777777777778,\"#fb9f3a\"],[0.8888888888888888,\"#fdca26\"],[1.0,\"#f0f921\"]]},\"colorway\":[\"#636efa\",\"#EF553B\",\"#00cc96\",\"#ab63fa\",\"#FFA15A\",\"#19d3f3\",\"#FF6692\",\"#B6E880\",\"#FF97FF\",\"#FECB52\"],\"font\":{\"color\":\"#2a3f5f\"},\"geo\":{\"bgcolor\":\"white\",\"lakecolor\":\"white\",\"landcolor\":\"#E5ECF6\",\"showlakes\":true,\"showland\":true,\"subunitcolor\":\"white\"},\"hoverlabel\":{\"align\":\"left\"},\"hovermode\":\"closest\",\"mapbox\":{\"style\":\"light\"},\"paper_bgcolor\":\"white\",\"plot_bgcolor\":\"#E5ECF6\",\"polar\":{\"angularaxis\":{\"gridcolor\":\"white\",\"linecolor\":\"white\",\"ticks\":\"\"},\"bgcolor\":\"#E5ECF6\",\"radialaxis\":{\"gridcolor\":\"white\",\"linecolor\":\"white\",\"ticks\":\"\"}},\"scene\":{\"xaxis\":{\"backgroundcolor\":\"#E5ECF6\",\"gridcolor\":\"white\",\"gridwidth\":2,\"linecolor\":\"white\",\"showbackground\":true,\"ticks\":\"\",\"zerolinecolor\":\"white\"},\"yaxis\":{\"backgroundcolor\":\"#E5ECF6\",\"gridcolor\":\"white\",\"gridwidth\":2,\"linecolor\":\"white\",\"showbackground\":true,\"ticks\":\"\",\"zerolinecolor\":\"white\"},\"zaxis\":{\"backgroundcolor\":\"#E5ECF6\",\"gridcolor\":\"white\",\"gridwidth\":2,\"linecolor\":\"white\",\"showbackground\":true,\"ticks\":\"\",\"zerolinecolor\":\"white\"}},\"shapedefaults\":{\"line\":{\"color\":\"#2a3f5f\"}},\"ternary\":{\"aaxis\":{\"gridcolor\":\"white\",\"linecolor\":\"white\",\"ticks\":\"\"},\"baxis\":{\"gridcolor\":\"white\",\"linecolor\":\"white\",\"ticks\":\"\"},\"bgcolor\":\"#E5ECF6\",\"caxis\":{\"gridcolor\":\"white\",\"linecolor\":\"white\",\"ticks\":\"\"}},\"title\":{\"x\":0.05},\"xaxis\":{\"automargin\":true,\"gridcolor\":\"white\",\"linecolor\":\"white\",\"ticks\":\"\",\"title\":{\"standoff\":15},\"zerolinecolor\":\"white\",\"zerolinewidth\":2},\"yaxis\":{\"automargin\":true,\"gridcolor\":\"white\",\"linecolor\":\"white\",\"ticks\":\"\",\"title\":{\"standoff\":15},\"zerolinecolor\":\"white\",\"zerolinewidth\":2}}},\"width\":500,\"xaxis\":{\"autorange\":false,\"exponentformat\":\"e\",\"linecolor\":\"black\",\"linewidth\":1,\"mirror\":false,\"range\":[-0.04,2.04],\"showexponent\":\"all\",\"showline\":true,\"side\":\"bottom\",\"ticks\":\"outside\",\"title\":{\"text\":\"Birth\"},\"type\":\"linear\",\"zeroline\":true},\"yaxis\":{\"autorange\":false,\"exponentformat\":\"e\",\"linecolor\":\"black\",\"linewidth\":1,\"mirror\":false,\"range\":[-0.04,2.04],\"scaleanchor\":\"x\",\"scaleratio\":1,\"showexponent\":\"all\",\"showline\":true,\"side\":\"left\",\"ticks\":\"outside\",\"title\":{\"text\":\"Death\"},\"type\":\"linear\",\"zeroline\":true}},                        {\"responsive\": true}                    ).then(function(){\n",
              "                            \n",
              "var gd = document.getElementById('f0c4b86f-92a8-450d-9fac-a63c2cd25784');\n",
              "var x = new MutationObserver(function (mutations, observer) {{\n",
              "        var display = window.getComputedStyle(gd).display;\n",
              "        if (!display || display === 'none') {{\n",
              "            console.log([gd, 'removed!']);\n",
              "            Plotly.purge(gd);\n",
              "            observer.disconnect();\n",
              "        }}\n",
              "}});\n",
              "\n",
              "// Listen for the removal of the full notebook cells\n",
              "var notebookContainer = gd.closest('#notebook-container');\n",
              "if (notebookContainer) {{\n",
              "    x.observe(notebookContainer, {childList: true});\n",
              "}}\n",
              "\n",
              "// Listen for the clearing of the current output cell\n",
              "var outputEl = gd.closest('.output');\n",
              "if (outputEl) {{\n",
              "    x.observe(outputEl, {childList: true});\n",
              "}}\n",
              "\n",
              "                        })                };                            </script>        </div>\n",
              "</body>\n",
              "</html>"
            ]
          },
          "metadata": {
            "tags": []
          }
        }
      ]
    },
    {
      "cell_type": "code",
      "metadata": {
        "colab": {
          "base_uri": "https://localhost:8080/",
          "height": 542
        },
        "id": "kJGU1K72qjWC",
        "outputId": "fe17185f-1007-4200-aace-3e9d8bf97e32"
      },
      "source": [
        "from gtda.diagrams import HeatKernel\n",
        "\n",
        "heat = HeatKernel(sigma=.15, n_bins=5, n_jobs=-1)\n",
        "im8_heat = heat.fit_transform(im8_scaled)\n",
        "\n",
        "# Visualise the heat kernel for H1\n",
        "heat.plot(im8_heat, homology_dimension_idx=1, colorscale='jet')"
      ],
      "execution_count": 72,
      "outputs": [
        {
          "output_type": "display_data",
          "data": {
            "text/html": [
              "<html>\n",
              "<head><meta charset=\"utf-8\" /></head>\n",
              "<body>\n",
              "    <div>            <script src=\"https://cdnjs.cloudflare.com/ajax/libs/mathjax/2.7.5/MathJax.js?config=TeX-AMS-MML_SVG\"></script><script type=\"text/javascript\">if (window.MathJax) {MathJax.Hub.Config({SVG: {font: \"STIX-Web\"}});}</script>                <script type=\"text/javascript\">window.PlotlyConfig = {MathJaxConfig: 'local'};</script>\n",
              "        <script src=\"https://cdn.plot.ly/plotly-2.1.0.min.js\"></script>                <div id=\"320984b4-3903-4bc1-91cf-3c31f0807d2c\" class=\"plotly-graph-div\" style=\"height:525px; width:100%;\"></div>            <script type=\"text/javascript\">                                    window.PLOTLYENV=window.PLOTLYENV || {};                                    if (document.getElementById(\"320984b4-3903-4bc1-91cf-3c31f0807d2c\")) {                    Plotly.newPlot(                        \"320984b4-3903-4bc1-91cf-3c31f0807d2c\",                        [{\"colorscale\":[[0.0,\"rgb(0,0,131)\"],[0.2,\"rgb(0,60,170)\"],[0.4,\"rgb(5,255,255)\"],[0.6,\"rgb(255,255,0)\"],[0.8,\"rgb(250,0,0)\"],[1.0,\"rgb(128,0,0)\"]],\"type\":\"heatmap\",\"x\":[0.0,0.5,1.0,1.5,2.0],\"y\":[2.0,1.5,1.0,0.5,0.0],\"z\":[[0.0,0.0,0.0,0.0,0.0],[0.0,0.0,0.0,0.0,0.0],[0.0,0.0,0.0,0.0,0.0],[0.0,0.0,0.0,0.0,0.0],[0.0,0.0,0.0,0.0,0.0]]}],                        {\"plot_bgcolor\":\"white\",\"template\":{\"data\":{\"bar\":[{\"error_x\":{\"color\":\"#2a3f5f\"},\"error_y\":{\"color\":\"#2a3f5f\"},\"marker\":{\"line\":{\"color\":\"#E5ECF6\",\"width\":0.5},\"pattern\":{\"fillmode\":\"overlay\",\"size\":10,\"solidity\":0.2}},\"type\":\"bar\"}],\"barpolar\":[{\"marker\":{\"line\":{\"color\":\"#E5ECF6\",\"width\":0.5},\"pattern\":{\"fillmode\":\"overlay\",\"size\":10,\"solidity\":0.2}},\"type\":\"barpolar\"}],\"carpet\":[{\"aaxis\":{\"endlinecolor\":\"#2a3f5f\",\"gridcolor\":\"white\",\"linecolor\":\"white\",\"minorgridcolor\":\"white\",\"startlinecolor\":\"#2a3f5f\"},\"baxis\":{\"endlinecolor\":\"#2a3f5f\",\"gridcolor\":\"white\",\"linecolor\":\"white\",\"minorgridcolor\":\"white\",\"startlinecolor\":\"#2a3f5f\"},\"type\":\"carpet\"}],\"choropleth\":[{\"colorbar\":{\"outlinewidth\":0,\"ticks\":\"\"},\"type\":\"choropleth\"}],\"contour\":[{\"colorbar\":{\"outlinewidth\":0,\"ticks\":\"\"},\"colorscale\":[[0.0,\"#0d0887\"],[0.1111111111111111,\"#46039f\"],[0.2222222222222222,\"#7201a8\"],[0.3333333333333333,\"#9c179e\"],[0.4444444444444444,\"#bd3786\"],[0.5555555555555556,\"#d8576b\"],[0.6666666666666666,\"#ed7953\"],[0.7777777777777778,\"#fb9f3a\"],[0.8888888888888888,\"#fdca26\"],[1.0,\"#f0f921\"]],\"type\":\"contour\"}],\"contourcarpet\":[{\"colorbar\":{\"outlinewidth\":0,\"ticks\":\"\"},\"type\":\"contourcarpet\"}],\"heatmap\":[{\"colorbar\":{\"outlinewidth\":0,\"ticks\":\"\"},\"colorscale\":[[0.0,\"#0d0887\"],[0.1111111111111111,\"#46039f\"],[0.2222222222222222,\"#7201a8\"],[0.3333333333333333,\"#9c179e\"],[0.4444444444444444,\"#bd3786\"],[0.5555555555555556,\"#d8576b\"],[0.6666666666666666,\"#ed7953\"],[0.7777777777777778,\"#fb9f3a\"],[0.8888888888888888,\"#fdca26\"],[1.0,\"#f0f921\"]],\"type\":\"heatmap\"}],\"heatmapgl\":[{\"colorbar\":{\"outlinewidth\":0,\"ticks\":\"\"},\"colorscale\":[[0.0,\"#0d0887\"],[0.1111111111111111,\"#46039f\"],[0.2222222222222222,\"#7201a8\"],[0.3333333333333333,\"#9c179e\"],[0.4444444444444444,\"#bd3786\"],[0.5555555555555556,\"#d8576b\"],[0.6666666666666666,\"#ed7953\"],[0.7777777777777778,\"#fb9f3a\"],[0.8888888888888888,\"#fdca26\"],[1.0,\"#f0f921\"]],\"type\":\"heatmapgl\"}],\"histogram\":[{\"marker\":{\"pattern\":{\"fillmode\":\"overlay\",\"size\":10,\"solidity\":0.2}},\"type\":\"histogram\"}],\"histogram2d\":[{\"colorbar\":{\"outlinewidth\":0,\"ticks\":\"\"},\"colorscale\":[[0.0,\"#0d0887\"],[0.1111111111111111,\"#46039f\"],[0.2222222222222222,\"#7201a8\"],[0.3333333333333333,\"#9c179e\"],[0.4444444444444444,\"#bd3786\"],[0.5555555555555556,\"#d8576b\"],[0.6666666666666666,\"#ed7953\"],[0.7777777777777778,\"#fb9f3a\"],[0.8888888888888888,\"#fdca26\"],[1.0,\"#f0f921\"]],\"type\":\"histogram2d\"}],\"histogram2dcontour\":[{\"colorbar\":{\"outlinewidth\":0,\"ticks\":\"\"},\"colorscale\":[[0.0,\"#0d0887\"],[0.1111111111111111,\"#46039f\"],[0.2222222222222222,\"#7201a8\"],[0.3333333333333333,\"#9c179e\"],[0.4444444444444444,\"#bd3786\"],[0.5555555555555556,\"#d8576b\"],[0.6666666666666666,\"#ed7953\"],[0.7777777777777778,\"#fb9f3a\"],[0.8888888888888888,\"#fdca26\"],[1.0,\"#f0f921\"]],\"type\":\"histogram2dcontour\"}],\"mesh3d\":[{\"colorbar\":{\"outlinewidth\":0,\"ticks\":\"\"},\"type\":\"mesh3d\"}],\"parcoords\":[{\"line\":{\"colorbar\":{\"outlinewidth\":0,\"ticks\":\"\"}},\"type\":\"parcoords\"}],\"pie\":[{\"automargin\":true,\"type\":\"pie\"}],\"scatter\":[{\"marker\":{\"colorbar\":{\"outlinewidth\":0,\"ticks\":\"\"}},\"type\":\"scatter\"}],\"scatter3d\":[{\"line\":{\"colorbar\":{\"outlinewidth\":0,\"ticks\":\"\"}},\"marker\":{\"colorbar\":{\"outlinewidth\":0,\"ticks\":\"\"}},\"type\":\"scatter3d\"}],\"scattercarpet\":[{\"marker\":{\"colorbar\":{\"outlinewidth\":0,\"ticks\":\"\"}},\"type\":\"scattercarpet\"}],\"scattergeo\":[{\"marker\":{\"colorbar\":{\"outlinewidth\":0,\"ticks\":\"\"}},\"type\":\"scattergeo\"}],\"scattergl\":[{\"marker\":{\"colorbar\":{\"outlinewidth\":0,\"ticks\":\"\"}},\"type\":\"scattergl\"}],\"scattermapbox\":[{\"marker\":{\"colorbar\":{\"outlinewidth\":0,\"ticks\":\"\"}},\"type\":\"scattermapbox\"}],\"scatterpolar\":[{\"marker\":{\"colorbar\":{\"outlinewidth\":0,\"ticks\":\"\"}},\"type\":\"scatterpolar\"}],\"scatterpolargl\":[{\"marker\":{\"colorbar\":{\"outlinewidth\":0,\"ticks\":\"\"}},\"type\":\"scatterpolargl\"}],\"scatterternary\":[{\"marker\":{\"colorbar\":{\"outlinewidth\":0,\"ticks\":\"\"}},\"type\":\"scatterternary\"}],\"surface\":[{\"colorbar\":{\"outlinewidth\":0,\"ticks\":\"\"},\"colorscale\":[[0.0,\"#0d0887\"],[0.1111111111111111,\"#46039f\"],[0.2222222222222222,\"#7201a8\"],[0.3333333333333333,\"#9c179e\"],[0.4444444444444444,\"#bd3786\"],[0.5555555555555556,\"#d8576b\"],[0.6666666666666666,\"#ed7953\"],[0.7777777777777778,\"#fb9f3a\"],[0.8888888888888888,\"#fdca26\"],[1.0,\"#f0f921\"]],\"type\":\"surface\"}],\"table\":[{\"cells\":{\"fill\":{\"color\":\"#EBF0F8\"},\"line\":{\"color\":\"white\"}},\"header\":{\"fill\":{\"color\":\"#C8D4E3\"},\"line\":{\"color\":\"white\"}},\"type\":\"table\"}]},\"layout\":{\"annotationdefaults\":{\"arrowcolor\":\"#2a3f5f\",\"arrowhead\":0,\"arrowwidth\":1},\"autotypenumbers\":\"strict\",\"coloraxis\":{\"colorbar\":{\"outlinewidth\":0,\"ticks\":\"\"}},\"colorscale\":{\"diverging\":[[0,\"#8e0152\"],[0.1,\"#c51b7d\"],[0.2,\"#de77ae\"],[0.3,\"#f1b6da\"],[0.4,\"#fde0ef\"],[0.5,\"#f7f7f7\"],[0.6,\"#e6f5d0\"],[0.7,\"#b8e186\"],[0.8,\"#7fbc41\"],[0.9,\"#4d9221\"],[1,\"#276419\"]],\"sequential\":[[0.0,\"#0d0887\"],[0.1111111111111111,\"#46039f\"],[0.2222222222222222,\"#7201a8\"],[0.3333333333333333,\"#9c179e\"],[0.4444444444444444,\"#bd3786\"],[0.5555555555555556,\"#d8576b\"],[0.6666666666666666,\"#ed7953\"],[0.7777777777777778,\"#fb9f3a\"],[0.8888888888888888,\"#fdca26\"],[1.0,\"#f0f921\"]],\"sequentialminus\":[[0.0,\"#0d0887\"],[0.1111111111111111,\"#46039f\"],[0.2222222222222222,\"#7201a8\"],[0.3333333333333333,\"#9c179e\"],[0.4444444444444444,\"#bd3786\"],[0.5555555555555556,\"#d8576b\"],[0.6666666666666666,\"#ed7953\"],[0.7777777777777778,\"#fb9f3a\"],[0.8888888888888888,\"#fdca26\"],[1.0,\"#f0f921\"]]},\"colorway\":[\"#636efa\",\"#EF553B\",\"#00cc96\",\"#ab63fa\",\"#FFA15A\",\"#19d3f3\",\"#FF6692\",\"#B6E880\",\"#FF97FF\",\"#FECB52\"],\"font\":{\"color\":\"#2a3f5f\"},\"geo\":{\"bgcolor\":\"white\",\"lakecolor\":\"white\",\"landcolor\":\"#E5ECF6\",\"showlakes\":true,\"showland\":true,\"subunitcolor\":\"white\"},\"hoverlabel\":{\"align\":\"left\"},\"hovermode\":\"closest\",\"mapbox\":{\"style\":\"light\"},\"paper_bgcolor\":\"white\",\"plot_bgcolor\":\"#E5ECF6\",\"polar\":{\"angularaxis\":{\"gridcolor\":\"white\",\"linecolor\":\"white\",\"ticks\":\"\"},\"bgcolor\":\"#E5ECF6\",\"radialaxis\":{\"gridcolor\":\"white\",\"linecolor\":\"white\",\"ticks\":\"\"}},\"scene\":{\"xaxis\":{\"backgroundcolor\":\"#E5ECF6\",\"gridcolor\":\"white\",\"gridwidth\":2,\"linecolor\":\"white\",\"showbackground\":true,\"ticks\":\"\",\"zerolinecolor\":\"white\"},\"yaxis\":{\"backgroundcolor\":\"#E5ECF6\",\"gridcolor\":\"white\",\"gridwidth\":2,\"linecolor\":\"white\",\"showbackground\":true,\"ticks\":\"\",\"zerolinecolor\":\"white\"},\"zaxis\":{\"backgroundcolor\":\"#E5ECF6\",\"gridcolor\":\"white\",\"gridwidth\":2,\"linecolor\":\"white\",\"showbackground\":true,\"ticks\":\"\",\"zerolinecolor\":\"white\"}},\"shapedefaults\":{\"line\":{\"color\":\"#2a3f5f\"}},\"ternary\":{\"aaxis\":{\"gridcolor\":\"white\",\"linecolor\":\"white\",\"ticks\":\"\"},\"baxis\":{\"gridcolor\":\"white\",\"linecolor\":\"white\",\"ticks\":\"\"},\"bgcolor\":\"#E5ECF6\",\"caxis\":{\"gridcolor\":\"white\",\"linecolor\":\"white\",\"ticks\":\"\"}},\"title\":{\"x\":0.05},\"xaxis\":{\"automargin\":true,\"gridcolor\":\"white\",\"linecolor\":\"white\",\"ticks\":\"\",\"title\":{\"standoff\":15},\"zerolinecolor\":\"white\",\"zerolinewidth\":2},\"yaxis\":{\"automargin\":true,\"gridcolor\":\"white\",\"linecolor\":\"white\",\"ticks\":\"\",\"title\":{\"standoff\":15},\"zerolinecolor\":\"white\",\"zerolinewidth\":2}}},\"title\":{\"text\":\"Heat kernel representation of diagram 0 in homology dimension 1\"},\"xaxis\":{\"constrain\":\"domain\",\"scaleanchor\":\"y\"},\"yaxis\":{\"autorange\":true,\"constrain\":\"domain\"}},                        {\"responsive\": true}                    ).then(function(){\n",
              "                            \n",
              "var gd = document.getElementById('320984b4-3903-4bc1-91cf-3c31f0807d2c');\n",
              "var x = new MutationObserver(function (mutations, observer) {{\n",
              "        var display = window.getComputedStyle(gd).display;\n",
              "        if (!display || display === 'none') {{\n",
              "            console.log([gd, 'removed!']);\n",
              "            Plotly.purge(gd);\n",
              "            observer.disconnect();\n",
              "        }}\n",
              "}});\n",
              "\n",
              "// Listen for the removal of the full notebook cells\n",
              "var notebookContainer = gd.closest('#notebook-container');\n",
              "if (notebookContainer) {{\n",
              "    x.observe(notebookContainer, {childList: true});\n",
              "}}\n",
              "\n",
              "// Listen for the clearing of the current output cell\n",
              "var outputEl = gd.closest('.output');\n",
              "if (outputEl) {{\n",
              "    x.observe(outputEl, {childList: true});\n",
              "}}\n",
              "\n",
              "                        })                };                            </script>        </div>\n",
              "</body>\n",
              "</html>"
            ]
          },
          "metadata": {
            "tags": []
          }
        }
      ]
    },
    {
      "cell_type": "code",
      "metadata": {
        "id": "RSNSTCLOqx2X"
      },
      "source": [
        ""
      ],
      "execution_count": 73,
      "outputs": []
    },
    {
      "cell_type": "code",
      "metadata": {
        "colab": {
          "base_uri": "https://localhost:8080/"
        },
        "id": "KIbqYkqT7Lal",
        "outputId": "64b56e22-653a-41be-f0a4-6c7b25d5455d"
      },
      "source": [
        "# uncomment this if running locally or on Google Colab\n",
        "!pip install --upgrade hepml"
      ],
      "execution_count": null,
      "outputs": [
        {
          "output_type": "stream",
          "text": [
            "Collecting hepml\n",
            "  Downloading https://files.pythonhosted.org/packages/1c/6b/7a18dd00155595678a753e808167344b6a41baef4e51448876b2a3a8778b/hepml-0.0.12-py3-none-any.whl\n",
            "Requirement already satisfied, skipping upgrade: numba in /usr/local/lib/python3.7/dist-packages (from hepml) (0.51.2)\n",
            "Requirement already satisfied, skipping upgrade: scikit-learn in /usr/local/lib/python3.7/dist-packages (from hepml) (0.22.2.post1)\n",
            "Requirement already satisfied, skipping upgrade: sklearn-pandas in /usr/local/lib/python3.7/dist-packages (from hepml) (1.8.0)\n",
            "Collecting nbdev\n",
            "\u001b[?25l  Downloading https://files.pythonhosted.org/packages/5c/c8/e2fba530b84a770373a106e4828ea83df62104b9694e367d169e07ea484f/nbdev-1.1.14-py3-none-any.whl (46kB)\n",
            "\u001b[K     |████████████████████████████████| 51kB 3.4MB/s \n",
            "\u001b[?25hRequirement already satisfied, skipping upgrade: graphviz in /usr/local/lib/python3.7/dist-packages (from hepml) (0.10.1)\n",
            "Collecting giotto-tda\n",
            "\u001b[?25l  Downloading https://files.pythonhosted.org/packages/c3/ec/764e7fbd5ac8cdb2110d4a108c8acc6e2094eef43db0f9f8cc88d5323d72/giotto_tda-0.4.0-cp37-cp37m-manylinux2010_x86_64.whl (1.5MB)\n",
            "\u001b[K     |████████████████████████████████| 1.5MB 5.6MB/s \n",
            "\u001b[?25hCollecting black\n",
            "\u001b[?25l  Downloading https://files.pythonhosted.org/packages/0f/a4/b521c6e974c90934674f42e44f91c7d75f1f0bfa5faa4101281cfb506247/black-21.5b2-py3-none-any.whl (138kB)\n",
            "\u001b[K     |████████████████████████████████| 143kB 36.1MB/s \n",
            "\u001b[?25hRequirement already satisfied, skipping upgrade: Cython in /usr/local/lib/python3.7/dist-packages (from hepml) (0.29.23)\n",
            "Requirement already satisfied, skipping upgrade: pillow in /usr/local/lib/python3.7/dist-packages (from hepml) (7.1.2)\n",
            "Collecting wget\n",
            "  Downloading https://files.pythonhosted.org/packages/47/6a/62e288da7bcda82b935ff0c6cfe542970f04e29c756b0e147251b2fb251f/wget-3.2.zip\n",
            "Requirement already satisfied, skipping upgrade: gdown in /usr/local/lib/python3.7/dist-packages (from hepml) (3.6.4)\n",
            "Requirement already satisfied, skipping upgrade: pandas in /usr/local/lib/python3.7/dist-packages (from hepml) (1.1.5)\n",
            "Requirement already satisfied, skipping upgrade: numpy in /usr/local/lib/python3.7/dist-packages (from hepml) (1.19.5)\n",
            "Requirement already satisfied, skipping upgrade: seaborn in /usr/local/lib/python3.7/dist-packages (from hepml) (0.11.1)\n",
            "Requirement already satisfied, skipping upgrade: fastprogress in /usr/local/lib/python3.7/dist-packages (from hepml) (1.0.0)\n",
            "Requirement already satisfied, skipping upgrade: tqdm in /usr/local/lib/python3.7/dist-packages (from hepml) (4.41.1)\n",
            "Requirement already satisfied, skipping upgrade: pyarrow in /usr/local/lib/python3.7/dist-packages (from hepml) (3.0.0)\n",
            "Requirement already satisfied, skipping upgrade: llvmlite<0.35,>=0.34.0.dev0 in /usr/local/lib/python3.7/dist-packages (from numba->hepml) (0.34.0)\n",
            "Requirement already satisfied, skipping upgrade: setuptools in /usr/local/lib/python3.7/dist-packages (from numba->hepml) (57.0.0)\n",
            "Requirement already satisfied, skipping upgrade: scipy>=0.17.0 in /usr/local/lib/python3.7/dist-packages (from scikit-learn->hepml) (1.4.1)\n",
            "Requirement already satisfied, skipping upgrade: joblib>=0.11 in /usr/local/lib/python3.7/dist-packages (from scikit-learn->hepml) (1.0.1)\n",
            "Requirement already satisfied, skipping upgrade: nbformat>=4.4.0 in /usr/local/lib/python3.7/dist-packages (from nbdev->hepml) (5.1.3)\n",
            "Requirement already satisfied, skipping upgrade: pyyaml in /usr/local/lib/python3.7/dist-packages (from nbdev->hepml) (3.13)\n",
            "Requirement already satisfied, skipping upgrade: jupyter-client<=6.1.12 in /usr/local/lib/python3.7/dist-packages (from nbdev->hepml) (5.3.5)\n",
            "Requirement already satisfied, skipping upgrade: nbconvert<6 in /usr/local/lib/python3.7/dist-packages (from nbdev->hepml) (5.6.1)\n",
            "Requirement already satisfied, skipping upgrade: jupyter in /usr/local/lib/python3.7/dist-packages (from nbdev->hepml) (1.0.0)\n",
            "Requirement already satisfied, skipping upgrade: pip in /usr/local/lib/python3.7/dist-packages (from nbdev->hepml) (19.3.1)\n",
            "Collecting fastcore>=1.3.19\n",
            "\u001b[?25l  Downloading https://files.pythonhosted.org/packages/d8/b0/f1fbf554e0bf3c76e1bdc3b82eedfe41fcf656479586be38c64421082b1b/fastcore-1.3.20-py3-none-any.whl (53kB)\n",
            "\u001b[K     |████████████████████████████████| 61kB 6.3MB/s \n",
            "\u001b[?25hRequirement already satisfied, skipping upgrade: packaging in /usr/local/lib/python3.7/dist-packages (from nbdev->hepml) (20.9)\n",
            "Collecting fastrelease\n",
            "  Downloading https://files.pythonhosted.org/packages/8f/66/685d5cbd0534395a209ad04afb1573f03467ef3b430b8ee1fec24c332d0c/fastrelease-0.1.11-py3-none-any.whl\n",
            "Collecting ghapi\n",
            "\u001b[?25l  Downloading https://files.pythonhosted.org/packages/08/cf/9aef37ef04f5aa8df5396750cb531cbfdc8a362d958fcad34dd4c22aa2c1/ghapi-0.1.17-py3-none-any.whl (51kB)\n",
            "\u001b[K     |████████████████████████████████| 61kB 7.0MB/s \n",
            "\u001b[?25hRequirement already satisfied, skipping upgrade: ipykernel in /usr/local/lib/python3.7/dist-packages (from nbdev->hepml) (4.10.1)\n",
            "Requirement already satisfied, skipping upgrade: plotly>=4.8.2 in /usr/local/lib/python3.7/dist-packages (from giotto-tda->hepml) (4.14.3)\n",
            "Collecting python-igraph>=0.8.2\n",
            "\u001b[?25l  Downloading https://files.pythonhosted.org/packages/2f/d9/4f0a1b01ec1020dd0a089c5590e2efbb22f05873b72c03d5d89567ae9b02/python_igraph-0.9.4-cp37-cp37m-manylinux2010_x86_64.whl (3.2MB)\n",
            "\u001b[K     |████████████████████████████████| 3.2MB 39.7MB/s \n",
            "\u001b[?25hRequirement already satisfied, skipping upgrade: ipywidgets>=7.5.1 in /usr/local/lib/python3.7/dist-packages (from giotto-tda->hepml) (7.6.3)\n",
            "Collecting pyflagser>=0.4.3\n",
            "\u001b[?25l  Downloading https://files.pythonhosted.org/packages/63/42/b602369733d9ed5722ca5273abc457c85ac666127220c0f3af3b7a12badf/pyflagser-0.4.4-cp37-cp37m-manylinux2010_x86_64.whl (404kB)\n",
            "\u001b[K     |████████████████████████████████| 409kB 26.4MB/s \n",
            "\u001b[?25hCollecting mypy-extensions>=0.4.3\n",
            "  Downloading https://files.pythonhosted.org/packages/5c/eb/975c7c080f3223a5cdaff09612f3a5221e4ba534f7039db34c35d95fa6a5/mypy_extensions-0.4.3-py2.py3-none-any.whl\n",
            "Collecting pathspec<1,>=0.8.1\n",
            "  Downloading https://files.pythonhosted.org/packages/29/29/a465741a3d97ea3c17d21eaad4c64205428bde56742360876c4391f930d4/pathspec-0.8.1-py2.py3-none-any.whl\n",
            "Requirement already satisfied, skipping upgrade: appdirs in /usr/local/lib/python3.7/dist-packages (from black->hepml) (1.4.4)\n",
            "Requirement already satisfied, skipping upgrade: click>=7.1.2 in /usr/local/lib/python3.7/dist-packages (from black->hepml) (7.1.2)\n",
            "Requirement already satisfied, skipping upgrade: typing-extensions>=3.7.4; python_version < \"3.8\" in /usr/local/lib/python3.7/dist-packages (from black->hepml) (3.7.4.3)\n",
            "Collecting typed-ast>=1.4.2; python_version < \"3.8\"\n",
            "\u001b[?25l  Downloading https://files.pythonhosted.org/packages/65/b3/573d2f1fecbbe8f82a8d08172e938c247f99abe1be3bef3da2efaa3810bf/typed_ast-1.4.3-cp37-cp37m-manylinux1_x86_64.whl (743kB)\n",
            "\u001b[K     |████████████████████████████████| 747kB 37.8MB/s \n",
            "\u001b[?25hCollecting regex>=2020.1.8\n",
            "\u001b[?25l  Downloading https://files.pythonhosted.org/packages/c4/28/5f08d8841013ccf72cd95dfff2500fe7fb39467af12c5e7b802d8381d811/regex-2021.4.4-cp37-cp37m-manylinux2014_x86_64.whl (720kB)\n",
            "\u001b[K     |████████████████████████████████| 727kB 34.6MB/s \n",
            "\u001b[?25hRequirement already satisfied, skipping upgrade: toml>=0.10.1 in /usr/local/lib/python3.7/dist-packages (from black->hepml) (0.10.2)\n",
            "Requirement already satisfied, skipping upgrade: six in /usr/local/lib/python3.7/dist-packages (from gdown->hepml) (1.15.0)\n",
            "Requirement already satisfied, skipping upgrade: requests in /usr/local/lib/python3.7/dist-packages (from gdown->hepml) (2.23.0)\n",
            "Requirement already satisfied, skipping upgrade: python-dateutil>=2.7.3 in /usr/local/lib/python3.7/dist-packages (from pandas->hepml) (2.8.1)\n",
            "Requirement already satisfied, skipping upgrade: pytz>=2017.2 in /usr/local/lib/python3.7/dist-packages (from pandas->hepml) (2018.9)\n",
            "Requirement already satisfied, skipping upgrade: matplotlib>=2.2 in /usr/local/lib/python3.7/dist-packages (from seaborn->hepml) (3.2.2)\n",
            "Requirement already satisfied, skipping upgrade: ipython-genutils in /usr/local/lib/python3.7/dist-packages (from nbformat>=4.4.0->nbdev->hepml) (0.2.0)\n",
            "Requirement already satisfied, skipping upgrade: jupyter-core in /usr/local/lib/python3.7/dist-packages (from nbformat>=4.4.0->nbdev->hepml) (4.7.1)\n",
            "Requirement already satisfied, skipping upgrade: jsonschema!=2.5.0,>=2.4 in /usr/local/lib/python3.7/dist-packages (from nbformat>=4.4.0->nbdev->hepml) (2.6.0)\n",
            "Requirement already satisfied, skipping upgrade: traitlets>=4.1 in /usr/local/lib/python3.7/dist-packages (from nbformat>=4.4.0->nbdev->hepml) (5.0.5)\n",
            "Requirement already satisfied, skipping upgrade: tornado>=4.1 in /usr/local/lib/python3.7/dist-packages (from jupyter-client<=6.1.12->nbdev->hepml) (5.1.1)\n",
            "Requirement already satisfied, skipping upgrade: pyzmq>=13 in /usr/local/lib/python3.7/dist-packages (from jupyter-client<=6.1.12->nbdev->hepml) (22.0.3)\n",
            "Requirement already satisfied, skipping upgrade: bleach in /usr/local/lib/python3.7/dist-packages (from nbconvert<6->nbdev->hepml) (3.3.0)\n",
            "Requirement already satisfied, skipping upgrade: entrypoints>=0.2.2 in /usr/local/lib/python3.7/dist-packages (from nbconvert<6->nbdev->hepml) (0.3)\n",
            "Requirement already satisfied, skipping upgrade: pygments in /usr/local/lib/python3.7/dist-packages (from nbconvert<6->nbdev->hepml) (2.6.1)\n",
            "Requirement already satisfied, skipping upgrade: jinja2>=2.4 in /usr/local/lib/python3.7/dist-packages (from nbconvert<6->nbdev->hepml) (2.11.3)\n",
            "Requirement already satisfied, skipping upgrade: defusedxml in /usr/local/lib/python3.7/dist-packages (from nbconvert<6->nbdev->hepml) (0.7.1)\n",
            "Requirement already satisfied, skipping upgrade: mistune<2,>=0.8.1 in /usr/local/lib/python3.7/dist-packages (from nbconvert<6->nbdev->hepml) (0.8.4)\n",
            "Requirement already satisfied, skipping upgrade: pandocfilters>=1.4.1 in /usr/local/lib/python3.7/dist-packages (from nbconvert<6->nbdev->hepml) (1.4.3)\n",
            "Requirement already satisfied, skipping upgrade: testpath in /usr/local/lib/python3.7/dist-packages (from nbconvert<6->nbdev->hepml) (0.5.0)\n",
            "Requirement already satisfied, skipping upgrade: jupyter-console in /usr/local/lib/python3.7/dist-packages (from jupyter->nbdev->hepml) (5.2.0)\n",
            "Requirement already satisfied, skipping upgrade: qtconsole in /usr/local/lib/python3.7/dist-packages (from jupyter->nbdev->hepml) (5.1.0)\n",
            "Requirement already satisfied, skipping upgrade: notebook in /usr/local/lib/python3.7/dist-packages (from jupyter->nbdev->hepml) (5.3.1)\n",
            "Requirement already satisfied, skipping upgrade: pyparsing>=2.0.2 in /usr/local/lib/python3.7/dist-packages (from packaging->nbdev->hepml) (2.4.7)\n",
            "Requirement already satisfied, skipping upgrade: ipython>=4.0.0 in /usr/local/lib/python3.7/dist-packages (from ipykernel->nbdev->hepml) (5.5.0)\n",
            "Requirement already satisfied, skipping upgrade: retrying>=1.3.3 in /usr/local/lib/python3.7/dist-packages (from plotly>=4.8.2->giotto-tda->hepml) (1.3.3)\n",
            "Collecting texttable>=1.6.2\n",
            "  Downloading https://files.pythonhosted.org/packages/06/f5/46201c428aebe0eecfa83df66bf3e6caa29659dbac5a56ddfd83cae0d4a4/texttable-1.6.3-py2.py3-none-any.whl\n",
            "Requirement already satisfied, skipping upgrade: jupyterlab-widgets>=1.0.0; python_version >= \"3.6\" in /usr/local/lib/python3.7/dist-packages (from ipywidgets>=7.5.1->giotto-tda->hepml) (1.0.0)\n",
            "Requirement already satisfied, skipping upgrade: widgetsnbextension~=3.5.0 in /usr/local/lib/python3.7/dist-packages (from ipywidgets>=7.5.1->giotto-tda->hepml) (3.5.1)\n",
            "Requirement already satisfied, skipping upgrade: chardet<4,>=3.0.2 in /usr/local/lib/python3.7/dist-packages (from requests->gdown->hepml) (3.0.4)\n",
            "Requirement already satisfied, skipping upgrade: urllib3!=1.25.0,!=1.25.1,<1.26,>=1.21.1 in /usr/local/lib/python3.7/dist-packages (from requests->gdown->hepml) (1.24.3)\n",
            "Requirement already satisfied, skipping upgrade: idna<3,>=2.5 in /usr/local/lib/python3.7/dist-packages (from requests->gdown->hepml) (2.10)\n",
            "Requirement already satisfied, skipping upgrade: certifi>=2017.4.17 in /usr/local/lib/python3.7/dist-packages (from requests->gdown->hepml) (2020.12.5)\n",
            "Requirement already satisfied, skipping upgrade: kiwisolver>=1.0.1 in /usr/local/lib/python3.7/dist-packages (from matplotlib>=2.2->seaborn->hepml) (1.3.1)\n",
            "Requirement already satisfied, skipping upgrade: cycler>=0.10 in /usr/local/lib/python3.7/dist-packages (from matplotlib>=2.2->seaborn->hepml) (0.10.0)\n",
            "Requirement already satisfied, skipping upgrade: webencodings in /usr/local/lib/python3.7/dist-packages (from bleach->nbconvert<6->nbdev->hepml) (0.5.1)\n",
            "Requirement already satisfied, skipping upgrade: MarkupSafe>=0.23 in /usr/local/lib/python3.7/dist-packages (from jinja2>=2.4->nbconvert<6->nbdev->hepml) (2.0.1)\n",
            "Requirement already satisfied, skipping upgrade: prompt-toolkit<2.0.0,>=1.0.0 in /usr/local/lib/python3.7/dist-packages (from jupyter-console->jupyter->nbdev->hepml) (1.0.18)\n",
            "Requirement already satisfied, skipping upgrade: qtpy in /usr/local/lib/python3.7/dist-packages (from qtconsole->jupyter->nbdev->hepml) (1.9.0)\n",
            "Requirement already satisfied, skipping upgrade: terminado>=0.8.1 in /usr/local/lib/python3.7/dist-packages (from notebook->jupyter->nbdev->hepml) (0.10.0)\n",
            "Requirement already satisfied, skipping upgrade: Send2Trash in /usr/local/lib/python3.7/dist-packages (from notebook->jupyter->nbdev->hepml) (1.5.0)\n",
            "Requirement already satisfied, skipping upgrade: decorator in /usr/local/lib/python3.7/dist-packages (from ipython>=4.0.0->ipykernel->nbdev->hepml) (4.4.2)\n",
            "Requirement already satisfied, skipping upgrade: simplegeneric>0.8 in /usr/local/lib/python3.7/dist-packages (from ipython>=4.0.0->ipykernel->nbdev->hepml) (0.8.1)\n",
            "Requirement already satisfied, skipping upgrade: pexpect; sys_platform != \"win32\" in /usr/local/lib/python3.7/dist-packages (from ipython>=4.0.0->ipykernel->nbdev->hepml) (4.8.0)\n",
            "Requirement already satisfied, skipping upgrade: pickleshare in /usr/local/lib/python3.7/dist-packages (from ipython>=4.0.0->ipykernel->nbdev->hepml) (0.7.5)\n",
            "Requirement already satisfied, skipping upgrade: wcwidth in /usr/local/lib/python3.7/dist-packages (from prompt-toolkit<2.0.0,>=1.0.0->jupyter-console->jupyter->nbdev->hepml) (0.2.5)\n",
            "Requirement already satisfied, skipping upgrade: ptyprocess; os_name != \"nt\" in /usr/local/lib/python3.7/dist-packages (from terminado>=0.8.1->notebook->jupyter->nbdev->hepml) (0.7.0)\n",
            "Building wheels for collected packages: wget\n",
            "  Building wheel for wget (setup.py) ... \u001b[?25l\u001b[?25hdone\n",
            "  Created wheel for wget: filename=wget-3.2-cp37-none-any.whl size=9675 sha256=dfb9d01c87171c03520b7ae7dd8e844489abe152874cc0999f50e4fcba116d5b\n",
            "  Stored in directory: /root/.cache/pip/wheels/40/15/30/7d8f7cea2902b4db79e3fea550d7d7b85ecb27ef992b618f3f\n",
            "Successfully built wget\n",
            "\u001b[31mERROR: giotto-tda 0.4.0 has requirement scikit-learn>=0.23.1, but you'll have scikit-learn 0.22.2.post1 which is incompatible.\u001b[0m\n",
            "\u001b[31mERROR: giotto-tda 0.4.0 has requirement scipy>=1.5.0, but you'll have scipy 1.4.1 which is incompatible.\u001b[0m\n",
            "Installing collected packages: fastcore, ghapi, fastrelease, nbdev, texttable, python-igraph, pyflagser, giotto-tda, mypy-extensions, pathspec, typed-ast, regex, black, wget, hepml\n",
            "  Found existing installation: regex 2019.12.20\n",
            "    Uninstalling regex-2019.12.20:\n",
            "      Successfully uninstalled regex-2019.12.20\n",
            "Successfully installed black-21.5b2 fastcore-1.3.20 fastrelease-0.1.11 ghapi-0.1.17 giotto-tda-0.4.0 hepml-0.0.12 mypy-extensions-0.4.3 nbdev-1.1.14 pathspec-0.8.1 pyflagser-0.4.4 python-igraph-0.9.4 regex-2021.4.4 texttable-1.6.3 typed-ast-1.4.3 wget-3.2\n"
          ],
          "name": "stdout"
        }
      ]
    },
    {
      "cell_type": "code",
      "metadata": {
        "id": "9sX_dhGz7POz"
      },
      "source": [
        "# data wrangling\n",
        "import numpy as np\n",
        "import pandas as pd\n",
        "from pathlib import Path\n",
        "import pickle\n",
        "from typing import List\n",
        "from PIL import Image\n",
        "from hepml.core import download_dataset\n",
        "from scipy import ndimage\n",
        "\n",
        "# tda magic\n",
        "from gtda.homology import VietorisRipsPersistence, CubicalPersistence\n",
        "from gtda.diagrams import PersistenceEntropy\n",
        "from gtda.plotting import plot_heatmap, plot_point_cloud, plot_diagram\n",
        "from gtda.pipeline import Pipeline\n",
        "from hepml.core import make_point_clouds, load_shapes\n",
        "\n",
        "# ml tools\n",
        "from sklearn.ensemble import RandomForestClassifier\n",
        "from sklearn.preprocessing import LabelEncoder\n",
        "\n",
        "# dataviz\n",
        "import matplotlib.pyplot as plt"
      ],
      "execution_count": null,
      "outputs": []
    },
    {
      "cell_type": "code",
      "metadata": {
        "colab": {
          "base_uri": "https://localhost:8080/"
        },
        "id": "bt-aBmmZ7sgX",
        "outputId": "cdc84831-bc63-4093-9f4c-c23c81a9d69e"
      },
      "source": [
        "point_clouds_basic, labels_basic = make_point_clouds(n_samples_per_shape=10, n_points=20, noise=0.5)\n",
        "point_clouds_basic.shape, X.shape"
      ],
      "execution_count": null,
      "outputs": [
        {
          "output_type": "execute_result",
          "data": {
            "text/plain": [
              "((30, 400, 3), (15, 5))"
            ]
          },
          "metadata": {
            "tags": []
          },
          "execution_count": 17
        }
      ]
    },
    {
      "cell_type": "code",
      "metadata": {
        "colab": {
          "base_uri": "https://localhost:8080/",
          "height": 541
        },
        "id": "9jFSADYp8UKa",
        "outputId": "4244a072-444b-470e-f424-e0c3826cbb28"
      },
      "source": [
        "plot_point_cloud(X)"
      ],
      "execution_count": null,
      "outputs": [
        {
          "output_type": "display_data",
          "data": {
            "text/html": [
              "<html>\n",
              "<head><meta charset=\"utf-8\" /></head>\n",
              "<body>\n",
              "    <div>            <script src=\"https://cdnjs.cloudflare.com/ajax/libs/mathjax/2.7.5/MathJax.js?config=TeX-AMS-MML_SVG\"></script><script type=\"text/javascript\">if (window.MathJax) {MathJax.Hub.Config({SVG: {font: \"STIX-Web\"}});}</script>                <script type=\"text/javascript\">window.PlotlyConfig = {MathJaxConfig: 'local'};</script>\n",
              "        <script src=\"https://cdn.plot.ly/plotly-latest.min.js\"></script>                <div id=\"9a02d446-2a51-4af7-99f3-aefb47b9b10b\" class=\"plotly-graph-div\" style=\"height:525px; width:100%;\"></div>            <script type=\"text/javascript\">                                    window.PLOTLYENV=window.PLOTLYENV || {};                                    if (document.getElementById(\"9a02d446-2a51-4af7-99f3-aefb47b9b10b\")) {                    Plotly.newPlot(                        \"9a02d446-2a51-4af7-99f3-aefb47b9b10b\",                        [{\"marker\": {\"color\": [0, 1, 2, 3, 4, 5, 6, 7, 8, 9, 10, 11, 12, 13, 14], \"colorscale\": [[0.0, \"#440154\"], [0.1111111111111111, \"#482878\"], [0.2222222222222222, \"#3e4989\"], [0.3333333333333333, \"#31688e\"], [0.4444444444444444, \"#26828e\"], [0.5555555555555556, \"#1f9e89\"], [0.6666666666666666, \"#35b779\"], [0.7777777777777778, \"#6ece58\"], [0.8888888888888888, \"#b5de2b\"], [1.0, \"#fde725\"]], \"opacity\": 0.8, \"size\": 4}, \"mode\": \"markers\", \"type\": \"scatter3d\", \"x\": [0, 1, 1, 1, 1, 0, 0, 0, 1, 0, 0, 1, 0, 0, 0], \"y\": [1, 0, 0, 1, 1, 1, 0, 0, 1, 0, 1, 1, 0, 0, 1], \"z\": [1, 0, 1, 1, 1, 1, 0, 1, 0, 0, 0, 0, 1, 0, 0]}],                        {\"scene\": {\"xaxis\": {\"exponentformat\": \"e\", \"showexponent\": \"all\", \"title\": {\"text\": \"0th\"}, \"type\": \"linear\"}, \"yaxis\": {\"exponentformat\": \"e\", \"showexponent\": \"all\", \"title\": {\"text\": \"1st\"}, \"type\": \"linear\"}, \"zaxis\": {\"exponentformat\": \"e\", \"showexponent\": \"all\", \"title\": {\"text\": \"2nd\"}, \"type\": \"linear\"}}, \"template\": {\"data\": {\"bar\": [{\"error_x\": {\"color\": \"#2a3f5f\"}, \"error_y\": {\"color\": \"#2a3f5f\"}, \"marker\": {\"line\": {\"color\": \"#E5ECF6\", \"width\": 0.5}}, \"type\": \"bar\"}], \"barpolar\": [{\"marker\": {\"line\": {\"color\": \"#E5ECF6\", \"width\": 0.5}}, \"type\": \"barpolar\"}], \"carpet\": [{\"aaxis\": {\"endlinecolor\": \"#2a3f5f\", \"gridcolor\": \"white\", \"linecolor\": \"white\", \"minorgridcolor\": \"white\", \"startlinecolor\": \"#2a3f5f\"}, \"baxis\": {\"endlinecolor\": \"#2a3f5f\", \"gridcolor\": \"white\", \"linecolor\": \"white\", \"minorgridcolor\": \"white\", \"startlinecolor\": \"#2a3f5f\"}, \"type\": \"carpet\"}], \"choropleth\": [{\"colorbar\": {\"outlinewidth\": 0, \"ticks\": \"\"}, \"type\": \"choropleth\"}], \"contour\": [{\"colorbar\": {\"outlinewidth\": 0, \"ticks\": \"\"}, \"colorscale\": [[0.0, \"#0d0887\"], [0.1111111111111111, \"#46039f\"], [0.2222222222222222, \"#7201a8\"], [0.3333333333333333, \"#9c179e\"], [0.4444444444444444, \"#bd3786\"], [0.5555555555555556, \"#d8576b\"], [0.6666666666666666, \"#ed7953\"], [0.7777777777777778, \"#fb9f3a\"], [0.8888888888888888, \"#fdca26\"], [1.0, \"#f0f921\"]], \"type\": \"contour\"}], \"contourcarpet\": [{\"colorbar\": {\"outlinewidth\": 0, \"ticks\": \"\"}, \"type\": \"contourcarpet\"}], \"heatmap\": [{\"colorbar\": {\"outlinewidth\": 0, \"ticks\": \"\"}, \"colorscale\": [[0.0, \"#0d0887\"], [0.1111111111111111, \"#46039f\"], [0.2222222222222222, \"#7201a8\"], [0.3333333333333333, \"#9c179e\"], [0.4444444444444444, \"#bd3786\"], [0.5555555555555556, \"#d8576b\"], [0.6666666666666666, \"#ed7953\"], [0.7777777777777778, \"#fb9f3a\"], [0.8888888888888888, \"#fdca26\"], [1.0, \"#f0f921\"]], \"type\": \"heatmap\"}], \"heatmapgl\": [{\"colorbar\": {\"outlinewidth\": 0, \"ticks\": \"\"}, \"colorscale\": [[0.0, \"#0d0887\"], [0.1111111111111111, \"#46039f\"], [0.2222222222222222, \"#7201a8\"], [0.3333333333333333, \"#9c179e\"], [0.4444444444444444, \"#bd3786\"], [0.5555555555555556, \"#d8576b\"], [0.6666666666666666, \"#ed7953\"], [0.7777777777777778, \"#fb9f3a\"], [0.8888888888888888, \"#fdca26\"], [1.0, \"#f0f921\"]], \"type\": \"heatmapgl\"}], \"histogram\": [{\"marker\": {\"colorbar\": {\"outlinewidth\": 0, \"ticks\": \"\"}}, \"type\": \"histogram\"}], \"histogram2d\": [{\"colorbar\": {\"outlinewidth\": 0, \"ticks\": \"\"}, \"colorscale\": [[0.0, \"#0d0887\"], [0.1111111111111111, \"#46039f\"], [0.2222222222222222, \"#7201a8\"], [0.3333333333333333, \"#9c179e\"], [0.4444444444444444, \"#bd3786\"], [0.5555555555555556, \"#d8576b\"], [0.6666666666666666, \"#ed7953\"], [0.7777777777777778, \"#fb9f3a\"], [0.8888888888888888, \"#fdca26\"], [1.0, \"#f0f921\"]], \"type\": \"histogram2d\"}], \"histogram2dcontour\": [{\"colorbar\": {\"outlinewidth\": 0, \"ticks\": \"\"}, \"colorscale\": [[0.0, \"#0d0887\"], [0.1111111111111111, \"#46039f\"], [0.2222222222222222, \"#7201a8\"], [0.3333333333333333, \"#9c179e\"], [0.4444444444444444, \"#bd3786\"], [0.5555555555555556, \"#d8576b\"], [0.6666666666666666, \"#ed7953\"], [0.7777777777777778, \"#fb9f3a\"], [0.8888888888888888, \"#fdca26\"], [1.0, \"#f0f921\"]], \"type\": \"histogram2dcontour\"}], \"mesh3d\": [{\"colorbar\": {\"outlinewidth\": 0, \"ticks\": \"\"}, \"type\": \"mesh3d\"}], \"parcoords\": [{\"line\": {\"colorbar\": {\"outlinewidth\": 0, \"ticks\": \"\"}}, \"type\": \"parcoords\"}], \"pie\": [{\"automargin\": true, \"type\": \"pie\"}], \"scatter\": [{\"marker\": {\"colorbar\": {\"outlinewidth\": 0, \"ticks\": \"\"}}, \"type\": \"scatter\"}], \"scatter3d\": [{\"line\": {\"colorbar\": {\"outlinewidth\": 0, \"ticks\": \"\"}}, \"marker\": {\"colorbar\": {\"outlinewidth\": 0, \"ticks\": \"\"}}, \"type\": \"scatter3d\"}], \"scattercarpet\": [{\"marker\": {\"colorbar\": {\"outlinewidth\": 0, \"ticks\": \"\"}}, \"type\": \"scattercarpet\"}], \"scattergeo\": [{\"marker\": {\"colorbar\": {\"outlinewidth\": 0, \"ticks\": \"\"}}, \"type\": \"scattergeo\"}], \"scattergl\": [{\"marker\": {\"colorbar\": {\"outlinewidth\": 0, \"ticks\": \"\"}}, \"type\": \"scattergl\"}], \"scattermapbox\": [{\"marker\": {\"colorbar\": {\"outlinewidth\": 0, \"ticks\": \"\"}}, \"type\": \"scattermapbox\"}], \"scatterpolar\": [{\"marker\": {\"colorbar\": {\"outlinewidth\": 0, \"ticks\": \"\"}}, \"type\": \"scatterpolar\"}], \"scatterpolargl\": [{\"marker\": {\"colorbar\": {\"outlinewidth\": 0, \"ticks\": \"\"}}, \"type\": \"scatterpolargl\"}], \"scatterternary\": [{\"marker\": {\"colorbar\": {\"outlinewidth\": 0, \"ticks\": \"\"}}, \"type\": \"scatterternary\"}], \"surface\": [{\"colorbar\": {\"outlinewidth\": 0, \"ticks\": \"\"}, \"colorscale\": [[0.0, \"#0d0887\"], [0.1111111111111111, \"#46039f\"], [0.2222222222222222, \"#7201a8\"], [0.3333333333333333, \"#9c179e\"], [0.4444444444444444, \"#bd3786\"], [0.5555555555555556, \"#d8576b\"], [0.6666666666666666, \"#ed7953\"], [0.7777777777777778, \"#fb9f3a\"], [0.8888888888888888, \"#fdca26\"], [1.0, \"#f0f921\"]], \"type\": \"surface\"}], \"table\": [{\"cells\": {\"fill\": {\"color\": \"#EBF0F8\"}, \"line\": {\"color\": \"white\"}}, \"header\": {\"fill\": {\"color\": \"#C8D4E3\"}, \"line\": {\"color\": \"white\"}}, \"type\": \"table\"}]}, \"layout\": {\"annotationdefaults\": {\"arrowcolor\": \"#2a3f5f\", \"arrowhead\": 0, \"arrowwidth\": 1}, \"autotypenumbers\": \"strict\", \"coloraxis\": {\"colorbar\": {\"outlinewidth\": 0, \"ticks\": \"\"}}, \"colorscale\": {\"diverging\": [[0, \"#8e0152\"], [0.1, \"#c51b7d\"], [0.2, \"#de77ae\"], [0.3, \"#f1b6da\"], [0.4, \"#fde0ef\"], [0.5, \"#f7f7f7\"], [0.6, \"#e6f5d0\"], [0.7, \"#b8e186\"], [0.8, \"#7fbc41\"], [0.9, \"#4d9221\"], [1, \"#276419\"]], \"sequential\": [[0.0, \"#0d0887\"], [0.1111111111111111, \"#46039f\"], [0.2222222222222222, \"#7201a8\"], [0.3333333333333333, \"#9c179e\"], [0.4444444444444444, \"#bd3786\"], [0.5555555555555556, \"#d8576b\"], [0.6666666666666666, \"#ed7953\"], [0.7777777777777778, \"#fb9f3a\"], [0.8888888888888888, \"#fdca26\"], [1.0, \"#f0f921\"]], \"sequentialminus\": [[0.0, \"#0d0887\"], [0.1111111111111111, \"#46039f\"], [0.2222222222222222, \"#7201a8\"], [0.3333333333333333, \"#9c179e\"], [0.4444444444444444, \"#bd3786\"], [0.5555555555555556, \"#d8576b\"], [0.6666666666666666, \"#ed7953\"], [0.7777777777777778, \"#fb9f3a\"], [0.8888888888888888, \"#fdca26\"], [1.0, \"#f0f921\"]]}, \"colorway\": [\"#636efa\", \"#EF553B\", \"#00cc96\", \"#ab63fa\", \"#FFA15A\", \"#19d3f3\", \"#FF6692\", \"#B6E880\", \"#FF97FF\", \"#FECB52\"], \"font\": {\"color\": \"#2a3f5f\"}, \"geo\": {\"bgcolor\": \"white\", \"lakecolor\": \"white\", \"landcolor\": \"#E5ECF6\", \"showlakes\": true, \"showland\": true, \"subunitcolor\": \"white\"}, \"hoverlabel\": {\"align\": \"left\"}, \"hovermode\": \"closest\", \"mapbox\": {\"style\": \"light\"}, \"paper_bgcolor\": \"white\", \"plot_bgcolor\": \"#E5ECF6\", \"polar\": {\"angularaxis\": {\"gridcolor\": \"white\", \"linecolor\": \"white\", \"ticks\": \"\"}, \"bgcolor\": \"#E5ECF6\", \"radialaxis\": {\"gridcolor\": \"white\", \"linecolor\": \"white\", \"ticks\": \"\"}}, \"scene\": {\"xaxis\": {\"backgroundcolor\": \"#E5ECF6\", \"gridcolor\": \"white\", \"gridwidth\": 2, \"linecolor\": \"white\", \"showbackground\": true, \"ticks\": \"\", \"zerolinecolor\": \"white\"}, \"yaxis\": {\"backgroundcolor\": \"#E5ECF6\", \"gridcolor\": \"white\", \"gridwidth\": 2, \"linecolor\": \"white\", \"showbackground\": true, \"ticks\": \"\", \"zerolinecolor\": \"white\"}, \"zaxis\": {\"backgroundcolor\": \"#E5ECF6\", \"gridcolor\": \"white\", \"gridwidth\": 2, \"linecolor\": \"white\", \"showbackground\": true, \"ticks\": \"\", \"zerolinecolor\": \"white\"}}, \"shapedefaults\": {\"line\": {\"color\": \"#2a3f5f\"}}, \"ternary\": {\"aaxis\": {\"gridcolor\": \"white\", \"linecolor\": \"white\", \"ticks\": \"\"}, \"baxis\": {\"gridcolor\": \"white\", \"linecolor\": \"white\", \"ticks\": \"\"}, \"bgcolor\": \"#E5ECF6\", \"caxis\": {\"gridcolor\": \"white\", \"linecolor\": \"white\", \"ticks\": \"\"}}, \"title\": {\"x\": 0.05}, \"xaxis\": {\"automargin\": true, \"gridcolor\": \"white\", \"linecolor\": \"white\", \"ticks\": \"\", \"title\": {\"standoff\": 15}, \"zerolinecolor\": \"white\", \"zerolinewidth\": 2}, \"yaxis\": {\"automargin\": true, \"gridcolor\": \"white\", \"linecolor\": \"white\", \"ticks\": \"\", \"title\": {\"standoff\": 15}, \"zerolinecolor\": \"white\", \"zerolinewidth\": 2}}}},                        {\"responsive\": true}                    ).then(function(){\n",
              "                            \n",
              "var gd = document.getElementById('9a02d446-2a51-4af7-99f3-aefb47b9b10b');\n",
              "var x = new MutationObserver(function (mutations, observer) {{\n",
              "        var display = window.getComputedStyle(gd).display;\n",
              "        if (!display || display === 'none') {{\n",
              "            console.log([gd, 'removed!']);\n",
              "            Plotly.purge(gd);\n",
              "            observer.disconnect();\n",
              "        }}\n",
              "}});\n",
              "\n",
              "// Listen for the removal of the full notebook cells\n",
              "var notebookContainer = gd.closest('#notebook-container');\n",
              "if (notebookContainer) {{\n",
              "    x.observe(notebookContainer, {childList: true});\n",
              "}}\n",
              "\n",
              "// Listen for the clearing of the current output cell\n",
              "var outputEl = gd.closest('.output');\n",
              "if (outputEl) {{\n",
              "    x.observe(outputEl, {childList: true});\n",
              "}}\n",
              "\n",
              "                        })                };                            </script>        </div>\n",
              "</body>\n",
              "</html>"
            ]
          },
          "metadata": {
            "tags": []
          }
        }
      ]
    },
    {
      "cell_type": "code",
      "metadata": {
        "colab": {
          "base_uri": "https://localhost:8080/"
        },
        "id": "BMPihg937h0C",
        "outputId": "92bde34e-ab6d-4fbf-e11a-d0e2b5ca50e5"
      },
      "source": [
        "rf = RandomForestClassifier(oob_score=True, random_state=42)\n",
        "rf.fit(X, y)\n",
        "# score\n",
        "rf.oob_score_"
      ],
      "execution_count": null,
      "outputs": [
        {
          "output_type": "execute_result",
          "data": {
            "text/plain": [
              "0.2"
            ]
          },
          "metadata": {
            "tags": []
          },
          "execution_count": 40
        }
      ]
    },
    {
      "cell_type": "code",
      "metadata": {
        "id": "8yoOPcP081V6"
      },
      "source": [
        "dgm = CubicalPersistence(homology_dimensions=[0]).fit_transform(X)"
      ],
      "execution_count": null,
      "outputs": []
    },
    {
      "cell_type": "code",
      "metadata": {
        "colab": {
          "base_uri": "https://localhost:8080/"
        },
        "id": "3A7uM61S87Ad",
        "outputId": "52a51fcc-a828-49b2-ea54-a14d1e5e7383"
      },
      "source": [
        "dgm"
      ],
      "execution_count": null,
      "outputs": [
        {
          "output_type": "execute_result",
          "data": {
            "text/plain": [
              "array([[[0., 1., 0.]],\n",
              "\n",
              "       [[0., 0., 0.]],\n",
              "\n",
              "       [[0., 1., 0.]],\n",
              "\n",
              "       [[0., 0., 0.]],\n",
              "\n",
              "       [[0., 0., 0.]],\n",
              "\n",
              "       [[0., 1., 0.]],\n",
              "\n",
              "       [[0., 0., 0.]],\n",
              "\n",
              "       [[0., 1., 0.]],\n",
              "\n",
              "       [[0., 0., 0.]],\n",
              "\n",
              "       [[0., 0., 0.]],\n",
              "\n",
              "       [[0., 1., 0.]],\n",
              "\n",
              "       [[0., 0., 0.]],\n",
              "\n",
              "       [[0., 1., 0.]],\n",
              "\n",
              "       [[0., 1., 0.]],\n",
              "\n",
              "       [[0., 1., 0.]]])"
            ]
          },
          "metadata": {
            "tags": []
          },
          "execution_count": 43
        }
      ]
    },
    {
      "cell_type": "code",
      "metadata": {
        "colab": {
          "base_uri": "https://localhost:8080/",
          "height": 279
        },
        "id": "6jEr7pRM8x_o",
        "outputId": "3c61f595-d65a-473d-87a1-634b37e4bb90"
      },
      "source": [
        "plt.scatter(dgm[0][:, 0], dgm[0][:, 1] - dgm[0][:, 0])\n",
        "plt.xlabel('Birth')\n",
        "plt.ylabel('Lifetime')\n",
        "plt.show()"
      ],
      "execution_count": null,
      "outputs": [
        {
          "output_type": "display_data",
          "data": {
            "image/png": "[encoded data removed]",
            "text/plain": [
              "<Figure size 432x288 with 1 Axes>"
            ]
          },
          "metadata": {
            "tags": [],
            "needs_background": "light"
          }
        }
      ]
    },
    {
      "cell_type": "code",
      "metadata": {
        "colab": {
          "base_uri": "https://localhost:8080/",
          "height": 204
        },
        "id": "71JeelsK-g2B",
        "outputId": "40494865-174b-4a35-a1ca-88688ad6e72d"
      },
      "source": [
        "df.head()"
      ],
      "execution_count": null,
      "outputs": [
        {
          "output_type": "execute_result",
          "data": {
            "text/html": [
              "<div>\n",
              "<style scoped>\n",
              "    .dataframe tbody tr th:only-of-type {\n",
              "        vertical-align: middle;\n",
              "    }\n",
              "\n",
              "    .dataframe tbody tr th {\n",
              "        vertical-align: top;\n",
              "    }\n",
              "\n",
              "    .dataframe thead th {\n",
              "        text-align: right;\n",
              "    }\n",
              "</style>\n",
              "<table border=\"1\" class=\"dataframe\">\n",
              "  <thead>\n",
              "    <tr style=\"text-align: right;\">\n",
              "      <th></th>\n",
              "      <th>Category</th>\n",
              "      <th>Samples</th>\n",
              "      <th>pos1</th>\n",
              "      <th>pos2</th>\n",
              "      <th>pos3</th>\n",
              "      <th>pos4</th>\n",
              "      <th>pos5</th>\n",
              "    </tr>\n",
              "  </thead>\n",
              "  <tbody>\n",
              "    <tr>\n",
              "      <th>0</th>\n",
              "      <td>1</td>\n",
              "      <td>0</td>\n",
              "      <td>0</td>\n",
              "      <td>1</td>\n",
              "      <td>1</td>\n",
              "      <td>0</td>\n",
              "      <td>1</td>\n",
              "    </tr>\n",
              "    <tr>\n",
              "      <th>1</th>\n",
              "      <td>1</td>\n",
              "      <td>7</td>\n",
              "      <td>1</td>\n",
              "      <td>0</td>\n",
              "      <td>0</td>\n",
              "      <td>0</td>\n",
              "      <td>1</td>\n",
              "    </tr>\n",
              "    <tr>\n",
              "      <th>2</th>\n",
              "      <td>1</td>\n",
              "      <td>8</td>\n",
              "      <td>1</td>\n",
              "      <td>0</td>\n",
              "      <td>1</td>\n",
              "      <td>0</td>\n",
              "      <td>1</td>\n",
              "    </tr>\n",
              "    <tr>\n",
              "      <th>3</th>\n",
              "      <td>1</td>\n",
              "      <td>9</td>\n",
              "      <td>1</td>\n",
              "      <td>1</td>\n",
              "      <td>1</td>\n",
              "      <td>0</td>\n",
              "      <td>1</td>\n",
              "    </tr>\n",
              "    <tr>\n",
              "      <th>4</th>\n",
              "      <td>1</td>\n",
              "      <td>10</td>\n",
              "      <td>1</td>\n",
              "      <td>1</td>\n",
              "      <td>1</td>\n",
              "      <td>0</td>\n",
              "      <td>0</td>\n",
              "    </tr>\n",
              "  </tbody>\n",
              "</table>\n",
              "</div>"
            ],
            "text/plain": [
              "   Category  Samples  pos1  pos2  pos3  pos4  pos5\n",
              "0         1        0     0     1     1     0     1\n",
              "1         1        7     1     0     0     0     1\n",
              "2         1        8     1     0     1     0     1\n",
              "3         1        9     1     1     1     0     1\n",
              "4         1       10     1     1     1     0     0"
            ]
          },
          "metadata": {
            "tags": []
          },
          "execution_count": 47
        }
      ]
    },
    {
      "cell_type": "code",
      "metadata": {
        "colab": {
          "base_uri": "https://localhost:8080/",
          "height": 541
        },
        "id": "xqQOfzIe-ioe",
        "outputId": "4eb58226-492d-44bd-ce46-313d59ce030c"
      },
      "source": [
        "# use DataFrame.values to conver to NumPy array\n",
        "plot_point_cloud(df.query('Category')[[ \"pos1\", \"pos2\",\"pos3\",\"pos4\",\"pos5\"]].values)"
      ],
      "execution_count": null,
      "outputs": [
        {
          "output_type": "display_data",
          "data": {
            "text/html": [
              "<html>\n",
              "<head><meta charset=\"utf-8\" /></head>\n",
              "<body>\n",
              "    <div>            <script src=\"https://cdnjs.cloudflare.com/ajax/libs/mathjax/2.7.5/MathJax.js?config=TeX-AMS-MML_SVG\"></script><script type=\"text/javascript\">if (window.MathJax) {MathJax.Hub.Config({SVG: {font: \"STIX-Web\"}});}</script>                <script type=\"text/javascript\">window.PlotlyConfig = {MathJaxConfig: 'local'};</script>\n",
              "        <script src=\"https://cdn.plot.ly/plotly-latest.min.js\"></script>                <div id=\"b18f8e96-c0fd-4d02-966b-a3e000f02702\" class=\"plotly-graph-div\" style=\"height:525px; width:100%;\"></div>            <script type=\"text/javascript\">                                    window.PLOTLYENV=window.PLOTLYENV || {};                                    if (document.getElementById(\"b18f8e96-c0fd-4d02-966b-a3e000f02702\")) {                    Plotly.newPlot(                        \"b18f8e96-c0fd-4d02-966b-a3e000f02702\",                        [{\"marker\": {\"color\": [0, 1, 2, 3, 4, 5, 6, 7, 8, 9, 10, 11, 12, 13, 14], \"colorscale\": [[0.0, \"#440154\"], [0.1111111111111111, \"#482878\"], [0.2222222222222222, \"#3e4989\"], [0.3333333333333333, \"#31688e\"], [0.4444444444444444, \"#26828e\"], [0.5555555555555556, \"#1f9e89\"], [0.6666666666666666, \"#35b779\"], [0.7777777777777778, \"#6ece58\"], [0.8888888888888888, \"#b5de2b\"], [1.0, \"#fde725\"]], \"opacity\": 0.8, \"size\": 4}, \"mode\": \"markers\", \"type\": \"scatter3d\", \"x\": [1, 1, 1, 1, 1, 1, 1, 1, 1, 1, 1, 1, 1, 1, 1], \"y\": [0, 0, 0, 0, 0, 0, 0, 0, 0, 0, 1, 1, 1, 1, 1], \"z\": [0, 0, 0, 0, 0, 1, 1, 1, 1, 1, 1, 1, 1, 1, 1]}],                        {\"scene\": {\"xaxis\": {\"exponentformat\": \"e\", \"showexponent\": \"all\", \"title\": {\"text\": \"0th\"}, \"type\": \"linear\"}, \"yaxis\": {\"exponentformat\": \"e\", \"showexponent\": \"all\", \"title\": {\"text\": \"1st\"}, \"type\": \"linear\"}, \"zaxis\": {\"exponentformat\": \"e\", \"showexponent\": \"all\", \"title\": {\"text\": \"2nd\"}, \"type\": \"linear\"}}, \"template\": {\"data\": {\"bar\": [{\"error_x\": {\"color\": \"#2a3f5f\"}, \"error_y\": {\"color\": \"#2a3f5f\"}, \"marker\": {\"line\": {\"color\": \"#E5ECF6\", \"width\": 0.5}}, \"type\": \"bar\"}], \"barpolar\": [{\"marker\": {\"line\": {\"color\": \"#E5ECF6\", \"width\": 0.5}}, \"type\": \"barpolar\"}], \"carpet\": [{\"aaxis\": {\"endlinecolor\": \"#2a3f5f\", \"gridcolor\": \"white\", \"linecolor\": \"white\", \"minorgridcolor\": \"white\", \"startlinecolor\": \"#2a3f5f\"}, \"baxis\": {\"endlinecolor\": \"#2a3f5f\", \"gridcolor\": \"white\", \"linecolor\": \"white\", \"minorgridcolor\": \"white\", \"startlinecolor\": \"#2a3f5f\"}, \"type\": \"carpet\"}], \"choropleth\": [{\"colorbar\": {\"outlinewidth\": 0, \"ticks\": \"\"}, \"type\": \"choropleth\"}], \"contour\": [{\"colorbar\": {\"outlinewidth\": 0, \"ticks\": \"\"}, \"colorscale\": [[0.0, \"#0d0887\"], [0.1111111111111111, \"#46039f\"], [0.2222222222222222, \"#7201a8\"], [0.3333333333333333, \"#9c179e\"], [0.4444444444444444, \"#bd3786\"], [0.5555555555555556, \"#d8576b\"], [0.6666666666666666, \"#ed7953\"], [0.7777777777777778, \"#fb9f3a\"], [0.8888888888888888, \"#fdca26\"], [1.0, \"#f0f921\"]], \"type\": \"contour\"}], \"contourcarpet\": [{\"colorbar\": {\"outlinewidth\": 0, \"ticks\": \"\"}, \"type\": \"contourcarpet\"}], \"heatmap\": [{\"colorbar\": {\"outlinewidth\": 0, \"ticks\": \"\"}, \"colorscale\": [[0.0, \"#0d0887\"], [0.1111111111111111, \"#46039f\"], [0.2222222222222222, \"#7201a8\"], [0.3333333333333333, \"#9c179e\"], [0.4444444444444444, \"#bd3786\"], [0.5555555555555556, \"#d8576b\"], [0.6666666666666666, \"#ed7953\"], [0.7777777777777778, \"#fb9f3a\"], [0.8888888888888888, \"#fdca26\"], [1.0, \"#f0f921\"]], \"type\": \"heatmap\"}], \"heatmapgl\": [{\"colorbar\": {\"outlinewidth\": 0, \"ticks\": \"\"}, \"colorscale\": [[0.0, \"#0d0887\"], [0.1111111111111111, \"#46039f\"], [0.2222222222222222, \"#7201a8\"], [0.3333333333333333, \"#9c179e\"], [0.4444444444444444, \"#bd3786\"], [0.5555555555555556, \"#d8576b\"], [0.6666666666666666, \"#ed7953\"], [0.7777777777777778, \"#fb9f3a\"], [0.8888888888888888, \"#fdca26\"], [1.0, \"#f0f921\"]], \"type\": \"heatmapgl\"}], \"histogram\": [{\"marker\": {\"colorbar\": {\"outlinewidth\": 0, \"ticks\": \"\"}}, \"type\": \"histogram\"}], \"histogram2d\": [{\"colorbar\": {\"outlinewidth\": 0, \"ticks\": \"\"}, \"colorscale\": [[0.0, \"#0d0887\"], [0.1111111111111111, \"#46039f\"], [0.2222222222222222, \"#7201a8\"], [0.3333333333333333, \"#9c179e\"], [0.4444444444444444, \"#bd3786\"], [0.5555555555555556, \"#d8576b\"], [0.6666666666666666, \"#ed7953\"], [0.7777777777777778, \"#fb9f3a\"], [0.8888888888888888, \"#fdca26\"], [1.0, \"#f0f921\"]], \"type\": \"histogram2d\"}], \"histogram2dcontour\": [{\"colorbar\": {\"outlinewidth\": 0, \"ticks\": \"\"}, \"colorscale\": [[0.0, \"#0d0887\"], [0.1111111111111111, \"#46039f\"], [0.2222222222222222, \"#7201a8\"], [0.3333333333333333, \"#9c179e\"], [0.4444444444444444, \"#bd3786\"], [0.5555555555555556, \"#d8576b\"], [0.6666666666666666, \"#ed7953\"], [0.7777777777777778, \"#fb9f3a\"], [0.8888888888888888, \"#fdca26\"], [1.0, \"#f0f921\"]], \"type\": \"histogram2dcontour\"}], \"mesh3d\": [{\"colorbar\": {\"outlinewidth\": 0, \"ticks\": \"\"}, \"type\": \"mesh3d\"}], \"parcoords\": [{\"line\": {\"colorbar\": {\"outlinewidth\": 0, \"ticks\": \"\"}}, \"type\": \"parcoords\"}], \"pie\": [{\"automargin\": true, \"type\": \"pie\"}], \"scatter\": [{\"marker\": {\"colorbar\": {\"outlinewidth\": 0, \"ticks\": \"\"}}, \"type\": \"scatter\"}], \"scatter3d\": [{\"line\": {\"colorbar\": {\"outlinewidth\": 0, \"ticks\": \"\"}}, \"marker\": {\"colorbar\": {\"outlinewidth\": 0, \"ticks\": \"\"}}, \"type\": \"scatter3d\"}], \"scattercarpet\": [{\"marker\": {\"colorbar\": {\"outlinewidth\": 0, \"ticks\": \"\"}}, \"type\": \"scattercarpet\"}], \"scattergeo\": [{\"marker\": {\"colorbar\": {\"outlinewidth\": 0, \"ticks\": \"\"}}, \"type\": \"scattergeo\"}], \"scattergl\": [{\"marker\": {\"colorbar\": {\"outlinewidth\": 0, \"ticks\": \"\"}}, \"type\": \"scattergl\"}], \"scattermapbox\": [{\"marker\": {\"colorbar\": {\"outlinewidth\": 0, \"ticks\": \"\"}}, \"type\": \"scattermapbox\"}], \"scatterpolar\": [{\"marker\": {\"colorbar\": {\"outlinewidth\": 0, \"ticks\": \"\"}}, \"type\": \"scatterpolar\"}], \"scatterpolargl\": [{\"marker\": {\"colorbar\": {\"outlinewidth\": 0, \"ticks\": \"\"}}, \"type\": \"scatterpolargl\"}], \"scatterternary\": [{\"marker\": {\"colorbar\": {\"outlinewidth\": 0, \"ticks\": \"\"}}, \"type\": \"scatterternary\"}], \"surface\": [{\"colorbar\": {\"outlinewidth\": 0, \"ticks\": \"\"}, \"colorscale\": [[0.0, \"#0d0887\"], [0.1111111111111111, \"#46039f\"], [0.2222222222222222, \"#7201a8\"], [0.3333333333333333, \"#9c179e\"], [0.4444444444444444, \"#bd3786\"], [0.5555555555555556, \"#d8576b\"], [0.6666666666666666, \"#ed7953\"], [0.7777777777777778, \"#fb9f3a\"], [0.8888888888888888, \"#fdca26\"], [1.0, \"#f0f921\"]], \"type\": \"surface\"}], \"table\": [{\"cells\": {\"fill\": {\"color\": \"#EBF0F8\"}, \"line\": {\"color\": \"white\"}}, \"header\": {\"fill\": {\"color\": \"#C8D4E3\"}, \"line\": {\"color\": \"white\"}}, \"type\": \"table\"}]}, \"layout\": {\"annotationdefaults\": {\"arrowcolor\": \"#2a3f5f\", \"arrowhead\": 0, \"arrowwidth\": 1}, \"autotypenumbers\": \"strict\", \"coloraxis\": {\"colorbar\": {\"outlinewidth\": 0, \"ticks\": \"\"}}, \"colorscale\": {\"diverging\": [[0, \"#8e0152\"], [0.1, \"#c51b7d\"], [0.2, \"#de77ae\"], [0.3, \"#f1b6da\"], [0.4, \"#fde0ef\"], [0.5, \"#f7f7f7\"], [0.6, \"#e6f5d0\"], [0.7, \"#b8e186\"], [0.8, \"#7fbc41\"], [0.9, \"#4d9221\"], [1, \"#276419\"]], \"sequential\": [[0.0, \"#0d0887\"], [0.1111111111111111, \"#46039f\"], [0.2222222222222222, \"#7201a8\"], [0.3333333333333333, \"#9c179e\"], [0.4444444444444444, \"#bd3786\"], [0.5555555555555556, \"#d8576b\"], [0.6666666666666666, \"#ed7953\"], [0.7777777777777778, \"#fb9f3a\"], [0.8888888888888888, \"#fdca26\"], [1.0, \"#f0f921\"]], \"sequentialminus\": [[0.0, \"#0d0887\"], [0.1111111111111111, \"#46039f\"], [0.2222222222222222, \"#7201a8\"], [0.3333333333333333, \"#9c179e\"], [0.4444444444444444, \"#bd3786\"], [0.5555555555555556, \"#d8576b\"], [0.6666666666666666, \"#ed7953\"], [0.7777777777777778, \"#fb9f3a\"], [0.8888888888888888, \"#fdca26\"], [1.0, \"#f0f921\"]]}, \"colorway\": [\"#636efa\", \"#EF553B\", \"#00cc96\", \"#ab63fa\", \"#FFA15A\", \"#19d3f3\", \"#FF6692\", \"#B6E880\", \"#FF97FF\", \"#FECB52\"], \"font\": {\"color\": \"#2a3f5f\"}, \"geo\": {\"bgcolor\": \"white\", \"lakecolor\": \"white\", \"landcolor\": \"#E5ECF6\", \"showlakes\": true, \"showland\": true, \"subunitcolor\": \"white\"}, \"hoverlabel\": {\"align\": \"left\"}, \"hovermode\": \"closest\", \"mapbox\": {\"style\": \"light\"}, \"paper_bgcolor\": \"white\", \"plot_bgcolor\": \"#E5ECF6\", \"polar\": {\"angularaxis\": {\"gridcolor\": \"white\", \"linecolor\": \"white\", \"ticks\": \"\"}, \"bgcolor\": \"#E5ECF6\", \"radialaxis\": {\"gridcolor\": \"white\", \"linecolor\": \"white\", \"ticks\": \"\"}}, \"scene\": {\"xaxis\": {\"backgroundcolor\": \"#E5ECF6\", \"gridcolor\": \"white\", \"gridwidth\": 2, \"linecolor\": \"white\", \"showbackground\": true, \"ticks\": \"\", \"zerolinecolor\": \"white\"}, \"yaxis\": {\"backgroundcolor\": \"#E5ECF6\", \"gridcolor\": \"white\", \"gridwidth\": 2, \"linecolor\": \"white\", \"showbackground\": true, \"ticks\": \"\", \"zerolinecolor\": \"white\"}, \"zaxis\": {\"backgroundcolor\": \"#E5ECF6\", \"gridcolor\": \"white\", \"gridwidth\": 2, \"linecolor\": \"white\", \"showbackground\": true, \"ticks\": \"\", \"zerolinecolor\": \"white\"}}, \"shapedefaults\": {\"line\": {\"color\": \"#2a3f5f\"}}, \"ternary\": {\"aaxis\": {\"gridcolor\": \"white\", \"linecolor\": \"white\", \"ticks\": \"\"}, \"baxis\": {\"gridcolor\": \"white\", \"linecolor\": \"white\", \"ticks\": \"\"}, \"bgcolor\": \"#E5ECF6\", \"caxis\": {\"gridcolor\": \"white\", \"linecolor\": \"white\", \"ticks\": \"\"}}, \"title\": {\"x\": 0.05}, \"xaxis\": {\"automargin\": true, \"gridcolor\": \"white\", \"linecolor\": \"white\", \"ticks\": \"\", \"title\": {\"standoff\": 15}, \"zerolinecolor\": \"white\", \"zerolinewidth\": 2}, \"yaxis\": {\"automargin\": true, \"gridcolor\": \"white\", \"linecolor\": \"white\", \"ticks\": \"\", \"title\": {\"standoff\": 15}, \"zerolinecolor\": \"white\", \"zerolinewidth\": 2}}}},                        {\"responsive\": true}                    ).then(function(){\n",
              "                            \n",
              "var gd = document.getElementById('b18f8e96-c0fd-4d02-966b-a3e000f02702');\n",
              "var x = new MutationObserver(function (mutations, observer) {{\n",
              "        var display = window.getComputedStyle(gd).display;\n",
              "        if (!display || display === 'none') {{\n",
              "            console.log([gd, 'removed!']);\n",
              "            Plotly.purge(gd);\n",
              "            observer.disconnect();\n",
              "        }}\n",
              "}});\n",
              "\n",
              "// Listen for the removal of the full notebook cells\n",
              "var notebookContainer = gd.closest('#notebook-container');\n",
              "if (notebookContainer) {{\n",
              "    x.observe(notebookContainer, {childList: true});\n",
              "}}\n",
              "\n",
              "// Listen for the clearing of the current output cell\n",
              "var outputEl = gd.closest('.output');\n",
              "if (outputEl) {{\n",
              "    x.observe(outputEl, {childList: true});\n",
              "}}\n",
              "\n",
              "                        })                };                            </script>        </div>\n",
              "</body>\n",
              "</html>"
            ]
          },
          "metadata": {
            "tags": []
          }
        }
      ]
    },
    {
      "cell_type": "code",
      "metadata": {
        "colab": {
          "base_uri": "https://localhost:8080/"
        },
        "id": "4eWYBzwW_BGU",
        "outputId": "b0ee6fd8-7858-4409-d55c-8650f80c1d76"
      },
      "source": [
        "# use DataFrame.values to conver to NumPy array\n",
        "\n",
        "point_clouds = np.asarray([df.query('Category')[[ \"pos1\", \"pos2\",\"pos3\",\"pos4\",\"pos5\"]].values for shape in df[\"Category\"].unique()])\n",
        "\n",
        "point_clouds.shape"
      ],
      "execution_count": null,
      "outputs": [
        {
          "output_type": "execute_result",
          "data": {
            "text/plain": [
              "(3, 15, 5)"
            ]
          },
          "metadata": {
            "tags": []
          },
          "execution_count": 55
        }
      ]
    },
    {
      "cell_type": "code",
      "metadata": {
        "colab": {
          "base_uri": "https://localhost:8080/"
        },
        "id": "O-sFsxmG_xiw",
        "outputId": "e3eee275-d543-4b2b-ec2f-1981233711f6"
      },
      "source": [
        "# track connected components, loops, and voids\n",
        "homology_dimensions = [0, 1, 2]\n",
        "\n",
        "# calculating H2 persistence is memory intensive - see below to use precomputed arrays\n",
        "persistence = VietorisRipsPersistence(metric=\"euclidean\", homology_dimensions=homology_dimensions, n_jobs=6)\n",
        "\n",
        "%time persistence_diagrams = persistence.fit_transform(point_clouds)"
      ],
      "execution_count": null,
      "outputs": [
        {
          "output_type": "stream",
          "text": [
            "CPU times: user 39.8 ms, sys: 61.3 ms, total: 101 ms\n",
            "Wall time: 1.77 s\n"
          ],
          "name": "stdout"
        }
      ]
    },
    {
      "cell_type": "code",
      "metadata": {
        "id": "UNl8pk6I_xj-"
      },
      "source": [
        "DATA = Path(\"/\")\n",
        "\n",
        "with open(DATA / \"diagrams.pkl\", \"wb\") as f:\n",
        "    pickle.dump(persistence_diagrams, f)"
      ],
      "execution_count": null,
      "outputs": []
    },
    {
      "cell_type": "code",
      "metadata": {
        "id": "OgqUsuKxASsB"
      },
      "source": [
        "with open(DATA / \"diagrams.pkl\", \"rb\") as f:\n",
        "    diagrams = pickle.load(f)"
      ],
      "execution_count": null,
      "outputs": []
    },
    {
      "cell_type": "code",
      "metadata": {
        "colab": {
          "base_uri": "https://localhost:8080/",
          "height": 517
        },
        "id": "GwAc4QxtAVqd",
        "outputId": "5e196500-b1e4-4ff7-d3ff-4a4b810cd5ef"
      },
      "source": [
        "\n",
        "index = 0\n",
        "plot_diagram(diagrams[2])"
      ],
      "execution_count": null,
      "outputs": [
        {
          "output_type": "display_data",
          "data": {
            "text/html": [
              "<html>\n",
              "<head><meta charset=\"utf-8\" /></head>\n",
              "<body>\n",
              "    <div>            <script src=\"https://cdnjs.cloudflare.com/ajax/libs/mathjax/2.7.5/MathJax.js?config=TeX-AMS-MML_SVG\"></script><script type=\"text/javascript\">if (window.MathJax) {MathJax.Hub.Config({SVG: {font: \"STIX-Web\"}});}</script>                <script type=\"text/javascript\">window.PlotlyConfig = {MathJaxConfig: 'local'};</script>\n",
              "        <script src=\"https://cdn.plot.ly/plotly-latest.min.js\"></script>                <div id=\"ca1c933c-b735-415b-b008-bc4dea7a0165\" class=\"plotly-graph-div\" style=\"height:500px; width:500px;\"></div>            <script type=\"text/javascript\">                                    window.PLOTLYENV=window.PLOTLYENV || {};                                    if (document.getElementById(\"ca1c933c-b735-415b-b008-bc4dea7a0165\")) {                    Plotly.newPlot(                        \"ca1c933c-b735-415b-b008-bc4dea7a0165\",                        [{\"hoverinfo\": \"none\", \"line\": {\"color\": \"black\", \"dash\": \"dash\", \"width\": 1}, \"mode\": \"lines\", \"showlegend\": false, \"type\": \"scatter\", \"x\": [-0.02, 1.02], \"y\": [-0.02, 1.02]}, {\"hoverinfo\": \"text\", \"hovertext\": [\"(0.0, 1.0), multiplicity: 2\", \"(0.0, 1.0), multiplicity: 2\"], \"mode\": \"markers\", \"name\": \"H0\", \"type\": \"scatter\", \"x\": [0.0, 0.0], \"y\": [1.0, 1.0]}, {\"hoverinfo\": \"text\", \"hovertext\": [], \"mode\": \"markers\", \"name\": \"H1\", \"type\": \"scatter\", \"x\": [], \"y\": []}, {\"hoverinfo\": \"text\", \"hovertext\": [], \"mode\": \"markers\", \"name\": \"H2\", \"type\": \"scatter\", \"x\": [], \"y\": []}],                        {\"height\": 500, \"plot_bgcolor\": \"white\", \"template\": {\"data\": {\"bar\": [{\"error_x\": {\"color\": \"#2a3f5f\"}, \"error_y\": {\"color\": \"#2a3f5f\"}, \"marker\": {\"line\": {\"color\": \"#E5ECF6\", \"width\": 0.5}}, \"type\": \"bar\"}], \"barpolar\": [{\"marker\": {\"line\": {\"color\": \"#E5ECF6\", \"width\": 0.5}}, \"type\": \"barpolar\"}], \"carpet\": [{\"aaxis\": {\"endlinecolor\": \"#2a3f5f\", \"gridcolor\": \"white\", \"linecolor\": \"white\", \"minorgridcolor\": \"white\", \"startlinecolor\": \"#2a3f5f\"}, \"baxis\": {\"endlinecolor\": \"#2a3f5f\", \"gridcolor\": \"white\", \"linecolor\": \"white\", \"minorgridcolor\": \"white\", \"startlinecolor\": \"#2a3f5f\"}, \"type\": \"carpet\"}], \"choropleth\": [{\"colorbar\": {\"outlinewidth\": 0, \"ticks\": \"\"}, \"type\": \"choropleth\"}], \"contour\": [{\"colorbar\": {\"outlinewidth\": 0, \"ticks\": \"\"}, \"colorscale\": [[0.0, \"#0d0887\"], [0.1111111111111111, \"#46039f\"], [0.2222222222222222, \"#7201a8\"], [0.3333333333333333, \"#9c179e\"], [0.4444444444444444, \"#bd3786\"], [0.5555555555555556, \"#d8576b\"], [0.6666666666666666, \"#ed7953\"], [0.7777777777777778, \"#fb9f3a\"], [0.8888888888888888, \"#fdca26\"], [1.0, \"#f0f921\"]], \"type\": \"contour\"}], \"contourcarpet\": [{\"colorbar\": {\"outlinewidth\": 0, \"ticks\": \"\"}, \"type\": \"contourcarpet\"}], \"heatmap\": [{\"colorbar\": {\"outlinewidth\": 0, \"ticks\": \"\"}, \"colorscale\": [[0.0, \"#0d0887\"], [0.1111111111111111, \"#46039f\"], [0.2222222222222222, \"#7201a8\"], [0.3333333333333333, \"#9c179e\"], [0.4444444444444444, \"#bd3786\"], [0.5555555555555556, \"#d8576b\"], [0.6666666666666666, \"#ed7953\"], [0.7777777777777778, \"#fb9f3a\"], [0.8888888888888888, \"#fdca26\"], [1.0, \"#f0f921\"]], \"type\": \"heatmap\"}], \"heatmapgl\": [{\"colorbar\": {\"outlinewidth\": 0, \"ticks\": \"\"}, \"colorscale\": [[0.0, \"#0d0887\"], [0.1111111111111111, \"#46039f\"], [0.2222222222222222, \"#7201a8\"], [0.3333333333333333, \"#9c179e\"], [0.4444444444444444, \"#bd3786\"], [0.5555555555555556, \"#d8576b\"], [0.6666666666666666, \"#ed7953\"], [0.7777777777777778, \"#fb9f3a\"], [0.8888888888888888, \"#fdca26\"], [1.0, \"#f0f921\"]], \"type\": \"heatmapgl\"}], \"histogram\": [{\"marker\": {\"colorbar\": {\"outlinewidth\": 0, \"ticks\": \"\"}}, \"type\": \"histogram\"}], \"histogram2d\": [{\"colorbar\": {\"outlinewidth\": 0, \"ticks\": \"\"}, \"colorscale\": [[0.0, \"#0d0887\"], [0.1111111111111111, \"#46039f\"], [0.2222222222222222, \"#7201a8\"], [0.3333333333333333, \"#9c179e\"], [0.4444444444444444, \"#bd3786\"], [0.5555555555555556, \"#d8576b\"], [0.6666666666666666, \"#ed7953\"], [0.7777777777777778, \"#fb9f3a\"], [0.8888888888888888, \"#fdca26\"], [1.0, \"#f0f921\"]], \"type\": \"histogram2d\"}], \"histogram2dcontour\": [{\"colorbar\": {\"outlinewidth\": 0, \"ticks\": \"\"}, \"colorscale\": [[0.0, \"#0d0887\"], [0.1111111111111111, \"#46039f\"], [0.2222222222222222, \"#7201a8\"], [0.3333333333333333, \"#9c179e\"], [0.4444444444444444, \"#bd3786\"], [0.5555555555555556, \"#d8576b\"], [0.6666666666666666, \"#ed7953\"], [0.7777777777777778, \"#fb9f3a\"], [0.8888888888888888, \"#fdca26\"], [1.0, \"#f0f921\"]], \"type\": \"histogram2dcontour\"}], \"mesh3d\": [{\"colorbar\": {\"outlinewidth\": 0, \"ticks\": \"\"}, \"type\": \"mesh3d\"}], \"parcoords\": [{\"line\": {\"colorbar\": {\"outlinewidth\": 0, \"ticks\": \"\"}}, \"type\": \"parcoords\"}], \"pie\": [{\"automargin\": true, \"type\": \"pie\"}], \"scatter\": [{\"marker\": {\"colorbar\": {\"outlinewidth\": 0, \"ticks\": \"\"}}, \"type\": \"scatter\"}], \"scatter3d\": [{\"line\": {\"colorbar\": {\"outlinewidth\": 0, \"ticks\": \"\"}}, \"marker\": {\"colorbar\": {\"outlinewidth\": 0, \"ticks\": \"\"}}, \"type\": \"scatter3d\"}], \"scattercarpet\": [{\"marker\": {\"colorbar\": {\"outlinewidth\": 0, \"ticks\": \"\"}}, \"type\": \"scattercarpet\"}], \"scattergeo\": [{\"marker\": {\"colorbar\": {\"outlinewidth\": 0, \"ticks\": \"\"}}, \"type\": \"scattergeo\"}], \"scattergl\": [{\"marker\": {\"colorbar\": {\"outlinewidth\": 0, \"ticks\": \"\"}}, \"type\": \"scattergl\"}], \"scattermapbox\": [{\"marker\": {\"colorbar\": {\"outlinewidth\": 0, \"ticks\": \"\"}}, \"type\": \"scattermapbox\"}], \"scatterpolar\": [{\"marker\": {\"colorbar\": {\"outlinewidth\": 0, \"ticks\": \"\"}}, \"type\": \"scatterpolar\"}], \"scatterpolargl\": [{\"marker\": {\"colorbar\": {\"outlinewidth\": 0, \"ticks\": \"\"}}, \"type\": \"scatterpolargl\"}], \"scatterternary\": [{\"marker\": {\"colorbar\": {\"outlinewidth\": 0, \"ticks\": \"\"}}, \"type\": \"scatterternary\"}], \"surface\": [{\"colorbar\": {\"outlinewidth\": 0, \"ticks\": \"\"}, \"colorscale\": [[0.0, \"#0d0887\"], [0.1111111111111111, \"#46039f\"], [0.2222222222222222, \"#7201a8\"], [0.3333333333333333, \"#9c179e\"], [0.4444444444444444, \"#bd3786\"], [0.5555555555555556, \"#d8576b\"], [0.6666666666666666, \"#ed7953\"], [0.7777777777777778, \"#fb9f3a\"], [0.8888888888888888, \"#fdca26\"], [1.0, \"#f0f921\"]], \"type\": \"surface\"}], \"table\": [{\"cells\": {\"fill\": {\"color\": \"#EBF0F8\"}, \"line\": {\"color\": \"white\"}}, \"header\": {\"fill\": {\"color\": \"#C8D4E3\"}, \"line\": {\"color\": \"white\"}}, \"type\": \"table\"}]}, \"layout\": {\"annotationdefaults\": {\"arrowcolor\": \"#2a3f5f\", \"arrowhead\": 0, \"arrowwidth\": 1}, \"autotypenumbers\": \"strict\", \"coloraxis\": {\"colorbar\": {\"outlinewidth\": 0, \"ticks\": \"\"}}, \"colorscale\": {\"diverging\": [[0, \"#8e0152\"], [0.1, \"#c51b7d\"], [0.2, \"#de77ae\"], [0.3, \"#f1b6da\"], [0.4, \"#fde0ef\"], [0.5, \"#f7f7f7\"], [0.6, \"#e6f5d0\"], [0.7, \"#b8e186\"], [0.8, \"#7fbc41\"], [0.9, \"#4d9221\"], [1, \"#276419\"]], \"sequential\": [[0.0, \"#0d0887\"], [0.1111111111111111, \"#46039f\"], [0.2222222222222222, \"#7201a8\"], [0.3333333333333333, \"#9c179e\"], [0.4444444444444444, \"#bd3786\"], [0.5555555555555556, \"#d8576b\"], [0.6666666666666666, \"#ed7953\"], [0.7777777777777778, \"#fb9f3a\"], [0.8888888888888888, \"#fdca26\"], [1.0, \"#f0f921\"]], \"sequentialminus\": [[0.0, \"#0d0887\"], [0.1111111111111111, \"#46039f\"], [0.2222222222222222, \"#7201a8\"], [0.3333333333333333, \"#9c179e\"], [0.4444444444444444, \"#bd3786\"], [0.5555555555555556, \"#d8576b\"], [0.6666666666666666, \"#ed7953\"], [0.7777777777777778, \"#fb9f3a\"], [0.8888888888888888, \"#fdca26\"], [1.0, \"#f0f921\"]]}, \"colorway\": [\"#636efa\", \"#EF553B\", \"#00cc96\", \"#ab63fa\", \"#FFA15A\", \"#19d3f3\", \"#FF6692\", \"#B6E880\", \"#FF97FF\", \"#FECB52\"], \"font\": {\"color\": \"#2a3f5f\"}, \"geo\": {\"bgcolor\": \"white\", \"lakecolor\": \"white\", \"landcolor\": \"#E5ECF6\", \"showlakes\": true, \"showland\": true, \"subunitcolor\": \"white\"}, \"hoverlabel\": {\"align\": \"left\"}, \"hovermode\": \"closest\", \"mapbox\": {\"style\": \"light\"}, \"paper_bgcolor\": \"white\", \"plot_bgcolor\": \"#E5ECF6\", \"polar\": {\"angularaxis\": {\"gridcolor\": \"white\", \"linecolor\": \"white\", \"ticks\": \"\"}, \"bgcolor\": \"#E5ECF6\", \"radialaxis\": {\"gridcolor\": \"white\", \"linecolor\": \"white\", \"ticks\": \"\"}}, \"scene\": {\"xaxis\": {\"backgroundcolor\": \"#E5ECF6\", \"gridcolor\": \"white\", \"gridwidth\": 2, \"linecolor\": \"white\", \"showbackground\": true, \"ticks\": \"\", \"zerolinecolor\": \"white\"}, \"yaxis\": {\"backgroundcolor\": \"#E5ECF6\", \"gridcolor\": \"white\", \"gridwidth\": 2, \"linecolor\": \"white\", \"showbackground\": true, \"ticks\": \"\", \"zerolinecolor\": \"white\"}, \"zaxis\": {\"backgroundcolor\": \"#E5ECF6\", \"gridcolor\": \"white\", \"gridwidth\": 2, \"linecolor\": \"white\", \"showbackground\": true, \"ticks\": \"\", \"zerolinecolor\": \"white\"}}, \"shapedefaults\": {\"line\": {\"color\": \"#2a3f5f\"}}, \"ternary\": {\"aaxis\": {\"gridcolor\": \"white\", \"linecolor\": \"white\", \"ticks\": \"\"}, \"baxis\": {\"gridcolor\": \"white\", \"linecolor\": \"white\", \"ticks\": \"\"}, \"bgcolor\": \"#E5ECF6\", \"caxis\": {\"gridcolor\": \"white\", \"linecolor\": \"white\", \"ticks\": \"\"}}, \"title\": {\"x\": 0.05}, \"xaxis\": {\"automargin\": true, \"gridcolor\": \"white\", \"linecolor\": \"white\", \"ticks\": \"\", \"title\": {\"standoff\": 15}, \"zerolinecolor\": \"white\", \"zerolinewidth\": 2}, \"yaxis\": {\"automargin\": true, \"gridcolor\": \"white\", \"linecolor\": \"white\", \"ticks\": \"\", \"title\": {\"standoff\": 15}, \"zerolinecolor\": \"white\", \"zerolinewidth\": 2}}}, \"width\": 500, \"xaxis\": {\"autorange\": false, \"exponentformat\": \"e\", \"linecolor\": \"black\", \"linewidth\": 1, \"mirror\": false, \"range\": [-0.02, 1.02], \"showexponent\": \"all\", \"showline\": true, \"side\": \"bottom\", \"ticks\": \"outside\", \"title\": {\"text\": \"Birth\"}, \"type\": \"linear\", \"zeroline\": true}, \"yaxis\": {\"autorange\": false, \"exponentformat\": \"e\", \"linecolor\": \"black\", \"linewidth\": 1, \"mirror\": false, \"range\": [-0.02, 1.02], \"scaleanchor\": \"x\", \"scaleratio\": 1, \"showexponent\": \"all\", \"showline\": true, \"side\": \"left\", \"ticks\": \"outside\", \"title\": {\"text\": \"Death\"}, \"type\": \"linear\", \"zeroline\": true}},                        {\"responsive\": true}                    ).then(function(){\n",
              "                            \n",
              "var gd = document.getElementById('ca1c933c-b735-415b-b008-bc4dea7a0165');\n",
              "var x = new MutationObserver(function (mutations, observer) {{\n",
              "        var display = window.getComputedStyle(gd).display;\n",
              "        if (!display || display === 'none') {{\n",
              "            console.log([gd, 'removed!']);\n",
              "            Plotly.purge(gd);\n",
              "            observer.disconnect();\n",
              "        }}\n",
              "}});\n",
              "\n",
              "// Listen for the removal of the full notebook cells\n",
              "var notebookContainer = gd.closest('#notebook-container');\n",
              "if (notebookContainer) {{\n",
              "    x.observe(notebookContainer, {childList: true});\n",
              "}}\n",
              "\n",
              "// Listen for the clearing of the current output cell\n",
              "var outputEl = gd.closest('.output');\n",
              "if (outputEl) {{\n",
              "    x.observe(outputEl, {childList: true});\n",
              "}}\n",
              "\n",
              "                        })                };                            </script>        </div>\n",
              "</body>\n",
              "</html>"
            ]
          },
          "metadata": {
            "tags": []
          }
        }
      ]
    },
    {
      "cell_type": "code",
      "metadata": {
        "colab": {
          "base_uri": "https://localhost:8080/"
        },
        "id": "dMZwrHZ2Al2b",
        "outputId": "f824096d-dd5f-490f-e394-972189db9b77"
      },
      "source": [
        "persistent_entropy = PersistenceEntropy()\n",
        "# calculate topological feature matrix\n",
        "XZ = persistent_entropy.fit_transform(diagrams)\n",
        "# expect shape - (n_point_clouds, n_dims)\n",
        "XZ.shape"
      ],
      "execution_count": null,
      "outputs": [
        {
          "output_type": "execute_result",
          "data": {
            "text/plain": [
              "(3, 3)"
            ]
          },
          "metadata": {
            "tags": []
          },
          "execution_count": 70
        }
      ]
    },
    {
      "cell_type": "code",
      "metadata": {
        "id": "DIHn9ek7Apvj",
        "colab": {
          "base_uri": "https://localhost:8080/",
          "height": 541
        },
        "outputId": "7636436e-c851-4484-b5e0-ad1ff4d247ec"
      },
      "source": [
        "plot_point_cloud(XZ)"
      ],
      "execution_count": null,
      "outputs": [
        {
          "output_type": "display_data",
          "data": {
            "text/html": [
              "<html>\n",
              "<head><meta charset=\"utf-8\" /></head>\n",
              "<body>\n",
              "    <div>            <script src=\"https://cdnjs.cloudflare.com/ajax/libs/mathjax/2.7.5/MathJax.js?config=TeX-AMS-MML_SVG\"></script><script type=\"text/javascript\">if (window.MathJax) {MathJax.Hub.Config({SVG: {font: \"STIX-Web\"}});}</script>                <script type=\"text/javascript\">window.PlotlyConfig = {MathJaxConfig: 'local'};</script>\n",
              "        <script src=\"https://cdn.plot.ly/plotly-latest.min.js\"></script>                <div id=\"7e1c73d6-33e6-4dd3-b103-a32e586ca385\" class=\"plotly-graph-div\" style=\"height:525px; width:100%;\"></div>            <script type=\"text/javascript\">                                    window.PLOTLYENV=window.PLOTLYENV || {};                                    if (document.getElementById(\"7e1c73d6-33e6-4dd3-b103-a32e586ca385\")) {                    Plotly.newPlot(                        \"7e1c73d6-33e6-4dd3-b103-a32e586ca385\",                        [{\"marker\": {\"color\": [0, 1, 2], \"colorscale\": [[0.0, \"#440154\"], [0.1111111111111111, \"#482878\"], [0.2222222222222222, \"#3e4989\"], [0.3333333333333333, \"#31688e\"], [0.4444444444444444, \"#26828e\"], [0.5555555555555556, \"#1f9e89\"], [0.6666666666666666, \"#35b779\"], [0.7777777777777778, \"#6ece58\"], [0.8888888888888888, \"#b5de2b\"], [1.0, \"#fde725\"]], \"opacity\": 0.8, \"size\": 4}, \"mode\": \"markers\", \"type\": \"scatter3d\", \"x\": [1.0, 1.0, 1.0], \"y\": [-1.0, -1.0, -1.0], \"z\": [-1.0, -1.0, -1.0]}],                        {\"scene\": {\"xaxis\": {\"exponentformat\": \"e\", \"showexponent\": \"all\", \"title\": {\"text\": \"0th\"}, \"type\": \"linear\"}, \"yaxis\": {\"exponentformat\": \"e\", \"showexponent\": \"all\", \"title\": {\"text\": \"1st\"}, \"type\": \"linear\"}, \"zaxis\": {\"exponentformat\": \"e\", \"showexponent\": \"all\", \"title\": {\"text\": \"2nd\"}, \"type\": \"linear\"}}, \"template\": {\"data\": {\"bar\": [{\"error_x\": {\"color\": \"#2a3f5f\"}, \"error_y\": {\"color\": \"#2a3f5f\"}, \"marker\": {\"line\": {\"color\": \"#E5ECF6\", \"width\": 0.5}}, \"type\": \"bar\"}], \"barpolar\": [{\"marker\": {\"line\": {\"color\": \"#E5ECF6\", \"width\": 0.5}}, \"type\": \"barpolar\"}], \"carpet\": [{\"aaxis\": {\"endlinecolor\": \"#2a3f5f\", \"gridcolor\": \"white\", \"linecolor\": \"white\", \"minorgridcolor\": \"white\", \"startlinecolor\": \"#2a3f5f\"}, \"baxis\": {\"endlinecolor\": \"#2a3f5f\", \"gridcolor\": \"white\", \"linecolor\": \"white\", \"minorgridcolor\": \"white\", \"startlinecolor\": \"#2a3f5f\"}, \"type\": \"carpet\"}], \"choropleth\": [{\"colorbar\": {\"outlinewidth\": 0, \"ticks\": \"\"}, \"type\": \"choropleth\"}], \"contour\": [{\"colorbar\": {\"outlinewidth\": 0, \"ticks\": \"\"}, \"colorscale\": [[0.0, \"#0d0887\"], [0.1111111111111111, \"#46039f\"], [0.2222222222222222, \"#7201a8\"], [0.3333333333333333, \"#9c179e\"], [0.4444444444444444, \"#bd3786\"], [0.5555555555555556, \"#d8576b\"], [0.6666666666666666, \"#ed7953\"], [0.7777777777777778, \"#fb9f3a\"], [0.8888888888888888, \"#fdca26\"], [1.0, \"#f0f921\"]], \"type\": \"contour\"}], \"contourcarpet\": [{\"colorbar\": {\"outlinewidth\": 0, \"ticks\": \"\"}, \"type\": \"contourcarpet\"}], \"heatmap\": [{\"colorbar\": {\"outlinewidth\": 0, \"ticks\": \"\"}, \"colorscale\": [[0.0, \"#0d0887\"], [0.1111111111111111, \"#46039f\"], [0.2222222222222222, \"#7201a8\"], [0.3333333333333333, \"#9c179e\"], [0.4444444444444444, \"#bd3786\"], [0.5555555555555556, \"#d8576b\"], [0.6666666666666666, \"#ed7953\"], [0.7777777777777778, \"#fb9f3a\"], [0.8888888888888888, \"#fdca26\"], [1.0, \"#f0f921\"]], \"type\": \"heatmap\"}], \"heatmapgl\": [{\"colorbar\": {\"outlinewidth\": 0, \"ticks\": \"\"}, \"colorscale\": [[0.0, \"#0d0887\"], [0.1111111111111111, \"#46039f\"], [0.2222222222222222, \"#7201a8\"], [0.3333333333333333, \"#9c179e\"], [0.4444444444444444, \"#bd3786\"], [0.5555555555555556, \"#d8576b\"], [0.6666666666666666, \"#ed7953\"], [0.7777777777777778, \"#fb9f3a\"], [0.8888888888888888, \"#fdca26\"], [1.0, \"#f0f921\"]], \"type\": \"heatmapgl\"}], \"histogram\": [{\"marker\": {\"colorbar\": {\"outlinewidth\": 0, \"ticks\": \"\"}}, \"type\": \"histogram\"}], \"histogram2d\": [{\"colorbar\": {\"outlinewidth\": 0, \"ticks\": \"\"}, \"colorscale\": [[0.0, \"#0d0887\"], [0.1111111111111111, \"#46039f\"], [0.2222222222222222, \"#7201a8\"], [0.3333333333333333, \"#9c179e\"], [0.4444444444444444, \"#bd3786\"], [0.5555555555555556, \"#d8576b\"], [0.6666666666666666, \"#ed7953\"], [0.7777777777777778, \"#fb9f3a\"], [0.8888888888888888, \"#fdca26\"], [1.0, \"#f0f921\"]], \"type\": \"histogram2d\"}], \"histogram2dcontour\": [{\"colorbar\": {\"outlinewidth\": 0, \"ticks\": \"\"}, \"colorscale\": [[0.0, \"#0d0887\"], [0.1111111111111111, \"#46039f\"], [0.2222222222222222, \"#7201a8\"], [0.3333333333333333, \"#9c179e\"], [0.4444444444444444, \"#bd3786\"], [0.5555555555555556, \"#d8576b\"], [0.6666666666666666, \"#ed7953\"], [0.7777777777777778, \"#fb9f3a\"], [0.8888888888888888, \"#fdca26\"], [1.0, \"#f0f921\"]], \"type\": \"histogram2dcontour\"}], \"mesh3d\": [{\"colorbar\": {\"outlinewidth\": 0, \"ticks\": \"\"}, \"type\": \"mesh3d\"}], \"parcoords\": [{\"line\": {\"colorbar\": {\"outlinewidth\": 0, \"ticks\": \"\"}}, \"type\": \"parcoords\"}], \"pie\": [{\"automargin\": true, \"type\": \"pie\"}], \"scatter\": [{\"marker\": {\"colorbar\": {\"outlinewidth\": 0, \"ticks\": \"\"}}, \"type\": \"scatter\"}], \"scatter3d\": [{\"line\": {\"colorbar\": {\"outlinewidth\": 0, \"ticks\": \"\"}}, \"marker\": {\"colorbar\": {\"outlinewidth\": 0, \"ticks\": \"\"}}, \"type\": \"scatter3d\"}], \"scattercarpet\": [{\"marker\": {\"colorbar\": {\"outlinewidth\": 0, \"ticks\": \"\"}}, \"type\": \"scattercarpet\"}], \"scattergeo\": [{\"marker\": {\"colorbar\": {\"outlinewidth\": 0, \"ticks\": \"\"}}, \"type\": \"scattergeo\"}], \"scattergl\": [{\"marker\": {\"colorbar\": {\"outlinewidth\": 0, \"ticks\": \"\"}}, \"type\": \"scattergl\"}], \"scattermapbox\": [{\"marker\": {\"colorbar\": {\"outlinewidth\": 0, \"ticks\": \"\"}}, \"type\": \"scattermapbox\"}], \"scatterpolar\": [{\"marker\": {\"colorbar\": {\"outlinewidth\": 0, \"ticks\": \"\"}}, \"type\": \"scatterpolar\"}], \"scatterpolargl\": [{\"marker\": {\"colorbar\": {\"outlinewidth\": 0, \"ticks\": \"\"}}, \"type\": \"scatterpolargl\"}], \"scatterternary\": [{\"marker\": {\"colorbar\": {\"outlinewidth\": 0, \"ticks\": \"\"}}, \"type\": \"scatterternary\"}], \"surface\": [{\"colorbar\": {\"outlinewidth\": 0, \"ticks\": \"\"}, \"colorscale\": [[0.0, \"#0d0887\"], [0.1111111111111111, \"#46039f\"], [0.2222222222222222, \"#7201a8\"], [0.3333333333333333, \"#9c179e\"], [0.4444444444444444, \"#bd3786\"], [0.5555555555555556, \"#d8576b\"], [0.6666666666666666, \"#ed7953\"], [0.7777777777777778, \"#fb9f3a\"], [0.8888888888888888, \"#fdca26\"], [1.0, \"#f0f921\"]], \"type\": \"surface\"}], \"table\": [{\"cells\": {\"fill\": {\"color\": \"#EBF0F8\"}, \"line\": {\"color\": \"white\"}}, \"header\": {\"fill\": {\"color\": \"#C8D4E3\"}, \"line\": {\"color\": \"white\"}}, \"type\": \"table\"}]}, \"layout\": {\"annotationdefaults\": {\"arrowcolor\": \"#2a3f5f\", \"arrowhead\": 0, \"arrowwidth\": 1}, \"autotypenumbers\": \"strict\", \"coloraxis\": {\"colorbar\": {\"outlinewidth\": 0, \"ticks\": \"\"}}, \"colorscale\": {\"diverging\": [[0, \"#8e0152\"], [0.1, \"#c51b7d\"], [0.2, \"#de77ae\"], [0.3, \"#f1b6da\"], [0.4, \"#fde0ef\"], [0.5, \"#f7f7f7\"], [0.6, \"#e6f5d0\"], [0.7, \"#b8e186\"], [0.8, \"#7fbc41\"], [0.9, \"#4d9221\"], [1, \"#276419\"]], \"sequential\": [[0.0, \"#0d0887\"], [0.1111111111111111, \"#46039f\"], [0.2222222222222222, \"#7201a8\"], [0.3333333333333333, \"#9c179e\"], [0.4444444444444444, \"#bd3786\"], [0.5555555555555556, \"#d8576b\"], [0.6666666666666666, \"#ed7953\"], [0.7777777777777778, \"#fb9f3a\"], [0.8888888888888888, \"#fdca26\"], [1.0, \"#f0f921\"]], \"sequentialminus\": [[0.0, \"#0d0887\"], [0.1111111111111111, \"#46039f\"], [0.2222222222222222, \"#7201a8\"], [0.3333333333333333, \"#9c179e\"], [0.4444444444444444, \"#bd3786\"], [0.5555555555555556, \"#d8576b\"], [0.6666666666666666, \"#ed7953\"], [0.7777777777777778, \"#fb9f3a\"], [0.8888888888888888, \"#fdca26\"], [1.0, \"#f0f921\"]]}, \"colorway\": [\"#636efa\", \"#EF553B\", \"#00cc96\", \"#ab63fa\", \"#FFA15A\", \"#19d3f3\", \"#FF6692\", \"#B6E880\", \"#FF97FF\", \"#FECB52\"], \"font\": {\"color\": \"#2a3f5f\"}, \"geo\": {\"bgcolor\": \"white\", \"lakecolor\": \"white\", \"landcolor\": \"#E5ECF6\", \"showlakes\": true, \"showland\": true, \"subunitcolor\": \"white\"}, \"hoverlabel\": {\"align\": \"left\"}, \"hovermode\": \"closest\", \"mapbox\": {\"style\": \"light\"}, \"paper_bgcolor\": \"white\", \"plot_bgcolor\": \"#E5ECF6\", \"polar\": {\"angularaxis\": {\"gridcolor\": \"white\", \"linecolor\": \"white\", \"ticks\": \"\"}, \"bgcolor\": \"#E5ECF6\", \"radialaxis\": {\"gridcolor\": \"white\", \"linecolor\": \"white\", \"ticks\": \"\"}}, \"scene\": {\"xaxis\": {\"backgroundcolor\": \"#E5ECF6\", \"gridcolor\": \"white\", \"gridwidth\": 2, \"linecolor\": \"white\", \"showbackground\": true, \"ticks\": \"\", \"zerolinecolor\": \"white\"}, \"yaxis\": {\"backgroundcolor\": \"#E5ECF6\", \"gridcolor\": \"white\", \"gridwidth\": 2, \"linecolor\": \"white\", \"showbackground\": true, \"ticks\": \"\", \"zerolinecolor\": \"white\"}, \"zaxis\": {\"backgroundcolor\": \"#E5ECF6\", \"gridcolor\": \"white\", \"gridwidth\": 2, \"linecolor\": \"white\", \"showbackground\": true, \"ticks\": \"\", \"zerolinecolor\": \"white\"}}, \"shapedefaults\": {\"line\": {\"color\": \"#2a3f5f\"}}, \"ternary\": {\"aaxis\": {\"gridcolor\": \"white\", \"linecolor\": \"white\", \"ticks\": \"\"}, \"baxis\": {\"gridcolor\": \"white\", \"linecolor\": \"white\", \"ticks\": \"\"}, \"bgcolor\": \"#E5ECF6\", \"caxis\": {\"gridcolor\": \"white\", \"linecolor\": \"white\", \"ticks\": \"\"}}, \"title\": {\"x\": 0.05}, \"xaxis\": {\"automargin\": true, \"gridcolor\": \"white\", \"linecolor\": \"white\", \"ticks\": \"\", \"title\": {\"standoff\": 15}, \"zerolinecolor\": \"white\", \"zerolinewidth\": 2}, \"yaxis\": {\"automargin\": true, \"gridcolor\": \"white\", \"linecolor\": \"white\", \"ticks\": \"\", \"title\": {\"standoff\": 15}, \"zerolinecolor\": \"white\", \"zerolinewidth\": 2}}}},                        {\"responsive\": true}                    ).then(function(){\n",
              "                            \n",
              "var gd = document.getElementById('7e1c73d6-33e6-4dd3-b103-a32e586ca385');\n",
              "var x = new MutationObserver(function (mutations, observer) {{\n",
              "        var display = window.getComputedStyle(gd).display;\n",
              "        if (!display || display === 'none') {{\n",
              "            console.log([gd, 'removed!']);\n",
              "            Plotly.purge(gd);\n",
              "            observer.disconnect();\n",
              "        }}\n",
              "}});\n",
              "\n",
              "// Listen for the removal of the full notebook cells\n",
              "var notebookContainer = gd.closest('#notebook-container');\n",
              "if (notebookContainer) {{\n",
              "    x.observe(notebookContainer, {childList: true});\n",
              "}}\n",
              "\n",
              "// Listen for the clearing of the current output cell\n",
              "var outputEl = gd.closest('.output');\n",
              "if (outputEl) {{\n",
              "    x.observe(outputEl, {childList: true});\n",
              "}}\n",
              "\n",
              "                        })                };                            </script>        </div>\n",
              "</body>\n",
              "</html>"
            ]
          },
          "metadata": {
            "tags": []
          }
        }
      ]
    },
    {
      "cell_type": "code",
      "metadata": {
        "colab": {
          "base_uri": "https://localhost:8080/",
          "height": 302
        },
        "id": "e_zJ7YUK9I9d",
        "outputId": "09bb47fe-c003-47c6-b601-db9ad812fb75"
      },
      "source": [
        "thresh = 70\n",
        "idxs = np.arange(dgm[0].shape[0])\n",
        "idxs = idxs[np.abs(dgm[0][:, 1] - dgm[0][:, 0]) > thresh]\n",
        "\n",
        "plt.figure(figsize=(8, 5))\n",
        "plt.imshow(X)\n",
        "\n",
        "X, Y = np.meshgrid(np.arange(X.shape[1]), np.arange(X.shape[0]))\n",
        "X = X.flatten()\n",
        "Y = Y.flatten()\n",
        "for idx in idxs:\n",
        "    bidx = np.argmin(np.abs(-X + dgm[0][idx, 0]))\n",
        "    plt.scatter(X[bidx], Y[bidx], 20, \"k\")\n",
        "plt.axis(\"off\")\n",
        "\n",
        "plt.show()"
      ],
      "execution_count": null,
      "outputs": [
        {
          "output_type": "display_data",
          "data": {
            "image/png": "[encoded data removed]",
            "text/plain": [
              "<Figure size 576x360 with 1 Axes>"
            ]
          },
          "metadata": {
            "tags": [],
            "needs_background": "light"
          }
        }
      ]
    },
    {
      "cell_type": "code",
      "metadata": {
        "colab": {
          "base_uri": "https://localhost:8080/"
        },
        "id": "vH-HJBhs3CBJ",
        "outputId": "f0811396-a604-406c-de97-72cc0b2eb50e"
      },
      "source": [
        "!pip install gudhi"
      ],
      "execution_count": null,
      "outputs": [
        {
          "output_type": "stream",
          "text": [
            "Collecting gudhi\n",
            "\u001b[?25l  Downloading https://files.pythonhosted.org/packages/4e/02/84538da083305b7634886149331150399d6b5d9e4043852e4bfee3256468/gudhi-3.4.1.post1-cp37-cp37m-manylinux2014_x86_64.whl (28.2MB)\n",
            "\u001b[K     |████████████████████████████████| 28.2MB 136kB/s \n",
            "\u001b[?25hRequirement already satisfied: numpy>=1.9 in /usr/local/lib/python3.7/dist-packages (from gudhi) (1.19.5)\n",
            "Installing collected packages: gudhi\n",
            "Successfully installed gudhi-3.4.1.post1\n"
          ],
          "name": "stdout"
        }
      ]
    },
    {
      "cell_type": "code",
      "metadata": {
        "id": "iDsVc4RJvqcT"
      },
      "source": [
        "from tqdm.notebook import tqdm\n",
        "import gudhi \n",
        "import numpy as np\n",
        "import matplotlib.pyplot as plt\n",
        "st = gudhi.RipsComplex(points = X/2, max_edge_length = 0.3).create_simplex_tree(max_dimension=3)\n",
        "barcode = st.persistence(homology_coeff_field = 2)"
      ],
      "execution_count": null,
      "outputs": []
    },
    {
      "cell_type": "code",
      "metadata": {
        "colab": {
          "base_uri": "https://localhost:8080/"
        },
        "id": "B1hG6vWV3UKe",
        "outputId": "6f7a629e-7d14-4d73-9fd4-4d8c12a139f4"
      },
      "source": [
        "fig = plt.figure(figsize=(15,5))\n",
        "ax1 = fig.add_subplot(1,2,1); ax2 = fig.add_subplot(1,2,2)\n",
        "\n",
        "gudhi.plot_persistence_barcode(barcode, axes = ax1)\n",
        "gudhi.plot_persistence_diagram(barcode, axes = ax2)\n"
      ],
      "execution_count": null,
      "outputs": [
        {
          "output_type": "execute_result",
          "data": {
            "text/plain": [
              "<matplotlib.axes._subplots.AxesSubplot at 0x7f6cd41a1790>"
            ]
          },
          "metadata": {
            "tags": []
          },
          "execution_count": 20
        }
      ]
    }
  ]
}